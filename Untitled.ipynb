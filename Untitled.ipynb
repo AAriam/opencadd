{
 "cells": [
  {
   "cell_type": "markdown",
   "id": "3314346c",
   "metadata": {},
   "source": [
    "## MDA"
   ]
  },
  {
   "cell_type": "code",
   "execution_count": 1,
   "id": "bcc20ca5",
   "metadata": {},
   "outputs": [],
   "source": [
    "from opencadd.structure.core import Structure\n",
    "\n",
    "structure1 = Structure.from_pdbid(\"1cfc\")\n",
    "structure2 = Structure.from_pdbid(\"6HG9\")"
   ]
  },
  {
   "cell_type": "code",
   "execution_count": 2,
   "id": "8ba86e52",
   "metadata": {},
   "outputs": [
    {
     "name": "stderr",
     "output_type": "stream",
     "text": [
      "1 residues in <Universe with 4169 atoms> are missing backbone atoms. If this system was obtained from a larger structure using a selection, consider wrapping such selection with `same residue as (<your original selection>)` to avoid potential matching problems.\n"
     ]
    },
    {
     "ename": "ValueError",
     "evalue": "The number of atoms to match should be the same for both structures.",
     "output_type": "error",
     "traceback": [
      "\u001b[0;31m---------------------------------------------------------------------------\u001b[0m",
      "\u001b[0;31mValueError\u001b[0m                                Traceback (most recent call last)",
      "\u001b[0;32m<timed exec>\u001b[0m in \u001b[0;36m<module>\u001b[0;34m\u001b[0m\n",
      "\u001b[0;32m~/PythonProjects/Bachelor/opencadd/opencadd/structure/superposition/engines/base.py\u001b[0m in \u001b[0;36mcalculate\u001b[0;34m(self, structures, *args, **kwargs)\u001b[0m\n\u001b[1;32m     29\u001b[0m         \"\"\"\n\u001b[1;32m     30\u001b[0m         \u001b[0;32massert\u001b[0m \u001b[0mlen\u001b[0m\u001b[0;34m(\u001b[0m\u001b[0mstructures\u001b[0m\u001b[0;34m)\u001b[0m \u001b[0;34m==\u001b[0m \u001b[0;36m2\u001b[0m\u001b[0;34m\u001b[0m\u001b[0;34m\u001b[0m\u001b[0m\n\u001b[0;32m---> 31\u001b[0;31m         \u001b[0;32mreturn\u001b[0m \u001b[0mself\u001b[0m\u001b[0;34m.\u001b[0m\u001b[0m_calculate\u001b[0m\u001b[0;34m(\u001b[0m\u001b[0mstructures\u001b[0m\u001b[0;34m,\u001b[0m \u001b[0;34m*\u001b[0m\u001b[0margs\u001b[0m\u001b[0;34m,\u001b[0m \u001b[0;34m**\u001b[0m\u001b[0mkwargs\u001b[0m\u001b[0;34m)\u001b[0m\u001b[0;34m\u001b[0m\u001b[0;34m\u001b[0m\u001b[0m\n\u001b[0m\u001b[1;32m     32\u001b[0m \u001b[0;34m\u001b[0m\u001b[0m\n\u001b[1;32m     33\u001b[0m     \u001b[0;32mdef\u001b[0m \u001b[0m_calculate\u001b[0m\u001b[0;34m(\u001b[0m\u001b[0mself\u001b[0m\u001b[0;34m,\u001b[0m \u001b[0mstructures\u001b[0m\u001b[0;34m,\u001b[0m \u001b[0;34m*\u001b[0m\u001b[0margs\u001b[0m\u001b[0;34m,\u001b[0m \u001b[0;34m**\u001b[0m\u001b[0mkwargs\u001b[0m\u001b[0;34m)\u001b[0m\u001b[0;34m:\u001b[0m\u001b[0;34m\u001b[0m\u001b[0;34m\u001b[0m\u001b[0m\n",
      "\u001b[0;32m~/PythonProjects/Bachelor/opencadd/opencadd/structure/superposition/engines/mda.py\u001b[0m in \u001b[0;36m_calculate\u001b[0;34m(self, structures, *args, **kwargs)\u001b[0m\n\u001b[1;32m    123\u001b[0m             \u001b[0mcoverage\u001b[0m \u001b[0;34m=\u001b[0m \u001b[0mlen\u001b[0m\u001b[0;34m(\u001b[0m\u001b[0mref_atoms\u001b[0m\u001b[0;34m)\u001b[0m\u001b[0;34m\u001b[0m\u001b[0;34m\u001b[0m\u001b[0m\n\u001b[1;32m    124\u001b[0m         \u001b[0;32melse\u001b[0m\u001b[0;34m:\u001b[0m\u001b[0;34m\u001b[0m\u001b[0;34m\u001b[0m\u001b[0m\n\u001b[0;32m--> 125\u001b[0;31m             raise ValueError(\n\u001b[0m\u001b[1;32m    126\u001b[0m                 \u001b[0;34m\"The number of atoms to match should be the same for both structures.\"\u001b[0m\u001b[0;34m\u001b[0m\u001b[0;34m\u001b[0m\u001b[0m\n\u001b[1;32m    127\u001b[0m             )\n",
      "\u001b[0;31mValueError\u001b[0m: The number of atoms to match should be the same for both structures."
     ]
    }
   ],
   "source": [
    "%%time\n",
    "from opencadd.structure.superposition.engines.mda import MDAnalysisAligner, mda_align\n",
    "from MDAnalysis.analysis.rms import rmsd\n",
    "aligner = MDAnalysisAligner(alignment_strategy=\"global\", per_residue_selection=\"name CA or name CB\")\n",
    "results = aligner.calculate([structure1, structure2])"
   ]
  },
  {
   "cell_type": "code",
   "execution_count": 3,
   "id": "75809f6f",
   "metadata": {},
   "outputs": [
    {
     "name": "stdout",
     "output_type": "stream",
     "text": [
      "From RMSD = 188.179A to optimized RMSD of 1.589A\n"
     ]
    }
   ],
   "source": [
    "print(f'From RMSD = {results[\"metadata\"][\"initial_rmsd\"]:.3f}A to optimized RMSD of {results[\"scores\"][\"rmsd\"]:.3f}A')"
   ]
  },
  {
   "cell_type": "code",
   "execution_count": 4,
   "id": "a2ec8955",
   "metadata": {},
   "outputs": [
    {
     "data": {
      "application/vnd.jupyter.widget-view+json": {
       "model_id": "c676164c086a47678e9e6ce75addba31",
       "version_major": 2,
       "version_minor": 0
      },
      "text/plain": []
     },
     "metadata": {},
     "output_type": "display_data"
    },
    {
     "data": {
      "application/vnd.jupyter.widget-view+json": {
       "model_id": "1eb0b7252a06466cb8d972e829e3b9d3",
       "version_major": 2,
       "version_minor": 0
      },
      "text/plain": [
       "NGLWidget()"
      ]
     },
     "metadata": {},
     "output_type": "display_data"
    }
   ],
   "source": [
    "import nglview as nv\n",
    "\n",
    "view = nv.show_mdanalysis(results[\"superposed\"][0].atoms)\n",
    "view.add_component(results[\"superposed\"][1].atoms)\n",
    "\n",
    "view"
   ]
  },
  {
   "cell_type": "markdown",
   "id": "4e078cc7",
   "metadata": {},
   "source": [
    "## testing"
   ]
  },
  {
   "cell_type": "code",
   "execution_count": 76,
   "id": "e3e61d2d",
   "metadata": {},
   "outputs": [],
   "source": [
    "structure3 = Structure.from_pdbid(\"2bbm\")\n",
    "structure4 = Structure.from_pdbid(\"1c4v\")"
   ]
  },
  {
   "cell_type": "markdown",
   "id": "e8d46dd4",
   "metadata": {},
   "source": [
    "len(structure3.residues sollte 284 (ist gerade 366) sein.\n",
    "\n",
    "len(structure4.residues sollte 297 (ist gerade 396)sein.\n",
    "\n",
    "--> Ergebnis von MMLigner (original)"
   ]
  },
  {
   "cell_type": "code",
   "execution_count": 109,
   "id": "cfc408e6",
   "metadata": {},
   "outputs": [
    {
     "data": {
      "text/plain": [
       "<AtomGroup with 2704 atoms>"
      ]
     },
     "execution_count": 109,
     "metadata": {},
     "output_type": "execute_result"
    }
   ],
   "source": [
    "structure3.models[0].residues.atoms"
   ]
  },
  {
   "cell_type": "code",
   "execution_count": 112,
   "id": "1958066e",
   "metadata": {},
   "outputs": [],
   "source": [
    "s1 = structure3.models[0].select_atoms(\"backbone\").residues.atoms"
   ]
  },
  {
   "cell_type": "code",
   "execution_count": 113,
   "id": "98e53df7",
   "metadata": {},
   "outputs": [
    {
     "data": {
      "text/plain": [
       "<AtomGroup with 2700 atoms>"
      ]
     },
     "execution_count": 113,
     "metadata": {},
     "output_type": "execute_result"
    }
   ],
   "source": [
    "s1"
   ]
  },
  {
   "cell_type": "code",
   "execution_count": 103,
   "id": "9a7db45b",
   "metadata": {},
   "outputs": [
    {
     "data": {
      "text/plain": [
       "<AtomGroup with 2704 atoms>"
      ]
     },
     "execution_count": 103,
     "metadata": {},
     "output_type": "execute_result"
    }
   ],
   "source": [
    "structure3.residues.atoms"
   ]
  },
  {
   "cell_type": "code",
   "execution_count": 6,
   "id": "4aec4f93",
   "metadata": {
    "scrolled": true
   },
   "outputs": [],
   "source": [
    "arr=structure3.models[0].residues.icodes\n"
   ]
  },
  {
   "cell_type": "code",
   "execution_count": 30,
   "id": "a874068b",
   "metadata": {},
   "outputs": [],
   "source": [
    "import numpy as np"
   ]
  },
  {
   "cell_type": "code",
   "execution_count": 48,
   "id": "1cc42e4b",
   "metadata": {},
   "outputs": [
    {
     "name": "stdout",
     "output_type": "stream",
     "text": [
      "(array([  0,   1,   2,  17,  18,  19,  20,  21,  22,  23,  24,  25,  26,\n",
      "        27,  28,  29,  52,  77,  78,  79,  80,  81,  82,  83,  84,  85,\n",
      "       103, 124, 157, 158, 159, 180, 214, 217, 218, 219, 220, 239, 240,\n",
      "       257]),)\n"
     ]
    },
    {
     "data": {
      "text/plain": [
       "40"
      ]
     },
     "execution_count": 48,
     "metadata": {},
     "output_type": "execute_result"
    }
   ],
   "source": [
    "arr = structure3.models[0].residues.icodes\n",
    "\n",
    "arr_index = np.where(arr != '')\n",
    "\n",
    "print(arr_index)\n",
    "\n",
    "arr_index[0].size"
   ]
  },
  {
   "cell_type": "code",
   "execution_count": 47,
   "id": "1067bc08",
   "metadata": {},
   "outputs": [
    {
     "name": "stdout",
     "output_type": "stream",
     "text": [
      "(1, 'C') (1, 'B') (1, 'A') (1, '') (2, '') (3, '') (4, '') (5, '') (6, '') (7, '') (8, '') (9, '') (10, '') (11, '') (12, '') (13, '') (14, '') (14, 'A') (14, 'B') (14, 'C') (14, 'D') (14, 'E') (14, 'F') (14, 'G') (14, 'H') (14, 'I') (14, 'J') (14, 'K') (14, 'L') (14, 'M') (15, '') (16, '') (17, '') (18, '') (19, '') (20, '') (21, '') (22, '') (23, '') (24, '') (25, '') (26, '') (27, '') (28, '') (29, '') (30, '') (31, '') (32, '') (33, '') (34, '') (35, '') (36, '') (36, 'A') (37, '') (38, '') (39, '') (40, '') (41, '') (42, '') (43, '') (44, '') (45, '') (46, '') (47, '') (48, '') (49, '') (50, '') (51, '') (52, '') (53, '') (54, '') (55, '') (56, '') (57, '') (58, '') (59, '') (60, '') (60, 'A') (60, 'B') (60, 'C') (60, 'D') (60, 'E') (60, 'F') (60, 'G') (60, 'H') (60, 'I') (61, '') (62, '') (63, '') (64, '') (65, '') (66, '') (67, '') (68, '') (69, '') (70, '') (71, '') (72, '') (73, '') (74, '') (75, '') (76, '') (77, '') (77, 'A') (78, '') (79, '') (80, '') (81, '') (82, '') (83, '') (84, '') (85, '') (86, '') (87, '') (88, '') (89, '') (90, '') (91, '') (92, '') (93, '') (94, '') (95, '') (96, '') (97, '') (97, 'A') (98, '') (99, '') (100, '') (101, '') (102, '') (103, '') (104, '') (105, '') (106, '') (107, '') (108, '') (109, '') (110, '') (111, '') (112, '') (113, '') (114, '') (115, '') (116, '') (117, '') (118, '') (119, '') (120, '') (121, '') (122, '') (123, '') (124, '') (125, '') (126, '') (127, '') (128, '') (129, '') (129, 'A') (129, 'B') (129, 'C') (130, '') (131, '') (132, '') (133, '') (134, '') (135, '') (136, '') (137, '') (138, '') (139, '') (140, '') (141, '') (142, '') (143, '') (144, '') (145, '') (146, '') (147, '') (148, '') (149, '') (149, 'A') (152, '') (153, '') (154, '') (155, '') (156, '') (157, '') (158, '') (159, '') (160, '') (161, '') (162, '') (163, '') (164, '') (165, '') (166, '') (167, '') (168, '') (169, '') (170, '') (171, '') (172, '') (173, '') (174, '') (175, '') (176, '') (177, '') (178, '') (179, '') (180, '') (181, '') (182, '') (183, '') (184, '') (184, 'A') (185, '') (186, '') (186, 'A') (186, 'B') (186, 'C') (186, 'D') (187, '') (188, '') (189, '') (190, '') (191, '') (192, '') (193, '') (194, '') (195, '') (196, '') (197, '') (198, '') (199, '') (200, '') (201, '') (202, '') (203, '') (204, '') (204, 'A') (204, 'B') (205, '') (206, '') (207, '') (208, '') (209, '') (210, '') (211, '') (212, '') (213, '') (214, '') (215, '') (216, '') (217, '') (219, '') (220, '') (221, '') (221, 'A') (222, '') (223, '') (224, '') (225, '') (226, '') (227, '') (228, '') (229, '') (230, '') (231, '') (232, '') (233, '') (234, '') (235, '') (236, '') (237, '') (238, '') (239, '') (240, '') (241, '') (242, '') (243, '') (244, '') (245, '') (246, '') (247, '') (248, '') (249, '') (250, '') (251, '') (252, '') (253, '') (254, '') (255, '') (256, '') (257, '') (258, '') (259, '') (260, '') (261, '') (262, '') (263, '') (264, '') (265, '') (266, '') (267, '') (268, '') (269, '') (270, '') (271, '') (272, '') (273, '') (274, '') (275, '') (276, '') (277, '') (278, '') (279, '') (280, '') (281, '') (282, '') (283, '') (284, '') (285, '') (286, '') (287, '') (288, '') (289, '') (290, '') (291, '') (292, '') (293, '') (294, '') (295, '') (296, '') (297, '') (298, '') (299, '') (300, '') (301, '') (302, '') (303, '') (304, '') (305, '') (306, '') (307, '') (308, '') (309, '') (310, '') (311, '') (312, '') (313, '') (314, '') (315, '') (316, '') (317, '') (318, '') (319, '') (320, '') (321, '') (322, '') (323, '') (324, '') (325, '') (326, '') (327, '') (328, '') (329, '')\n"
     ]
    }
   ],
   "source": [
    "print(*[(i.resid, i.icode) for i in structure3.models[0].residues])"
   ]
  },
  {
   "cell_type": "code",
   "execution_count": 53,
   "id": "a49f8551",
   "metadata": {},
   "outputs": [],
   "source": [
    "import MDAnalysis"
   ]
  },
  {
   "cell_type": "code",
   "execution_count": 12,
   "id": "799354a0",
   "metadata": {},
   "outputs": [
    {
     "ename": "NameError",
     "evalue": "name 'PSF' is not defined",
     "output_type": "error",
     "traceback": [
      "\u001b[0;31m---------------------------------------------------------------------------\u001b[0m",
      "\u001b[0;31mNameError\u001b[0m                                 Traceback (most recent call last)",
      "\u001b[0;32m/var/folders/ph/hpjbkcjx0ll_2x_9d_h4pg0h0000gn/T/ipykernel_5458/2559568726.py\u001b[0m in \u001b[0;36m<module>\u001b[0;34m\u001b[0m\n\u001b[0;32m----> 1\u001b[0;31m \u001b[0mu\u001b[0m \u001b[0;34m=\u001b[0m \u001b[0mMDAnalysis\u001b[0m\u001b[0;34m.\u001b[0m\u001b[0mUniverse\u001b[0m\u001b[0;34m(\u001b[0m\u001b[0mPSF\u001b[0m\u001b[0;34m,\u001b[0m \u001b[0mDCD\u001b[0m\u001b[0;34m)\u001b[0m\u001b[0;34m\u001b[0m\u001b[0;34m\u001b[0m\u001b[0m\n\u001b[0m",
      "\u001b[0;31mNameError\u001b[0m: name 'PSF' is not defined"
     ]
    }
   ],
   "source": [
    "u = MDAnalysis.Universe(PSF, DCD)"
   ]
  },
  {
   "cell_type": "code",
   "execution_count": 43,
   "id": "680fbc4f",
   "metadata": {},
   "outputs": [],
   "source": [
    "mydict = {1 : \"one\", \"metadata\" : {\"test3\" : 3}}\n",
    "mydict.setdefault(\"metadata\", {})\n",
    "mydict[\"metadata\"][\"test1\"] = 1\n",
    "mydict[\"metadata\"][\"test2\"] = 2"
   ]
  },
  {
   "cell_type": "code",
   "execution_count": 44,
   "id": "64d61ad0",
   "metadata": {},
   "outputs": [
    {
     "data": {
      "text/plain": [
       "{1: 'one', 'metadata': {'test3': 3, 'test1': 1, 'test2': 2}}"
      ]
     },
     "execution_count": 44,
     "metadata": {},
     "output_type": "execute_result"
    }
   ],
   "source": [
    "mydict"
   ]
  },
  {
   "cell_type": "code",
   "execution_count": 36,
   "id": "0278973c",
   "metadata": {},
   "outputs": [
    {
     "ename": "TypeError",
     "evalue": "'NoneType' object is not subscriptable",
     "output_type": "error",
     "traceback": [
      "\u001b[0;31m---------------------------------------------------------------------------\u001b[0m",
      "\u001b[0;31mTypeError\u001b[0m                                 Traceback (most recent call last)",
      "\u001b[0;32m/var/folders/ph/hpjbkcjx0ll_2x_9d_h4pg0h0000gn/T/ipykernel_1513/3433981627.py\u001b[0m in \u001b[0;36m<module>\u001b[0;34m\u001b[0m\n\u001b[0;32m----> 1\u001b[0;31m \u001b[0mmydict\u001b[0m\u001b[0;34m[\u001b[0m\u001b[0;34m\"metadata\"\u001b[0m\u001b[0;34m]\u001b[0m\u001b[0;34m[\u001b[0m\u001b[0;36m3\u001b[0m\u001b[0;34m]\u001b[0m\u001b[0;34m\u001b[0m\u001b[0;34m\u001b[0m\u001b[0m\n\u001b[0m",
      "\u001b[0;31mTypeError\u001b[0m: 'NoneType' object is not subscriptable"
     ]
    }
   ],
   "source": [
    "mydict[\"metadata\"][3]"
   ]
  },
  {
   "cell_type": "code",
   "execution_count": 57,
   "id": "a89b918c",
   "metadata": {},
   "outputs": [
    {
     "data": {
      "text/plain": [
       "<module 'MDAnalysis' from '/Users/julian/opt/anaconda3/envs/opencadd/lib/python3.8/site-packages/MDAnalysis/__init__.py'>"
      ]
     },
     "execution_count": 57,
     "metadata": {},
     "output_type": "execute_result"
    }
   ],
   "source": [
    "MDAnalysis"
   ]
  }
 ],
 "metadata": {
  "kernelspec": {
   "display_name": "Python 3 (ipykernel)",
   "language": "python",
   "name": "python3"
  },
  "language_info": {
   "codemirror_mode": {
    "name": "ipython",
    "version": 3
   },
   "file_extension": ".py",
   "mimetype": "text/x-python",
   "name": "python",
   "nbconvert_exporter": "python",
   "pygments_lexer": "ipython3",
   "version": "3.8.10"
  }
 },
 "nbformat": 4,
 "nbformat_minor": 5
}
