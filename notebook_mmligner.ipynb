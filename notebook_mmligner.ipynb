{
 "cells": [
  {
   "cell_type": "markdown",
   "metadata": {},
   "source": [
    "# MMLigner User Tutorial\n",
    "\n",
    "\n",
    "#### Developed at Volkamerlab, Charité/FU Berlin \n",
    "\n",
    "by Dennis Köser"
   ]
  },
  {
   "cell_type": "markdown",
   "metadata": {},
   "source": [
    "# Reference\n",
    "\n",
    "Collier, J.H., Allison, L., Lesk A.M., Stuckey, P.J., Garcia de la Banda , M., Konagurthu, A.S. (2017)\n",
    "Statistical inference of protein structural alignments using information and compression.\n",
    "Bioinformatics, 33(7), 1005-1013\n",
    "\n",
    "Wallace,C.S. and Boulton,D.M. (1968) An information measure for classification.\n",
    "Comput. J., 11, 185–194.\n",
    "\n",
    "Wallace,C.S. (2005) Statistical and Inductive Inference Using MinimumMessage Length.\n",
    "Information Science and Statistics. SpringerVerlag, New York, NY.\n",
    "\n",
    "Shannon,C.E. (1948) A mathematical theory of communication.\n",
    "Bell Syst.Tech. J., 27, 379–423."
   ]
  },
  {
   "cell_type": "markdown",
   "metadata": {},
   "source": [
    "# Introduction\n",
    "\n",
    "\n",
    "## What are the  chosen structures\n",
    "\n",
    "Since this project was developed during the SARS-CoV-2 pandemic of 2020, we chose the main protease of SARS-Cov from 2006 (2GZ9) and the main protease of SARS-Cov 2 from 2020 (5R8T) as example structures for this tutorial. SARS-Cov and SARS-Cov 2 are strains of viruses that cause severe acute respiratory syndrome (SARS). The chosen proteases are required for the maturation of SARS-Cov and SARS-Cov 2 respectively, so they make a good target for structure-based drug design of anti-SARS drugs.\n",
    "\n",
    "## Why they have been chosen\n",
    "\n",
    "In addition to the relevance for the pandemic of 2020, these structures work well as an example for this tutorial because of their relation to each other resulting in quite similar but not completly identical structures. They both have a length of 306 and, if you align them with Needelman-Wunsch, show a similarity 98.69 % and identity of 96.08 %."
   ]
  },
  {
   "cell_type": "markdown",
   "metadata": {},
   "source": [
    "# Theory\n",
    "\n",
    "## About MMLigner\n",
    "\n",
    "MMLigner (Collier et al., 2017) works by minimizing the ivalue of the alignment. The ivalue is based on\n",
    "the Minimum Message Length framework (Wallace and Boulton, 1968; Wallace, 2005), a Bayesian framework for\n",
    "statistical inductive inference. The ivalue represents the hypothetical minimum message length needed to transmit\n",
    "the computed alignment losslessly (Shannon, 1948).\n",
    "Using the ivalue measure, the algorithm creates crude-but-effective strucural alignments rapidly to act as seeds.\n",
    "These seeds are iteratively refined over an Expectation-Maximization approach using the I-value criterion.\n",
    "By substracting the ivalue from the null model, the statistical significance of the alignment can be computed. If the\n",
    "difference is positive, the alignment is significant.\n",
    "\n",
    "## About the RCSB\n",
    "\n",
    "The [RCSB PDB](http://www.rcsb.org/) (Research Collaboratory for Structural Bioinformatics Protein Data Bank) provide a global PDB archive, and makes PDB data available at no charge to all data consumers without limiations on usage.\n",
    "\n",
    "## RMSD\n",
    "\n",
    "The RMSD is the average distance between the atoms of tuperposed structures in Angstrom.\n",
    "\n",
    "## coverage\n",
    "\n",
    "The coverage of the aligned structures\n",
    "\n",
    "## ivalue\n",
    "\n",
    "The minimum message length of the compressed alignment in bites."
   ]
  },
  {
   "cell_type": "markdown",
   "metadata": {},
   "source": [
    "# Preperation\n",
    "\n",
    "## How to get the structure from the CLI\n",
    "\n",
    "To get the structures directly from the RCSB, the syntax looks like this:"
   ]
  },
  {
   "cell_type": "code",
   "execution_count": 1,
   "metadata": {
    "scrolled": true
   },
   "outputs": [
    {
     "name": "stdout",
     "output_type": "stream",
     "text": [
      "   _____ _                   _                   _\n",
      "  / ____| |                 | |                 | |\n",
      " | (___ | |_ _ __ _   _  ___| |_ _   _ _ __ __ _| |\n",
      "  \\___ \\| __| '__| | | |/ __| __| | | | '__/ _` | |\n",
      "  ____) | |_| |  | |_| | (__| |_| |_| | | | (_| | |\n",
      " |_____/ \\__|_|   \\__,_|\\___|\\__|\\__,_|_|  \\__,_|_|\n",
      "     /\\   | (_)                                | |\n",
      "    /  \\  | |_  __ _ _ __  _ __ ___   ___ _ __ | |_\n",
      "   / /\\ \\ | | |/ _` | '_ \\| '_ ` _ \\ / _ \\ '_ \\| __|\n",
      "  / ____ \\| | | (_| | | | | | | | | |  __/ | | | |_\n",
      " /_/    \\_\\_|_|\\__, |_| |_|_| |_| |_|\\___|_| |_|\\__|\n",
      "                __/ |\n",
      "               |___/\n",
      "\n",
      " v0+untagged.106.g1132d4c.dirty · Brought to you by @volkamerlab\n",
      "\n",
      "RMSD for alignment between `2GZ9` and `5R8T` is 1.2Å\n"
     ]
    }
   ],
   "source": [
    "!structuralalignment --method=mmligner 2GZ9 5R8T"
   ]
  },
  {
   "cell_type": "markdown",
   "metadata": {},
   "source": [
    "When you want to use structures which are locally saved, do this:"
   ]
  },
  {
   "cell_type": "code",
   "execution_count": null,
   "metadata": {
    "scrolled": true
   },
   "outputs": [],
   "source": [
    "!structuralalignment --method=mmligner PATH_OF_2GZ9 PATH_OF_5R8T"
   ]
  },
  {
   "cell_type": "markdown",
   "metadata": {},
   "source": [
    "## Getting the structure in python\n",
    "\n",
    "The method will use atomium.models as input.\n",
    "\n",
    "If you want to get the structures from the RCSB, you can do the following:"
   ]
  },
  {
   "cell_type": "code",
   "execution_count": 2,
   "metadata": {},
   "outputs": [],
   "source": [
    "import atomium\n",
    "\n",
    "structure1 = atomium.fetch(\"2GZ9\").model\n",
    "structure2 = atomium.fetch(\"5R8T\").model"
   ]
  },
  {
   "cell_type": "markdown",
   "metadata": {},
   "source": [
    "# Alignment \n",
    "\n",
    "Using MMligner in Python looks like this:"
   ]
  },
  {
   "cell_type": "code",
   "execution_count": 3,
   "metadata": {},
   "outputs": [],
   "source": [
    "from structuralalignment.superposition.mmligner import MMLignerAligner\n",
    "\n",
    "mmligner = MMLignerAligner()\n",
    "results = mmligner.calculate([structure1, structure2])"
   ]
  },
  {
   "cell_type": "markdown",
   "metadata": {},
   "source": [
    "You can access the RMSD value like this:"
   ]
  },
  {
   "cell_type": "code",
   "execution_count": 4,
   "metadata": {},
   "outputs": [
    {
     "data": {
      "text/plain": [
       "1.244"
      ]
     },
     "execution_count": 4,
     "metadata": {},
     "output_type": "execute_result"
    }
   ],
   "source": [
    "results[\"scores\"][\"rmsd\"]"
   ]
  },
  {
   "cell_type": "markdown",
   "metadata": {},
   "source": [
    "Or the used transformation matrix like this:"
   ]
  },
  {
   "cell_type": "code",
   "execution_count": 5,
   "metadata": {},
   "outputs": [
    {
     "data": {
      "text/plain": [
       "[[0.257, 0.015, 0.966], [-0.02, 1.0, -0.01], [-0.966, -0.017, 0.257]]"
      ]
     },
     "execution_count": 5,
     "metadata": {},
     "output_type": "execute_result"
    }
   ],
   "source": [
    "results[\"metadata\"][\"rotation\"]"
   ]
  },
  {
   "cell_type": "markdown",
   "metadata": {},
   "source": [
    "The results are returned as a dictionary containing the superposed structures, the RMSD, ivalue and coverage, the alignment, the transformation matrix, the translation vector as well as the quarternion matrix. The dictionary looks like this:"
   ]
  },
  {
   "cell_type": "raw",
   "metadata": {},
   "source": [
    "{\n",
    "    \"superposed\": superposed_models,\n",
    "    \"scores\": {\"rmsd\": rmsd, \"score\": ivalue, \"coverage\": coverage},\n",
    "    \"metadata\": {\"alignment\": alignment, \"rotation\": rotation, \"translation\": translation, \"quarternion\": quarternion},\n",
    "}"
   ]
  },
  {
   "cell_type": "markdown",
   "metadata": {},
   "source": [
    "In addition you can compute the ivalue of a already computed alignment. This looks like: "
   ]
  },
  {
   "cell_type": "code",
   "execution_count": 6,
   "metadata": {
    "scrolled": false
   },
   "outputs": [
    {
     "data": {
      "text/plain": [
       "20323.7"
      ]
     },
     "execution_count": 6,
     "metadata": {},
     "output_type": "execute_result"
    }
   ],
   "source": [
    "alignment = results[\"metadata\"][\"alignment\"]\n",
    "\n",
    "results_ivalue = mmligner.ivalue([structure1, structure2], alignment)\n",
    "\n",
    "results_ivalue[\"scores\"][\"score\"]"
   ]
  },
  {
   "cell_type": "markdown",
   "metadata": {},
   "source": [
    "Because ivalue only scores an already computed alignment, only the scores are returned. The dictionary looks like this:"
   ]
  },
  {
   "cell_type": "raw",
   "metadata": {},
   "source": [
    "{\n",
    "    \"scores\": {\"rmsd\": rmsd, \"score\": ivalue, \"coverage\": coverage},\n",
    "}"
   ]
  },
  {
   "cell_type": "markdown",
   "metadata": {},
   "source": [
    "# Analysis"
   ]
  },
  {
   "cell_type": "markdown",
   "metadata": {},
   "source": [
    "Lets look at the computed alignment!"
   ]
  },
  {
   "cell_type": "markdown",
   "metadata": {},
   "source": [
    "### NGLview\n",
    "\n",
    "If you have trouble with NGLview, follow this [troubleshooting guide](https://github.com/SBRG/ssbio/wiki/Troubleshooting#tips-for-nglview)."
   ]
  },
  {
   "cell_type": "code",
   "execution_count": 7,
   "metadata": {},
   "outputs": [],
   "source": [
    "def atomium_to_nglview(*models):\n",
    "    \"\"\"\n",
    "    Represent Atomium models in NGLView\n",
    "    Parameters\n",
    "    ----------\n",
    "    models : atomium.Model\n",
    "    Returns\n",
    "    -------\n",
    "    nglview.NGLWidget\n",
    "    \"\"\"\n",
    "    import nglview as nv\n",
    "    from structuralalignment.utils import enter_temp_directory\n",
    "\n",
    "    v = nv.NGLWidget()\n",
    "    with enter_temp_directory():\n",
    "        for i, model in enumerate(models):\n",
    "            fn = f\"tmp{i}.pdb\"\n",
    "            model.save(fn)\n",
    "            fs = nv.FileStructure(fn)\n",
    "            v.add_component(fs)\n",
    "    return v"
   ]
  },
  {
   "cell_type": "code",
   "execution_count": 8,
   "metadata": {},
   "outputs": [
    {
     "data": {
      "application/vnd.jupyter.widget-view+json": {
       "model_id": "ef8aa79ed85448ffab4fa6d793b291e0",
       "version_major": 2,
       "version_minor": 0
      },
      "text/plain": [
       "_ColormakerRegistry()"
      ]
     },
     "metadata": {},
     "output_type": "display_data"
    },
    {
     "name": "stdout",
     "output_type": "stream",
     "text": [
      "nglview version = 2.7.5\n"
     ]
    },
    {
     "data": {
      "application/vnd.jupyter.widget-view+json": {
       "model_id": "b82a16fa4620478394b5e58a0d55692f",
       "version_major": 2,
       "version_minor": 0
      },
      "text/plain": [
       "NGLWidget()"
      ]
     },
     "metadata": {},
     "output_type": "display_data"
    }
   ],
   "source": [
    "import nglview as nv\n",
    "print(\"nglview version = {}\".format(nv.__version__))\n",
    "# your nglview version should be 1.1.7 or later\n",
    "\n",
    "v = atomium_to_nglview(*results[\"superposed\"])\n",
    "v"
   ]
  },
  {
   "cell_type": "markdown",
   "metadata": {},
   "source": [
    "As expected the structures are a pretty good match."
   ]
  },
  {
   "cell_type": "markdown",
   "metadata": {},
   "source": [
    "## Report\n",
    "\n",
    "Using MMLigner we get an alignment with a RMSD of 1.244Å. The alignment covers 303 of the 306 residues. The results show how closly related the two viruses are and may provide a opportunity to transfer research approaches from the development of anti-SARS drugs targeting the main protease of SARS-Cov to drugs targeting the the main protease of SARS-Cov 2."
   ]
  }
 ],
 "metadata": {
  "gist": {
   "data": {
    "description": "CADDSeminar_2018/CADD_course_talktorial_template.ipynb",
    "public": false
   },
   "id": ""
  },
  "kernelspec": {
   "display_name": "Python 3",
   "language": "python",
   "name": "python3"
  },
  "language_info": {
   "codemirror_mode": {
    "name": "ipython",
    "version": 3
   },
   "file_extension": ".py",
   "mimetype": "text/x-python",
   "name": "python",
   "nbconvert_exporter": "python",
   "pygments_lexer": "ipython3",
   "version": "3.8.2"
  }
 },
 "nbformat": 4,
 "nbformat_minor": 4
}
