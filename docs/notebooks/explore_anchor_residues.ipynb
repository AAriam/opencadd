{
 "cells": [
  {
   "cell_type": "markdown",
   "metadata": {},
   "source": [
    "# Explore updates in `AnchorResidue`"
   ]
  },
  {
   "cell_type": "code",
   "execution_count": 1,
   "metadata": {},
   "outputs": [],
   "source": [
    "%load_ext autoreload\n",
    "%autoreload 2"
   ]
  },
  {
   "cell_type": "markdown",
   "metadata": {},
   "source": [
    "## `AnchorResidue`"
   ]
  },
  {
   "cell_type": "code",
   "execution_count": 2,
   "metadata": {},
   "outputs": [
    {
     "data": {
      "application/vnd.jupyter.widget-view+json": {
       "model_id": "66fe34dace8b4b4b8a6bfaf837fd09ba",
       "version_major": 2,
       "version_minor": 0
      },
      "text/plain": []
     },
     "metadata": {},
     "output_type": "display_data"
    },
    {
     "name": "stderr",
     "output_type": "stream",
     "text": [
      "INFO:opencadd.databases.klifs.api:If you want to see an non-truncated version of the DataFrames in this module, use `pd.set_option('display.max_columns', 50)` in your notebook.\n"
     ]
    }
   ],
   "source": [
    "from opencadd.structure.pocket import AnchorResidue, Subpocket\n",
    "from opencadd.databases.klifs import setup_remote"
   ]
  },
  {
   "cell_type": "code",
   "execution_count": 3,
   "metadata": {},
   "outputs": [
    {
     "name": "stderr",
     "output_type": "stream",
     "text": [
      "INFO:opencadd.databases.klifs.api:Set up remote session...\n",
      "INFO:opencadd.databases.klifs.api:Remote session is ready!\n"
     ]
    },
    {
     "data": {
      "text/html": [
       "<div>\n",
       "<style scoped>\n",
       "    .dataframe tbody tr th:only-of-type {\n",
       "        vertical-align: middle;\n",
       "    }\n",
       "\n",
       "    .dataframe tbody tr th {\n",
       "        vertical-align: top;\n",
       "    }\n",
       "\n",
       "    .dataframe thead th {\n",
       "        text-align: right;\n",
       "    }\n",
       "</style>\n",
       "<table border=\"1\" class=\"dataframe\">\n",
       "  <thead>\n",
       "    <tr style=\"text-align: right;\">\n",
       "      <th></th>\n",
       "      <th>atom.id</th>\n",
       "      <th>atom.name</th>\n",
       "      <th>atom.x</th>\n",
       "      <th>atom.y</th>\n",
       "      <th>atom.z</th>\n",
       "      <th>residue.id</th>\n",
       "      <th>residue.name</th>\n",
       "      <th>residue.klifs_id</th>\n",
       "      <th>residue.klifs_region_id</th>\n",
       "      <th>residue.klifs_region</th>\n",
       "      <th>residue.klifs_color</th>\n",
       "    </tr>\n",
       "  </thead>\n",
       "  <tbody>\n",
       "    <tr>\n",
       "      <th>73</th>\n",
       "      <td>74</td>\n",
       "      <td>N</td>\n",
       "      <td>9.014</td>\n",
       "      <td>18.239000</td>\n",
       "      <td>51.860001</td>\n",
       "      <td>461</td>\n",
       "      <td>GLN</td>\n",
       "      <td>1</td>\n",
       "      <td>I.1</td>\n",
       "      <td>I</td>\n",
       "      <td>khaki</td>\n",
       "    </tr>\n",
       "    <tr>\n",
       "      <th>74</th>\n",
       "      <td>75</td>\n",
       "      <td>CA</td>\n",
       "      <td>8.811</td>\n",
       "      <td>16.811001</td>\n",
       "      <td>51.655998</td>\n",
       "      <td>461</td>\n",
       "      <td>GLN</td>\n",
       "      <td>1</td>\n",
       "      <td>I.1</td>\n",
       "      <td>I</td>\n",
       "      <td>khaki</td>\n",
       "    </tr>\n",
       "    <tr>\n",
       "      <th>75</th>\n",
       "      <td>76</td>\n",
       "      <td>C</td>\n",
       "      <td>8.559</td>\n",
       "      <td>16.492001</td>\n",
       "      <td>50.186001</td>\n",
       "      <td>461</td>\n",
       "      <td>GLN</td>\n",
       "      <td>1</td>\n",
       "      <td>I.1</td>\n",
       "      <td>I</td>\n",
       "      <td>khaki</td>\n",
       "    </tr>\n",
       "    <tr>\n",
       "      <th>76</th>\n",
       "      <td>77</td>\n",
       "      <td>O</td>\n",
       "      <td>7.851</td>\n",
       "      <td>17.224001</td>\n",
       "      <td>49.491001</td>\n",
       "      <td>461</td>\n",
       "      <td>GLN</td>\n",
       "      <td>1</td>\n",
       "      <td>I.1</td>\n",
       "      <td>I</td>\n",
       "      <td>khaki</td>\n",
       "    </tr>\n",
       "    <tr>\n",
       "      <th>77</th>\n",
       "      <td>78</td>\n",
       "      <td>CB</td>\n",
       "      <td>7.630</td>\n",
       "      <td>16.325001</td>\n",
       "      <td>52.500999</td>\n",
       "      <td>461</td>\n",
       "      <td>GLN</td>\n",
       "      <td>1</td>\n",
       "      <td>I.1</td>\n",
       "      <td>I</td>\n",
       "      <td>khaki</td>\n",
       "    </tr>\n",
       "    <tr>\n",
       "      <th>...</th>\n",
       "      <td>...</td>\n",
       "      <td>...</td>\n",
       "      <td>...</td>\n",
       "      <td>...</td>\n",
       "      <td>...</td>\n",
       "      <td>...</td>\n",
       "      <td>...</td>\n",
       "      <td>...</td>\n",
       "      <td>...</td>\n",
       "      <td>...</td>\n",
       "      <td>...</td>\n",
       "    </tr>\n",
       "    <tr>\n",
       "      <th>1015</th>\n",
       "      <td>1016</td>\n",
       "      <td>CD1</td>\n",
       "      <td>-0.042</td>\n",
       "      <td>21.966000</td>\n",
       "      <td>31.419001</td>\n",
       "      <td>595</td>\n",
       "      <td>PHE</td>\n",
       "      <td>82</td>\n",
       "      <td>xDFG.82</td>\n",
       "      <td>xDFG</td>\n",
       "      <td>cornflowerblue</td>\n",
       "    </tr>\n",
       "    <tr>\n",
       "      <th>1016</th>\n",
       "      <td>1017</td>\n",
       "      <td>CD2</td>\n",
       "      <td>1.547</td>\n",
       "      <td>22.907000</td>\n",
       "      <td>29.912001</td>\n",
       "      <td>595</td>\n",
       "      <td>PHE</td>\n",
       "      <td>82</td>\n",
       "      <td>xDFG.82</td>\n",
       "      <td>xDFG</td>\n",
       "      <td>cornflowerblue</td>\n",
       "    </tr>\n",
       "    <tr>\n",
       "      <th>1017</th>\n",
       "      <td>1018</td>\n",
       "      <td>CE1</td>\n",
       "      <td>-0.337</td>\n",
       "      <td>23.228001</td>\n",
       "      <td>31.899000</td>\n",
       "      <td>595</td>\n",
       "      <td>PHE</td>\n",
       "      <td>82</td>\n",
       "      <td>xDFG.82</td>\n",
       "      <td>xDFG</td>\n",
       "      <td>cornflowerblue</td>\n",
       "    </tr>\n",
       "    <tr>\n",
       "      <th>1018</th>\n",
       "      <td>1019</td>\n",
       "      <td>CE2</td>\n",
       "      <td>1.255</td>\n",
       "      <td>24.172001</td>\n",
       "      <td>30.389000</td>\n",
       "      <td>595</td>\n",
       "      <td>PHE</td>\n",
       "      <td>82</td>\n",
       "      <td>xDFG.82</td>\n",
       "      <td>xDFG</td>\n",
       "      <td>cornflowerblue</td>\n",
       "    </tr>\n",
       "    <tr>\n",
       "      <th>1019</th>\n",
       "      <td>1020</td>\n",
       "      <td>CZ</td>\n",
       "      <td>0.311</td>\n",
       "      <td>24.332001</td>\n",
       "      <td>31.384001</td>\n",
       "      <td>595</td>\n",
       "      <td>PHE</td>\n",
       "      <td>82</td>\n",
       "      <td>xDFG.82</td>\n",
       "      <td>xDFG</td>\n",
       "      <td>cornflowerblue</td>\n",
       "    </tr>\n",
       "  </tbody>\n",
       "</table>\n",
       "<p>577 rows × 11 columns</p>\n",
       "</div>"
      ],
      "text/plain": [
       "      atom.id atom.name  atom.x     atom.y     atom.z residue.id residue.name  \\\n",
       "73         74         N   9.014  18.239000  51.860001        461          GLN   \n",
       "74         75        CA   8.811  16.811001  51.655998        461          GLN   \n",
       "75         76         C   8.559  16.492001  50.186001        461          GLN   \n",
       "76         77         O   7.851  17.224001  49.491001        461          GLN   \n",
       "77         78        CB   7.630  16.325001  52.500999        461          GLN   \n",
       "...       ...       ...     ...        ...        ...        ...          ...   \n",
       "1015     1016       CD1  -0.042  21.966000  31.419001        595          PHE   \n",
       "1016     1017       CD2   1.547  22.907000  29.912001        595          PHE   \n",
       "1017     1018       CE1  -0.337  23.228001  31.899000        595          PHE   \n",
       "1018     1019       CE2   1.255  24.172001  30.389000        595          PHE   \n",
       "1019     1020        CZ   0.311  24.332001  31.384001        595          PHE   \n",
       "\n",
       "      residue.klifs_id residue.klifs_region_id residue.klifs_region  \\\n",
       "73                   1                     I.1                    I   \n",
       "74                   1                     I.1                    I   \n",
       "75                   1                     I.1                    I   \n",
       "76                   1                     I.1                    I   \n",
       "77                   1                     I.1                    I   \n",
       "...                ...                     ...                  ...   \n",
       "1015                82                 xDFG.82                 xDFG   \n",
       "1016                82                 xDFG.82                 xDFG   \n",
       "1017                82                 xDFG.82                 xDFG   \n",
       "1018                82                 xDFG.82                 xDFG   \n",
       "1019                82                 xDFG.82                 xDFG   \n",
       "\n",
       "     residue.klifs_color  \n",
       "73                 khaki  \n",
       "74                 khaki  \n",
       "75                 khaki  \n",
       "76                 khaki  \n",
       "77                 khaki  \n",
       "...                  ...  \n",
       "1015      cornflowerblue  \n",
       "1016      cornflowerblue  \n",
       "1017      cornflowerblue  \n",
       "1018      cornflowerblue  \n",
       "1019      cornflowerblue  \n",
       "\n",
       "[577 rows x 11 columns]"
      ]
     },
     "execution_count": 3,
     "metadata": {},
     "output_type": "execute_result"
    }
   ],
   "source": [
    "remote = setup_remote()\n",
    "dataframe = remote.coordinates.to_dataframe(12347, extension=\"pdb\")\n",
    "dataframe[~dataframe[\"residue.klifs_region_id\"].isna()]"
   ]
  },
  {
   "cell_type": "markdown",
   "metadata": {},
   "source": [
    "## `KlifsPocket`"
   ]
  },
  {
   "cell_type": "code",
   "execution_count": 4,
   "metadata": {},
   "outputs": [],
   "source": [
    "from opencadd.structure.pocket import KlifsPocket"
   ]
  },
  {
   "cell_type": "code",
   "execution_count": 5,
   "metadata": {},
   "outputs": [],
   "source": [
    "ANCHOR_RESIDUES = {'hinge_region': [16, 47, 80],\n",
    " 'dfg_region': [19, 24, 81],\n",
    " 'front_pocket': [6, 48, 75]}"
   ]
  },
  {
   "cell_type": "code",
   "execution_count": 6,
   "metadata": {},
   "outputs": [
    {
     "data": {
      "text/html": [
       "<div>\n",
       "<style scoped>\n",
       "    .dataframe tbody tr th:only-of-type {\n",
       "        vertical-align: middle;\n",
       "    }\n",
       "\n",
       "    .dataframe tbody tr th {\n",
       "        vertical-align: top;\n",
       "    }\n",
       "\n",
       "    .dataframe thead th {\n",
       "        text-align: right;\n",
       "    }\n",
       "</style>\n",
       "<table border=\"1\" class=\"dataframe\">\n",
       "  <thead>\n",
       "    <tr style=\"text-align: right;\">\n",
       "      <th></th>\n",
       "      <th>anchor_residue.klifs_ids</th>\n",
       "      <th>subpocket.name</th>\n",
       "      <th>subpocket.color</th>\n",
       "    </tr>\n",
       "  </thead>\n",
       "  <tbody>\n",
       "    <tr>\n",
       "      <th>0</th>\n",
       "      <td>[16, 47, 80]</td>\n",
       "      <td>hinge_region</td>\n",
       "      <td>magenta</td>\n",
       "    </tr>\n",
       "    <tr>\n",
       "      <th>1</th>\n",
       "      <td>[19, 24, 81]</td>\n",
       "      <td>dfg_region</td>\n",
       "      <td>cornflowerblue</td>\n",
       "    </tr>\n",
       "    <tr>\n",
       "      <th>2</th>\n",
       "      <td>[6, 48, 75]</td>\n",
       "      <td>front_pocket</td>\n",
       "      <td>green</td>\n",
       "    </tr>\n",
       "  </tbody>\n",
       "</table>\n",
       "</div>"
      ],
      "text/plain": [
       "  anchor_residue.klifs_ids subpocket.name subpocket.color\n",
       "0             [16, 47, 80]   hinge_region         magenta\n",
       "1             [19, 24, 81]     dfg_region  cornflowerblue\n",
       "2              [6, 48, 75]   front_pocket           green"
      ]
     },
     "execution_count": 6,
     "metadata": {},
     "output_type": "execute_result"
    }
   ],
   "source": [
    "import pandas as pd\n",
    "subpockets = pd.DataFrame(\n",
    "    {\n",
    "        \"anchor_residue.klifs_ids\": ANCHOR_RESIDUES.values(), \n",
    "        \"subpocket.name\": ANCHOR_RESIDUES.keys(), \n",
    "        \"subpocket.color\": [\"magenta\", \"cornflowerblue\", \"green\"]\n",
    "    }\n",
    ")\n",
    "subpockets"
   ]
  },
  {
   "cell_type": "code",
   "execution_count": 7,
   "metadata": {},
   "outputs": [
    {
     "name": "stderr",
     "output_type": "stream",
     "text": [
      "INFO:opencadd.databases.klifs.api:Set up remote session...\n",
      "INFO:opencadd.databases.klifs.api:Remote session is ready!\n"
     ]
    },
    {
     "ename": "AttributeError",
     "evalue": "type object 'AnchorResidue' has no attribute 'from_dataframe'",
     "output_type": "error",
     "traceback": [
      "\u001b[0;31m---------------------------------------------------------------------------\u001b[0m",
      "\u001b[0;31mAttributeError\u001b[0m                            Traceback (most recent call last)",
      "\u001b[0;32m<ipython-input-7-9ca716f9af2a>\u001b[0m in \u001b[0;36m<module>\u001b[0;34m\u001b[0m\n\u001b[0;32m----> 1\u001b[0;31m \u001b[0mpocket\u001b[0m \u001b[0;34m=\u001b[0m \u001b[0mKlifsPocket\u001b[0m\u001b[0;34m.\u001b[0m\u001b[0mfrom_structure_klifs_id\u001b[0m\u001b[0;34m(\u001b[0m\u001b[0;36m3834\u001b[0m\u001b[0;34m,\u001b[0m \u001b[0msubpockets\u001b[0m\u001b[0;34m)\u001b[0m\u001b[0;34m\u001b[0m\u001b[0;34m\u001b[0m\u001b[0m\n\u001b[0m\u001b[1;32m      2\u001b[0m \u001b[0mpocket\u001b[0m\u001b[0;34m.\u001b[0m\u001b[0mvisualize\u001b[0m\u001b[0;34m(\u001b[0m\u001b[0;34m)\u001b[0m\u001b[0;34m\u001b[0m\u001b[0;34m\u001b[0m\u001b[0m\n",
      "\u001b[0;32m~/Documents/Work/GitHub/opencadd/opencadd/structure/pocket/klifs.py\u001b[0m in \u001b[0;36mfrom_structure_klifs_id\u001b[0;34m(cls, structure_klifs_id, subpockets, extension)\u001b[0m\n\u001b[1;32m     81\u001b[0m             \u001b[0;31m# Add subpockets\u001b[0m\u001b[0;34m\u001b[0m\u001b[0;34m\u001b[0m\u001b[0;34m\u001b[0m\u001b[0m\n\u001b[1;32m     82\u001b[0m             \u001b[0;32mfor\u001b[0m \u001b[0m_\u001b[0m\u001b[0;34m,\u001b[0m \u001b[0msubpocket\u001b[0m \u001b[0;32min\u001b[0m \u001b[0msubpockets\u001b[0m\u001b[0;34m.\u001b[0m\u001b[0miterrows\u001b[0m\u001b[0;34m(\u001b[0m\u001b[0;34m)\u001b[0m\u001b[0;34m:\u001b[0m\u001b[0;34m\u001b[0m\u001b[0;34m\u001b[0m\u001b[0m\n\u001b[0;32m---> 83\u001b[0;31m                 pocket_3d.add_subpocket(\n\u001b[0m\u001b[1;32m     84\u001b[0m                     \u001b[0msubpocket\u001b[0m\u001b[0;34m[\u001b[0m\u001b[0;34m\"subpocket.name\"\u001b[0m\u001b[0;34m]\u001b[0m\u001b[0;34m,\u001b[0m\u001b[0;34m\u001b[0m\u001b[0;34m\u001b[0m\u001b[0m\n\u001b[1;32m     85\u001b[0m                     \u001b[0msubpocket\u001b[0m\u001b[0;34m[\u001b[0m\u001b[0;34m\"anchor_residue.ids\"\u001b[0m\u001b[0;34m]\u001b[0m\u001b[0;34m,\u001b[0m\u001b[0;34m\u001b[0m\u001b[0;34m\u001b[0m\u001b[0m\n",
      "\u001b[0;32m~/Documents/Work/GitHub/opencadd/opencadd/structure/pocket/core.py\u001b[0m in \u001b[0;36madd_subpocket\u001b[0;34m(self, name, anchor_residue_ids, color, anchor_residue_labels)\u001b[0m\n\u001b[1;32m    297\u001b[0m         \"\"\"\n\u001b[1;32m    298\u001b[0m \u001b[0;34m\u001b[0m\u001b[0m\n\u001b[0;32m--> 299\u001b[0;31m         subpocket = Subpocket.from_dataframe(\n\u001b[0m\u001b[1;32m    300\u001b[0m             \u001b[0mself\u001b[0m\u001b[0;34m.\u001b[0m\u001b[0mdata\u001b[0m\u001b[0;34m,\u001b[0m \u001b[0mname\u001b[0m\u001b[0;34m,\u001b[0m \u001b[0manchor_residue_ids\u001b[0m\u001b[0;34m,\u001b[0m \u001b[0mcolor\u001b[0m\u001b[0;34m,\u001b[0m \u001b[0manchor_residue_labels\u001b[0m\u001b[0;34m\u001b[0m\u001b[0;34m\u001b[0m\u001b[0m\n\u001b[1;32m    301\u001b[0m         )\n",
      "\u001b[0;32m~/Documents/Work/GitHub/opencadd/opencadd/structure/pocket/subpocket.py\u001b[0m in \u001b[0;36mfrom_dataframe\u001b[0;34m(cls, dataframe, name, anchor_residue_ids, color, anchor_residue_labels)\u001b[0m\n\u001b[1;32m    107\u001b[0m         \u001b[0manchor_residues\u001b[0m \u001b[0;34m=\u001b[0m \u001b[0;34m[\u001b[0m\u001b[0;34m]\u001b[0m\u001b[0;34m\u001b[0m\u001b[0;34m\u001b[0m\u001b[0m\n\u001b[1;32m    108\u001b[0m         \u001b[0;32mfor\u001b[0m \u001b[0mresidue_id\u001b[0m\u001b[0;34m,\u001b[0m \u001b[0mresidue_label\u001b[0m \u001b[0;32min\u001b[0m \u001b[0mzip\u001b[0m\u001b[0;34m(\u001b[0m\u001b[0manchor_residue_ids\u001b[0m\u001b[0;34m,\u001b[0m \u001b[0manchor_residue_labels\u001b[0m\u001b[0;34m)\u001b[0m\u001b[0;34m:\u001b[0m\u001b[0;34m\u001b[0m\u001b[0;34m\u001b[0m\u001b[0m\n\u001b[0;32m--> 109\u001b[0;31m             \u001b[0mresidue\u001b[0m \u001b[0;34m=\u001b[0m \u001b[0mAnchorResidue\u001b[0m\u001b[0;34m.\u001b[0m\u001b[0mfrom_dataframe\u001b[0m\u001b[0;34m(\u001b[0m\u001b[0mdataframe\u001b[0m\u001b[0;34m,\u001b[0m \u001b[0mresidue_id\u001b[0m\u001b[0;34m,\u001b[0m \u001b[0mcolor\u001b[0m\u001b[0;34m,\u001b[0m \u001b[0mresidue_label\u001b[0m\u001b[0;34m)\u001b[0m\u001b[0;34m\u001b[0m\u001b[0;34m\u001b[0m\u001b[0m\n\u001b[0m\u001b[1;32m    110\u001b[0m             \u001b[0manchor_residues\u001b[0m\u001b[0;34m.\u001b[0m\u001b[0mappend\u001b[0m\u001b[0;34m(\u001b[0m\u001b[0mresidue\u001b[0m\u001b[0;34m)\u001b[0m\u001b[0;34m\u001b[0m\u001b[0;34m\u001b[0m\u001b[0m\n\u001b[1;32m    111\u001b[0m \u001b[0;34m\u001b[0m\u001b[0m\n",
      "\u001b[0;31mAttributeError\u001b[0m: type object 'AnchorResidue' has no attribute 'from_dataframe'"
     ]
    }
   ],
   "source": [
    "pocket = KlifsPocket.from_structure_klifs_id(3834, subpockets)\n",
    "pocket.visualize()"
   ]
  }
 ],
 "metadata": {
  "kernelspec": {
   "display_name": "Python 3",
   "language": "python",
   "name": "python3"
  },
  "language_info": {
   "codemirror_mode": {
    "name": "ipython",
    "version": 3
   },
   "file_extension": ".py",
   "mimetype": "text/x-python",
   "name": "python",
   "nbconvert_exporter": "python",
   "pygments_lexer": "ipython3",
   "version": "3.8.6"
  }
 },
 "nbformat": 4,
 "nbformat_minor": 4
}
