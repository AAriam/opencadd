{
 "cells": [
  {
   "cell_type": "markdown",
   "metadata": {},
   "source": [
    "# The `io` module\n",
    "\n",
    "The `io` module enables loading of different input formats and conversion to different output formats.\n",
    "\n",
    "Currently supported are:\n",
    "\n",
    "\n",
    "| Input | Output |\n",
    "| :--- | :--- |\n",
    "| _mol2_ (file, text) | `pandas.DataFrame` |\n",
    "| _pdb_ (file, text) | `pandas.DataFrame` |\n",
    "| _mol2_ (file, text) | `rdkit.Chem.rdchem.Mol` |"
   ]
  },
  {
   "cell_type": "code",
   "execution_count": 1,
   "metadata": {},
   "outputs": [],
   "source": [
    "%load_ext autoreload\n",
    "%autoreload 2"
   ]
  },
  {
   "cell_type": "code",
   "execution_count": 2,
   "metadata": {},
   "outputs": [],
   "source": [
    "from pathlib import Path\n",
    "\n",
    "import pandas as pd\n",
    "from rdkit.Chem import Draw\n",
    "from rdkit.Chem.Draw import IPythonConsole"
   ]
  },
  {
   "cell_type": "code",
   "execution_count": 3,
   "metadata": {},
   "outputs": [],
   "source": [
    "pd.set_option(\"display.max_rows\", 5)"
   ]
  },
  {
   "cell_type": "code",
   "execution_count": 4,
   "metadata": {},
   "outputs": [],
   "source": [
    "DATA_PATH = Path(\"../../opencadd/tests/data/io\") "
   ]
  },
  {
   "cell_type": "markdown",
   "metadata": {},
   "source": [
    "## Load DataFrames: `io.dataframes`\n",
    "\n",
    "Return data from different input formats as DataFrame with the following __default__ columns:\n",
    "\n",
    "- `atom.id`: Atom serial number.\n",
    "- `atom.name`: Atom name.\n",
    "- `atom.x`, `atom.y`, `atom.z`: Orthogonal coordinates for X, Y, Z in Angstroms.\n",
    "- `atom.charge`: Atom charge.\n",
    "- `residue.pdb_id`: Residue PDB ID.\n",
    "- `residue.name`: Residue name.\n",
    "\n",
    "It is also possible to return a DataFrame in the __verbose__ version, that contains additional columns available in the input format (but not in other input formats).\n",
    "\n",
    "Columns available from the _mol2_ format only are:\n",
    "\n",
    "- `atom.type`: SYBYL atom type set in the _mol2_ format.\n",
    "- `residue.subst_id`: ID number of the substructure containing the atom.\n",
    "- `residue.subst_name`: Name of the substructure containing the atom: Residue name + residue PDB ID.\n",
    "\n",
    "Columns available in the _pdb_ format only are:\n",
    "\n",
    "- `record.name`: Record name set in the _pdb_ format, i.e. `ATOM` or `HETATM`.\n",
    "- `atom.symbol`: Atom symbol.\n",
    "- `atom.occupancy`: Atom occupancy.\n",
    "- `atom.bfactor`: Atom B factor.\n",
    "- `atom.alternative_model`: Alternative atom positions.\n",
    "- `structure.chain`: Structure chain."
   ]
  },
  {
   "cell_type": "code",
   "execution_count": 5,
   "metadata": {},
   "outputs": [],
   "source": [
    "from opencadd.io.dataframes import Mol2ToDataFrame, PdbToDataFrame"
   ]
  },
  {
   "cell_type": "markdown",
   "metadata": {},
   "source": [
    "### From the _mol2_ format\n",
    "\n",
    "Check out the _mol2_ format [here](http://rasbt.github.io/biopandas/tutorials/Working_with_MOL2_Structures_in_DataFrames/#the-mol2-data-format). "
   ]
  },
  {
   "cell_type": "code",
   "execution_count": 6,
   "metadata": {},
   "outputs": [],
   "source": [
    "mol2_to_df = Mol2ToDataFrame()"
   ]
  },
  {
   "cell_type": "markdown",
   "metadata": {},
   "source": [
    "__From _mol2_ files__: Return a _mol2_ file's content as DataFrame (_mol2_ files can have 9 (default) or 10 columns)."
   ]
  },
  {
   "cell_type": "code",
   "execution_count": 7,
   "metadata": {},
   "outputs": [
    {
     "data": {
      "text/html": [
       "<div>\n",
       "<style scoped>\n",
       "    .dataframe tbody tr th:only-of-type {\n",
       "        vertical-align: middle;\n",
       "    }\n",
       "\n",
       "    .dataframe tbody tr th {\n",
       "        vertical-align: top;\n",
       "    }\n",
       "\n",
       "    .dataframe thead th {\n",
       "        text-align: right;\n",
       "    }\n",
       "</style>\n",
       "<table border=\"1\" class=\"dataframe\">\n",
       "  <thead>\n",
       "    <tr style=\"text-align: right;\">\n",
       "      <th></th>\n",
       "      <th>atom.id</th>\n",
       "      <th>atom.name</th>\n",
       "      <th>atom.x</th>\n",
       "      <th>atom.y</th>\n",
       "      <th>atom.z</th>\n",
       "      <th>atom.charge</th>\n",
       "      <th>residue.pdb_id</th>\n",
       "      <th>residue.name</th>\n",
       "    </tr>\n",
       "  </thead>\n",
       "  <tbody>\n",
       "    <tr>\n",
       "      <th>0</th>\n",
       "      <td>1</td>\n",
       "      <td>N</td>\n",
       "      <td>3.5231</td>\n",
       "      <td>35.9331</td>\n",
       "      <td>15.5964</td>\n",
       "      <td>1.0</td>\n",
       "      <td>697</td>\n",
       "      <td>GLU</td>\n",
       "    </tr>\n",
       "    <tr>\n",
       "      <th>1</th>\n",
       "      <td>2</td>\n",
       "      <td>H1</td>\n",
       "      <td>3.0492</td>\n",
       "      <td>36.7821</td>\n",
       "      <td>15.3230</td>\n",
       "      <td>0.0</td>\n",
       "      <td>697</td>\n",
       "      <td>GLU</td>\n",
       "    </tr>\n",
       "    <tr>\n",
       "      <th>...</th>\n",
       "      <td>...</td>\n",
       "      <td>...</td>\n",
       "      <td>...</td>\n",
       "      <td>...</td>\n",
       "      <td>...</td>\n",
       "      <td>...</td>\n",
       "      <td>...</td>\n",
       "      <td>...</td>\n",
       "    </tr>\n",
       "    <tr>\n",
       "      <th>4879</th>\n",
       "      <td>4880</td>\n",
       "      <td>H1</td>\n",
       "      <td>4.0174</td>\n",
       "      <td>42.8405</td>\n",
       "      <td>37.2040</td>\n",
       "      <td>0.0</td>\n",
       "      <td>1020</td>\n",
       "      <td>GLN</td>\n",
       "    </tr>\n",
       "    <tr>\n",
       "      <th>4880</th>\n",
       "      <td>4881</td>\n",
       "      <td>H2</td>\n",
       "      <td>4.1575</td>\n",
       "      <td>42.8739</td>\n",
       "      <td>38.9474</td>\n",
       "      <td>0.0</td>\n",
       "      <td>1020</td>\n",
       "      <td>GLN</td>\n",
       "    </tr>\n",
       "  </tbody>\n",
       "</table>\n",
       "<p>4881 rows × 8 columns</p>\n",
       "</div>"
      ],
      "text/plain": [
       "      atom.id atom.name  atom.x   atom.y   atom.z  atom.charge residue.pdb_id  \\\n",
       "0           1         N  3.5231  35.9331  15.5964          1.0            697   \n",
       "1           2        H1  3.0492  36.7821  15.3230          0.0            697   \n",
       "...       ...       ...     ...      ...      ...          ...            ...   \n",
       "4879     4880        H1  4.0174  42.8405  37.2040          0.0           1020   \n",
       "4880     4881        H2  4.1575  42.8739  38.9474          0.0           1020   \n",
       "\n",
       "     residue.name  \n",
       "0             GLU  \n",
       "1             GLU  \n",
       "...           ...  \n",
       "4879          GLN  \n",
       "4880          GLN  \n",
       "\n",
       "[4881 rows x 8 columns]"
      ]
     },
     "execution_count": 7,
     "metadata": {},
     "output_type": "execute_result"
    }
   ],
   "source": [
    "# Mol2 files with 10 columns\n",
    "mol2_to_df.from_file(DATA_PATH / \"2itz_chainA_protein.mol2\")"
   ]
  },
  {
   "cell_type": "code",
   "execution_count": 8,
   "metadata": {},
   "outputs": [
    {
     "data": {
      "text/html": [
       "<div>\n",
       "<style scoped>\n",
       "    .dataframe tbody tr th:only-of-type {\n",
       "        vertical-align: middle;\n",
       "    }\n",
       "\n",
       "    .dataframe tbody tr th {\n",
       "        vertical-align: top;\n",
       "    }\n",
       "\n",
       "    .dataframe thead th {\n",
       "        text-align: right;\n",
       "    }\n",
       "</style>\n",
       "<table border=\"1\" class=\"dataframe\">\n",
       "  <thead>\n",
       "    <tr style=\"text-align: right;\">\n",
       "      <th></th>\n",
       "      <th>atom.id</th>\n",
       "      <th>atom.name</th>\n",
       "      <th>atom.x</th>\n",
       "      <th>atom.y</th>\n",
       "      <th>atom.z</th>\n",
       "      <th>atom.charge</th>\n",
       "      <th>residue.pdb_id</th>\n",
       "      <th>residue.name</th>\n",
       "    </tr>\n",
       "  </thead>\n",
       "  <tbody>\n",
       "    <tr>\n",
       "      <th>0</th>\n",
       "      <td>1</td>\n",
       "      <td>C</td>\n",
       "      <td>-68.0100</td>\n",
       "      <td>-5.4980</td>\n",
       "      <td>-49.0280</td>\n",
       "      <td>0.0</td>\n",
       "      <td>697</td>\n",
       "      <td>GLU</td>\n",
       "    </tr>\n",
       "    <tr>\n",
       "      <th>1</th>\n",
       "      <td>2</td>\n",
       "      <td>O</td>\n",
       "      <td>-67.9160</td>\n",
       "      <td>-4.9160</td>\n",
       "      <td>-50.1190</td>\n",
       "      <td>0.0</td>\n",
       "      <td>697</td>\n",
       "      <td>GLU</td>\n",
       "    </tr>\n",
       "    <tr>\n",
       "      <th>...</th>\n",
       "      <td>...</td>\n",
       "      <td>...</td>\n",
       "      <td>...</td>\n",
       "      <td>...</td>\n",
       "      <td>...</td>\n",
       "      <td>...</td>\n",
       "      <td>...</td>\n",
       "      <td>...</td>\n",
       "    </tr>\n",
       "    <tr>\n",
       "      <th>4881</th>\n",
       "      <td>4882</td>\n",
       "      <td>H1</td>\n",
       "      <td>-58.8856</td>\n",
       "      <td>-15.6794</td>\n",
       "      <td>-31.0692</td>\n",
       "      <td>0.0</td>\n",
       "      <td>3045</td>\n",
       "      <td>HOH</td>\n",
       "    </tr>\n",
       "    <tr>\n",
       "      <th>4882</th>\n",
       "      <td>4883</td>\n",
       "      <td>H2</td>\n",
       "      <td>-57.7611</td>\n",
       "      <td>-16.4922</td>\n",
       "      <td>-30.3103</td>\n",
       "      <td>0.0</td>\n",
       "      <td>3045</td>\n",
       "      <td>HOH</td>\n",
       "    </tr>\n",
       "  </tbody>\n",
       "</table>\n",
       "<p>4883 rows × 8 columns</p>\n",
       "</div>"
      ],
      "text/plain": [
       "      atom.id atom.name   atom.x   atom.y   atom.z  atom.charge  \\\n",
       "0           1         C -68.0100  -5.4980 -49.0280          0.0   \n",
       "1           2         O -67.9160  -4.9160 -50.1190          0.0   \n",
       "...       ...       ...      ...      ...      ...          ...   \n",
       "4881     4882        H1 -58.8856 -15.6794 -31.0692          0.0   \n",
       "4882     4883        H2 -57.7611 -16.4922 -30.3103          0.0   \n",
       "\n",
       "     residue.pdb_id residue.name  \n",
       "0               697          GLU  \n",
       "1               697          GLU  \n",
       "...             ...          ...  \n",
       "4881           3045          HOH  \n",
       "4882           3045          HOH  \n",
       "\n",
       "[4883 rows x 8 columns]"
      ]
     },
     "execution_count": 8,
     "metadata": {},
     "output_type": "execute_result"
    }
   ],
   "source": [
    "# Mol2 files with 9 columns\n",
    "mol2_to_df.from_file(DATA_PATH / \"2itz_protein.mol2\")"
   ]
  },
  {
   "cell_type": "markdown",
   "metadata": {},
   "source": [
    "In order to get all columns from the input, set `verbose=True`."
   ]
  },
  {
   "cell_type": "code",
   "execution_count": 9,
   "metadata": {},
   "outputs": [
    {
     "data": {
      "text/html": [
       "<div>\n",
       "<style scoped>\n",
       "    .dataframe tbody tr th:only-of-type {\n",
       "        vertical-align: middle;\n",
       "    }\n",
       "\n",
       "    .dataframe tbody tr th {\n",
       "        vertical-align: top;\n",
       "    }\n",
       "\n",
       "    .dataframe thead th {\n",
       "        text-align: right;\n",
       "    }\n",
       "</style>\n",
       "<table border=\"1\" class=\"dataframe\">\n",
       "  <thead>\n",
       "    <tr style=\"text-align: right;\">\n",
       "      <th></th>\n",
       "      <th>atom.id</th>\n",
       "      <th>atom.name</th>\n",
       "      <th>atom.x</th>\n",
       "      <th>atom.y</th>\n",
       "      <th>atom.z</th>\n",
       "      <th>atom.charge</th>\n",
       "      <th>residue.pdb_id</th>\n",
       "      <th>residue.name</th>\n",
       "      <th>atom.type</th>\n",
       "      <th>residue.subst_id</th>\n",
       "      <th>residue.subst_name</th>\n",
       "      <th>atom.status_bit</th>\n",
       "    </tr>\n",
       "  </thead>\n",
       "  <tbody>\n",
       "    <tr>\n",
       "      <th>0</th>\n",
       "      <td>1</td>\n",
       "      <td>N</td>\n",
       "      <td>3.5231</td>\n",
       "      <td>35.9331</td>\n",
       "      <td>15.5964</td>\n",
       "      <td>1.0</td>\n",
       "      <td>697</td>\n",
       "      <td>GLU</td>\n",
       "      <td>N.4</td>\n",
       "      <td>1</td>\n",
       "      <td>GLU697</td>\n",
       "      <td>BACKBONE</td>\n",
       "    </tr>\n",
       "    <tr>\n",
       "      <th>1</th>\n",
       "      <td>2</td>\n",
       "      <td>H1</td>\n",
       "      <td>3.0492</td>\n",
       "      <td>36.7821</td>\n",
       "      <td>15.3230</td>\n",
       "      <td>0.0</td>\n",
       "      <td>697</td>\n",
       "      <td>GLU</td>\n",
       "      <td>H</td>\n",
       "      <td>1</td>\n",
       "      <td>GLU697</td>\n",
       "      <td>BACKBONE</td>\n",
       "    </tr>\n",
       "    <tr>\n",
       "      <th>...</th>\n",
       "      <td>...</td>\n",
       "      <td>...</td>\n",
       "      <td>...</td>\n",
       "      <td>...</td>\n",
       "      <td>...</td>\n",
       "      <td>...</td>\n",
       "      <td>...</td>\n",
       "      <td>...</td>\n",
       "      <td>...</td>\n",
       "      <td>...</td>\n",
       "      <td>...</td>\n",
       "      <td>...</td>\n",
       "    </tr>\n",
       "    <tr>\n",
       "      <th>4879</th>\n",
       "      <td>4880</td>\n",
       "      <td>H1</td>\n",
       "      <td>4.0174</td>\n",
       "      <td>42.8405</td>\n",
       "      <td>37.2040</td>\n",
       "      <td>0.0</td>\n",
       "      <td>1020</td>\n",
       "      <td>GLN</td>\n",
       "      <td>H</td>\n",
       "      <td>303</td>\n",
       "      <td>GLN1020</td>\n",
       "      <td>BACKBONE</td>\n",
       "    </tr>\n",
       "    <tr>\n",
       "      <th>4880</th>\n",
       "      <td>4881</td>\n",
       "      <td>H2</td>\n",
       "      <td>4.1575</td>\n",
       "      <td>42.8739</td>\n",
       "      <td>38.9474</td>\n",
       "      <td>0.0</td>\n",
       "      <td>1020</td>\n",
       "      <td>GLN</td>\n",
       "      <td>H</td>\n",
       "      <td>303</td>\n",
       "      <td>GLN1020</td>\n",
       "      <td>BACKBONE</td>\n",
       "    </tr>\n",
       "  </tbody>\n",
       "</table>\n",
       "<p>4881 rows × 12 columns</p>\n",
       "</div>"
      ],
      "text/plain": [
       "      atom.id atom.name  atom.x   atom.y   atom.z  atom.charge residue.pdb_id  \\\n",
       "0           1         N  3.5231  35.9331  15.5964          1.0            697   \n",
       "1           2        H1  3.0492  36.7821  15.3230          0.0            697   \n",
       "...       ...       ...     ...      ...      ...          ...            ...   \n",
       "4879     4880        H1  4.0174  42.8405  37.2040          0.0           1020   \n",
       "4880     4881        H2  4.1575  42.8739  38.9474          0.0           1020   \n",
       "\n",
       "     residue.name atom.type  residue.subst_id residue.subst_name  \\\n",
       "0             GLU       N.4                 1             GLU697   \n",
       "1             GLU         H                 1             GLU697   \n",
       "...           ...       ...               ...                ...   \n",
       "4879          GLN         H               303            GLN1020   \n",
       "4880          GLN         H               303            GLN1020   \n",
       "\n",
       "     atom.status_bit  \n",
       "0           BACKBONE  \n",
       "1           BACKBONE  \n",
       "...              ...  \n",
       "4879        BACKBONE  \n",
       "4880        BACKBONE  \n",
       "\n",
       "[4881 rows x 12 columns]"
      ]
     },
     "execution_count": 9,
     "metadata": {},
     "output_type": "execute_result"
    }
   ],
   "source": [
    "mol2_to_df.from_file(DATA_PATH / \"2itz_chainA_protein.mol2\", verbose=True)"
   ]
  },
  {
   "cell_type": "markdown",
   "metadata": {},
   "source": [
    "__From _mol2_ text__: Return a _mol2_ string (text) as DataFrame. This functionality is useful if you are fetching data directly from a website like [PDB](https://www.rcsb.org/) or [KLIFS](https://klifs.vu-compmedchem.nl/)."
   ]
  },
  {
   "cell_type": "code",
   "execution_count": 10,
   "metadata": {},
   "outputs": [],
   "source": [
    "# Let's load a file's content as string (text) to simulate example input data\n",
    "with open(DATA_PATH / \"2itz_chainA_protein.mol2\", \"r\") as f:\n",
    "    text = f.read()"
   ]
  },
  {
   "cell_type": "code",
   "execution_count": 11,
   "metadata": {},
   "outputs": [
    {
     "data": {
      "text/html": [
       "<div>\n",
       "<style scoped>\n",
       "    .dataframe tbody tr th:only-of-type {\n",
       "        vertical-align: middle;\n",
       "    }\n",
       "\n",
       "    .dataframe tbody tr th {\n",
       "        vertical-align: top;\n",
       "    }\n",
       "\n",
       "    .dataframe thead th {\n",
       "        text-align: right;\n",
       "    }\n",
       "</style>\n",
       "<table border=\"1\" class=\"dataframe\">\n",
       "  <thead>\n",
       "    <tr style=\"text-align: right;\">\n",
       "      <th></th>\n",
       "      <th>atom.id</th>\n",
       "      <th>atom.name</th>\n",
       "      <th>atom.x</th>\n",
       "      <th>atom.y</th>\n",
       "      <th>atom.z</th>\n",
       "      <th>atom.charge</th>\n",
       "      <th>residue.pdb_id</th>\n",
       "      <th>residue.name</th>\n",
       "    </tr>\n",
       "  </thead>\n",
       "  <tbody>\n",
       "    <tr>\n",
       "      <th>0</th>\n",
       "      <td>1</td>\n",
       "      <td>N</td>\n",
       "      <td>3.5231</td>\n",
       "      <td>35.9331</td>\n",
       "      <td>15.5964</td>\n",
       "      <td>1.0</td>\n",
       "      <td>697</td>\n",
       "      <td>GLU</td>\n",
       "    </tr>\n",
       "    <tr>\n",
       "      <th>1</th>\n",
       "      <td>2</td>\n",
       "      <td>H1</td>\n",
       "      <td>3.0492</td>\n",
       "      <td>36.7821</td>\n",
       "      <td>15.3230</td>\n",
       "      <td>0.0</td>\n",
       "      <td>697</td>\n",
       "      <td>GLU</td>\n",
       "    </tr>\n",
       "    <tr>\n",
       "      <th>...</th>\n",
       "      <td>...</td>\n",
       "      <td>...</td>\n",
       "      <td>...</td>\n",
       "      <td>...</td>\n",
       "      <td>...</td>\n",
       "      <td>...</td>\n",
       "      <td>...</td>\n",
       "      <td>...</td>\n",
       "    </tr>\n",
       "    <tr>\n",
       "      <th>4879</th>\n",
       "      <td>4880</td>\n",
       "      <td>H1</td>\n",
       "      <td>4.0174</td>\n",
       "      <td>42.8405</td>\n",
       "      <td>37.2040</td>\n",
       "      <td>0.0</td>\n",
       "      <td>1020</td>\n",
       "      <td>GLN</td>\n",
       "    </tr>\n",
       "    <tr>\n",
       "      <th>4880</th>\n",
       "      <td>4881</td>\n",
       "      <td>H2</td>\n",
       "      <td>4.1575</td>\n",
       "      <td>42.8739</td>\n",
       "      <td>38.9474</td>\n",
       "      <td>0.0</td>\n",
       "      <td>1020</td>\n",
       "      <td>GLN</td>\n",
       "    </tr>\n",
       "  </tbody>\n",
       "</table>\n",
       "<p>4881 rows × 8 columns</p>\n",
       "</div>"
      ],
      "text/plain": [
       "      atom.id atom.name  atom.x   atom.y   atom.z  atom.charge residue.pdb_id  \\\n",
       "0           1         N  3.5231  35.9331  15.5964          1.0            697   \n",
       "1           2        H1  3.0492  36.7821  15.3230          0.0            697   \n",
       "...       ...       ...     ...      ...      ...          ...            ...   \n",
       "4879     4880        H1  4.0174  42.8405  37.2040          0.0           1020   \n",
       "4880     4881        H2  4.1575  42.8739  38.9474          0.0           1020   \n",
       "\n",
       "     residue.name  \n",
       "0             GLU  \n",
       "1             GLU  \n",
       "...           ...  \n",
       "4879          GLN  \n",
       "4880          GLN  \n",
       "\n",
       "[4881 rows x 8 columns]"
      ]
     },
     "execution_count": 11,
     "metadata": {},
     "output_type": "execute_result"
    }
   ],
   "source": [
    "mol2_to_df.from_text(text)"
   ]
  },
  {
   "cell_type": "markdown",
   "metadata": {},
   "source": [
    "### From the _pdb_ format\n",
    "\n",
    "Check out the _pdb_ format [here](https://www.wwpdb.org/documentation/file-format-content/format33/sect9.html)."
   ]
  },
  {
   "cell_type": "code",
   "execution_count": 12,
   "metadata": {},
   "outputs": [],
   "source": [
    "pdb_to_df = PdbToDataFrame()"
   ]
  },
  {
   "cell_type": "markdown",
   "metadata": {},
   "source": [
    "__From _pdb_ file__:  Return a _pdb_ file's content as DataFrame (`ATOM` and `HETATM` entries only). "
   ]
  },
  {
   "cell_type": "code",
   "execution_count": 13,
   "metadata": {},
   "outputs": [
    {
     "data": {
      "text/html": [
       "<div>\n",
       "<style scoped>\n",
       "    .dataframe tbody tr th:only-of-type {\n",
       "        vertical-align: middle;\n",
       "    }\n",
       "\n",
       "    .dataframe tbody tr th {\n",
       "        vertical-align: top;\n",
       "    }\n",
       "\n",
       "    .dataframe thead th {\n",
       "        text-align: right;\n",
       "    }\n",
       "</style>\n",
       "<table border=\"1\" class=\"dataframe\">\n",
       "  <thead>\n",
       "    <tr style=\"text-align: right;\">\n",
       "      <th></th>\n",
       "      <th>atom.id</th>\n",
       "      <th>atom.name</th>\n",
       "      <th>atom.x</th>\n",
       "      <th>atom.y</th>\n",
       "      <th>atom.z</th>\n",
       "      <th>residue.name</th>\n",
       "    </tr>\n",
       "  </thead>\n",
       "  <tbody>\n",
       "    <tr>\n",
       "      <th>0</th>\n",
       "      <td>1</td>\n",
       "      <td>N</td>\n",
       "      <td>-67.939</td>\n",
       "      <td>-7.787</td>\n",
       "      <td>-50.119</td>\n",
       "      <td>GLU</td>\n",
       "    </tr>\n",
       "    <tr>\n",
       "      <th>1</th>\n",
       "      <td>2</td>\n",
       "      <td>CA</td>\n",
       "      <td>-67.651</td>\n",
       "      <td>-6.991</td>\n",
       "      <td>-48.900</td>\n",
       "      <td>GLU</td>\n",
       "    </tr>\n",
       "    <tr>\n",
       "      <th>...</th>\n",
       "      <td>...</td>\n",
       "      <td>...</td>\n",
       "      <td>...</td>\n",
       "      <td>...</td>\n",
       "      <td>...</td>\n",
       "      <td>...</td>\n",
       "    </tr>\n",
       "    <tr>\n",
       "      <th>95</th>\n",
       "      <td>2512</td>\n",
       "      <td>O</td>\n",
       "      <td>-60.661</td>\n",
       "      <td>8.159</td>\n",
       "      <td>-21.872</td>\n",
       "      <td>HOH</td>\n",
       "    </tr>\n",
       "    <tr>\n",
       "      <th>96</th>\n",
       "      <td>2513</td>\n",
       "      <td>O</td>\n",
       "      <td>-69.189</td>\n",
       "      <td>8.275</td>\n",
       "      <td>-36.944</td>\n",
       "      <td>HOH</td>\n",
       "    </tr>\n",
       "  </tbody>\n",
       "</table>\n",
       "<p>2512 rows × 6 columns</p>\n",
       "</div>"
      ],
      "text/plain": [
       "    atom.id atom.name  atom.x  atom.y  atom.z residue.name\n",
       "0         1         N -67.939  -7.787 -50.119          GLU\n",
       "1         2        CA -67.651  -6.991 -48.900          GLU\n",
       "..      ...       ...     ...     ...     ...          ...\n",
       "95     2512         O -60.661   8.159 -21.872          HOH\n",
       "96     2513         O -69.189   8.275 -36.944          HOH\n",
       "\n",
       "[2512 rows x 6 columns]"
      ]
     },
     "execution_count": 13,
     "metadata": {},
     "output_type": "execute_result"
    }
   ],
   "source": [
    "pdb_to_df.from_file(DATA_PATH / \"2itz.pdb\")"
   ]
  },
  {
   "cell_type": "markdown",
   "metadata": {},
   "source": [
    "In order to get all columns from the input, set `verbose=True`."
   ]
  },
  {
   "cell_type": "code",
   "execution_count": 14,
   "metadata": {},
   "outputs": [
    {
     "data": {
      "text/html": [
       "<div>\n",
       "<style scoped>\n",
       "    .dataframe tbody tr th:only-of-type {\n",
       "        vertical-align: middle;\n",
       "    }\n",
       "\n",
       "    .dataframe tbody tr th {\n",
       "        vertical-align: top;\n",
       "    }\n",
       "\n",
       "    .dataframe thead th {\n",
       "        text-align: right;\n",
       "    }\n",
       "</style>\n",
       "<table border=\"1\" class=\"dataframe\">\n",
       "  <thead>\n",
       "    <tr style=\"text-align: right;\">\n",
       "      <th></th>\n",
       "      <th>atom.id</th>\n",
       "      <th>atom.name</th>\n",
       "      <th>atom.x</th>\n",
       "      <th>atom.y</th>\n",
       "      <th>atom.z</th>\n",
       "      <th>residue.name</th>\n",
       "      <th>record.name</th>\n",
       "      <th>atom.symbol</th>\n",
       "      <th>atom.occupancy</th>\n",
       "      <th>atom.bfactor</th>\n",
       "      <th>atom.alternative_model</th>\n",
       "      <th>structure.chain</th>\n",
       "    </tr>\n",
       "  </thead>\n",
       "  <tbody>\n",
       "    <tr>\n",
       "      <th>0</th>\n",
       "      <td>1</td>\n",
       "      <td>N</td>\n",
       "      <td>-67.939</td>\n",
       "      <td>-7.787</td>\n",
       "      <td>-50.119</td>\n",
       "      <td>GLU</td>\n",
       "      <td>ATOM</td>\n",
       "      <td>N</td>\n",
       "      <td>1.0</td>\n",
       "      <td>62.04</td>\n",
       "      <td></td>\n",
       "      <td>A</td>\n",
       "    </tr>\n",
       "    <tr>\n",
       "      <th>1</th>\n",
       "      <td>2</td>\n",
       "      <td>CA</td>\n",
       "      <td>-67.651</td>\n",
       "      <td>-6.991</td>\n",
       "      <td>-48.900</td>\n",
       "      <td>GLU</td>\n",
       "      <td>ATOM</td>\n",
       "      <td>C</td>\n",
       "      <td>1.0</td>\n",
       "      <td>61.73</td>\n",
       "      <td></td>\n",
       "      <td>A</td>\n",
       "    </tr>\n",
       "    <tr>\n",
       "      <th>...</th>\n",
       "      <td>...</td>\n",
       "      <td>...</td>\n",
       "      <td>...</td>\n",
       "      <td>...</td>\n",
       "      <td>...</td>\n",
       "      <td>...</td>\n",
       "      <td>...</td>\n",
       "      <td>...</td>\n",
       "      <td>...</td>\n",
       "      <td>...</td>\n",
       "      <td>...</td>\n",
       "      <td>...</td>\n",
       "    </tr>\n",
       "    <tr>\n",
       "      <th>95</th>\n",
       "      <td>2512</td>\n",
       "      <td>O</td>\n",
       "      <td>-60.661</td>\n",
       "      <td>8.159</td>\n",
       "      <td>-21.872</td>\n",
       "      <td>HOH</td>\n",
       "      <td>HETATM</td>\n",
       "      <td>O</td>\n",
       "      <td>1.0</td>\n",
       "      <td>48.79</td>\n",
       "      <td></td>\n",
       "      <td>A</td>\n",
       "    </tr>\n",
       "    <tr>\n",
       "      <th>96</th>\n",
       "      <td>2513</td>\n",
       "      <td>O</td>\n",
       "      <td>-69.189</td>\n",
       "      <td>8.275</td>\n",
       "      <td>-36.944</td>\n",
       "      <td>HOH</td>\n",
       "      <td>HETATM</td>\n",
       "      <td>O</td>\n",
       "      <td>1.0</td>\n",
       "      <td>44.00</td>\n",
       "      <td></td>\n",
       "      <td>A</td>\n",
       "    </tr>\n",
       "  </tbody>\n",
       "</table>\n",
       "<p>2512 rows × 12 columns</p>\n",
       "</div>"
      ],
      "text/plain": [
       "    atom.id atom.name  atom.x  atom.y  atom.z residue.name record.name  \\\n",
       "0         1         N -67.939  -7.787 -50.119          GLU        ATOM   \n",
       "1         2        CA -67.651  -6.991 -48.900          GLU        ATOM   \n",
       "..      ...       ...     ...     ...     ...          ...         ...   \n",
       "95     2512         O -60.661   8.159 -21.872          HOH      HETATM   \n",
       "96     2513         O -69.189   8.275 -36.944          HOH      HETATM   \n",
       "\n",
       "   atom.symbol  atom.occupancy  atom.bfactor atom.alternative_model  \\\n",
       "0            N             1.0         62.04                          \n",
       "1            C             1.0         61.73                          \n",
       "..         ...             ...           ...                    ...   \n",
       "95           O             1.0         48.79                          \n",
       "96           O             1.0         44.00                          \n",
       "\n",
       "   structure.chain  \n",
       "0                A  \n",
       "1                A  \n",
       "..             ...  \n",
       "95               A  \n",
       "96               A  \n",
       "\n",
       "[2512 rows x 12 columns]"
      ]
     },
     "execution_count": 14,
     "metadata": {},
     "output_type": "execute_result"
    }
   ],
   "source": [
    "pdb_to_df.from_file(DATA_PATH / \"2itz.pdb\", verbose=True)"
   ]
  },
  {
   "cell_type": "markdown",
   "metadata": {},
   "source": [
    "__From _pdb_ text__: Return a _pdb_ string (text) as DataFrame (`ATOM` and `HETATM` entries only). "
   ]
  },
  {
   "cell_type": "code",
   "execution_count": 15,
   "metadata": {},
   "outputs": [],
   "source": [
    "# Let's load a file's content as string (text) to simulate example input data\n",
    "with open(DATA_PATH / \"2itz.pdb\", \"r\") as f:\n",
    "    text = f.read()"
   ]
  },
  {
   "cell_type": "code",
   "execution_count": 16,
   "metadata": {},
   "outputs": [
    {
     "data": {
      "text/html": [
       "<div>\n",
       "<style scoped>\n",
       "    .dataframe tbody tr th:only-of-type {\n",
       "        vertical-align: middle;\n",
       "    }\n",
       "\n",
       "    .dataframe tbody tr th {\n",
       "        vertical-align: top;\n",
       "    }\n",
       "\n",
       "    .dataframe thead th {\n",
       "        text-align: right;\n",
       "    }\n",
       "</style>\n",
       "<table border=\"1\" class=\"dataframe\">\n",
       "  <thead>\n",
       "    <tr style=\"text-align: right;\">\n",
       "      <th></th>\n",
       "      <th>atom.id</th>\n",
       "      <th>atom.name</th>\n",
       "      <th>atom.x</th>\n",
       "      <th>atom.y</th>\n",
       "      <th>atom.z</th>\n",
       "      <th>residue.name</th>\n",
       "    </tr>\n",
       "  </thead>\n",
       "  <tbody>\n",
       "    <tr>\n",
       "      <th>0</th>\n",
       "      <td>1</td>\n",
       "      <td>N</td>\n",
       "      <td>-67.939</td>\n",
       "      <td>-7.787</td>\n",
       "      <td>-50.119</td>\n",
       "      <td>GLU</td>\n",
       "    </tr>\n",
       "    <tr>\n",
       "      <th>1</th>\n",
       "      <td>2</td>\n",
       "      <td>CA</td>\n",
       "      <td>-67.651</td>\n",
       "      <td>-6.991</td>\n",
       "      <td>-48.900</td>\n",
       "      <td>GLU</td>\n",
       "    </tr>\n",
       "    <tr>\n",
       "      <th>...</th>\n",
       "      <td>...</td>\n",
       "      <td>...</td>\n",
       "      <td>...</td>\n",
       "      <td>...</td>\n",
       "      <td>...</td>\n",
       "      <td>...</td>\n",
       "    </tr>\n",
       "    <tr>\n",
       "      <th>95</th>\n",
       "      <td>2512</td>\n",
       "      <td>O</td>\n",
       "      <td>-60.661</td>\n",
       "      <td>8.159</td>\n",
       "      <td>-21.872</td>\n",
       "      <td>HOH</td>\n",
       "    </tr>\n",
       "    <tr>\n",
       "      <th>96</th>\n",
       "      <td>2513</td>\n",
       "      <td>O</td>\n",
       "      <td>-69.189</td>\n",
       "      <td>8.275</td>\n",
       "      <td>-36.944</td>\n",
       "      <td>HOH</td>\n",
       "    </tr>\n",
       "  </tbody>\n",
       "</table>\n",
       "<p>2512 rows × 6 columns</p>\n",
       "</div>"
      ],
      "text/plain": [
       "    atom.id atom.name  atom.x  atom.y  atom.z residue.name\n",
       "0         1         N -67.939  -7.787 -50.119          GLU\n",
       "1         2        CA -67.651  -6.991 -48.900          GLU\n",
       "..      ...       ...     ...     ...     ...          ...\n",
       "95     2512         O -60.661   8.159 -21.872          HOH\n",
       "96     2513         O -69.189   8.275 -36.944          HOH\n",
       "\n",
       "[2512 rows x 6 columns]"
      ]
     },
     "execution_count": 16,
     "metadata": {},
     "output_type": "execute_result"
    }
   ],
   "source": [
    "pdb_to_df.from_text(text)"
   ]
  },
  {
   "cell_type": "markdown",
   "metadata": {},
   "source": [
    "## Load RDKit molecules: `io.rdkit`\n",
    "\n",
    "__Note__: RDKit is a cheminformatics toolkit that focuses on working with small molecules. Technically you can load protein structures as RDKit molecule, however we recommend to use this data structure for small molecules only."
   ]
  },
  {
   "cell_type": "code",
   "execution_count": 17,
   "metadata": {},
   "outputs": [],
   "source": [
    "from opencadd.io.rdkit import Mol2ToRdkitMol"
   ]
  },
  {
   "cell_type": "markdown",
   "metadata": {},
   "source": [
    "### From the _mol2_ format"
   ]
  },
  {
   "cell_type": "code",
   "execution_count": 18,
   "metadata": {},
   "outputs": [],
   "source": [
    "mol2_to_rmol = Mol2ToRdkitMol()"
   ]
  },
  {
   "cell_type": "markdown",
   "metadata": {},
   "source": [
    "__From _mol2_ files__: Return a _mol2_ file's content as DataFrame (_mol2_ files can have 9 (default) or 10 columns)."
   ]
  },
  {
   "cell_type": "code",
   "execution_count": 19,
   "metadata": {},
   "outputs": [
    {
     "data": {
      "image/png": "[encoded data removed]",
      "text/plain": [
       "<rdkit.Chem.rdchem.Mol at 0x7f1538bf3bc0>"
      ]
     },
     "execution_count": 19,
     "metadata": {},
     "output_type": "execute_result"
    }
   ],
   "source": [
    "mol2_to_rmol.from_file(DATA_PATH / \"2itz_chainA_ligand.mol2\")"
   ]
  },
  {
   "cell_type": "code",
   "execution_count": 20,
   "metadata": {},
   "outputs": [
    {
     "data": {
      "image/png": "[encoded data removed]",
      "text/plain": [
       "<rdkit.Chem.rdchem.Mol at 0x7f153829e120>"
      ]
     },
     "execution_count": 20,
     "metadata": {},
     "output_type": "execute_result"
    }
   ],
   "source": [
    "mol2_to_rmol.from_file(DATA_PATH / \"2itz_chainA_ligand.mol2\", compute2d=False)"
   ]
  },
  {
   "cell_type": "markdown",
   "metadata": {},
   "source": [
    "__From _mol2_ text__: Return a _mol2_ string (text) as DataFrame. This functionality is useful if you are fetching data directly from a website like [KLIFS](https://klifs.vu-compmedchem.nl/)."
   ]
  },
  {
   "cell_type": "code",
   "execution_count": 21,
   "metadata": {},
   "outputs": [],
   "source": [
    "# Let's load a file's content as string (text) to simulate example input data\n",
    "with open(DATA_PATH / \"2itz_chainA_ligand.mol2\", \"r\") as f:\n",
    "    text = f.read()"
   ]
  },
  {
   "cell_type": "code",
   "execution_count": 22,
   "metadata": {},
   "outputs": [
    {
     "data": {
      "image/png": "[encoded data removed]",
      "text/plain": [
       "<rdkit.Chem.rdchem.Mol at 0x7f153829ed00>"
      ]
     },
     "execution_count": 22,
     "metadata": {},
     "output_type": "execute_result"
    }
   ],
   "source": [
    "mol2_to_rmol.from_text(text)"
   ]
  },
  {
   "cell_type": "code",
   "execution_count": null,
   "metadata": {},
   "outputs": [],
   "source": []
  }
 ],
 "metadata": {
  "kernelspec": {
   "display_name": "opencadd",
   "language": "python",
   "name": "opencadd"
  },
  "language_info": {
   "codemirror_mode": {
    "name": "ipython",
    "version": 3
   },
   "file_extension": ".py",
   "mimetype": "text/x-python",
   "name": "python",
   "nbconvert_exporter": "python",
   "pygments_lexer": "ipython3",
   "version": "3.8.5"
  }
 },
 "nbformat": 4,
 "nbformat_minor": 4
}
