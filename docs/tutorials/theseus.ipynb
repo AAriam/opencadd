{
 "cells": [
  {
   "cell_type": "markdown",
   "metadata": {},
   "source": [
    "# Structural Alignment - Theseus Tutorial\n",
    "\n",
    "\n",
    "#### Developed at Volkamer Lab, Charité/FU Berlin \n",
    "\n",
    "Enes Kurnaz"
   ]
  },
  {
   "cell_type": "markdown",
   "metadata": {},
   "source": [
    "# Reference\n",
    "\n",
    "### Theseus\n",
    "\n",
    "Theseus superposes a set of macromolecular structures simultaneously using the method of maximum like-lihood (ML), rather than the conventional least-squares criterion. Theseus assumes that the structures are distributed according to a matrix Gaussian distribution and that the eigenvalues of the atomic covariancematrix are hierarchically distributed according to an inverse gamma distribution. This ML superpositioning model produces much more accurate results by essentially downweighting variable regions of the structuresand by correcting for correlations among atoms.\n",
    "\n",
    "\n",
    "* https://theobald.brandeis.edu/theseus/\n",
    "* Optimal simultaneous superpositioning of multiple structures with missing data.\n",
    "  Theobald, Douglas L. & Steindel, Philip A. (2012) Bioinformatics 28 (15): 1972-1979 ([Link](http://bioinformatics.oxfordjournals.org/content/28/15/1972.full.pdf+html))\n",
    "* Accurate structural correlations from maximum likelihood superpositions.\n",
    "  Theobald, Douglas L. & Wuttke, Deborah S. (2008) PLOS Computational Biology 4(2):e43 ([Link](http://compbiol.plosjournals.org/perlserv/?request=get-document&doi=10.1371/journal.pcbi.0040043))"
   ]
  },
  {
   "cell_type": "markdown",
   "metadata": {},
   "source": [
    "# Introduction\n",
    "\n",
    "In this tutorial we use Theseus as a python wrapper.\n",
    "\n",
    "## What are the  chosen structures\n",
    "\n",
    "#### Names of the structures \n",
    "- 2BBM (Drosophila melanogaster)\n",
    "- 1CFC (Xenopus laevis)\n",
    "\n",
    "#### Information of the structures\n",
    "- Length: 148\n",
    "- 97% sequence identity (145/148), 99% similar\n",
    "- Contain calmodulin\n",
    "\n",
    "## Why they have been chosen\n",
    "\n",
    "- In 2BBM, the two calcium-binding domains are wrapped around a peptide.\n",
    "- In 1CFC is no calcium and no peptide, and the linker between the two domains is flexible.\n",
    "([Link](https://proteopedia.org/wiki/index.php/Structural_alignment_tools#Examples))\n"
   ]
  },
  {
   "cell_type": "markdown",
   "metadata": {},
   "source": [
    "# Theory\n",
    "\n",
    "## RMSD\n",
    "\n",
    "The RMSD is the average distance between the atoms of superposed structures in Angstrom.\n",
    "\n",
    "## coverage\n",
    "\n",
    "The coverage of the aligned structures."
   ]
  },
  {
   "cell_type": "markdown",
   "metadata": {},
   "source": [
    "# Preparation\n",
    "\n",
    "## How to get the structure from the CLI\n",
    "\n",
    "To get the structures directly from the RCSB, the syntax looks like this:"
   ]
  },
  {
   "cell_type": "code",
   "execution_count": null,
   "metadata": {},
   "outputs": [],
   "source": [
    "!superposer --method=YOUR_METHOD NAME_OF_STRUCTURE_1 NAME_OF_STRUCTURE_2"
   ]
  },
  {
   "cell_type": "markdown",
   "metadata": {},
   "source": [
    "When you want to use structures which are locally saved, do this:"
   ]
  },
  {
   "cell_type": "code",
   "execution_count": null,
   "metadata": {},
   "outputs": [],
   "source": [
    "!superposer --method=YOUR_METHOD PATH_OF_STRUCTURE_1 PATH_OF_STRUCTURE_2"
   ]
  },
  {
   "cell_type": "markdown",
   "metadata": {},
   "source": [
    "## Getting the structure in python\n",
    "\n",
    "The method will use atomium.models as input.\n",
    "\n",
    "If you want to get the structures from the RCSB, you can do the following:"
   ]
  },
  {
   "cell_type": "code",
   "execution_count": 2,
   "metadata": {},
   "outputs": [],
   "source": [
    "import atomium\n",
    "\n",
    "structure1 = atomium.fetch(\"2BBM\").model\n",
    "structure2 = atomium.fetch(\"1CFC\").model"
   ]
  },
  {
   "cell_type": "markdown",
   "metadata": {},
   "source": [
    "# Alignment \n",
    "\n",
    "Use your method and explain the steps it takes."
   ]
  },
  {
   "cell_type": "code",
   "execution_count": 3,
   "metadata": {
    "scrolled": true
   },
   "outputs": [
    {
     "name": "stdout",
     "output_type": "stream",
     "text": [
      "The autoreload extension is already loaded. To reload it, use:\n",
      "  %reload_ext autoreload\n"
     ]
    }
   ],
   "source": [
    "%load_ext autoreload"
   ]
  },
  {
   "cell_type": "code",
   "execution_count": 4,
   "metadata": {},
   "outputs": [],
   "source": [
    "%autoreload 2"
   ]
  },
  {
   "cell_type": "markdown",
   "metadata": {},
   "source": [
    "First we import TheseusAligner and instantiate Theseus. Then we use the **calculate** method which needs structures. Here we will use the structures **structure1** and **structure2** declared before.\n",
    "Afterwards we will get our results."
   ]
  },
  {
   "cell_type": "code",
   "execution_count": 5,
   "metadata": {
    "scrolled": false
   },
   "outputs": [
    {
     "data": {
      "text/plain": [
       "{'scores': {'rmsd': 9.02821},\n",
       " 'metadata': {'least_squares': 2.60622,\n",
       "  'maximum_likelihood': 1.70454,\n",
       "  'log_marginal_likelihood': -2029.66,\n",
       "  'aic': -2973.42,\n",
       "  'bic': -3580.94,\n",
       "  'omnibus_chi_square': 3.82,\n",
       "  'hierarchical_var_chi_square': 1.36,\n",
       "  'rotational_translational_covar_chi_square': 3.82,\n",
       "  'hierarchical_minimum_var': 0.762,\n",
       "  'hierarchical_minimum_sigma': 0.873,\n",
       "  'skewness': 0.0,\n",
       "  'skewness_z': 0.0,\n",
       "  'kurtosis': -1.11,\n",
       "  'kurtosis_z': 6.74,\n",
       "  'data_pts': 888.0,\n",
       "  'free_params': 457.0,\n",
       "  'd_p': 1.9,\n",
       "  'median_structure': 1.0,\n",
       "  'n_total': 296.0,\n",
       "  'n_atoms': 148.0,\n",
       "  'n_structures': 2.0,\n",
       "  'total_rounds': 28.0,\n",
       "  'transformation': {1: array([[-0.9958405, -0.0754213, -0.0511206, -0.8419   ],\n",
       "          [ 0.0871827, -0.9517875, -0.2941084, -0.2643   ],\n",
       "          [-0.0264739, -0.2973418,  0.954404 , -0.9037   ]]),\n",
       "   2: array([[ 0.9509416, -0.3091028,  0.012868 , -9.6969   ],\n",
       "          [ 0.2687773,  0.8048547, -0.5291197, -4.9858   ],\n",
       "          [ 0.1531955,  0.5066206,  0.8484496, -1.874    ]])}},\n",
       " 'superposed': [<Model (2 chains, 0 ligands)>, <Model (1 chain, 0 ligands)>]}"
      ]
     },
     "execution_count": 5,
     "metadata": {},
     "output_type": "execute_result"
    }
   ],
   "source": [
    "from superposer.superposition.theseus import TheseusAligner\n",
    "aligner = TheseusAligner()\n",
    "res = aligner.calculate([structure1, structure2])\n",
    "res"
   ]
  },
  {
   "cell_type": "markdown",
   "metadata": {},
   "source": [
    "\n",
    "To get the statistics without superposition, we run the method **run_theseus_different_no_superposition**."
   ]
  },
  {
   "cell_type": "code",
   "execution_count": 6,
   "metadata": {},
   "outputs": [
    {
     "data": {
      "text/plain": [
       "{'scores': {'rmsd': 34.88939},\n",
       " 'metadata': {'least_squares': 10.0717,\n",
       "  'maximum_likelihood': 6.41057,\n",
       "  'log_marginal_likelihood': -3381.82,\n",
       "  'aic': -4325.57,\n",
       "  'bic': -4933.1,\n",
       "  'omnibus_chi_square': 7.65,\n",
       "  'hierarchical_var_chi_square': 5.38,\n",
       "  'rotational_translational_covar_chi_square': 7.65,\n",
       "  'hierarchical_minimum_var': 7.21,\n",
       "  'hierarchical_minimum_sigma': 2.68,\n",
       "  'skewness': -0.0,\n",
       "  'skewness_z': 0.0,\n",
       "  'kurtosis': -0.9,\n",
       "  'kurtosis_z': 5.46,\n",
       "  'data_pts': 888.0,\n",
       "  'free_params': 457.0,\n",
       "  'd_p': 1.9,\n",
       "  'median_structure': 1.0,\n",
       "  'n_total': 296.0,\n",
       "  'n_atoms': 148.0,\n",
       "  'n_structures': 2.0,\n",
       "  'total_rounds': 101.0}}"
      ]
     },
     "execution_count": 6,
     "metadata": {},
     "output_type": "execute_result"
    }
   ],
   "source": [
    "res_1 = aligner.run_theseus_different_no_superposition([structure1, structure2])\n",
    "res_1"
   ]
  },
  {
   "cell_type": "markdown",
   "metadata": {},
   "source": [
    "# Analysis"
   ]
  },
  {
   "cell_type": "markdown",
   "metadata": {},
   "source": [
    "### NGLview\n",
    "\n",
    "If you have trouble with NGLview, follow this [troubleshooting guide](https://github.com/SBRG/ssbio/wiki/Troubleshooting#tips-for-nglview)."
   ]
  },
  {
   "cell_type": "markdown",
   "metadata": {},
   "source": [
    "With NGLView we can visualize our models. The function **atomium_to_nglview()** uses atomium.models as input and visualize them. Here we visualize the declared structures."
   ]
  },
  {
   "cell_type": "code",
   "execution_count": 14,
   "metadata": {
    "scrolled": false
   },
   "outputs": [
    {
     "name": "stdout",
     "output_type": "stream",
     "text": [
      "nglview version = 2.7.5\n"
     ]
    },
    {
     "data": {
      "application/vnd.jupyter.widget-view+json": {
       "model_id": "b027dcde81b34df3bbc8ad73eb65d7d2",
       "version_major": 2,
       "version_minor": 0
      },
      "text/plain": [
       "NGLWidget()"
      ]
     },
     "metadata": {},
     "output_type": "display_data"
    }
   ],
   "source": [
    "import nglview as nv\n",
    "print(\"nglview version = {}\".format(nv.__version__))\n",
    "# your nglview version should be 1.1.7 or later\n",
    "from superposer.report import atomium_to_nglview\n",
    "atomium_to_nglview(structure1, structure2)"
   ]
  },
  {
   "cell_type": "markdown",
   "metadata": {},
   "source": [
    "Finally our superposed structures."
   ]
  },
  {
   "cell_type": "code",
   "execution_count": 15,
   "metadata": {},
   "outputs": [
    {
     "data": {
      "application/vnd.jupyter.widget-view+json": {
       "model_id": "67dfb6bbb9464882b69f119351adc46d",
       "version_major": 2,
       "version_minor": 0
      },
      "text/plain": [
       "NGLWidget()"
      ]
     },
     "metadata": {},
     "output_type": "display_data"
    }
   ],
   "source": [
    "atomium_to_nglview(*res[\"superposed\"])"
   ]
  }
 ],
 "metadata": {
  "gist": {
   "data": {
    "description": "CADDSeminar_2018/CADD_course_talktorial_template.ipynb",
    "public": false
   },
   "id": ""
  },
  "kernelspec": {
   "display_name": "Python 3",
   "language": "python",
   "name": "python3"
  },
  "language_info": {
   "codemirror_mode": {
    "name": "ipython",
    "version": 3
   },
   "file_extension": ".py",
   "mimetype": "text/x-python",
   "name": "python",
   "nbconvert_exporter": "python",
   "pygments_lexer": "ipython3",
   "version": "3.8.2"
  }
 },
 "nbformat": 4,
 "nbformat_minor": 4
}
