{
 "cells": [
  {
   "cell_type": "markdown",
   "metadata": {},
   "source": [
    "# Template for the User Tutorial\n",
    "\n",
    "\n",
    "#### Developed at Volkamer Lab, Charité/FU Berlin \n",
    "\n",
    "Enes Kurnaz"
   ]
  },
  {
   "cell_type": "markdown",
   "metadata": {},
   "source": [
    "# Reference\n",
    "\n",
    "### Provide some general information about your method and the source of it\n",
    "\n",
    "Use this citation style\n",
    "\n",
    "* Keyword describing resource: Journal (year), volume, pages (link to resource)\n",
    "\n",
    "Example:\n",
    "\n",
    "* ChEMBL web services: Nucleic Acids Res. (2015), 43, 612-620 (https://academic.oup.com/nar/article/43/W1/W612/2467881)"
   ]
  },
  {
   "cell_type": "markdown",
   "metadata": {},
   "source": [
    "# Introduction\n",
    "\n",
    "\n",
    "## What are the  chosen structures\n",
    "\n",
    "*These points should refer to the headlines of your theory section below.*\n",
    "\n",
    "* Names of the structures \n",
    "* Function of the structures\n",
    "\n",
    "## Why they have been chosen\n",
    "\n",
    "*These points should refer to the headlines of your practical section below.*\n",
    "\n",
    "* Interesting facts (e.g. some event that happened)"
   ]
  },
  {
   "cell_type": "markdown",
   "metadata": {},
   "source": [
    "# Theory\n",
    "\n",
    "## RMSD\n",
    "\n",
    "The RMSD is the average distance between the atoms of superposed structures in Angstrom.\n",
    "\n",
    "## coverage\n",
    "\n",
    "The coverage of the aligned structures."
   ]
  },
  {
   "cell_type": "markdown",
   "metadata": {},
   "source": [
    "# Preparation\n",
    "\n",
    "## How to get the structure from the CLI\n",
    "\n",
    "To get the structures directly from the RCSB, the syntax looks like this:"
   ]
  },
  {
   "cell_type": "code",
   "execution_count": null,
   "metadata": {},
   "outputs": [],
   "source": [
    "!structuralalignment --method=YOUR_METHOD NAME_OF_STRUCTURE_1 NAME_OF_STRUCTURE_2"
   ]
  },
  {
   "cell_type": "markdown",
   "metadata": {},
   "source": [
    "When you want to use structures which are locally saved, do this:"
   ]
  },
  {
   "cell_type": "code",
   "execution_count": null,
   "metadata": {},
   "outputs": [],
   "source": [
    "!structuralalignment --method=YOUR_METHOD PATH_OF_STRUCTURE_1 PATH_OF_STRUCTURE_2"
   ]
  },
  {
   "cell_type": "markdown",
   "metadata": {},
   "source": [
    "## Getting the structure in python\n",
    "\n",
    "The method will use atomium.models as input.\n",
    "\n",
    "If you want to get the structures from the RCSB, you can do the following:"
   ]
  },
  {
   "cell_type": "code",
   "execution_count": 5,
   "metadata": {},
   "outputs": [],
   "source": [
    "import atomium\n",
    "\n",
    "structure1 = atomium.fetch(\"6HG4\").model\n",
    "structure2 = atomium.fetch(\"6HG9\").model"
   ]
  },
  {
   "cell_type": "markdown",
   "metadata": {},
   "source": [
    "# Alignment \n",
    "\n",
    "Use your method and explain the steps it takes."
   ]
  },
  {
   "cell_type": "code",
   "execution_count": 6,
   "metadata": {},
   "outputs": [
    {
     "name": "stdout",
     "output_type": "stream",
     "text": [
      "The autoreload extension is already loaded. To reload it, use:\n",
      "  %reload_ext autoreload\n"
     ]
    }
   ],
   "source": [
    "%load_ext autoreload"
   ]
  },
  {
   "cell_type": "code",
   "execution_count": 7,
   "metadata": {},
   "outputs": [],
   "source": [
    "%autoreload 2"
   ]
  },
  {
   "cell_type": "code",
   "execution_count": 8,
   "metadata": {},
   "outputs": [
    {
     "data": {
      "text/plain": [
       "{'superposed': [<Model (2 chains, 0 ligands)>, <Model (2 chains, 0 ligands)>],\n",
       " 'scores': {'rmsd': 1.54018},\n",
       " 'metadata': {'transformation': {1: array([[ 9.913714e-01,  1.297163e-01,  1.888050e-02,  3.102800e+00],\n",
       "          [ 1.269892e-01, -9.146782e-01, -3.837155e-01, -1.375510e+02],\n",
       "          [-3.250460e-02,  3.828022e-01, -9.232583e-01, -2.521770e+01]]),\n",
       "   2: array([[ 5.631868e-01, -7.772500e-01, -2.805406e-01, -4.169110e+01],\n",
       "          [ 8.257917e-01,  5.416397e-01,  1.571449e-01,  2.568070e+01],\n",
       "          [ 2.981110e-02, -3.201700e-01,  9.468909e-01,  1.900840e+01]])},\n",
       "  'rmsd': 1.54018,\n",
       "  'least_squares': 0.44461,\n",
       "  'maximum_likelihood': 0.27576,\n",
       "  'log_marginal_likelihood': -1394.25,\n",
       "  'aic': -4610.73,\n",
       "  'bic': -7817.24,\n",
       "  'omnibus_chi_square': 5.02,\n",
       "  'hierarchical_var_chi_square': 1.85,\n",
       "  'rotational_translational_covar_chi_square': 5.02,\n",
       "  'hierarchical_minimum_var_sigma': 0.0207,\n",
       "  'skewness': 0.0,\n",
       "  'skewness_z': 0.0,\n",
       "  'kurtosis': -0.86,\n",
       "  'kurtosis_z': 9.83,\n",
       "  'data_pts': 3162.0,\n",
       "  'free_params': 1594.0,\n",
       "  'd_p': 2.0,\n",
       "  'median_structure': 2.0,\n",
       "  'n_total': 1054.0,\n",
       "  'n_atoms': 527.0,\n",
       "  'n_structures': 2.0,\n",
       "  'total_rounds': 20.0}}"
      ]
     },
     "execution_count": 8,
     "metadata": {},
     "output_type": "execute_result"
    }
   ],
   "source": [
    "from structuralalignment.superposition.theseus import TheseusAligner\n",
    "aligner = TheseusAligner()\n",
    "res = aligner.calculate([structure1, structure2])\n",
    "res"
   ]
  },
  {
   "cell_type": "markdown",
   "metadata": {},
   "source": [
    "# Analysis"
   ]
  },
  {
   "cell_type": "markdown",
   "metadata": {},
   "source": [
    "### NGLview\n",
    "\n",
    "If you have trouble with NGLview, follow this [troubleshooting guide](https://github.com/SBRG/ssbio/wiki/Troubleshooting#tips-for-nglview)."
   ]
  },
  {
   "cell_type": "code",
   "execution_count": 15,
   "metadata": {},
   "outputs": [],
   "source": [
    "def atomium_to_nv(*models):\n",
    "    from structuralalignment.utils import enter_temp_directory\n",
    "    v = nv.NGLWidget()\n",
    "    with enter_temp_directory():\n",
    "        for i, model in enumerate(models):\n",
    "            fn = f\"tmp{i}.pdb\"\n",
    "            model.save(fn)\n",
    "            fs = nv.FileStructure(fn)\n",
    "            v.add_component(fs)\n",
    "    return v"
   ]
  },
  {
   "cell_type": "code",
   "execution_count": 20,
   "metadata": {
    "scrolled": false
   },
   "outputs": [
    {
     "name": "stdout",
     "output_type": "stream",
     "text": [
      "nglview version = 2.7.5\n"
     ]
    },
    {
     "data": {
      "application/vnd.jupyter.widget-view+json": {
       "model_id": "f71b424fdd17467389d00eb746894190",
       "version_major": 2,
       "version_minor": 0
      },
      "text/plain": [
       "NGLWidget()"
      ]
     },
     "metadata": {},
     "output_type": "display_data"
    }
   ],
   "source": [
    "import nglview as nv\n",
    "print(\"nglview version = {}\".format(nv.__version__))\n",
    "# your nglview version should be 1.1.7 or later\n",
    "from structuralalignment.report import atomium_to_nglview\n",
    "atomium_to_nglview(structure1, structure2)"
   ]
  },
  {
   "cell_type": "code",
   "execution_count": 21,
   "metadata": {},
   "outputs": [
    {
     "data": {
      "application/vnd.jupyter.widget-view+json": {
       "model_id": "552441e388d544cbbb48623cc513b069",
       "version_major": 2,
       "version_minor": 0
      },
      "text/plain": [
       "NGLWidget()"
      ]
     },
     "metadata": {},
     "output_type": "display_data"
    }
   ],
   "source": [
    "atomium_to_nglview(*res[\"superposed\"])"
   ]
  },
  {
   "cell_type": "markdown",
   "metadata": {},
   "source": [
    "## Report\n",
    "\n",
    "* RMSD before and after\n",
    "* coverage\n",
    "* what residues are mapped"
   ]
  }
 ],
 "metadata": {
  "gist": {
   "data": {
    "description": "CADDSeminar_2018/CADD_course_talktorial_template.ipynb",
    "public": false
   },
   "id": ""
  },
  "kernelspec": {
   "display_name": "Python 3.8.2 64-bit ('structuralalignment': conda)",
   "language": "python",
   "name": "python38264bitstructuralalignmentconda1094389a2ecd4299b0f9e6a51b45c1d1"
  },
  "language_info": {
   "codemirror_mode": {
    "name": "ipython",
    "version": 3
   },
   "file_extension": ".py",
   "mimetype": "text/x-python",
   "name": "python",
   "nbconvert_exporter": "python",
   "pygments_lexer": "ipython3",
   "version": "3.8.2"
  }
 },
 "nbformat": 4,
 "nbformat_minor": 4
}
