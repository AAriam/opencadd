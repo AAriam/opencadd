{
 "cells": [
  {
   "cell_type": "markdown",
   "metadata": {},
   "source": [
    "# The `opencadd.structure.pocket` module\n",
    "\n",
    "Let's walk through the functionalities offered in the `opencadd.structure.pocket` module."
   ]
  },
  {
   "cell_type": "code",
   "execution_count": 1,
   "metadata": {},
   "outputs": [],
   "source": [
    "%load_ext autoreload\n",
    "%autoreload 2"
   ]
  },
  {
   "cell_type": "code",
   "execution_count": 2,
   "metadata": {},
   "outputs": [
    {
     "name": "stderr",
     "output_type": "stream",
     "text": [
      "INFO:opencadd.databases.klifs.api:If you want to see an non-truncated version of the DataFrames in this module, use `pd.set_option('display.max_columns', 50)` in your notebook.\n"
     ]
    },
    {
     "data": {
      "application/vnd.jupyter.widget-view+json": {
       "model_id": "719d7fd15ab4403db0e322646d22012e",
       "version_major": 2,
       "version_minor": 0
      },
      "text/plain": []
     },
     "metadata": {},
     "output_type": "display_data"
    }
   ],
   "source": [
    "from pathlib import Path\n",
    "\n",
    "import pandas as pd\n",
    "\n",
    "from opencadd.databases.klifs import setup_remote, setup_local\n",
    "from opencadd.structure.pocket import Pocket, KlifsPocket, PocketViewer"
   ]
  },
  {
   "cell_type": "code",
   "execution_count": 3,
   "metadata": {},
   "outputs": [],
   "source": [
    "import nglview"
   ]
  },
  {
   "cell_type": "code",
   "execution_count": 4,
   "metadata": {},
   "outputs": [
    {
     "data": {
      "application/vnd.jupyter.widget-view+json": {
       "model_id": "e7d39cca2f7f480ba8a11b9bbf22192d",
       "version_major": 2,
       "version_minor": 0
      },
      "text/plain": [
       "NGLWidget()"
      ]
     },
     "metadata": {},
     "output_type": "display_data"
    }
   ],
   "source": [
    "nglview.demo()"
   ]
  },
  {
   "cell_type": "code",
   "execution_count": 5,
   "metadata": {},
   "outputs": [],
   "source": [
    "HERE = Path(_dh[-1])\n",
    "KLIFS_DOWNLOAD_PATH = HERE / \"../../opencadd/tests/data/klifs\""
   ]
  },
  {
   "cell_type": "markdown",
   "metadata": {},
   "source": [
    "## Get example protein structure and pocket residues"
   ]
  },
  {
   "cell_type": "code",
   "execution_count": 6,
   "metadata": {},
   "outputs": [
    {
     "name": "stderr",
     "output_type": "stream",
     "text": [
      "INFO:opencadd.databases.klifs.api:Set up remote session...\n",
      "INFO:opencadd.databases.klifs.api:Remote session is ready!\n"
     ]
    }
   ],
   "source": [
    "from opencadd.databases.klifs import setup_remote\n",
    "KLIFS_REMOTE = setup_remote()"
   ]
  },
  {
   "cell_type": "markdown",
   "metadata": {},
   "source": [
    "__Fetch protein structure file content__\n",
    "\n",
    "First of all, we download structural data for an example protein kinase from the KLIFS database (some pocket residues are missing):\n",
    "\n",
    "https://klifs.net/details.php?structure_id=12347"
   ]
  },
  {
   "cell_type": "code",
   "execution_count": 7,
   "metadata": {},
   "outputs": [],
   "source": [
    "structure_klifs_id = 12347"
   ]
  },
  {
   "cell_type": "code",
   "execution_count": 8,
   "metadata": {},
   "outputs": [],
   "source": [
    "text = KLIFS_REMOTE.coordinates.to_text(structure_klifs_id, extension=\"pdb\")"
   ]
  },
  {
   "cell_type": "markdown",
   "metadata": {},
   "source": [
    "__Fetch pocket residues (or use your own pocket residues)__\n",
    "\n"
   ]
  },
  {
   "cell_type": "code",
   "execution_count": 9,
   "metadata": {},
   "outputs": [
    {
     "data": {
      "text/html": [
       "<div>\n",
       "<style scoped>\n",
       "    .dataframe tbody tr th:only-of-type {\n",
       "        vertical-align: middle;\n",
       "    }\n",
       "\n",
       "    .dataframe tbody tr th {\n",
       "        vertical-align: top;\n",
       "    }\n",
       "\n",
       "    .dataframe thead th {\n",
       "        text-align: right;\n",
       "    }\n",
       "</style>\n",
       "<table border=\"1\" class=\"dataframe\">\n",
       "  <thead>\n",
       "    <tr style=\"text-align: right;\">\n",
       "      <th></th>\n",
       "      <th>residue.klifs_id</th>\n",
       "      <th>residue.id</th>\n",
       "      <th>residue.klifs_region_id</th>\n",
       "      <th>residue.klifs_region</th>\n",
       "      <th>residue.klifs_color</th>\n",
       "    </tr>\n",
       "  </thead>\n",
       "  <tbody>\n",
       "    <tr>\n",
       "      <th>0</th>\n",
       "      <td>1</td>\n",
       "      <td>461</td>\n",
       "      <td>I.1</td>\n",
       "      <td>I</td>\n",
       "      <td>khaki</td>\n",
       "    </tr>\n",
       "    <tr>\n",
       "      <th>1</th>\n",
       "      <td>2</td>\n",
       "      <td>462</td>\n",
       "      <td>I.2</td>\n",
       "      <td>I</td>\n",
       "      <td>khaki</td>\n",
       "    </tr>\n",
       "    <tr>\n",
       "      <th>2</th>\n",
       "      <td>3</td>\n",
       "      <td>463</td>\n",
       "      <td>I.3</td>\n",
       "      <td>I</td>\n",
       "      <td>khaki</td>\n",
       "    </tr>\n",
       "    <tr>\n",
       "      <th>3</th>\n",
       "      <td>4</td>\n",
       "      <td>_</td>\n",
       "      <td>g.l.4</td>\n",
       "      <td>g.l</td>\n",
       "      <td>green</td>\n",
       "    </tr>\n",
       "    <tr>\n",
       "      <th>4</th>\n",
       "      <td>5</td>\n",
       "      <td>_</td>\n",
       "      <td>g.l.5</td>\n",
       "      <td>g.l</td>\n",
       "      <td>green</td>\n",
       "    </tr>\n",
       "    <tr>\n",
       "      <th>...</th>\n",
       "      <td>...</td>\n",
       "      <td>...</td>\n",
       "      <td>...</td>\n",
       "      <td>...</td>\n",
       "      <td>...</td>\n",
       "    </tr>\n",
       "    <tr>\n",
       "      <th>80</th>\n",
       "      <td>81</td>\n",
       "      <td>594</td>\n",
       "      <td>xDFG.81</td>\n",
       "      <td>xDFG</td>\n",
       "      <td>cornflowerblue</td>\n",
       "    </tr>\n",
       "    <tr>\n",
       "      <th>81</th>\n",
       "      <td>82</td>\n",
       "      <td>595</td>\n",
       "      <td>xDFG.82</td>\n",
       "      <td>xDFG</td>\n",
       "      <td>cornflowerblue</td>\n",
       "    </tr>\n",
       "    <tr>\n",
       "      <th>82</th>\n",
       "      <td>83</td>\n",
       "      <td>_</td>\n",
       "      <td>xDFG.83</td>\n",
       "      <td>xDFG</td>\n",
       "      <td>cornflowerblue</td>\n",
       "    </tr>\n",
       "    <tr>\n",
       "      <th>83</th>\n",
       "      <td>84</td>\n",
       "      <td>_</td>\n",
       "      <td>a.l.84</td>\n",
       "      <td>a.l</td>\n",
       "      <td>cornflowerblue</td>\n",
       "    </tr>\n",
       "    <tr>\n",
       "      <th>84</th>\n",
       "      <td>85</td>\n",
       "      <td>_</td>\n",
       "      <td>a.l.85</td>\n",
       "      <td>a.l</td>\n",
       "      <td>cornflowerblue</td>\n",
       "    </tr>\n",
       "  </tbody>\n",
       "</table>\n",
       "<p>85 rows × 5 columns</p>\n",
       "</div>"
      ],
      "text/plain": [
       "    residue.klifs_id residue.id residue.klifs_region_id residue.klifs_region  \\\n",
       "0                  1        461                     I.1                    I   \n",
       "1                  2        462                     I.2                    I   \n",
       "2                  3        463                     I.3                    I   \n",
       "3                  4          _                   g.l.4                  g.l   \n",
       "4                  5          _                   g.l.5                  g.l   \n",
       "..               ...        ...                     ...                  ...   \n",
       "80                81        594                 xDFG.81                 xDFG   \n",
       "81                82        595                 xDFG.82                 xDFG   \n",
       "82                83          _                 xDFG.83                 xDFG   \n",
       "83                84          _                  a.l.84                  a.l   \n",
       "84                85          _                  a.l.85                  a.l   \n",
       "\n",
       "   residue.klifs_color  \n",
       "0                khaki  \n",
       "1                khaki  \n",
       "2                khaki  \n",
       "3                green  \n",
       "4                green  \n",
       "..                 ...  \n",
       "80      cornflowerblue  \n",
       "81      cornflowerblue  \n",
       "82      cornflowerblue  \n",
       "83      cornflowerblue  \n",
       "84      cornflowerblue  \n",
       "\n",
       "[85 rows x 5 columns]"
      ]
     },
     "execution_count": 9,
     "metadata": {},
     "output_type": "execute_result"
    }
   ],
   "source": [
    "pocket_residues = KLIFS_REMOTE.pockets.by_structure_klifs_id(structure_klifs_id)\n",
    "pocket_residues"
   ]
  },
  {
   "cell_type": "markdown",
   "metadata": {},
   "source": [
    "The variables `pocket_residue_ids` and `pocket_residue_ixs` contain the list of residue PDB IDs and residue indices (derived from KLIFS sequence- and structure-based alignment). We will need this pocket information in the next step where we want to set up a pocket from `opencadd`'s `Pocket` class."
   ]
  },
  {
   "cell_type": "code",
   "execution_count": 10,
   "metadata": {},
   "outputs": [
    {
     "name": "stdout",
     "output_type": "stream",
     "text": [
      "Pocket residue PDB IDs:\n",
      "461 462 463 _ _ _ _ 468 469 470 471 472 473 480 481 482 483 484 485 497 498 499 500 501 502 503 504 505 506 507 508 509 511 512 513 514 515 516 517 518 519 526 527 528 529 530 531 532 533 534 535 536 537 538 539 540 541 542 543 566 567 568 569 570 571 572 573 574 575 576 577 578 579 580 581 582 583 584 592 593 594 595 _ _ _\n",
      "Pocket residue (KLIFS) indices:\n",
      "1 2 3 4 5 6 7 8 9 10 11 12 13 14 15 16 17 18 19 20 21 22 23 24 25 26 27 28 29 30 31 32 33 34 35 36 37 38 39 40 41 42 43 44 45 46 47 48 49 50 51 52 53 54 55 56 57 58 59 60 61 62 63 64 65 66 67 68 69 70 71 72 73 74 75 76 77 78 79 80 81 82 83 84 85\n"
     ]
    }
   ],
   "source": [
    "pocket_residue_ids = pocket_residues[\"residue.id\"].to_list()\n",
    "print(\"Pocket residue PDB IDs:\")\n",
    "print(*pocket_residue_ids)\n",
    "pocket_residue_ixs = pocket_residues[\"residue.klifs_id\"].to_list()\n",
    "print(\"Pocket residue (KLIFS) indices:\")\n",
    "print(*pocket_residue_ixs)"
   ]
  },
  {
   "cell_type": "markdown",
   "metadata": {},
   "source": [
    "## Pocket (`Pocket` class)\n",
    "\n",
    "The `Pocket` class currently holds the following attributes/properties:\n",
    "\n",
    "- `name`: Protein/pocket name\n",
    "- `filepath`: Path to file with structural protein data\n",
    "- `centroid`: Centroids of all pocket residues' CA atoms\n",
    "- `subpockets`: Subpockets defined based on a set of anchor residues each\n",
    "- `regions`: User-defined regions that are of importance for the protein/pocket\n",
    "- `anchor_residues`: Anchor residues to define one or more subpockets"
   ]
  },
  {
   "cell_type": "markdown",
   "metadata": {},
   "source": [
    "### Initialize pocket"
   ]
  },
  {
   "cell_type": "markdown",
   "metadata": {},
   "source": [
    "We initialize the pocket with the following parameters:\n",
    "- Protein structure data\n",
    "- Protein/pocket name\n",
    "- Pocket residues PDB IDs\n",
    "- Pocket residue indices (optionally), e.g. for the pocket alignment IDs"
   ]
  },
  {
   "cell_type": "code",
   "execution_count": 11,
   "metadata": {},
   "outputs": [
    {
     "name": "stderr",
     "output_type": "stream",
     "text": [
      "INFO:opencadd.structure.pocket.base:Pocket 12347 (set pocket residues): The following input residues PDB IDs were assigned to the value None because they cannot be cast to an integer (residue PDB ID, residue index): [('_', 4), ('_', 5), ('_', 6), ('_', 7), ('_', 83), ('_', 84), ('_', 85)]\n",
      "INFO:opencadd.structure.pocket.core:Pocket 12347: Missing pocket CA atoms. The pocket center is calculated based on 78 CA atoms (total number of pocket residues is 85).\n"
     ]
    }
   ],
   "source": [
    "pocket = Pocket.from_text(\n",
    "    text,\n",
    "    \"pdb\",\n",
    "    pocket_residue_ids, \n",
    "    pocket_residue_ixs,\n",
    "    name=structure_klifs_id\n",
    ")"
   ]
  },
  {
   "cell_type": "markdown",
   "metadata": {},
   "source": [
    "Let's take a look at key `Pocket` class attributes/properties after initialization."
   ]
  },
  {
   "cell_type": "markdown",
   "metadata": {},
   "source": [
    "__Pocket residues__\n",
    "\n",
    "All residue PDB IDs that cannot be cast to an integer are set to None."
   ]
  },
  {
   "cell_type": "code",
   "execution_count": 12,
   "metadata": {},
   "outputs": [
    {
     "data": {
      "text/html": [
       "<div>\n",
       "<style scoped>\n",
       "    .dataframe tbody tr th:only-of-type {\n",
       "        vertical-align: middle;\n",
       "    }\n",
       "\n",
       "    .dataframe tbody tr th {\n",
       "        vertical-align: top;\n",
       "    }\n",
       "\n",
       "    .dataframe thead th {\n",
       "        text-align: right;\n",
       "    }\n",
       "</style>\n",
       "<table border=\"1\" class=\"dataframe\">\n",
       "  <thead>\n",
       "    <tr style=\"text-align: right;\">\n",
       "      <th></th>\n",
       "      <th>residue.id</th>\n",
       "      <th>residue.ix</th>\n",
       "    </tr>\n",
       "  </thead>\n",
       "  <tbody>\n",
       "    <tr>\n",
       "      <th>0</th>\n",
       "      <td>461</td>\n",
       "      <td>1</td>\n",
       "    </tr>\n",
       "    <tr>\n",
       "      <th>1</th>\n",
       "      <td>462</td>\n",
       "      <td>2</td>\n",
       "    </tr>\n",
       "    <tr>\n",
       "      <th>2</th>\n",
       "      <td>463</td>\n",
       "      <td>3</td>\n",
       "    </tr>\n",
       "    <tr>\n",
       "      <th>3</th>\n",
       "      <td>&lt;NA&gt;</td>\n",
       "      <td>4</td>\n",
       "    </tr>\n",
       "    <tr>\n",
       "      <th>4</th>\n",
       "      <td>&lt;NA&gt;</td>\n",
       "      <td>5</td>\n",
       "    </tr>\n",
       "    <tr>\n",
       "      <th>...</th>\n",
       "      <td>...</td>\n",
       "      <td>...</td>\n",
       "    </tr>\n",
       "    <tr>\n",
       "      <th>80</th>\n",
       "      <td>594</td>\n",
       "      <td>81</td>\n",
       "    </tr>\n",
       "    <tr>\n",
       "      <th>81</th>\n",
       "      <td>595</td>\n",
       "      <td>82</td>\n",
       "    </tr>\n",
       "    <tr>\n",
       "      <th>82</th>\n",
       "      <td>&lt;NA&gt;</td>\n",
       "      <td>83</td>\n",
       "    </tr>\n",
       "    <tr>\n",
       "      <th>83</th>\n",
       "      <td>&lt;NA&gt;</td>\n",
       "      <td>84</td>\n",
       "    </tr>\n",
       "    <tr>\n",
       "      <th>84</th>\n",
       "      <td>&lt;NA&gt;</td>\n",
       "      <td>85</td>\n",
       "    </tr>\n",
       "  </tbody>\n",
       "</table>\n",
       "<p>85 rows × 2 columns</p>\n",
       "</div>"
      ],
      "text/plain": [
       "    residue.id  residue.ix\n",
       "0          461           1\n",
       "1          462           2\n",
       "2          463           3\n",
       "3         <NA>           4\n",
       "4         <NA>           5\n",
       "..         ...         ...\n",
       "80         594          81\n",
       "81         595          82\n",
       "82        <NA>          83\n",
       "83        <NA>          84\n",
       "84        <NA>          85\n",
       "\n",
       "[85 rows x 2 columns]"
      ]
     },
     "execution_count": 12,
     "metadata": {},
     "output_type": "execute_result"
    }
   ],
   "source": [
    "pocket.residues"
   ]
  },
  {
   "cell_type": "code",
   "execution_count": 13,
   "metadata": {},
   "outputs": [
    {
     "name": "stdout",
     "output_type": "stream",
     "text": [
      "461 462 463 None None None None 468 469 470 471 472 473 480 481 482 483 484 485 497 498 499 500 501 502 503 504 505 506 507 508 509 511 512 513 514 515 516 517 518 519 526 527 528 529 530 531 532 533 534 535 536 537 538 539 540 541 542 543 566 567 568 569 570 571 572 573 574 575 576 577 578 579 580 581 582 583 584 592 593 594 595 None None None\n"
     ]
    }
   ],
   "source": [
    "print(*pocket._residue_ids)"
   ]
  },
  {
   "cell_type": "code",
   "execution_count": 14,
   "metadata": {},
   "outputs": [
    {
     "name": "stdout",
     "output_type": "stream",
     "text": [
      "1 2 3 4 5 6 7 8 9 10 11 12 13 14 15 16 17 18 19 20 21 22 23 24 25 26 27 28 29 30 31 32 33 34 35 36 37 38 39 40 41 42 43 44 45 46 47 48 49 50 51 52 53 54 55 56 57 58 59 60 61 62 63 64 65 66 67 68 69 70 71 72 73 74 75 76 77 78 79 80 81 82 83 84 85\n"
     ]
    }
   ],
   "source": [
    "print(*pocket._residue_ixs)"
   ]
  },
  {
   "cell_type": "markdown",
   "metadata": {},
   "source": [
    "__Pocket centroids__"
   ]
  },
  {
   "cell_type": "code",
   "execution_count": 15,
   "metadata": {},
   "outputs": [
    {
     "data": {
      "text/plain": [
       "array([ 0.8315384, 21.615948 , 36.450153 ], dtype=float32)"
      ]
     },
     "execution_count": 15,
     "metadata": {},
     "output_type": "execute_result"
    }
   ],
   "source": [
    "pocket.center"
   ]
  },
  {
   "cell_type": "markdown",
   "metadata": {},
   "source": [
    "__Pocket data (atoms as DataFrame)__"
   ]
  },
  {
   "cell_type": "code",
   "execution_count": 16,
   "metadata": {},
   "outputs": [
    {
     "data": {
      "text/html": [
       "<div>\n",
       "<style scoped>\n",
       "    .dataframe tbody tr th:only-of-type {\n",
       "        vertical-align: middle;\n",
       "    }\n",
       "\n",
       "    .dataframe tbody tr th {\n",
       "        vertical-align: top;\n",
       "    }\n",
       "\n",
       "    .dataframe thead th {\n",
       "        text-align: right;\n",
       "    }\n",
       "</style>\n",
       "<table border=\"1\" class=\"dataframe\">\n",
       "  <thead>\n",
       "    <tr style=\"text-align: right;\">\n",
       "      <th></th>\n",
       "      <th>atom.id</th>\n",
       "      <th>atom.name</th>\n",
       "      <th>atom.x</th>\n",
       "      <th>atom.y</th>\n",
       "      <th>atom.z</th>\n",
       "      <th>residue.id</th>\n",
       "      <th>residue.name</th>\n",
       "    </tr>\n",
       "  </thead>\n",
       "  <tbody>\n",
       "    <tr>\n",
       "      <th>73</th>\n",
       "      <td>74</td>\n",
       "      <td>N</td>\n",
       "      <td>9.014</td>\n",
       "      <td>18.239000</td>\n",
       "      <td>51.860001</td>\n",
       "      <td>461</td>\n",
       "      <td>GLN</td>\n",
       "    </tr>\n",
       "    <tr>\n",
       "      <th>74</th>\n",
       "      <td>75</td>\n",
       "      <td>CA</td>\n",
       "      <td>8.811</td>\n",
       "      <td>16.811001</td>\n",
       "      <td>51.655998</td>\n",
       "      <td>461</td>\n",
       "      <td>GLN</td>\n",
       "    </tr>\n",
       "    <tr>\n",
       "      <th>75</th>\n",
       "      <td>76</td>\n",
       "      <td>C</td>\n",
       "      <td>8.559</td>\n",
       "      <td>16.492001</td>\n",
       "      <td>50.186001</td>\n",
       "      <td>461</td>\n",
       "      <td>GLN</td>\n",
       "    </tr>\n",
       "    <tr>\n",
       "      <th>76</th>\n",
       "      <td>77</td>\n",
       "      <td>O</td>\n",
       "      <td>7.851</td>\n",
       "      <td>17.224001</td>\n",
       "      <td>49.491001</td>\n",
       "      <td>461</td>\n",
       "      <td>GLN</td>\n",
       "    </tr>\n",
       "    <tr>\n",
       "      <th>77</th>\n",
       "      <td>78</td>\n",
       "      <td>CB</td>\n",
       "      <td>7.630</td>\n",
       "      <td>16.325001</td>\n",
       "      <td>52.500999</td>\n",
       "      <td>461</td>\n",
       "      <td>GLN</td>\n",
       "    </tr>\n",
       "    <tr>\n",
       "      <th>...</th>\n",
       "      <td>...</td>\n",
       "      <td>...</td>\n",
       "      <td>...</td>\n",
       "      <td>...</td>\n",
       "      <td>...</td>\n",
       "      <td>...</td>\n",
       "      <td>...</td>\n",
       "    </tr>\n",
       "    <tr>\n",
       "      <th>1015</th>\n",
       "      <td>1016</td>\n",
       "      <td>CD1</td>\n",
       "      <td>-0.042</td>\n",
       "      <td>21.966000</td>\n",
       "      <td>31.419001</td>\n",
       "      <td>595</td>\n",
       "      <td>PHE</td>\n",
       "    </tr>\n",
       "    <tr>\n",
       "      <th>1016</th>\n",
       "      <td>1017</td>\n",
       "      <td>CD2</td>\n",
       "      <td>1.547</td>\n",
       "      <td>22.907000</td>\n",
       "      <td>29.912001</td>\n",
       "      <td>595</td>\n",
       "      <td>PHE</td>\n",
       "    </tr>\n",
       "    <tr>\n",
       "      <th>1017</th>\n",
       "      <td>1018</td>\n",
       "      <td>CE1</td>\n",
       "      <td>-0.337</td>\n",
       "      <td>23.228001</td>\n",
       "      <td>31.899000</td>\n",
       "      <td>595</td>\n",
       "      <td>PHE</td>\n",
       "    </tr>\n",
       "    <tr>\n",
       "      <th>1018</th>\n",
       "      <td>1019</td>\n",
       "      <td>CE2</td>\n",
       "      <td>1.255</td>\n",
       "      <td>24.172001</td>\n",
       "      <td>30.389000</td>\n",
       "      <td>595</td>\n",
       "      <td>PHE</td>\n",
       "    </tr>\n",
       "    <tr>\n",
       "      <th>1019</th>\n",
       "      <td>1020</td>\n",
       "      <td>CZ</td>\n",
       "      <td>0.311</td>\n",
       "      <td>24.332001</td>\n",
       "      <td>31.384001</td>\n",
       "      <td>595</td>\n",
       "      <td>PHE</td>\n",
       "    </tr>\n",
       "  </tbody>\n",
       "</table>\n",
       "<p>577 rows × 7 columns</p>\n",
       "</div>"
      ],
      "text/plain": [
       "      atom.id atom.name  atom.x     atom.y     atom.z  residue.id residue.name\n",
       "73         74         N   9.014  18.239000  51.860001         461          GLN\n",
       "74         75        CA   8.811  16.811001  51.655998         461          GLN\n",
       "75         76         C   8.559  16.492001  50.186001         461          GLN\n",
       "76         77         O   7.851  17.224001  49.491001         461          GLN\n",
       "77         78        CB   7.630  16.325001  52.500999         461          GLN\n",
       "...       ...       ...     ...        ...        ...         ...          ...\n",
       "1015     1016       CD1  -0.042  21.966000  31.419001         595          PHE\n",
       "1016     1017       CD2   1.547  22.907000  29.912001         595          PHE\n",
       "1017     1018       CE1  -0.337  23.228001  31.899000         595          PHE\n",
       "1018     1019       CE2   1.255  24.172001  30.389000         595          PHE\n",
       "1019     1020        CZ   0.311  24.332001  31.384001         595          PHE\n",
       "\n",
       "[577 rows x 7 columns]"
      ]
     },
     "execution_count": 16,
     "metadata": {},
     "output_type": "execute_result"
    }
   ],
   "source": [
    "pocket.data"
   ]
  },
  {
   "cell_type": "markdown",
   "metadata": {},
   "source": [
    "### Add subpockets\n",
    "\n",
    "Next, we can add subpockets one-by-one to the pocket. For each subpocket we define the following:\n",
    "- Subpocket __name__\n",
    "- __Residue PDB IDs__ OR __residue indices__ (e.g. alignment indices) of all __anchor residues__, i.e. the residues determining the subpocket center (centroid of all anchor residues' CA atoms)\n",
    "- Subpocket __color__ \n",
    "\n",
    "The class method `add_subpocket` uses the `Subpocket` class to set up subpockets."
   ]
  },
  {
   "cell_type": "code",
   "execution_count": 17,
   "metadata": {},
   "outputs": [],
   "source": [
    "pocket.add_subpocket(\"hinge_region\", anchor_residue_ixs=[16, 47, 80], color=\"magenta\")\n",
    "pocket.add_subpocket(\"dfg_region\", anchor_residue_ixs=[19, 24, 81], color=\"cornflowerblue\")\n",
    "pocket.add_subpocket(\"front_pocket\", anchor_residue_ixs=[10, 48, 72], color=\"cyan\")"
   ]
  },
  {
   "cell_type": "markdown",
   "metadata": {},
   "source": [
    "Using the `Pocket`'s property `subpockets`, we get an overview of all specified subpockets."
   ]
  },
  {
   "cell_type": "code",
   "execution_count": 18,
   "metadata": {},
   "outputs": [
    {
     "data": {
      "text/html": [
       "<div>\n",
       "<style scoped>\n",
       "    .dataframe tbody tr th:only-of-type {\n",
       "        vertical-align: middle;\n",
       "    }\n",
       "\n",
       "    .dataframe tbody tr th {\n",
       "        vertical-align: top;\n",
       "    }\n",
       "\n",
       "    .dataframe thead th {\n",
       "        text-align: right;\n",
       "    }\n",
       "</style>\n",
       "<table border=\"1\" class=\"dataframe\">\n",
       "  <thead>\n",
       "    <tr style=\"text-align: right;\">\n",
       "      <th></th>\n",
       "      <th>subpocket.name</th>\n",
       "      <th>subpocket.color</th>\n",
       "      <th>subpocket.center</th>\n",
       "    </tr>\n",
       "  </thead>\n",
       "  <tbody>\n",
       "    <tr>\n",
       "      <th>0</th>\n",
       "      <td>hinge_region</td>\n",
       "      <td>magenta</td>\n",
       "      <td>[2.4566665, 22.592667, 41.674]</td>\n",
       "    </tr>\n",
       "    <tr>\n",
       "      <th>1</th>\n",
       "      <td>dfg_region</td>\n",
       "      <td>cornflowerblue</td>\n",
       "      <td>[8.460667, 20.395666, 33.809666]</td>\n",
       "    </tr>\n",
       "    <tr>\n",
       "      <th>2</th>\n",
       "      <td>front_pocket</td>\n",
       "      <td>cyan</td>\n",
       "      <td>[0.6393334, 16.937, 39.594666]</td>\n",
       "    </tr>\n",
       "  </tbody>\n",
       "</table>\n",
       "</div>"
      ],
      "text/plain": [
       "  subpocket.name subpocket.color                  subpocket.center\n",
       "0   hinge_region         magenta    [2.4566665, 22.592667, 41.674]\n",
       "1     dfg_region  cornflowerblue  [8.460667, 20.395666, 33.809666]\n",
       "2   front_pocket            cyan    [0.6393334, 16.937, 39.594666]"
      ]
     },
     "execution_count": 18,
     "metadata": {},
     "output_type": "execute_result"
    }
   ],
   "source": [
    "pocket.subpockets"
   ]
  },
  {
   "cell_type": "markdown",
   "metadata": {},
   "source": [
    "Using the `Pocket`'s property `anchor_residues`, we get an overview of all subpockets' anchor residues."
   ]
  },
  {
   "cell_type": "code",
   "execution_count": 19,
   "metadata": {},
   "outputs": [
    {
     "data": {
      "text/html": [
       "<div>\n",
       "<style scoped>\n",
       "    .dataframe tbody tr th:only-of-type {\n",
       "        vertical-align: middle;\n",
       "    }\n",
       "\n",
       "    .dataframe tbody tr th {\n",
       "        vertical-align: top;\n",
       "    }\n",
       "\n",
       "    .dataframe thead th {\n",
       "        text-align: right;\n",
       "    }\n",
       "</style>\n",
       "<table border=\"1\" class=\"dataframe\">\n",
       "  <thead>\n",
       "    <tr style=\"text-align: right;\">\n",
       "      <th></th>\n",
       "      <th>subpocket.name</th>\n",
       "      <th>anchor_residue.color</th>\n",
       "      <th>anchor_residue.id</th>\n",
       "      <th>anchor_residue.id_alternative</th>\n",
       "      <th>anchor_residue.ix</th>\n",
       "      <th>anchor_residue.center</th>\n",
       "    </tr>\n",
       "  </thead>\n",
       "  <tbody>\n",
       "    <tr>\n",
       "      <th>0</th>\n",
       "      <td>hinge_region</td>\n",
       "      <td>magenta</td>\n",
       "      <td>482</td>\n",
       "      <td>None</td>\n",
       "      <td>16</td>\n",
       "      <td>[8.327, 22.785, 43.461]</td>\n",
       "    </tr>\n",
       "    <tr>\n",
       "      <th>1</th>\n",
       "      <td>hinge_region</td>\n",
       "      <td>magenta</td>\n",
       "      <td>531</td>\n",
       "      <td>None</td>\n",
       "      <td>47</td>\n",
       "      <td>[-0.001, 24.108, 46.55]</td>\n",
       "    </tr>\n",
       "    <tr>\n",
       "      <th>2</th>\n",
       "      <td>hinge_region</td>\n",
       "      <td>magenta</td>\n",
       "      <td>593</td>\n",
       "      <td>None</td>\n",
       "      <td>80</td>\n",
       "      <td>[-0.956, 20.885, 35.011]</td>\n",
       "    </tr>\n",
       "    <tr>\n",
       "      <th>3</th>\n",
       "      <td>dfg_region</td>\n",
       "      <td>cornflowerblue</td>\n",
       "      <td>485</td>\n",
       "      <td>None</td>\n",
       "      <td>19</td>\n",
       "      <td>[15.03, 17.46, 38.074]</td>\n",
       "    </tr>\n",
       "    <tr>\n",
       "      <th>4</th>\n",
       "      <td>dfg_region</td>\n",
       "      <td>cornflowerblue</td>\n",
       "      <td>501</td>\n",
       "      <td>None</td>\n",
       "      <td>24</td>\n",
       "      <td>[8.524, 25.293, 29.217]</td>\n",
       "    </tr>\n",
       "    <tr>\n",
       "      <th>5</th>\n",
       "      <td>dfg_region</td>\n",
       "      <td>cornflowerblue</td>\n",
       "      <td>594</td>\n",
       "      <td>None</td>\n",
       "      <td>81</td>\n",
       "      <td>[1.828, 18.434, 34.138]</td>\n",
       "    </tr>\n",
       "    <tr>\n",
       "      <th>6</th>\n",
       "      <td>front_pocket</td>\n",
       "      <td>cyan</td>\n",
       "      <td>470</td>\n",
       "      <td>None</td>\n",
       "      <td>10</td>\n",
       "      <td>[11.026, 15.031, 41.426]</td>\n",
       "    </tr>\n",
       "    <tr>\n",
       "      <th>7</th>\n",
       "      <td>front_pocket</td>\n",
       "      <td>cyan</td>\n",
       "      <td>532</td>\n",
       "      <td>None</td>\n",
       "      <td>48</td>\n",
       "      <td>[-3.527, 22.678, 46.33]</td>\n",
       "    </tr>\n",
       "    <tr>\n",
       "      <th>8</th>\n",
       "      <td>front_pocket</td>\n",
       "      <td>cyan</td>\n",
       "      <td>578</td>\n",
       "      <td>None</td>\n",
       "      <td>72</td>\n",
       "      <td>[-5.581, 13.102, 31.028]</td>\n",
       "    </tr>\n",
       "  </tbody>\n",
       "</table>\n",
       "</div>"
      ],
      "text/plain": [
       "  subpocket.name anchor_residue.color  anchor_residue.id  \\\n",
       "0   hinge_region              magenta                482   \n",
       "1   hinge_region              magenta                531   \n",
       "2   hinge_region              magenta                593   \n",
       "3     dfg_region       cornflowerblue                485   \n",
       "4     dfg_region       cornflowerblue                501   \n",
       "5     dfg_region       cornflowerblue                594   \n",
       "6   front_pocket                 cyan                470   \n",
       "7   front_pocket                 cyan                532   \n",
       "8   front_pocket                 cyan                578   \n",
       "\n",
       "  anchor_residue.id_alternative  anchor_residue.ix     anchor_residue.center  \n",
       "0                          None                 16   [8.327, 22.785, 43.461]  \n",
       "1                          None                 47   [-0.001, 24.108, 46.55]  \n",
       "2                          None                 80  [-0.956, 20.885, 35.011]  \n",
       "3                          None                 19    [15.03, 17.46, 38.074]  \n",
       "4                          None                 24   [8.524, 25.293, 29.217]  \n",
       "5                          None                 81   [1.828, 18.434, 34.138]  \n",
       "6                          None                 10  [11.026, 15.031, 41.426]  \n",
       "7                          None                 48   [-3.527, 22.678, 46.33]  \n",
       "8                          None                 72  [-5.581, 13.102, 31.028]  "
      ]
     },
     "execution_count": 19,
     "metadata": {},
     "output_type": "execute_result"
    }
   ],
   "source": [
    "pocket.anchor_residues"
   ]
  },
  {
   "cell_type": "markdown",
   "metadata": {},
   "source": [
    "Subpockets are calculated based on so class anchor residues, defined each in an `AnchorResidue` class. Subpocket centers are the centroids of all anchor residues' centers (i.e. normally the CA atoms).\n",
    "\n",
    "- If the anchor residue's CA atom is available in the input structure is available, its coordinates are defined as the anchor residues center.\n",
    "- If the anchor residue's CA atom is missing in a structure, alternative anchors are chosen if possible: If the residue CA atoms before and after the input anchor residue are available, their CA atoms' centroid is chosen. \n",
    "- If only one of the neighboring residues' CA atoms is available, that single CA atoms is chosen.\n",
    "- If none of the anchor residue's and neighboring residues' CA atoms is available, no anchor residue center is defined.\n",
    "\n",
    "The determination of anchor residues depends on the CA atom availablity of the user-defined anchor residue as well as the residue before and after."
   ]
  },
  {
   "cell_type": "markdown",
   "metadata": {},
   "source": [
    "### Add regions\n",
    "\n",
    "The `Pocket` class also allows to specify pocket regions, normally used to store key regions, such as the hinge region or the catalytic loop in kinases. This information can be used for pocket visualization.\n",
    "\n",
    "The class method `add_regions` uses the `Regions` class to set up regions."
   ]
  },
  {
   "cell_type": "code",
   "execution_count": 20,
   "metadata": {},
   "outputs": [
    {
     "name": "stderr",
     "output_type": "stream",
     "text": [
      "INFO:opencadd.structure.pocket.base:Pocket 12347 (set region residues): The following input residues PDB IDs were assigned to the value None because they cannot be cast to an integer (residue PDB ID, residue index): [(None, 83)]\n"
     ]
    }
   ],
   "source": [
    "pocket.add_region(\"hinge\", residue_ixs=[46, 47, 48], color=\"magenta\")\n",
    "pocket.add_region(\"linker\", residue_ixs=[49, 50, 51, 52], color=\"cyan\")\n",
    "pocket.add_region(\"xDFG\", residue_ixs=[80, 81, 82, 83], color=\"cornflowerblue\")"
   ]
  },
  {
   "cell_type": "code",
   "execution_count": 21,
   "metadata": {},
   "outputs": [
    {
     "data": {
      "text/html": [
       "<div>\n",
       "<style scoped>\n",
       "    .dataframe tbody tr th:only-of-type {\n",
       "        vertical-align: middle;\n",
       "    }\n",
       "\n",
       "    .dataframe tbody tr th {\n",
       "        vertical-align: top;\n",
       "    }\n",
       "\n",
       "    .dataframe thead th {\n",
       "        text-align: right;\n",
       "    }\n",
       "</style>\n",
       "<table border=\"1\" class=\"dataframe\">\n",
       "  <thead>\n",
       "    <tr style=\"text-align: right;\">\n",
       "      <th></th>\n",
       "      <th>region.name</th>\n",
       "      <th>region.color</th>\n",
       "      <th>residue.id</th>\n",
       "      <th>residue.ix</th>\n",
       "    </tr>\n",
       "  </thead>\n",
       "  <tbody>\n",
       "    <tr>\n",
       "      <th>0</th>\n",
       "      <td>hinge</td>\n",
       "      <td>magenta</td>\n",
       "      <td>530</td>\n",
       "      <td>46</td>\n",
       "    </tr>\n",
       "    <tr>\n",
       "      <th>1</th>\n",
       "      <td>hinge</td>\n",
       "      <td>magenta</td>\n",
       "      <td>531</td>\n",
       "      <td>47</td>\n",
       "    </tr>\n",
       "    <tr>\n",
       "      <th>2</th>\n",
       "      <td>hinge</td>\n",
       "      <td>magenta</td>\n",
       "      <td>532</td>\n",
       "      <td>48</td>\n",
       "    </tr>\n",
       "    <tr>\n",
       "      <th>3</th>\n",
       "      <td>linker</td>\n",
       "      <td>cyan</td>\n",
       "      <td>533</td>\n",
       "      <td>49</td>\n",
       "    </tr>\n",
       "    <tr>\n",
       "      <th>4</th>\n",
       "      <td>linker</td>\n",
       "      <td>cyan</td>\n",
       "      <td>534</td>\n",
       "      <td>50</td>\n",
       "    </tr>\n",
       "    <tr>\n",
       "      <th>5</th>\n",
       "      <td>linker</td>\n",
       "      <td>cyan</td>\n",
       "      <td>535</td>\n",
       "      <td>51</td>\n",
       "    </tr>\n",
       "    <tr>\n",
       "      <th>6</th>\n",
       "      <td>linker</td>\n",
       "      <td>cyan</td>\n",
       "      <td>536</td>\n",
       "      <td>52</td>\n",
       "    </tr>\n",
       "    <tr>\n",
       "      <th>7</th>\n",
       "      <td>xDFG</td>\n",
       "      <td>cornflowerblue</td>\n",
       "      <td>593</td>\n",
       "      <td>80</td>\n",
       "    </tr>\n",
       "    <tr>\n",
       "      <th>8</th>\n",
       "      <td>xDFG</td>\n",
       "      <td>cornflowerblue</td>\n",
       "      <td>594</td>\n",
       "      <td>81</td>\n",
       "    </tr>\n",
       "    <tr>\n",
       "      <th>9</th>\n",
       "      <td>xDFG</td>\n",
       "      <td>cornflowerblue</td>\n",
       "      <td>595</td>\n",
       "      <td>82</td>\n",
       "    </tr>\n",
       "    <tr>\n",
       "      <th>10</th>\n",
       "      <td>xDFG</td>\n",
       "      <td>cornflowerblue</td>\n",
       "      <td>&lt;NA&gt;</td>\n",
       "      <td>83</td>\n",
       "    </tr>\n",
       "  </tbody>\n",
       "</table>\n",
       "</div>"
      ],
      "text/plain": [
       "   region.name    region.color  residue.id  residue.ix\n",
       "0        hinge         magenta         530          46\n",
       "1        hinge         magenta         531          47\n",
       "2        hinge         magenta         532          48\n",
       "3       linker            cyan         533          49\n",
       "4       linker            cyan         534          50\n",
       "5       linker            cyan         535          51\n",
       "6       linker            cyan         536          52\n",
       "7         xDFG  cornflowerblue         593          80\n",
       "8         xDFG  cornflowerblue         594          81\n",
       "9         xDFG  cornflowerblue         595          82\n",
       "10        xDFG  cornflowerblue        <NA>          83"
      ]
     },
     "execution_count": 21,
     "metadata": {},
     "output_type": "execute_result"
    }
   ],
   "source": [
    "pocket.regions"
   ]
  },
  {
   "cell_type": "markdown",
   "metadata": {},
   "source": [
    "### Visualize pocket"
   ]
  },
  {
   "cell_type": "markdown",
   "metadata": {},
   "source": [
    "Besides the pocket, we also want to visualize the co-crystallized ligand (if any), so let's fetch the ligand Expo ID."
   ]
  },
  {
   "cell_type": "code",
   "execution_count": 22,
   "metadata": {},
   "outputs": [],
   "source": [
    "ligand_expo_id = KLIFS_REMOTE.structures.by_structure_klifs_id(structure_klifs_id)[\"ligand.expo_id\"][0]"
   ]
  },
  {
   "cell_type": "code",
   "execution_count": 23,
   "metadata": {},
   "outputs": [
    {
     "data": {
      "application/vnd.jupyter.widget-view+json": {
       "model_id": "b22fa8b4b8644a9f884031e880f2ff02",
       "version_major": 2,
       "version_minor": 0
      },
      "text/plain": [
       "NGLWidget()"
      ]
     },
     "metadata": {},
     "output_type": "display_data"
    }
   ],
   "source": [
    "viewer = PocketViewer()\n",
    "viewer.add_pocket(pocket, ligand_expo_id=ligand_expo_id)"
   ]
  },
  {
   "cell_type": "code",
   "execution_count": 24,
   "metadata": {},
   "outputs": [
    {
     "data": {
      "text/plain": [
       "(Image(value=b'', width='99%'),)"
      ]
     },
     "execution_count": 24,
     "metadata": {},
     "output_type": "execute_result"
    }
   ],
   "source": [
    "viewer.viewer.render_image(trim=True, factor=2, transparent=True),"
   ]
  },
  {
   "cell_type": "code",
   "execution_count": 25,
   "metadata": {},
   "outputs": [
    {
     "data": {
      "image/png": "\n",
      "text/plain": [
       "<IPython.core.display.Image object>"
      ]
     },
     "execution_count": 25,
     "metadata": {},
     "output_type": "execute_result"
    }
   ],
   "source": [
    "# Static output\n",
    "viewer.viewer._display_image()"
   ]
  },
  {
   "cell_type": "markdown",
   "metadata": {},
   "source": [
    "## KLIFS pocket (`KlifsPocket` class)\n",
    "\n",
    "The `KlifsPocket` class is a child of the `Pocket` class, setting the kinase pocket regions as defined by KLIFS. "
   ]
  },
  {
   "cell_type": "markdown",
   "metadata": {},
   "source": [
    "![ba](https://klifs.net/images/faq/colors.png)\n",
    "\n",
    "_Figure 1_: Kinase pocket regions as defined by KLIFS (taken from the [KLIFS publication](https://pubs.acs.org/doi/abs/10.1021/jm400378w))"
   ]
  },
  {
   "cell_type": "markdown",
   "metadata": {},
   "source": [
    "Define subpockets (name and color) based on user-defined KLIFS residue IDs."
   ]
  },
  {
   "cell_type": "code",
   "execution_count": 26,
   "metadata": {},
   "outputs": [
    {
     "data": {
      "text/html": [
       "<div>\n",
       "<style scoped>\n",
       "    .dataframe tbody tr th:only-of-type {\n",
       "        vertical-align: middle;\n",
       "    }\n",
       "\n",
       "    .dataframe tbody tr th {\n",
       "        vertical-align: top;\n",
       "    }\n",
       "\n",
       "    .dataframe thead th {\n",
       "        text-align: right;\n",
       "    }\n",
       "</style>\n",
       "<table border=\"1\" class=\"dataframe\">\n",
       "  <thead>\n",
       "    <tr style=\"text-align: right;\">\n",
       "      <th></th>\n",
       "      <th>anchor_residue.klifs_ids</th>\n",
       "      <th>subpocket.name</th>\n",
       "      <th>subpocket.color</th>\n",
       "    </tr>\n",
       "  </thead>\n",
       "  <tbody>\n",
       "    <tr>\n",
       "      <th>0</th>\n",
       "      <td>[16, 47, 80]</td>\n",
       "      <td>hinge_region</td>\n",
       "      <td>magenta</td>\n",
       "    </tr>\n",
       "    <tr>\n",
       "      <th>1</th>\n",
       "      <td>[19, 24, 81]</td>\n",
       "      <td>dfg_region</td>\n",
       "      <td>cornflowerblue</td>\n",
       "    </tr>\n",
       "    <tr>\n",
       "      <th>2</th>\n",
       "      <td>[10, 48, 72]</td>\n",
       "      <td>front_pocket</td>\n",
       "      <td>cyan</td>\n",
       "    </tr>\n",
       "  </tbody>\n",
       "</table>\n",
       "</div>"
      ],
      "text/plain": [
       "  anchor_residue.klifs_ids subpocket.name subpocket.color\n",
       "0             [16, 47, 80]   hinge_region         magenta\n",
       "1             [19, 24, 81]     dfg_region  cornflowerblue\n",
       "2             [10, 48, 72]   front_pocket            cyan"
      ]
     },
     "execution_count": 26,
     "metadata": {},
     "output_type": "execute_result"
    }
   ],
   "source": [
    "subpockets = {\n",
    "    \"anchor_residue.klifs_ids\": [[16, 47, 80], [19, 24, 81], [10, 48, 72]],\n",
    "    \"subpocket.name\": [\"hinge_region\", \"dfg_region\", \"front_pocket\"],\n",
    "    \"subpocket.color\": [\"magenta\", \"cornflowerblue\", \"cyan\"]\n",
    "}\n",
    "subpockets = pd.DataFrame(subpockets)\n",
    "subpockets"
   ]
  },
  {
   "cell_type": "markdown",
   "metadata": {},
   "source": [
    "### Initialize KLIFS pocket"
   ]
  },
  {
   "cell_type": "markdown",
   "metadata": {},
   "source": [
    "#### ... from remote KLIFS session"
   ]
  },
  {
   "cell_type": "code",
   "execution_count": 27,
   "metadata": {},
   "outputs": [
    {
     "name": "stderr",
     "output_type": "stream",
     "text": [
      "INFO:opencadd.databases.klifs.api:Set up remote session...\n",
      "INFO:opencadd.databases.klifs.api:Remote session is ready!\n",
      "INFO:opencadd.structure.pocket.base:Pocket 12347 (set pocket residues): The following input residues PDB IDs were assigned to the value None because they cannot be cast to an integer (residue PDB ID, residue index): [('_', 4), ('_', 5), ('_', 6), ('_', 7), ('_', 83), ('_', 84), ('_', 85)]\n",
      "INFO:opencadd.structure.pocket.core:Pocket 12347: Missing pocket CA atoms. The pocket center is calculated based on 78 CA atoms (total number of pocket residues is 85).\n",
      "INFO:opencadd.structure.pocket.base:Pocket 12347 (set region residues): The following input residues PDB IDs were assigned to the value None because they cannot be cast to an integer (residue PDB ID, residue index): [(None, 84), (None, 85)]\n",
      "INFO:opencadd.structure.pocket.base:Pocket 12347 (set region residues): The following input residues PDB IDs were assigned to the value None because they cannot be cast to an integer (residue PDB ID, residue index): [(None, 4), (None, 5), (None, 6), (None, 7)]\n",
      "INFO:opencadd.structure.pocket.base:Pocket 12347 (set region residues): The following input residues PDB IDs were assigned to the value None because they cannot be cast to an integer (residue PDB ID, residue index): [(None, 83)]\n"
     ]
    }
   ],
   "source": [
    "kinase_pocket = KlifsPocket.from_structure_klifs_id(structure_klifs_id, subpockets)"
   ]
  },
  {
   "cell_type": "markdown",
   "metadata": {},
   "source": [
    "This will internally, initiate a remote KLIFS session to fetch the relevant data. \n",
    "If you have a remote KLIFS session already initialized, you can also use it directly."
   ]
  },
  {
   "cell_type": "code",
   "execution_count": 28,
   "metadata": {},
   "outputs": [
    {
     "name": "stderr",
     "output_type": "stream",
     "text": [
      "INFO:opencadd.structure.pocket.base:Pocket 12347 (set pocket residues): The following input residues PDB IDs were assigned to the value None because they cannot be cast to an integer (residue PDB ID, residue index): [('_', 4), ('_', 5), ('_', 6), ('_', 7), ('_', 83), ('_', 84), ('_', 85)]\n",
      "INFO:opencadd.structure.pocket.core:Pocket 12347: Missing pocket CA atoms. The pocket center is calculated based on 78 CA atoms (total number of pocket residues is 85).\n",
      "INFO:opencadd.structure.pocket.base:Pocket 12347 (set region residues): The following input residues PDB IDs were assigned to the value None because they cannot be cast to an integer (residue PDB ID, residue index): [(None, 84), (None, 85)]\n",
      "INFO:opencadd.structure.pocket.base:Pocket 12347 (set region residues): The following input residues PDB IDs were assigned to the value None because they cannot be cast to an integer (residue PDB ID, residue index): [(None, 4), (None, 5), (None, 6), (None, 7)]\n",
      "INFO:opencadd.structure.pocket.base:Pocket 12347 (set region residues): The following input residues PDB IDs were assigned to the value None because they cannot be cast to an integer (residue PDB ID, residue index): [(None, 83)]\n"
     ]
    }
   ],
   "source": [
    "kinase_pocket = KlifsPocket.from_structure_klifs_id(\n",
    "    structure_klifs_id, \n",
    "    subpockets,\n",
    "    klifs_session=KLIFS_REMOTE\n",
    ")"
   ]
  },
  {
   "cell_type": "markdown",
   "metadata": {},
   "source": [
    "#### ... from local KLIFS session\n",
    "\n",
    "Use an example local KLIFS dataset."
   ]
  },
  {
   "cell_type": "code",
   "execution_count": 29,
   "metadata": {},
   "outputs": [
    {
     "name": "stderr",
     "output_type": "stream",
     "text": [
      "INFO:opencadd.databases.klifs.api:Set up local session...\n",
      "INFO:opencadd.databases.klifs.local:Load overview.csv...\n",
      "INFO:opencadd.databases.klifs.local:Load KLIFS_export.csv...\n",
      "INFO:opencadd.databases.klifs.local:Merge both csv files...\n",
      "INFO:opencadd.databases.klifs.local:Add paths to coordinate folders to structures...\n",
      "INFO:opencadd.databases.klifs.local:Add KLIFS IDs to structures (uses remote since not available locally!)...\n",
      "INFO:opencadd.databases.klifs.api:Local session is ready!\n"
     ]
    }
   ],
   "source": [
    "KLIFS_LOCAL = setup_local(KLIFS_DOWNLOAD_PATH)"
   ]
  },
  {
   "cell_type": "markdown",
   "metadata": {},
   "source": [
    "__... based on _mol2_ files__"
   ]
  },
  {
   "cell_type": "code",
   "execution_count": 30,
   "metadata": {},
   "outputs": [
    {
     "name": "stderr",
     "output_type": "stream",
     "text": [
      "INFO:opencadd.structure.pocket.base:Pocket 12347 (set pocket residues): The following input residues PDB IDs were assigned to the value None because they cannot be cast to an integer (residue PDB ID, residue index): [('_', 4), ('_', 5), ('_', 6), ('_', 7), ('_', 83), ('_', 84), ('_', 85)]\n",
      "WARNING:opencadd.io.dataframe:Suspicious residue ID: _0 (from QH1_0)\n",
      "INFO:opencadd.structure.pocket.core:Pocket 12347: Missing pocket CA atoms. The pocket center is calculated based on 78 CA atoms (total number of pocket residues is 85).\n",
      "INFO:opencadd.structure.pocket.base:Pocket 12347 (set region residues): The following input residues PDB IDs were assigned to the value None because they cannot be cast to an integer (residue PDB ID, residue index): [(None, 84), (None, 85)]\n",
      "INFO:opencadd.structure.pocket.base:Pocket 12347 (set region residues): The following input residues PDB IDs were assigned to the value None because they cannot be cast to an integer (residue PDB ID, residue index): [(None, 4), (None, 5), (None, 6), (None, 7)]\n",
      "INFO:opencadd.structure.pocket.base:Pocket 12347 (set region residues): The following input residues PDB IDs were assigned to the value None because they cannot be cast to an integer (residue PDB ID, residue index): [(None, 83)]\n"
     ]
    }
   ],
   "source": [
    "kinase_pocket = KlifsPocket.from_structure_klifs_id(\n",
    "    structure_klifs_id, \n",
    "    subpockets,\n",
    "    extension=\"mol2\",\n",
    "    klifs_session=KLIFS_LOCAL\n",
    ")"
   ]
  },
  {
   "cell_type": "markdown",
   "metadata": {},
   "source": [
    "__... based on _pdb_ files__"
   ]
  },
  {
   "cell_type": "code",
   "execution_count": 31,
   "metadata": {},
   "outputs": [
    {
     "name": "stderr",
     "output_type": "stream",
     "text": [
      "INFO:opencadd.structure.pocket.base:Pocket 12347 (set pocket residues): The following input residues PDB IDs were assigned to the value None because they cannot be cast to an integer (residue PDB ID, residue index): [('_', 4), ('_', 5), ('_', 6), ('_', 7), ('_', 83), ('_', 84), ('_', 85)]\n",
      "INFO:opencadd.structure.pocket.core:Pocket 12347: Missing pocket CA atoms. The pocket center is calculated based on 78 CA atoms (total number of pocket residues is 85).\n",
      "INFO:opencadd.structure.pocket.base:Pocket 12347 (set region residues): The following input residues PDB IDs were assigned to the value None because they cannot be cast to an integer (residue PDB ID, residue index): [(None, 84), (None, 85)]\n",
      "INFO:opencadd.structure.pocket.base:Pocket 12347 (set region residues): The following input residues PDB IDs were assigned to the value None because they cannot be cast to an integer (residue PDB ID, residue index): [(None, 4), (None, 5), (None, 6), (None, 7)]\n",
      "INFO:opencadd.structure.pocket.base:Pocket 12347 (set region residues): The following input residues PDB IDs were assigned to the value None because they cannot be cast to an integer (residue PDB ID, residue index): [(None, 83)]\n"
     ]
    }
   ],
   "source": [
    "kinase_pocket = KlifsPocket.from_structure_klifs_id(\n",
    "    structure_klifs_id, \n",
    "    subpockets,\n",
    "    extension=\"pdb\",\n",
    "    klifs_session=KLIFS_LOCAL\n",
    ")"
   ]
  },
  {
   "cell_type": "markdown",
   "metadata": {},
   "source": [
    "### Visualize pocket with all KLIFS-defined regions"
   ]
  },
  {
   "cell_type": "code",
   "execution_count": 32,
   "metadata": {},
   "outputs": [
    {
     "data": {
      "application/vnd.jupyter.widget-view+json": {
       "model_id": "2b4f77b51571471d89dc1807de95162b",
       "version_major": 2,
       "version_minor": 0
      },
      "text/plain": [
       "NGLWidget()"
      ]
     },
     "metadata": {},
     "output_type": "display_data"
    }
   ],
   "source": [
    "viewer = PocketViewer()\n",
    "viewer.add_pocket(kinase_pocket)"
   ]
  },
  {
   "cell_type": "code",
   "execution_count": 33,
   "metadata": {},
   "outputs": [
    {
     "data": {
      "text/plain": [
       "(Image(value=b'', width='99%'),)"
      ]
     },
     "execution_count": 33,
     "metadata": {},
     "output_type": "execute_result"
    }
   ],
   "source": [
    "viewer.viewer.render_image(trim=True, factor=2, transparent=True),"
   ]
  },
  {
   "cell_type": "code",
   "execution_count": 34,
   "metadata": {},
   "outputs": [
    {
     "name": "stdout",
     "output_type": "stream",
     "text": [
      "# packages in environment at /home/dominique/.local/miniconda/envs/opencadd:\n",
      "#\n",
      "# Name                    Version                   Build  Channel\n",
      "nodejs                    15.3.0               h25f6087_0    conda-forge\n"
     ]
    }
   ],
   "source": [
    "!conda list nodejs"
   ]
  },
  {
   "cell_type": "code",
   "execution_count": 35,
   "metadata": {},
   "outputs": [
    {
     "data": {
      "image/png": "\n",
      "text/plain": [
       "<IPython.core.display.Image object>"
      ]
     },
     "execution_count": 35,
     "metadata": {},
     "output_type": "execute_result"
    }
   ],
   "source": [
    "# Static output\n",
    "viewer.viewer._display_image()"
   ]
  }
 ],
 "metadata": {
  "kernelspec": {
   "display_name": "Python 3",
   "language": "python",
   "name": "python3"
  },
  "language_info": {
   "codemirror_mode": {
    "name": "ipython",
    "version": 3
   },
   "file_extension": ".py",
   "mimetype": "text/x-python",
   "name": "python",
   "nbconvert_exporter": "python",
   "pygments_lexer": "ipython3",
   "version": "3.8.6"
  }
 },
 "nbformat": 4,
 "nbformat_minor": 4
}
