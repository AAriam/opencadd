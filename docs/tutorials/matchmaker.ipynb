{
 "cells": [
  {
   "cell_type": "markdown",
   "metadata": {},
   "source": [
    "# Template for the User Tutorial\n",
    "\n",
    "\n",
    "#### Developed at Volkamer Lab, Charité/FU Berlin \n",
    "\n",
    "Annie Pham"
   ]
  },
  {
   "cell_type": "markdown",
   "metadata": {},
   "source": [
    "# Reference\n",
    "\n",
    "### Provide some general information about your method and the source of it\n",
    "\n",
    "Use this citation style\n",
    "\n",
    "* Keyword describing resource: Journal (year), volume, pages (link to resource)\n",
    "\n",
    "Example:\n",
    "\n",
    "* ChEMBL web services: Nucleic Acids Res. (2015), 43, 612-620 (https://academic.oup.com/nar/article/43/W1/W612/2467881)"
   ]
  },
  {
   "cell_type": "markdown",
   "metadata": {},
   "source": [
    "# Introduction\n",
    "\n",
    "\n",
    "## What are the  chosen structures\n",
    "\n",
    "*These points should refer to the headlines of your theory section below.*\n",
    "\n",
    "* Names of the structures \n",
    "* Function of the structures\n",
    "\n",
    "## Why they have been chosen\n",
    "\n",
    "*These points should refer to the headlines of your practical section below.*\n",
    "\n",
    "* Interesting facts (e.g. some event that happened)"
   ]
  },
  {
   "cell_type": "markdown",
   "metadata": {},
   "source": [
    "# Theory\n",
    "\n",
    "## RMSD\n",
    "\n",
    "The RMSD is the average distance between the atoms of superposed structures in Angstrom.\n",
    "\n",
    "## coverage\n",
    "\n",
    "The coverage of the aligned structures.\n",
    "\n",
    "## Details of the algorithm\n",
    "\n",
    "### MatchMaker\n",
    "    \n",
    "#### Introduction:\n",
    "\n",
    "MatchMaker superimposes protein by first creating pairwise sequence alignments, then fitting the aligned residue pairs.\n",
    "The standard Needleman-Wunsch and Smith-Waterman algorithms are available for producing global and local sequence alignments and MatchMaker can identify the best-matching chains based on alignment scores.\n",
    "Alignment scores can include residue similarity, secondary structure information, and gap penalties.\n",
    "MatchMaker performs a spatial superposition by minimizing the RMSD.\n",
    "    \n",
    "#### Preparation:\n",
    "\n",
    "Generating pairwise sequence alignments and matching, i.e., superimposing the structures according to those pairwise alignments\n",
    "\n",
    "#### Alignment:\n",
    "\n",
    "Spatially align the group of atoms `mobile` to `reference` by doing a RMSD fit on `select` atoms.\n",
    "\n",
    "- A rotation matrix is computed that minimizes the RMSD between the coordinates of `mobile.select_atoms(sel1)` and `reference.select_atoms(sel2)`; before the rotation, `mobile` is translated so that its center of geometry (or center of mass)\n",
    "coincides with the one of `reference`.\n",
    "- All atoms in `~MDAnalysis.core.universe.Universe` that contain `mobile` are shifted and rotated.\n",
    " \n",
    "#### Analysis:\n",
    "\n",
    "RMSD before and after spatial alignment\n"
   ]
  },
  {
   "cell_type": "markdown",
   "metadata": {},
   "source": [
    "# Preparation\n",
    "\n",
    "## How to get the structure from the CLI\n",
    "\n",
    "To get the structures directly from the RCSB, the syntax looks like this:"
   ]
  },
  {
   "cell_type": "code",
   "execution_count": 1,
   "metadata": {},
   "outputs": [
    {
     "name": "stdout",
     "output_type": "stream",
     "text": [
      "usage: structuralalignment [-h] [--version] [-v]\n",
      "                           [--method {theseus,mmligner,matchmaker}]\n",
      "                           [--method-options METHOD_OPTIONS]\n",
      "                           structures [structures ...]\n",
      "structuralalignment: error: argument --method: invalid choice: 'YOUR_METHOD' (choose from 'theseus', 'mmligner', 'matchmaker')\n"
     ]
    }
   ],
   "source": [
    "!structuralalignment --method=YOUR_METHOD NAME_OF_STRUCTURE_1 NAME_OF_STRUCTURE_2"
   ]
  },
  {
   "cell_type": "markdown",
   "metadata": {},
   "source": [
    "When you want to use structures which are locally saved, do this:"
   ]
  },
  {
   "cell_type": "code",
   "execution_count": 2,
   "metadata": {},
   "outputs": [
    {
     "name": "stdout",
     "output_type": "stream",
     "text": [
      "usage: structuralalignment [-h] [--version] [-v]\r\n",
      "                           [--method {theseus,mmligner,matchmaker}]\r\n",
      "                           [--method-options METHOD_OPTIONS]\r\n",
      "                           structures [structures ...]\r\n",
      "structuralalignment: error: argument --method: invalid choice: 'YOUR_METHOD' (choose from 'theseus', 'mmligner', 'matchmaker')\r\n"
     ]
    }
   ],
   "source": [
    "!structuralalignment --method=YOUR_METHOD PATH_OF_STRUCTURE_1 PATH_OF_STRUCTURE_2"
   ]
  },
  {
   "cell_type": "markdown",
   "metadata": {},
   "source": [
    "## Getting the structure in python\n",
    "\n",
    "The method will use atomium.models as input.\n",
    "\n",
    "If you want to get the structures from the RCSB, you can do the following:"
   ]
  },
  {
   "cell_type": "code",
   "execution_count": 3,
   "metadata": {},
   "outputs": [],
   "source": [
    "%load_ext autoreload"
   ]
  },
  {
   "cell_type": "code",
   "execution_count": 4,
   "metadata": {},
   "outputs": [],
   "source": [
    "%autoreload 2"
   ]
  },
  {
   "cell_type": "code",
   "execution_count": 73,
   "metadata": {},
   "outputs": [],
   "source": [
    "import atomium\n",
    "\n",
    "structure1 = atomium.fetch(\"6HG4\").model\n",
    "structure2 = atomium.fetch(\"6HG9\").model"
   ]
  },
  {
   "cell_type": "markdown",
   "metadata": {},
   "source": [
    "# Alignment \n",
    "\n",
    "Use your method and explain the steps it takes."
   ]
  },
  {
   "cell_type": "code",
   "execution_count": 90,
   "metadata": {
    "scrolled": false
   },
   "outputs": [
    {
     "name": "stdout",
     "output_type": "stream",
     "text": [
      "MOB POS: [[  7.26  -74.356 -39.303]\n",
      " [  8.213 -73.765 -38.371]\n",
      " [  9.192 -74.812 -37.817]\n",
      " ...\n",
      " [ 77.479  18.555 -20.978]\n",
      " [ 79.198  17.632 -22.565]\n",
      " [ 77.004  17.186 -20.569]]\n",
      "MOB POS: [[  7.26     -74.356    -39.303   ]\n",
      " [-31.060482 -41.040554 -21.117619]\n",
      " [  9.192    -74.812    -37.817   ]\n",
      " ...\n",
      " [ 77.479     18.555    -20.978   ]\n",
      " [ 79.198     17.632    -22.565   ]\n",
      " [ 77.004     17.186    -20.569   ]]\n",
      "MOB POS: [[-22.207058  -49.10183   -25.805735 ]\n",
      " [-60.52754   -15.786382   -7.6203527]\n",
      " [-20.275057  -49.557823  -24.319735 ]\n",
      " ...\n",
      " [ 48.01194    43.809174   -7.480735 ]\n",
      " [ 49.73094    42.886173   -9.067735 ]\n",
      " [ 47.53694    42.440174   -7.0717344]]\n",
      "CPU times: user 3.41 s, sys: 83.8 ms, total: 3.5 s\n",
      "Wall time: 3.29 s\n"
     ]
    }
   ],
   "source": [
    "%%time\n",
    "from structuralalignment.superposition.matchmaker import MatchMakerAligner, mda_align\n",
    "from MDAnalysis.analysis.rms import rmsd\n",
    "aligner = MatchMakerAligner(alignment_strategy=\"global\", superposition_selection=\"name CA or name CB\")\n",
    "res = aligner.calculate([structure1, structure2])"
   ]
  },
  {
   "cell_type": "code",
   "execution_count": 85,
   "metadata": {},
   "outputs": [
    {
     "name": "stdout",
     "output_type": "stream",
     "text": [
      "From RMSD = 187.820A to optimized RMSD of 1.597A\n"
     ]
    }
   ],
   "source": [
    "print(f'From RMSD = {res[\"metadata\"][\"initial_rmsd\"]:.3f}A to optimized RMSD of {res[\"scores\"][\"rmsd\"]:.3f}A')"
   ]
  },
  {
   "cell_type": "markdown",
   "metadata": {},
   "source": [
    "# Analysis"
   ]
  },
  {
   "cell_type": "markdown",
   "metadata": {},
   "source": [
    "### NGLview\n",
    "\n",
    "If you have trouble with NGLview, follow this [troubleshooting guide](https://github.com/SBRG/ssbio/wiki/Troubleshooting#tips-for-nglview)."
   ]
  },
  {
   "cell_type": "code",
   "execution_count": 96,
   "metadata": {
    "scrolled": false
   },
   "outputs": [
    {
     "name": "stdout",
     "output_type": "stream",
     "text": [
      "nglview version = 2.7.5\n"
     ]
    },
    {
     "data": {
      "application/vnd.jupyter.widget-view+json": {
       "model_id": "c89e4dd7784449ae9a4301c891d1a297",
       "version_major": 2,
       "version_minor": 0
      },
      "text/plain": [
       "NGLWidget()"
      ]
     },
     "metadata": {},
     "output_type": "display_data"
    }
   ],
   "source": [
    "import nglview as nv\n",
    "print(\"nglview version = {}\".format(nv.__version__))\n",
    "# your nglview version should be 1.1.7 or later\n",
    "\n",
    "view = nv.show_mdanalysis(res[\"superposed\"][0].atoms)\n",
    "view.add_component(res[\"superposed\"][1].atoms)\n",
    "\n",
    "view"
   ]
  },
  {
   "cell_type": "code",
   "execution_count": 92,
   "metadata": {},
   "outputs": [],
   "source": [
    "nv.MDAnalysisTrajectory??"
   ]
  },
  {
   "cell_type": "code",
   "execution_count": 88,
   "metadata": {},
   "outputs": [
    {
     "data": {
      "text/plain": [
       "<nglview.component.ComponentViewer at 0x7f4afe143340>"
      ]
     },
     "execution_count": 88,
     "metadata": {},
     "output_type": "execute_result"
    }
   ],
   "source": [
    "view.add_component(res[\"superposed\"][2])"
   ]
  },
  {
   "cell_type": "code",
   "execution_count": 97,
   "metadata": {},
   "outputs": [],
   "source": [
    "a, b, _ = res[\"superposed\"]"
   ]
  },
  {
   "cell_type": "code",
   "execution_count": 102,
   "metadata": {},
   "outputs": [
    {
     "ename": "IndexError",
     "evalue": "Index 1 exceeds length of trajectory (1).",
     "output_type": "error",
     "traceback": [
      "\u001b[0;31m---------------------------------------------------------------------------\u001b[0m",
      "\u001b[0;31mIndexError\u001b[0m                                Traceback (most recent call last)",
      "\u001b[0;32m<ipython-input-102-c50ac6f81906>\u001b[0m in \u001b[0;36m<module>\u001b[0;34m\u001b[0m\n\u001b[0;32m----> 1\u001b[0;31m \u001b[0ma\u001b[0m\u001b[0;34m.\u001b[0m\u001b[0muniverse\u001b[0m\u001b[0;34m.\u001b[0m\u001b[0mtrajectory\u001b[0m\u001b[0;34m[\u001b[0m\u001b[0;36m1\u001b[0m\u001b[0;34m]\u001b[0m\u001b[0;34m\u001b[0m\u001b[0;34m\u001b[0m\u001b[0m\n\u001b[0m",
      "\u001b[0;32m~/.conda/envs/structuralalignment/lib/python3.8/site-packages/MDAnalysis/coordinates/base.py\u001b[0m in \u001b[0;36m__getitem__\u001b[0;34m(self, frame)\u001b[0m\n\u001b[1;32m   1536\u001b[0m         \"\"\"\n\u001b[1;32m   1537\u001b[0m         \u001b[0;32mif\u001b[0m \u001b[0misinstance\u001b[0m\u001b[0;34m(\u001b[0m\u001b[0mframe\u001b[0m\u001b[0;34m,\u001b[0m \u001b[0mnumbers\u001b[0m\u001b[0;34m.\u001b[0m\u001b[0mIntegral\u001b[0m\u001b[0;34m)\u001b[0m\u001b[0;34m:\u001b[0m\u001b[0;34m\u001b[0m\u001b[0;34m\u001b[0m\u001b[0m\n\u001b[0;32m-> 1538\u001b[0;31m             \u001b[0mframe\u001b[0m \u001b[0;34m=\u001b[0m \u001b[0mself\u001b[0m\u001b[0;34m.\u001b[0m\u001b[0m_apply_limits\u001b[0m\u001b[0;34m(\u001b[0m\u001b[0mframe\u001b[0m\u001b[0;34m)\u001b[0m\u001b[0;34m\u001b[0m\u001b[0;34m\u001b[0m\u001b[0m\n\u001b[0m\u001b[1;32m   1539\u001b[0m             \u001b[0;32mreturn\u001b[0m \u001b[0mself\u001b[0m\u001b[0;34m.\u001b[0m\u001b[0m_read_frame_with_aux\u001b[0m\u001b[0;34m(\u001b[0m\u001b[0mframe\u001b[0m\u001b[0;34m)\u001b[0m\u001b[0;34m\u001b[0m\u001b[0;34m\u001b[0m\u001b[0m\n\u001b[1;32m   1540\u001b[0m         \u001b[0;32melif\u001b[0m \u001b[0misinstance\u001b[0m\u001b[0;34m(\u001b[0m\u001b[0mframe\u001b[0m\u001b[0;34m,\u001b[0m \u001b[0;34m(\u001b[0m\u001b[0mlist\u001b[0m\u001b[0;34m,\u001b[0m \u001b[0mnp\u001b[0m\u001b[0;34m.\u001b[0m\u001b[0mndarray\u001b[0m\u001b[0;34m)\u001b[0m\u001b[0;34m)\u001b[0m\u001b[0;34m:\u001b[0m\u001b[0;34m\u001b[0m\u001b[0;34m\u001b[0m\u001b[0m\n",
      "\u001b[0;32m~/.conda/envs/structuralalignment/lib/python3.8/site-packages/MDAnalysis/coordinates/base.py\u001b[0m in \u001b[0;36m_apply_limits\u001b[0;34m(self, frame)\u001b[0m\n\u001b[1;32m   1518\u001b[0m             \u001b[0mframe\u001b[0m \u001b[0;34m+=\u001b[0m \u001b[0mlen\u001b[0m\u001b[0;34m(\u001b[0m\u001b[0mself\u001b[0m\u001b[0;34m)\u001b[0m\u001b[0;34m\u001b[0m\u001b[0;34m\u001b[0m\u001b[0m\n\u001b[1;32m   1519\u001b[0m         \u001b[0;32mif\u001b[0m \u001b[0mframe\u001b[0m \u001b[0;34m<\u001b[0m \u001b[0;36m0\u001b[0m \u001b[0;32mor\u001b[0m \u001b[0mframe\u001b[0m \u001b[0;34m>=\u001b[0m \u001b[0mlen\u001b[0m\u001b[0;34m(\u001b[0m\u001b[0mself\u001b[0m\u001b[0;34m)\u001b[0m\u001b[0;34m:\u001b[0m\u001b[0;34m\u001b[0m\u001b[0;34m\u001b[0m\u001b[0m\n\u001b[0;32m-> 1520\u001b[0;31m             raise IndexError(\"Index {} exceeds length of trajectory ({}).\"\n\u001b[0m\u001b[1;32m   1521\u001b[0m                              \"\".format(frame, len(self)))\n\u001b[1;32m   1522\u001b[0m         \u001b[0;32mreturn\u001b[0m \u001b[0mframe\u001b[0m\u001b[0;34m\u001b[0m\u001b[0;34m\u001b[0m\u001b[0m\n",
      "\u001b[0;31mIndexError\u001b[0m: Index 1 exceeds length of trajectory (1)."
     ]
    }
   ],
   "source": [
    "a.universe.trajectory[1]"
   ]
  },
  {
   "cell_type": "code",
   "execution_count": 47,
   "metadata": {},
   "outputs": [],
   "source": [
    "b.write(\"mob.pdb\")"
   ]
  },
  {
   "cell_type": "markdown",
   "metadata": {},
   "source": [
    "## Report\n",
    "\n",
    "* RMSD before and after\n",
    "* coverage\n",
    "* what residues are mapped"
   ]
  }
 ],
 "metadata": {
  "gist": {
   "data": {
    "description": "CADDSeminar_2018/CADD_course_talktorial_template.ipynb",
    "public": false
   },
   "id": ""
  },
  "kernelspec": {
   "display_name": "Python 3",
   "language": "python",
   "name": "python3"
  },
  "language_info": {
   "codemirror_mode": {
    "name": "ipython",
    "version": 3
   },
   "file_extension": ".py",
   "mimetype": "text/x-python",
   "name": "python",
   "nbconvert_exporter": "python",
   "pygments_lexer": "ipython3",
   "version": "3.8.2"
  }
 },
 "nbformat": 4,
 "nbformat_minor": 4
}
