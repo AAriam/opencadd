{
 "cells": [
  {
   "cell_type": "markdown",
   "metadata": {},
   "source": [
    "# Template for the User Tutorial\n",
    "\n",
    "\n",
    "#### Developed at Volkamer Lab, Charité/FU Berlin \n",
    "\n",
    "by Annie Pham"
   ]
  },
  {
   "cell_type": "markdown",
   "metadata": {},
   "source": [
    "# Introduction\n",
    "\n",
    "## Matchmaker\n",
    "*MatchMaker superimposes protein by first creating pairwise sequence alignments, then fitting the aligned residue pairs.\n",
    "        The standard Needleman-Wunsch and Smith-Waterman algorithms are available for producing global and local sequence alignments\n",
    "        and MatchMaker can identify the best-matching chains based on alignment scores.\n",
    "        Alignment scores can include residue similarity, secondary structure information, and gap penalties.\n",
    "        MatchMaker performs a spatial superposition by minimizing the RMSD.* [(MatchMaker)](https://www.cgl.ucsf.edu/chimera/docs/ContributedSoftware/matchmaker/matchmaker.html)\n",
    "        \n",
    "\n",
    "### Which structures you choose?\n",
    "6HG4 and 6HG9\n"
   ]
  },
  {
   "cell_type": "markdown",
   "metadata": {},
   "source": [
    "# Preparation\n",
    "\n",
    "### How to get the structure from the CLI\n",
    "\n",
    "To get the structures directly from the RCSB, the syntax looks like this:"
   ]
  },
  {
   "cell_type": "code",
   "execution_count": 1,
   "metadata": {},
   "outputs": [
    {
     "name": "stdout",
     "output_type": "stream",
     "text": [
      "usage: superposer [-h] [--version] [-v]\n",
      "                           [--method {theseus,mmligner,matchmaker}]\n",
      "                           [--method-options METHOD_OPTIONS]\n",
      "                           structures [structures ...]\n",
      "superposer: error: argument --method: invalid choice: 'YOUR_METHOD' (choose from 'theseus', 'mmligner', 'matchmaker')\n"
     ]
    }
   ],
   "source": [
    "!superposer --method=YOUR_METHOD NAME_OF_STRUCTURE_1 NAME_OF_STRUCTURE_2"
   ]
  },
  {
   "cell_type": "markdown",
   "metadata": {},
   "source": [
    "When you want to use structures which are locally saved, do this:"
   ]
  },
  {
   "cell_type": "code",
   "execution_count": 2,
   "metadata": {},
   "outputs": [
    {
     "name": "stdout",
     "output_type": "stream",
     "text": [
      "usage: superposer [-h] [--version] [-v]\r\n",
      "                           [--method {theseus,mmligner,matchmaker}]\r\n",
      "                           [--method-options METHOD_OPTIONS]\r\n",
      "                           structures [structures ...]\r\n",
      "superposer: error: argument --method: invalid choice: 'YOUR_METHOD' (choose from 'theseus', 'mmligner', 'matchmaker')\r\n"
     ]
    }
   ],
   "source": [
    "!superposer --method=YOUR_METHOD PATH_OF_STRUCTURE_1 PATH_OF_STRUCTURE_2"
   ]
  },
  {
   "cell_type": "markdown",
   "metadata": {},
   "source": [
    "### Getting the structure in python\n",
    "\n",
    "The method will use atomium.models as input.\n",
    "\n",
    "If you want to get the structures from the RCSB, you can do the following:"
   ]
  },
  {
   "cell_type": "code",
   "execution_count": 1,
   "metadata": {},
   "outputs": [],
   "source": [
    "%load_ext autoreload"
   ]
  },
  {
   "cell_type": "code",
   "execution_count": 2,
   "metadata": {},
   "outputs": [],
   "source": [
    "%autoreload 2"
   ]
  },
  {
   "cell_type": "code",
   "execution_count": 3,
   "metadata": {},
   "outputs": [],
   "source": [
    "import atomium\n",
    "\n",
    "structure1 = atomium.fetch(\"6HG4\").model\n",
    "structure2 = atomium.fetch(\"6HG9\").model"
   ]
  },
  {
   "cell_type": "markdown",
   "metadata": {},
   "source": [
    "# Alignment \n",
    "\n",
    "Factory to configure an aligner based on UCSF Chimera's MatchMaker algorithms.\n",
    "Generating pairwise sequence alignments and matching, i.e., superimposing the structures according to those pairwise alignments\n",
    "\n",
    "\n",
    "\n",
    "\n",
    "The algorithm follows these steps:\n",
    "    1. Sequence alignment -- using \"biotite\" and \"MDAnalysis\"\n",
    "    2. Structural superposition -- using \"MDAnalysis\"\n",
    "    \n",
    "\n",
    "### Parameters for MatchMakerAligner\n",
    "\n",
    "```alignment_strategy : str, optional, default=global```<br> \n",
    "What type of algorithm will be used to calculate the sequence alignment.\n",
    "Choose between:\n",
    "    - \"global\" (Needleman-Wunsch)\n",
    "    - \"local\" (Smith-Waterman)\n",
    "        \n",
    "```alignment_matrix : str, optional, default=BLOSUM62``` <br> \n",
    "The substitution matrix used for scoring\n",
    "        \n",
    "```alignment_gap : int or (tuple, dtype=int), optional```<br> \n",
    "Int the value will be interpreted as general gap penalty. Tupel is provided, an affine gap penalty is used. The first  integer in the tuple is the gap opening penalty, the second integer is the gap extension penalty. The values need to be negative.(Default: -10)\n",
    "       \n",
    "```strict_superposition: bool, optional, default=False```<br> \n",
    "*True:* Will raise SelectionError if a single atom does not match between the two selections. <br> \n",
    "*False:* Will try to prepare a matching selection by dropping residues with non-matching atoms.\n",
    "    \n",
    "```superposition_selection: str or AtomGroup or None, optional,  default=None```<br> \n",
    "*None:* Apply to mobile.universe.atoms (i.e., all atoms in the context of the selection from mobile such as the rest of a protein, ligands and the surrounding water) <br> \n",
    "*str:* Apply to mobile.select_atoms(selection-string), e.g \"protein and name CA\"<br> \n",
    "AtomGroup: Apply to the arbitrary group of atoms\n",
    "        \n",
    "```superposition_weights: {“mass”, None} or array_like, optional```<br> \n",
    "choose weights. With \"mass\" uses masses as weights;\n",
    "*None:* weigh each atom equally<br> \n",
    "If a float array of the same length as mobile is provided, use each element of the array_like as a weight for the corresponding atom in mobile.\n",
    "\n",
    "```superposition_delta_mass_tolerance: float, optional, default=0.1```<br> \n",
    "Reject match if the atomic masses for matched atoms differ by more than tol_mass\n",
    "\n",
    "[References](<https://www.mdanalysis.org/docs/documentation_pages/analysis/align.html#MDAnalysis.analysis.align.alignto>)\n",
    "\n",
    "*calculate:* command superimposes protein or nucleic acid structures by first creating a pairwise sequence alignment, then fitting the aligned residue pairs.\n"
   ]
  },
  {
   "cell_type": "code",
   "execution_count": 4,
   "metadata": {
    "scrolled": false
   },
   "outputs": [
    {
     "name": "stdout",
     "output_type": "stream",
     "text": [
      "CPU times: user 1.83 s, sys: 124 ms, total: 1.95 s\n",
      "Wall time: 2.28 s\n"
     ]
    }
   ],
   "source": [
    "%%time\n",
    "from superposer.superposition.matchmaker import MatchMakerAligner, mda_align\n",
    "from MDAnalysis.analysis.rms import rmsd\n",
    "aligner = MatchMakerAligner(alignment_strategy=\"global\", superposition_selection=\"name CA or name CB\")\n",
    "res = aligner.calculate([structure1, structure2])"
   ]
  },
  {
   "cell_type": "code",
   "execution_count": 5,
   "metadata": {},
   "outputs": [
    {
     "name": "stdout",
     "output_type": "stream",
     "text": [
      "From RMSD = 187.820A to optimized RMSD of 1.597A\n"
     ]
    }
   ],
   "source": [
    "print(f'From RMSD = {res[\"metadata\"][\"initial_rmsd\"]:.3f}A to optimized RMSD of {res[\"scores\"][\"rmsd\"]:.3f}A')"
   ]
  },
  {
   "cell_type": "markdown",
   "metadata": {},
   "source": [
    "# Analysis"
   ]
  },
  {
   "cell_type": "markdown",
   "metadata": {},
   "source": [
    "### NGLview\n",
    "\n",
    "If you have trouble with NGLview, follow this [troubleshooting guide](https://github.com/SBRG/ssbio/wiki/Troubleshooting#tips-for-nglview)."
   ]
  },
  {
   "cell_type": "code",
   "execution_count": 6,
   "metadata": {
    "scrolled": false
   },
   "outputs": [
    {
     "data": {
      "application/vnd.jupyter.widget-view+json": {
       "model_id": "9cf9d3e646574ddbb0530c2c4189f2bd",
       "version_major": 2,
       "version_minor": 0
      },
      "text/plain": [
       "_ColormakerRegistry()"
      ]
     },
     "metadata": {},
     "output_type": "display_data"
    },
    {
     "name": "stdout",
     "output_type": "stream",
     "text": [
      "nglview version = 2.7.5\n"
     ]
    },
    {
     "data": {
      "application/vnd.jupyter.widget-view+json": {
       "model_id": "5861b1e16764427b83608d60e23bac7f",
       "version_major": 2,
       "version_minor": 0
      },
      "text/plain": [
       "NGLWidget()"
      ]
     },
     "metadata": {},
     "output_type": "display_data"
    }
   ],
   "source": [
    "import nglview as nv\n",
    "print(\"nglview version = {}\".format(nv.__version__))\n",
    "# your nglview version should be 1.1.7 or later\n",
    "\n",
    "view = nv.show_mdanalysis(res[\"superposed\"][0].atoms)\n",
    "view.add_component(res[\"superposed\"][1].atoms)\n",
    "\n",
    "view"
   ]
  },
  {
   "cell_type": "code",
   "execution_count": 47,
   "metadata": {},
   "outputs": [],
   "source": [
    "#b.write(\"mob.pdb\")"
   ]
  }
 ],
 "metadata": {
  "gist": {
   "data": {
    "description": "CADDSeminar_2018/CADD_course_talktorial_template.ipynb",
    "public": false
   },
   "id": ""
  },
  "kernelspec": {
   "display_name": "Python 3",
   "language": "python",
   "name": "python3"
  },
  "language_info": {
   "codemirror_mode": {
    "name": "ipython",
    "version": 3
   },
   "file_extension": ".py",
   "mimetype": "text/x-python",
   "name": "python",
   "nbconvert_exporter": "python",
   "pygments_lexer": "ipython3",
   "version": "3.8.2"
  }
 },
 "nbformat": 4,
 "nbformat_minor": 4
}
