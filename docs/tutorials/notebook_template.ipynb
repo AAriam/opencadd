{
 "cells": [
  {
   "cell_type": "markdown",
   "metadata": {},
   "source": [
    "# Template for the User Tutorial\n",
    "\n",
    "\n",
    "#### Developed at Volkamer Lab, Charité/FU Berlin \n",
    "\n",
    "Julian Pipart"
   ]
  },
  {
   "cell_type": "markdown",
   "metadata": {},
   "source": [
    "# Reference\n",
    "\n",
    "### Provide some general information about your method and the source of it\n",
    "\n",
    "Use this citation style\n",
    "\n",
    "* Keyword describing resource: Journal (year), volume, pages (link to resource)\n",
    "\n",
    "Example:\n",
    "\n",
    "* ChEMBL web services: Nucleic Acids Res. (2015), 43, 612-620 (https://academic.oup.com/nar/article/43/W1/W612/2467881)"
   ]
  },
  {
   "cell_type": "markdown",
   "metadata": {},
   "source": [
    "# Introduction\n",
    "\n",
    "\n",
    "## What are the  chosen structures\n",
    "\n",
    "*These points should refer to the headlines of your theory section below.*\n",
    "\n",
    "* Names of the structures \n",
    "* Function of the structures\n",
    "\n",
    "## Why they have been chosen\n",
    "\n",
    "*These points should refer to the headlines of your practical section below.*\n",
    "\n",
    "* Interesting facts (e.g. some event that happened)"
   ]
  },
  {
   "cell_type": "markdown",
   "metadata": {},
   "source": [
    "# Theory\n",
    "\n",
    "## RMSD\n",
    "\n",
    "The RMSD is the average distance between the atoms of superposed structures in Angstrom.\n",
    "\n",
    "## coverage\n",
    "\n",
    "The coverage of the aligned structures."
   ]
  },
  {
   "cell_type": "markdown",
   "metadata": {},
   "source": [
    "# Preparation\n",
    "\n",
    "## How to get the structure from the CLI\n",
    "\n",
    "To get the structures directly from the RCSB, the syntax looks like this:"
   ]
  },
  {
   "cell_type": "code",
   "execution_count": null,
   "metadata": {},
   "outputs": [],
   "source": [
    "!structuralalignment --method=YOUR_METHOD NAME_OF_STRUCTURE_1 NAME_OF_STRUCTURE_2"
   ]
  },
  {
   "cell_type": "markdown",
   "metadata": {},
   "source": [
    "When you want to use structures which are locally saved, do this:"
   ]
  },
  {
   "cell_type": "code",
   "execution_count": null,
   "metadata": {},
   "outputs": [],
   "source": [
    "!structuralalignment --method=YOUR_METHOD PATH_OF_STRUCTURE_1 PATH_OF_STRUCTURE_2"
   ]
  },
  {
   "cell_type": "markdown",
   "metadata": {},
   "source": [
    "## Getting the structure in python\n",
    "\n",
    "The method will use atomium.models as input.\n",
    "\n",
    "If you want to get the structures from the RCSB, you can do the following:"
   ]
  },
  {
   "cell_type": "code",
   "execution_count": null,
   "metadata": {},
   "outputs": [],
   "source": [
    "import atomium\n",
    "\n",
    "structure1 = atomium.fetch(\"YOUR_STRUCTURE\").model\n",
    "structure2 = atomium.fetch(\"YOUR_STRUCTURE\").model"
   ]
  },
  {
   "cell_type": "markdown",
   "metadata": {},
   "source": [
    "If you want to use local structures, use this:"
   ]
  },
  {
   "cell_type": "code",
   "execution_count": null,
   "metadata": {},
   "outputs": [],
   "source": [
    "import atomium\n",
    "\n",
    "structure1 = atomium.open(\"PATH_TO_THE_STRUCTURE.FILETYPE\").model\n",
    "structure2 = atomium.open(\"PATH_TO_THE_STRUCTURE.FILETYPE\").model"
   ]
  },
  {
   "cell_type": "markdown",
   "metadata": {},
   "source": [
    "# Alignment \n",
    "\n",
    "Use your method and explain the steps it takes."
   ]
  },
  {
   "cell_type": "markdown",
   "metadata": {},
   "source": [
    "# Analysis"
   ]
  },
  {
   "cell_type": "markdown",
   "metadata": {},
   "source": [
    "### NGLview\n",
    "\n",
    "If you have trouble with NGLview, follow this [troubleshooting guide](https://github.com/SBRG/ssbio/wiki/Troubleshooting#tips-for-nglview)."
   ]
  },
  {
   "cell_type": "code",
   "execution_count": null,
   "metadata": {
    "scrolled": false
   },
   "outputs": [],
   "source": [
    "import nglview as nv\n",
    "print(\"nglview version = {}\".format(nv.__version__))\n",
    "# your nglview version should be 1.1.7 or later\n",
    "\n",
    "view = nv.show_structure_file('PATH_OF_YOUR_STRUCTURE')\n",
    "view"
   ]
  },
  {
   "cell_type": "markdown",
   "metadata": {},
   "source": [
    "## Report\n",
    "\n",
    "* RMSD before and after\n",
    "* coverage\n",
    "* what residues are mapped"
   ]
  }
 ],
 "metadata": {
  "gist": {
   "data": {
    "description": "CADDSeminar_2018/CADD_course_talktorial_template.ipynb",
    "public": false
   },
   "id": ""
  },
  "kernelspec": {
   "display_name": "Python 3.7.6 64-bit ('MyProjectspy': conda)",
   "language": "python",
   "name": "python37664bitmyprojectspyconda0836668e27764d588d95a1db66e59e7e"
  },
  "language_info": {
   "codemirror_mode": {
    "name": "ipython",
    "version": 3
   },
   "file_extension": ".py",
   "mimetype": "text/x-python",
   "name": "python",
   "nbconvert_exporter": "python",
   "pygments_lexer": "ipython3",
   "version": "3.7.6"
  }
 },
 "nbformat": 4,
 "nbformat_minor": 4
}
