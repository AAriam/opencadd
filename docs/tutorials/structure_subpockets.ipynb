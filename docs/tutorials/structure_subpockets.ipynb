{
 "cells": [
  {
   "cell_type": "markdown",
   "metadata": {},
   "source": [
    "# The `opencadd.structure.subpockets` module\n",
    "\n",
    "Add introduction..."
   ]
  },
  {
   "cell_type": "code",
   "execution_count": 1,
   "metadata": {},
   "outputs": [],
   "source": [
    "%load_ext autoreload\n",
    "%autoreload 2"
   ]
  },
  {
   "cell_type": "code",
   "execution_count": 2,
   "metadata": {},
   "outputs": [],
   "source": [
    "from pathlib import Path\n",
    "\n",
    "import numpy as np\n",
    "import pandas as pd\n",
    "\n",
    "from opencadd.structure.subpockets.parser import Mol2ToDataFrame\n",
    "from opencadd.structure.subpockets.core import Residue, Subpocket"
   ]
  },
  {
   "cell_type": "code",
   "execution_count": 3,
   "metadata": {},
   "outputs": [],
   "source": [
    "# Change to repo path later\n",
    "TEST_DATA = Path(\"/home/dominique/Documents/Work/Projects/KinFragLib/data/raw/KLIFS_download/HUMAN/ALK1/3my0_chainA/complex.mol2\")"
   ]
  },
  {
   "cell_type": "markdown",
   "metadata": {},
   "source": [
    "## Pocket\n",
    "\n",
    "Not implemented yet. What kind of input format shall we ask from the user?"
   ]
  },
  {
   "cell_type": "code",
   "execution_count": 4,
   "metadata": {},
   "outputs": [
    {
     "data": {
      "text/html": [
       "<div>\n",
       "<style scoped>\n",
       "    .dataframe tbody tr th:only-of-type {\n",
       "        vertical-align: middle;\n",
       "    }\n",
       "\n",
       "    .dataframe tbody tr th {\n",
       "        vertical-align: top;\n",
       "    }\n",
       "\n",
       "    .dataframe thead th {\n",
       "        text-align: right;\n",
       "    }\n",
       "</style>\n",
       "<table border=\"1\" class=\"dataframe\">\n",
       "  <thead>\n",
       "    <tr style=\"text-align: right;\">\n",
       "      <th></th>\n",
       "      <th>subpocket.name</th>\n",
       "      <th>subpocket.color</th>\n",
       "      <th>anchor_residue.pdb_ids</th>\n",
       "      <th>anchor_residue.labels</th>\n",
       "    </tr>\n",
       "  </thead>\n",
       "  <tbody>\n",
       "    <tr>\n",
       "      <th>0</th>\n",
       "      <td>hinge</td>\n",
       "      <td>magenta</td>\n",
       "      <td>[200, 250, 300]</td>\n",
       "      <td>[a, b, b]</td>\n",
       "    </tr>\n",
       "    <tr>\n",
       "      <th>1</th>\n",
       "      <td>front pocket</td>\n",
       "      <td>blue</td>\n",
       "      <td>[201, 255, 304]</td>\n",
       "      <td>[1, 2, 3]</td>\n",
       "    </tr>\n",
       "  </tbody>\n",
       "</table>\n",
       "</div>"
      ],
      "text/plain": [
       "  subpocket.name subpocket.color anchor_residue.pdb_ids anchor_residue.labels\n",
       "0          hinge         magenta        [200, 250, 300]             [a, b, b]\n",
       "1   front pocket            blue        [201, 255, 304]             [1, 2, 3]"
      ]
     },
     "execution_count": 4,
     "metadata": {},
     "output_type": "execute_result"
    }
   ],
   "source": [
    "subpocket_details = {\n",
    "    \n",
    "    \"subpocket.name\": [\"hinge\", \"front pocket\"], \n",
    "    \"subpocket.color\": [\"magenta\", \"blue\"], \n",
    "    \"anchor_residue.pdb_ids\": [[200, 250, 300], [201, 255, 304]], \n",
    "    \"anchor_residue.labels\": [[\"a\", \"b\", \"b\"], [1, 2, 3]]\n",
    "}\n",
    "subpocket_details = pd.DataFrame(subpocket_details)\n",
    "subpocket_details"
   ]
  },
  {
   "cell_type": "markdown",
   "metadata": {},
   "source": [
    "## Subpocket"
   ]
  },
  {
   "cell_type": "code",
   "execution_count": 5,
   "metadata": {},
   "outputs": [],
   "source": [
    "parser = Mol2ToDataFrame()\n",
    "dataframe = parser.from_file(TEST_DATA)"
   ]
  },
  {
   "cell_type": "code",
   "execution_count": 6,
   "metadata": {},
   "outputs": [
    {
     "data": {
      "text/html": [
       "<div>\n",
       "<style scoped>\n",
       "    .dataframe tbody tr th:only-of-type {\n",
       "        vertical-align: middle;\n",
       "    }\n",
       "\n",
       "    .dataframe tbody tr th {\n",
       "        vertical-align: top;\n",
       "    }\n",
       "\n",
       "    .dataframe thead th {\n",
       "        text-align: right;\n",
       "    }\n",
       "</style>\n",
       "<table border=\"1\" class=\"dataframe\">\n",
       "  <thead>\n",
       "    <tr style=\"text-align: right;\">\n",
       "      <th></th>\n",
       "      <th>subpocket.name</th>\n",
       "      <th>subpocket.color</th>\n",
       "      <th>anchor_residue.pdb_id</th>\n",
       "      <th>anchor_residue.pdb_id_alternative</th>\n",
       "      <th>anchor_residue.label</th>\n",
       "      <th>anchor_residue.center</th>\n",
       "    </tr>\n",
       "  </thead>\n",
       "  <tbody>\n",
       "    <tr>\n",
       "      <th>0</th>\n",
       "      <td>hinge</td>\n",
       "      <td>magenta</td>\n",
       "      <td>200</td>\n",
       "      <td>None</td>\n",
       "      <td>a</td>\n",
       "      <td>[16.1335, 27.8825, 48.6783]</td>\n",
       "    </tr>\n",
       "    <tr>\n",
       "      <th>1</th>\n",
       "      <td>hinge</td>\n",
       "      <td>magenta</td>\n",
       "      <td>250</td>\n",
       "      <td>None</td>\n",
       "      <td>b</td>\n",
       "      <td>[1.031, 34.9385, 30.1006]</td>\n",
       "    </tr>\n",
       "    <tr>\n",
       "      <th>2</th>\n",
       "      <td>hinge</td>\n",
       "      <td>magenta</td>\n",
       "      <td>300</td>\n",
       "      <td>None</td>\n",
       "      <td>b</td>\n",
       "      <td>[-21.0176, 19.4995, 36.3637]</td>\n",
       "    </tr>\n",
       "  </tbody>\n",
       "</table>\n",
       "</div>"
      ],
      "text/plain": [
       "  subpocket.name subpocket.color anchor_residue.pdb_id  \\\n",
       "0          hinge         magenta                   200   \n",
       "1          hinge         magenta                   250   \n",
       "2          hinge         magenta                   300   \n",
       "\n",
       "  anchor_residue.pdb_id_alternative anchor_residue.label  \\\n",
       "0                              None                    a   \n",
       "1                              None                    b   \n",
       "2                              None                    b   \n",
       "\n",
       "          anchor_residue.center  \n",
       "0   [16.1335, 27.8825, 48.6783]  \n",
       "1     [1.031, 34.9385, 30.1006]  \n",
       "2  [-21.0176, 19.4995, 36.3637]  "
      ]
     },
     "execution_count": 6,
     "metadata": {},
     "output_type": "execute_result"
    }
   ],
   "source": [
    "subpocket = Subpocket()\n",
    "subpocket.from_anchor_residue_ids(dataframe, \"hinge\", \"magenta\", [200, 250, 300], [\"a\", \"b\", \"b\"])\n",
    "subpocket.anchor_residues"
   ]
  },
  {
   "cell_type": "markdown",
   "metadata": {},
   "source": [
    "## Residue"
   ]
  },
  {
   "cell_type": "code",
   "execution_count": 7,
   "metadata": {},
   "outputs": [
    {
     "data": {
      "text/html": [
       "<div>\n",
       "<style scoped>\n",
       "    .dataframe tbody tr th:only-of-type {\n",
       "        vertical-align: middle;\n",
       "    }\n",
       "\n",
       "    .dataframe tbody tr th {\n",
       "        vertical-align: top;\n",
       "    }\n",
       "\n",
       "    .dataframe thead th {\n",
       "        text-align: right;\n",
       "    }\n",
       "</style>\n",
       "<table border=\"1\" class=\"dataframe\">\n",
       "  <thead>\n",
       "    <tr style=\"text-align: right;\">\n",
       "      <th></th>\n",
       "      <th>atom.id</th>\n",
       "      <th>atom.name</th>\n",
       "      <th>atom.x</th>\n",
       "      <th>atom.y</th>\n",
       "      <th>atom.z</th>\n",
       "      <th>atom.type</th>\n",
       "      <th>residue.subst_id</th>\n",
       "      <th>residue.subst_name</th>\n",
       "      <th>atom.charge</th>\n",
       "      <th>atom.backbone</th>\n",
       "      <th>residue.name</th>\n",
       "      <th>residue.pdb_id</th>\n",
       "    </tr>\n",
       "  </thead>\n",
       "  <tbody>\n",
       "    <tr>\n",
       "      <th>14</th>\n",
       "      <td>15</td>\n",
       "      <td>CA</td>\n",
       "      <td>12.9077</td>\n",
       "      <td>32.1424</td>\n",
       "      <td>41.3883</td>\n",
       "      <td>C.3</td>\n",
       "      <td>2</td>\n",
       "      <td>GLN195</td>\n",
       "      <td>0.0</td>\n",
       "      <td>BACKBONE</td>\n",
       "      <td>GLN</td>\n",
       "      <td>195</td>\n",
       "    </tr>\n",
       "    <tr>\n",
       "      <th>41</th>\n",
       "      <td>42</td>\n",
       "      <td>CA</td>\n",
       "      <td>15.7139</td>\n",
       "      <td>31.8349</td>\n",
       "      <td>46.4675</td>\n",
       "      <td>C.3</td>\n",
       "      <td>4</td>\n",
       "      <td>THR197</td>\n",
       "      <td>0.0</td>\n",
       "      <td>BACKBONE</td>\n",
       "      <td>THR</td>\n",
       "      <td>197</td>\n",
       "    </tr>\n",
       "    <tr>\n",
       "      <th>91</th>\n",
       "      <td>92</td>\n",
       "      <td>CA</td>\n",
       "      <td>13.6256</td>\n",
       "      <td>28.7130</td>\n",
       "      <td>51.4419</td>\n",
       "      <td>C.3</td>\n",
       "      <td>8</td>\n",
       "      <td>GLN201</td>\n",
       "      <td>0.0</td>\n",
       "      <td>BACKBONE</td>\n",
       "      <td>GLN</td>\n",
       "      <td>201</td>\n",
       "    </tr>\n",
       "  </tbody>\n",
       "</table>\n",
       "</div>"
      ],
      "text/plain": [
       "    atom.id atom.name   atom.x   atom.y   atom.z atom.type  residue.subst_id  \\\n",
       "14       15        CA  12.9077  32.1424  41.3883       C.3                 2   \n",
       "41       42        CA  15.7139  31.8349  46.4675       C.3                 4   \n",
       "91       92        CA  13.6256  28.7130  51.4419       C.3                 8   \n",
       "\n",
       "   residue.subst_name  atom.charge atom.backbone residue.name residue.pdb_id  \n",
       "14             GLN195          0.0      BACKBONE          GLN            195  \n",
       "41             THR197          0.0      BACKBONE          THR            197  \n",
       "91             GLN201          0.0      BACKBONE          GLN            201  "
      ]
     },
     "execution_count": 7,
     "metadata": {},
     "output_type": "execute_result"
    }
   ],
   "source": [
    "parser = Mol2ToDataFrame()\n",
    "dataframe = parser.from_file(TEST_DATA)\n",
    "dataframe = dataframe[(dataframe[\"residue.pdb_id\"].isin([\"195\", \"197\", \"201\"])) & (dataframe[\"atom.name\"] == \"CA\")]\n",
    "dataframe"
   ]
  },
  {
   "cell_type": "markdown",
   "metadata": {},
   "source": [
    "### Test behaviour for missing anchor residue"
   ]
  },
  {
   "cell_type": "code",
   "execution_count": 8,
   "metadata": {},
   "outputs": [],
   "source": [
    "def test_anchor_residue_behaviour(dataframe, residue_pdb_id):\n",
    "    residue = Residue()\n",
    "    residue.from_dataframe(dataframe, residue_pdb_id)\n",
    "    print(\"Input residue: \", residue.pdb_id)\n",
    "    print(\"Alternative residue: \", residue.pdb_id_alternative)\n",
    "    print(\"Residue center: \", residue.center)"
   ]
  },
  {
   "cell_type": "markdown",
   "metadata": {},
   "source": [
    "#### Case 1: Anchor residue available"
   ]
  },
  {
   "cell_type": "code",
   "execution_count": 9,
   "metadata": {},
   "outputs": [
    {
     "name": "stdout",
     "output_type": "stream",
     "text": [
      "Input residue:  195\n",
      "Alternative residue:  None\n",
      "Residue center:  [12.9077 32.1424 41.3883]\n"
     ]
    }
   ],
   "source": [
    "test_anchor_residue_behaviour(dataframe, \"195\")"
   ]
  },
  {
   "cell_type": "markdown",
   "metadata": {},
   "source": [
    "#### Case 2: Anchor residue not available, but residues before and after"
   ]
  },
  {
   "cell_type": "code",
   "execution_count": 10,
   "metadata": {},
   "outputs": [
    {
     "name": "stdout",
     "output_type": "stream",
     "text": [
      "Input residue:  196\n",
      "Alternative residue:  ['195', '197']\n",
      "Residue center:  [14.3108  31.98865 43.9279 ]\n"
     ]
    }
   ],
   "source": [
    "test_anchor_residue_behaviour(dataframe, \"196\")"
   ]
  },
  {
   "cell_type": "markdown",
   "metadata": {},
   "source": [
    "#### Case 3: Anchor residue not available, but residues before (not after)"
   ]
  },
  {
   "cell_type": "code",
   "execution_count": 11,
   "metadata": {},
   "outputs": [
    {
     "name": "stdout",
     "output_type": "stream",
     "text": [
      "Input residue:  198\n",
      "Alternative residue:  ['197']\n",
      "Residue center:  [15.7139 31.8349 46.4675]\n"
     ]
    }
   ],
   "source": [
    "test_anchor_residue_behaviour(dataframe, \"198\")"
   ]
  },
  {
   "cell_type": "markdown",
   "metadata": {},
   "source": [
    "#### Case 4: Anchor residue not available, but residues after (not before)"
   ]
  },
  {
   "cell_type": "code",
   "execution_count": 12,
   "metadata": {},
   "outputs": [
    {
     "name": "stdout",
     "output_type": "stream",
     "text": [
      "Input residue:  200\n",
      "Alternative residue:  ['201']\n",
      "Residue center:  [13.6256 28.713  51.4419]\n"
     ]
    }
   ],
   "source": [
    "test_anchor_residue_behaviour(dataframe, \"200\")"
   ]
  },
  {
   "cell_type": "markdown",
   "metadata": {},
   "source": [
    "#### Case 5: Anchor residue and residues before and after not available"
   ]
  },
  {
   "cell_type": "code",
   "execution_count": 13,
   "metadata": {},
   "outputs": [
    {
     "name": "stdout",
     "output_type": "stream",
     "text": [
      "Input residue:  199\n",
      "Alternative residue:  None\n",
      "Residue center:  None\n"
     ]
    }
   ],
   "source": [
    "test_anchor_residue_behaviour(dataframe, \"199\")"
   ]
  },
  {
   "cell_type": "code",
   "execution_count": null,
   "metadata": {},
   "outputs": [],
   "source": []
  }
 ],
 "metadata": {
  "kernelspec": {
   "display_name": "opencadd",
   "language": "python",
   "name": "opencadd"
  },
  "language_info": {
   "codemirror_mode": {
    "name": "ipython",
    "version": 3
   },
   "file_extension": ".py",
   "mimetype": "text/x-python",
   "name": "python",
   "nbconvert_exporter": "python",
   "pygments_lexer": "ipython3",
   "version": "3.8.5"
  }
 },
 "nbformat": 4,
 "nbformat_minor": 4
}
