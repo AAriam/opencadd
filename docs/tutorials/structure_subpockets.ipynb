{
 "cells": [
  {
   "cell_type": "markdown",
   "metadata": {},
   "source": [
    "# The `opencadd.structure.subpockets` module\n",
    "\n",
    "Add introduction..."
   ]
  },
  {
   "cell_type": "code",
   "execution_count": 1,
   "metadata": {},
   "outputs": [],
   "source": [
    "%load_ext autoreload\n",
    "%autoreload 2"
   ]
  },
  {
   "cell_type": "code",
   "execution_count": 2,
   "metadata": {},
   "outputs": [],
   "source": [
    "import pandas as pd\n",
    "\n",
    "from opencadd.structure.subpockets.core import Pocket, Subpocket, Region, AnchorResidue"
   ]
  },
  {
   "cell_type": "markdown",
   "metadata": {},
   "source": [
    "## Example structural data as `DataFrame`"
   ]
  },
  {
   "cell_type": "code",
   "execution_count": 3,
   "metadata": {},
   "outputs": [
    {
     "data": {
      "text/html": [
       "<div>\n",
       "<style scoped>\n",
       "    .dataframe tbody tr th:only-of-type {\n",
       "        vertical-align: middle;\n",
       "    }\n",
       "\n",
       "    .dataframe tbody tr th {\n",
       "        vertical-align: top;\n",
       "    }\n",
       "\n",
       "    .dataframe thead th {\n",
       "        text-align: right;\n",
       "    }\n",
       "</style>\n",
       "<table border=\"1\" class=\"dataframe\">\n",
       "  <thead>\n",
       "    <tr style=\"text-align: right;\">\n",
       "      <th></th>\n",
       "      <th>residue.pdb_id</th>\n",
       "      <th>atom.name</th>\n",
       "      <th>atom.x</th>\n",
       "      <th>atom.y</th>\n",
       "      <th>atom.z</th>\n",
       "    </tr>\n",
       "  </thead>\n",
       "  <tbody>\n",
       "    <tr>\n",
       "      <th>0</th>\n",
       "      <td>1</td>\n",
       "      <td>CA</td>\n",
       "      <td>1.0</td>\n",
       "      <td>1.0</td>\n",
       "      <td>1.0</td>\n",
       "    </tr>\n",
       "    <tr>\n",
       "      <th>1</th>\n",
       "      <td>2</td>\n",
       "      <td>CA</td>\n",
       "      <td>2.0</td>\n",
       "      <td>2.0</td>\n",
       "      <td>2.0</td>\n",
       "    </tr>\n",
       "    <tr>\n",
       "      <th>2</th>\n",
       "      <td>3</td>\n",
       "      <td>CA</td>\n",
       "      <td>3.0</td>\n",
       "      <td>3.0</td>\n",
       "      <td>3.0</td>\n",
       "    </tr>\n",
       "    <tr>\n",
       "      <th>3</th>\n",
       "      <td>7</td>\n",
       "      <td>CA</td>\n",
       "      <td>4.0</td>\n",
       "      <td>4.0</td>\n",
       "      <td>4.0</td>\n",
       "    </tr>\n",
       "    <tr>\n",
       "      <th>4</th>\n",
       "      <td>8</td>\n",
       "      <td>CA</td>\n",
       "      <td>20.0</td>\n",
       "      <td>20.0</td>\n",
       "      <td>20.0</td>\n",
       "    </tr>\n",
       "    <tr>\n",
       "      <th>5</th>\n",
       "      <td>9</td>\n",
       "      <td>CA</td>\n",
       "      <td>30.0</td>\n",
       "      <td>30.0</td>\n",
       "      <td>30.0</td>\n",
       "    </tr>\n",
       "    <tr>\n",
       "      <th>6</th>\n",
       "      <td>11</td>\n",
       "      <td>CA</td>\n",
       "      <td>40.0</td>\n",
       "      <td>40.0</td>\n",
       "      <td>40.0</td>\n",
       "    </tr>\n",
       "  </tbody>\n",
       "</table>\n",
       "</div>"
      ],
      "text/plain": [
       "  residue.pdb_id atom.name  atom.x  atom.y  atom.z\n",
       "0              1        CA     1.0     1.0     1.0\n",
       "1              2        CA     2.0     2.0     2.0\n",
       "2              3        CA     3.0     3.0     3.0\n",
       "3              7        CA     4.0     4.0     4.0\n",
       "4              8        CA    20.0    20.0    20.0\n",
       "5              9        CA    30.0    30.0    30.0\n",
       "6             11        CA    40.0    40.0    40.0"
      ]
     },
     "execution_count": 3,
     "metadata": {},
     "output_type": "execute_result"
    }
   ],
   "source": [
    "dataframe = pd.DataFrame(\n",
    "    {\"residue.pdb_id\": [\"1\", \"2\", \"3\", \"7\", \"8\", \"9\", \"11\"],\n",
    "     \"atom.name\": [\"CA\", \"CA\", \"CA\", \"CA\", \"CA\", \"CA\", \"CA\"],\n",
    "     \"atom.x\": [1.0, 2.0, 3.0, 4.0, 20.0, 30.0, 40.0],\n",
    "     \"atom.y\": [1.0, 2.0, 3.0, 4.0, 20.0, 30.0, 40.0],\n",
    "     \"atom.z\": [1.0, 2.0, 3.0, 4.0, 20.0, 30.0, 40.0]\n",
    "    }\n",
    ")\n",
    "dataframe"
   ]
  },
  {
   "cell_type": "markdown",
   "metadata": {},
   "source": [
    "## Pocket\n",
    "\n",
    "The `Pocket` class currently holds the following attributes/properties:\n",
    "\n",
    "- `data`: a `DataFrame` containing the structural data of the full protein or the pocket\n",
    "- `name`: the protein/pocket name\n",
    "- `subpockets`: subpockets defined based on a set of anchor residues each\n",
    "- `regions`: user-defined regions that are of importance for the protein/pocket"
   ]
  },
  {
   "cell_type": "markdown",
   "metadata": {},
   "source": [
    "### Initialize pocket"
   ]
  },
  {
   "cell_type": "markdown",
   "metadata": {},
   "source": [
    "We initialize the pocket with its name and the pocket/protein structural data."
   ]
  },
  {
   "cell_type": "code",
   "execution_count": 4,
   "metadata": {},
   "outputs": [],
   "source": [
    "pocket = Pocket(dataframe, \"example kinase\")"
   ]
  },
  {
   "cell_type": "markdown",
   "metadata": {},
   "source": [
    "We have not set any subpockets or regions (`None`), yet:"
   ]
  },
  {
   "cell_type": "code",
   "execution_count": 5,
   "metadata": {},
   "outputs": [],
   "source": [
    "pocket.subpockets"
   ]
  },
  {
   "cell_type": "code",
   "execution_count": 6,
   "metadata": {},
   "outputs": [],
   "source": [
    "pocket.regions"
   ]
  },
  {
   "cell_type": "markdown",
   "metadata": {},
   "source": [
    "### Add subpockets\n",
    "\n",
    "Next, we can add subpockets one-by-one to the pocket. For each subpocket we define the following:\n",
    "- a subpocket __name__, \n",
    "- a subpocket __color__, \n",
    "- the __residue PDB IDs__ of all __anchor residues__, i.e. the residues determining the subpocket center (centroid of all anchor residues' CA atoms) and \n",
    "- optionally __residue labels__ for all __anchor residues__, e.g. if we want to pass an alignment ID to each residue.\n",
    "\n",
    "The class method `add_subpocket` uses the `Subpocket` class."
   ]
  },
  {
   "cell_type": "code",
   "execution_count": 7,
   "metadata": {},
   "outputs": [],
   "source": [
    "pocket.add_subpocket(\"AP\", \"magenta\", [1, 2, 3], [\"a\", \"b\", \"c\"])\n",
    "pocket.add_subpocket(\"GA\", \"orange\", [7, 8, 9], [\"x\", \"y\", \"z\"])\n",
    "pocket.add_subpocket(\"na\", \"black\", [100, 200])"
   ]
  },
  {
   "cell_type": "markdown",
   "metadata": {},
   "source": [
    "Using the `Pocket`'s property `subpockets`, we get an overview of all specified subpockets."
   ]
  },
  {
   "cell_type": "code",
   "execution_count": 8,
   "metadata": {},
   "outputs": [
    {
     "data": {
      "text/html": [
       "<div>\n",
       "<style scoped>\n",
       "    .dataframe tbody tr th:only-of-type {\n",
       "        vertical-align: middle;\n",
       "    }\n",
       "\n",
       "    .dataframe tbody tr th {\n",
       "        vertical-align: top;\n",
       "    }\n",
       "\n",
       "    .dataframe thead th {\n",
       "        text-align: right;\n",
       "    }\n",
       "</style>\n",
       "<table border=\"1\" class=\"dataframe\">\n",
       "  <thead>\n",
       "    <tr style=\"text-align: right;\">\n",
       "      <th></th>\n",
       "      <th>subpocket.name</th>\n",
       "      <th>subpocket.color</th>\n",
       "      <th>subpocket.center</th>\n",
       "    </tr>\n",
       "  </thead>\n",
       "  <tbody>\n",
       "    <tr>\n",
       "      <th>0</th>\n",
       "      <td>AP</td>\n",
       "      <td>magenta</td>\n",
       "      <td>[2.0, 2.0, 2.0]</td>\n",
       "    </tr>\n",
       "    <tr>\n",
       "      <th>1</th>\n",
       "      <td>GA</td>\n",
       "      <td>orange</td>\n",
       "      <td>[18.0, 18.0, 18.0]</td>\n",
       "    </tr>\n",
       "    <tr>\n",
       "      <th>2</th>\n",
       "      <td>na</td>\n",
       "      <td>black</td>\n",
       "      <td>None</td>\n",
       "    </tr>\n",
       "  </tbody>\n",
       "</table>\n",
       "</div>"
      ],
      "text/plain": [
       "  subpocket.name subpocket.color    subpocket.center\n",
       "0             AP         magenta     [2.0, 2.0, 2.0]\n",
       "1             GA          orange  [18.0, 18.0, 18.0]\n",
       "2             na           black                None"
      ]
     },
     "execution_count": 8,
     "metadata": {},
     "output_type": "execute_result"
    }
   ],
   "source": [
    "pocket.subpockets"
   ]
  },
  {
   "cell_type": "markdown",
   "metadata": {},
   "source": [
    "Using the `Pocket`'s property `anchor_residues`, we get an overview of all subpockets' anchor residues."
   ]
  },
  {
   "cell_type": "code",
   "execution_count": 9,
   "metadata": {},
   "outputs": [
    {
     "data": {
      "text/html": [
       "<div>\n",
       "<style scoped>\n",
       "    .dataframe tbody tr th:only-of-type {\n",
       "        vertical-align: middle;\n",
       "    }\n",
       "\n",
       "    .dataframe tbody tr th {\n",
       "        vertical-align: top;\n",
       "    }\n",
       "\n",
       "    .dataframe thead th {\n",
       "        text-align: right;\n",
       "    }\n",
       "</style>\n",
       "<table border=\"1\" class=\"dataframe\">\n",
       "  <thead>\n",
       "    <tr style=\"text-align: right;\">\n",
       "      <th></th>\n",
       "      <th>subpocket.name</th>\n",
       "      <th>subpocket.color</th>\n",
       "      <th>anchor_residue.pdb_id</th>\n",
       "      <th>anchor_residue.pdb_id_alternative</th>\n",
       "      <th>anchor_residue.label</th>\n",
       "      <th>anchor_residue.center</th>\n",
       "    </tr>\n",
       "  </thead>\n",
       "  <tbody>\n",
       "    <tr>\n",
       "      <th>0</th>\n",
       "      <td>AP</td>\n",
       "      <td>magenta</td>\n",
       "      <td>1</td>\n",
       "      <td>None</td>\n",
       "      <td>a</td>\n",
       "      <td>[1.0, 1.0, 1.0]</td>\n",
       "    </tr>\n",
       "    <tr>\n",
       "      <th>1</th>\n",
       "      <td>AP</td>\n",
       "      <td>magenta</td>\n",
       "      <td>2</td>\n",
       "      <td>None</td>\n",
       "      <td>b</td>\n",
       "      <td>[2.0, 2.0, 2.0]</td>\n",
       "    </tr>\n",
       "    <tr>\n",
       "      <th>2</th>\n",
       "      <td>AP</td>\n",
       "      <td>magenta</td>\n",
       "      <td>3</td>\n",
       "      <td>None</td>\n",
       "      <td>c</td>\n",
       "      <td>[3.0, 3.0, 3.0]</td>\n",
       "    </tr>\n",
       "    <tr>\n",
       "      <th>0</th>\n",
       "      <td>GA</td>\n",
       "      <td>orange</td>\n",
       "      <td>7</td>\n",
       "      <td>None</td>\n",
       "      <td>x</td>\n",
       "      <td>[4.0, 4.0, 4.0]</td>\n",
       "    </tr>\n",
       "    <tr>\n",
       "      <th>1</th>\n",
       "      <td>GA</td>\n",
       "      <td>orange</td>\n",
       "      <td>8</td>\n",
       "      <td>None</td>\n",
       "      <td>y</td>\n",
       "      <td>[20.0, 20.0, 20.0]</td>\n",
       "    </tr>\n",
       "    <tr>\n",
       "      <th>2</th>\n",
       "      <td>GA</td>\n",
       "      <td>orange</td>\n",
       "      <td>9</td>\n",
       "      <td>None</td>\n",
       "      <td>z</td>\n",
       "      <td>[30.0, 30.0, 30.0]</td>\n",
       "    </tr>\n",
       "    <tr>\n",
       "      <th>0</th>\n",
       "      <td>na</td>\n",
       "      <td>black</td>\n",
       "      <td>100</td>\n",
       "      <td>None</td>\n",
       "      <td>None</td>\n",
       "      <td>None</td>\n",
       "    </tr>\n",
       "    <tr>\n",
       "      <th>1</th>\n",
       "      <td>na</td>\n",
       "      <td>black</td>\n",
       "      <td>200</td>\n",
       "      <td>None</td>\n",
       "      <td>None</td>\n",
       "      <td>None</td>\n",
       "    </tr>\n",
       "  </tbody>\n",
       "</table>\n",
       "</div>"
      ],
      "text/plain": [
       "  subpocket.name subpocket.color anchor_residue.pdb_id  \\\n",
       "0             AP         magenta                     1   \n",
       "1             AP         magenta                     2   \n",
       "2             AP         magenta                     3   \n",
       "0             GA          orange                     7   \n",
       "1             GA          orange                     8   \n",
       "2             GA          orange                     9   \n",
       "0             na           black                   100   \n",
       "1             na           black                   200   \n",
       "\n",
       "  anchor_residue.pdb_id_alternative anchor_residue.label anchor_residue.center  \n",
       "0                              None                    a       [1.0, 1.0, 1.0]  \n",
       "1                              None                    b       [2.0, 2.0, 2.0]  \n",
       "2                              None                    c       [3.0, 3.0, 3.0]  \n",
       "0                              None                    x       [4.0, 4.0, 4.0]  \n",
       "1                              None                    y    [20.0, 20.0, 20.0]  \n",
       "2                              None                    z    [30.0, 30.0, 30.0]  \n",
       "0                              None                 None                  None  \n",
       "1                              None                 None                  None  "
      ]
     },
     "execution_count": 9,
     "metadata": {},
     "output_type": "execute_result"
    }
   ],
   "source": [
    "pocket.anchor_residues"
   ]
  },
  {
   "cell_type": "markdown",
   "metadata": {},
   "source": [
    "### Add regions\n",
    "\n",
    "The `Pocket` class also allows to specify pocket regions, normally used to store key regions, such as the hinge region or the catalytic loop in kinases. This information can be used for pocket visualization.\n",
    "\n",
    "The class method `add_regions` uses the `Regions` class."
   ]
  },
  {
   "cell_type": "code",
   "execution_count": 10,
   "metadata": {},
   "outputs": [],
   "source": [
    "pocket.add_region(\"hinge region\", \"magenta\", [1, 2], [81, 82])\n",
    "pocket.add_region(\"catalytic loop\", \"yellow\", [7, 8], [1, 2])"
   ]
  },
  {
   "cell_type": "code",
   "execution_count": 11,
   "metadata": {},
   "outputs": [
    {
     "data": {
      "text/html": [
       "<div>\n",
       "<style scoped>\n",
       "    .dataframe tbody tr th:only-of-type {\n",
       "        vertical-align: middle;\n",
       "    }\n",
       "\n",
       "    .dataframe tbody tr th {\n",
       "        vertical-align: top;\n",
       "    }\n",
       "\n",
       "    .dataframe thead th {\n",
       "        text-align: right;\n",
       "    }\n",
       "</style>\n",
       "<table border=\"1\" class=\"dataframe\">\n",
       "  <thead>\n",
       "    <tr style=\"text-align: right;\">\n",
       "      <th></th>\n",
       "      <th>region.name</th>\n",
       "      <th>region.color</th>\n",
       "      <th>residue.pdb_ids</th>\n",
       "      <th>residue.label</th>\n",
       "    </tr>\n",
       "  </thead>\n",
       "  <tbody>\n",
       "    <tr>\n",
       "      <th>0</th>\n",
       "      <td>hinge region</td>\n",
       "      <td>magenta</td>\n",
       "      <td>[1, 2]</td>\n",
       "      <td>[81, 82]</td>\n",
       "    </tr>\n",
       "    <tr>\n",
       "      <th>1</th>\n",
       "      <td>catalytic loop</td>\n",
       "      <td>yellow</td>\n",
       "      <td>[7, 8]</td>\n",
       "      <td>[1, 2]</td>\n",
       "    </tr>\n",
       "  </tbody>\n",
       "</table>\n",
       "</div>"
      ],
      "text/plain": [
       "      region.name region.color residue.pdb_ids residue.label\n",
       "0    hinge region      magenta          [1, 2]      [81, 82]\n",
       "1  catalytic loop       yellow          [7, 8]        [1, 2]"
      ]
     },
     "execution_count": 11,
     "metadata": {},
     "output_type": "execute_result"
    }
   ],
   "source": [
    "pocket.regions"
   ]
  },
  {
   "cell_type": "markdown",
   "metadata": {},
   "source": [
    "## Subpocket\n",
    "\n",
    "It is also possible to define a single subpocket, using the `Subpocket` class directly."
   ]
  },
  {
   "cell_type": "code",
   "execution_count": 12,
   "metadata": {},
   "outputs": [],
   "source": [
    "subpocket = Subpocket()\n",
    "subpocket.from_dataframe(dataframe, \"AP\", \"magenta\", [1, 2, 3], [\"a\", \"b\", \"c\"])"
   ]
  },
  {
   "cell_type": "markdown",
   "metadata": {},
   "source": [
    "Get the subpocket name and color."
   ]
  },
  {
   "cell_type": "code",
   "execution_count": 13,
   "metadata": {},
   "outputs": [
    {
     "name": "stdout",
     "output_type": "stream",
     "text": [
      "AP\n",
      "magenta\n"
     ]
    }
   ],
   "source": [
    "print(subpocket.name)\n",
    "print(subpocket.color)"
   ]
  },
  {
   "cell_type": "markdown",
   "metadata": {},
   "source": [
    "Get the subpocket center."
   ]
  },
  {
   "cell_type": "code",
   "execution_count": 14,
   "metadata": {},
   "outputs": [
    {
     "data": {
      "text/plain": [
       "array([2., 2., 2.])"
      ]
     },
     "execution_count": 14,
     "metadata": {},
     "output_type": "execute_result"
    }
   ],
   "source": [
    "subpocket.center"
   ]
  },
  {
   "cell_type": "markdown",
   "metadata": {},
   "source": [
    "Get details on all anchor residues used to calculate the subpocket center."
   ]
  },
  {
   "cell_type": "code",
   "execution_count": 15,
   "metadata": {},
   "outputs": [
    {
     "data": {
      "text/html": [
       "<div>\n",
       "<style scoped>\n",
       "    .dataframe tbody tr th:only-of-type {\n",
       "        vertical-align: middle;\n",
       "    }\n",
       "\n",
       "    .dataframe tbody tr th {\n",
       "        vertical-align: top;\n",
       "    }\n",
       "\n",
       "    .dataframe thead th {\n",
       "        text-align: right;\n",
       "    }\n",
       "</style>\n",
       "<table border=\"1\" class=\"dataframe\">\n",
       "  <thead>\n",
       "    <tr style=\"text-align: right;\">\n",
       "      <th></th>\n",
       "      <th>subpocket.name</th>\n",
       "      <th>subpocket.color</th>\n",
       "      <th>anchor_residue.pdb_id</th>\n",
       "      <th>anchor_residue.pdb_id_alternative</th>\n",
       "      <th>anchor_residue.label</th>\n",
       "      <th>anchor_residue.center</th>\n",
       "    </tr>\n",
       "  </thead>\n",
       "  <tbody>\n",
       "    <tr>\n",
       "      <th>0</th>\n",
       "      <td>AP</td>\n",
       "      <td>magenta</td>\n",
       "      <td>1</td>\n",
       "      <td>None</td>\n",
       "      <td>a</td>\n",
       "      <td>[1.0, 1.0, 1.0]</td>\n",
       "    </tr>\n",
       "    <tr>\n",
       "      <th>1</th>\n",
       "      <td>AP</td>\n",
       "      <td>magenta</td>\n",
       "      <td>2</td>\n",
       "      <td>None</td>\n",
       "      <td>b</td>\n",
       "      <td>[2.0, 2.0, 2.0]</td>\n",
       "    </tr>\n",
       "    <tr>\n",
       "      <th>2</th>\n",
       "      <td>AP</td>\n",
       "      <td>magenta</td>\n",
       "      <td>3</td>\n",
       "      <td>None</td>\n",
       "      <td>c</td>\n",
       "      <td>[3.0, 3.0, 3.0]</td>\n",
       "    </tr>\n",
       "  </tbody>\n",
       "</table>\n",
       "</div>"
      ],
      "text/plain": [
       "  subpocket.name subpocket.color anchor_residue.pdb_id  \\\n",
       "0             AP         magenta                     1   \n",
       "1             AP         magenta                     2   \n",
       "2             AP         magenta                     3   \n",
       "\n",
       "  anchor_residue.pdb_id_alternative anchor_residue.label anchor_residue.center  \n",
       "0                              None                    a       [1.0, 1.0, 1.0]  \n",
       "1                              None                    b       [2.0, 2.0, 2.0]  \n",
       "2                              None                    c       [3.0, 3.0, 3.0]  "
      ]
     },
     "execution_count": 15,
     "metadata": {},
     "output_type": "execute_result"
    }
   ],
   "source": [
    "subpocket.anchor_residues"
   ]
  },
  {
   "cell_type": "markdown",
   "metadata": {},
   "source": [
    "## Region\n",
    "\n",
    "It is also possible to define a single region, using the `Region` class directly."
   ]
  },
  {
   "cell_type": "code",
   "execution_count": 16,
   "metadata": {},
   "outputs": [],
   "source": [
    "region = Region()\n",
    "region.from_dataframe(dataframe, \"hinge region\", \"magenta\", [7, 8, 9, 10], [1, 2, 3, 4])"
   ]
  },
  {
   "cell_type": "markdown",
   "metadata": {},
   "source": [
    "Get the region's name and color."
   ]
  },
  {
   "cell_type": "code",
   "execution_count": 17,
   "metadata": {},
   "outputs": [
    {
     "name": "stdout",
     "output_type": "stream",
     "text": [
      "hinge region\n",
      "magenta\n"
     ]
    }
   ],
   "source": [
    "print(region.name)\n",
    "print(region.color)"
   ]
  },
  {
   "cell_type": "markdown",
   "metadata": {},
   "source": [
    "Get the region's residue PDB IDs and optionally residue labels (without input residue PDB IDs that are not part of the protein/pocket)."
   ]
  },
  {
   "cell_type": "code",
   "execution_count": 18,
   "metadata": {},
   "outputs": [
    {
     "name": "stdout",
     "output_type": "stream",
     "text": [
      "['7', '8', '9']\n",
      "['1', '2', '3']\n"
     ]
    }
   ],
   "source": [
    "print(region.residue_pdb_ids)\n",
    "print(region.residue_labels)"
   ]
  },
  {
   "cell_type": "markdown",
   "metadata": {},
   "source": [
    "## Anchor residue"
   ]
  },
  {
   "cell_type": "markdown",
   "metadata": {},
   "source": [
    "The `AnchorResidue` class holds"
   ]
  },
  {
   "cell_type": "markdown",
   "metadata": {},
   "source": [
    "### Test behaviour for missing anchor residue"
   ]
  },
  {
   "cell_type": "code",
   "execution_count": 19,
   "metadata": {},
   "outputs": [],
   "source": [
    "def test_anchor_residue_behaviour(dataframe, residue_pdb_id):\n",
    "    residue = AnchorResidue()\n",
    "    residue.from_dataframe(dataframe, residue_pdb_id)\n",
    "    print(\"Input residue:       \", residue.pdb_id)\n",
    "    print(\"Alternative residue: \", residue.pdb_id_alternative)\n",
    "    print(\"Residue center:      \", residue.center)"
   ]
  },
  {
   "cell_type": "markdown",
   "metadata": {},
   "source": [
    "The determination of anchor residues depends on the CA atom availablity of the user-defined anchor residue as well as the residue before and after."
   ]
  },
  {
   "cell_type": "markdown",
   "metadata": {},
   "source": [
    "#### Case 1: Anchor residue available"
   ]
  },
  {
   "cell_type": "code",
   "execution_count": 20,
   "metadata": {},
   "outputs": [
    {
     "name": "stdout",
     "output_type": "stream",
     "text": [
      "Input residue:        1\n",
      "Alternative residue:  None\n",
      "Residue center:       [1. 1. 1.]\n"
     ]
    }
   ],
   "source": [
    "test_anchor_residue_behaviour(dataframe, \"1\")"
   ]
  },
  {
   "cell_type": "markdown",
   "metadata": {},
   "source": [
    "#### Case 2: Anchor residue not available, but residues before and after"
   ]
  },
  {
   "cell_type": "code",
   "execution_count": 21,
   "metadata": {},
   "outputs": [
    {
     "name": "stdout",
     "output_type": "stream",
     "text": [
      "Input residue:        10\n",
      "Alternative residue:  ['9', '11']\n",
      "Residue center:       [35. 35. 35.]\n"
     ]
    }
   ],
   "source": [
    "test_anchor_residue_behaviour(dataframe, \"10\")"
   ]
  },
  {
   "cell_type": "markdown",
   "metadata": {},
   "source": [
    "#### Case 3: Anchor residue not available, but residues before (not after)"
   ]
  },
  {
   "cell_type": "code",
   "execution_count": 22,
   "metadata": {},
   "outputs": [
    {
     "name": "stdout",
     "output_type": "stream",
     "text": [
      "Input residue:        4\n",
      "Alternative residue:  ['3']\n",
      "Residue center:       [3. 3. 3.]\n"
     ]
    }
   ],
   "source": [
    "test_anchor_residue_behaviour(dataframe, \"4\")"
   ]
  },
  {
   "cell_type": "markdown",
   "metadata": {},
   "source": [
    "#### Case 4: Anchor residue not available, but residues after (not before)"
   ]
  },
  {
   "cell_type": "code",
   "execution_count": 23,
   "metadata": {},
   "outputs": [
    {
     "name": "stdout",
     "output_type": "stream",
     "text": [
      "Input residue:        6\n",
      "Alternative residue:  ['7']\n",
      "Residue center:       [4. 4. 4.]\n"
     ]
    }
   ],
   "source": [
    "test_anchor_residue_behaviour(dataframe, \"6\")"
   ]
  },
  {
   "cell_type": "markdown",
   "metadata": {},
   "source": [
    "#### Case 5: Anchor residue and residues before and after not available"
   ]
  },
  {
   "cell_type": "code",
   "execution_count": 24,
   "metadata": {},
   "outputs": [
    {
     "name": "stdout",
     "output_type": "stream",
     "text": [
      "Input residue:        5\n",
      "Alternative residue:  None\n",
      "Residue center:       None\n"
     ]
    }
   ],
   "source": [
    "test_anchor_residue_behaviour(dataframe, \"5\")"
   ]
  },
  {
   "cell_type": "code",
   "execution_count": null,
   "metadata": {},
   "outputs": [],
   "source": []
  }
 ],
 "metadata": {
  "kernelspec": {
   "display_name": "opencadd",
   "language": "python",
   "name": "opencadd"
  },
  "language_info": {
   "codemirror_mode": {
    "name": "ipython",
    "version": 3
   },
   "file_extension": ".py",
   "mimetype": "text/x-python",
   "name": "python",
   "nbconvert_exporter": "python",
   "pygments_lexer": "ipython3",
   "version": "3.8.5"
  }
 },
 "nbformat": 4,
 "nbformat_minor": 4
}
