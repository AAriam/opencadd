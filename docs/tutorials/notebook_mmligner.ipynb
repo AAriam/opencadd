{
 "cells": [
  {
   "cell_type": "markdown",
   "metadata": {},
   "source": [
    "# MMLigner User Tutorial\n",
    "\n",
    "\n",
    "#### Developed at Volkamerlab, Charité/FU Berlin \n",
    "\n",
    "by Dennis Köser"
   ]
  },
  {
   "cell_type": "markdown",
   "metadata": {},
   "source": [
    "# Reference\n",
    "\n",
    "MMLigner (Collier et al., 2017) works by minimizing the ivalue of the alignment. The ivalue is based on\n",
    "the Minimum Message Length framework (Wallace and Boulton, 1968; Wallace, 2005), a Bayesian framework for\n",
    "statistical inductive inference. The ivalue represents the hypothetical minimum message length needed to transmit\n",
    "the computed alignment losslessly (Shannon, 1948).\n",
    "Using the ivalue measure, the algorithm creates crude-but-effective strucural alignments rapidly to act as seeds.\n",
    "These seeds are iteratively refined over an Expectation-Maximization approach using the I-value criterion.\n",
    "By substracting the ivalue from the null model, the statistical significance of the alignment can be computed. If the\n",
    "difference is positive, the alignment is significant.\n",
    "\n",
    "Collier, J.H., Allison, L., Lesk A.M., Stuckey, P.J., Garcia de la Banda , M., Konagurthu, A.S. (2017)\n",
    "Statistical inference of protein structural alignments using information and compression.\n",
    "Bioinformatics, 33(7), 1005-1013\n",
    "\n",
    "Wallace,C.S. and Boulton,D.M. (1968) An information measure for classification.\n",
    "Comput. J., 11, 185–194.\n",
    "\n",
    "Wallace,C.S. (2005) Statistical and Inductive Inference Using MinimumMessage Length.\n",
    "Information Science and Statistics. SpringerVerlag, New York, NY.\n",
    "\n",
    "Shannon,C.E. (1948) A mathematical theory of communication.\n",
    "Bell Syst.Tech. J., 27, 379–423."
   ]
  },
  {
   "cell_type": "markdown",
   "metadata": {},
   "source": [
    "# Introduction\n",
    "\n",
    "\n",
    "## What are the  chosen structures\n",
    "\n",
    "Since this project was developed during the SARS-CoV-2 pandemic of 2020, we chose the main protease of SARS-Cov from 2006 (2GZ9) and the main protease of SARS-Cov 2 from 2020 (5R8T) as example structures for this tutorial. SARS-Cov and SARS-Cov 2 are strains of viruses that cause severe acute respiratory syndrome (SARS). The chosen proteases are required for the maturation of SARS-Cov and SARS-Cov 2 respectively, so they make a good target for structure-based drug design of anti-SARS drugs.\n",
    "\n",
    "## Why they have been chosen\n",
    "\n",
    "In addition to the relevance for the pandemic of 2020, these sructures work well as an example for this tutorial because of their relation to each other resulting in quite similar but not completly similar structures. They both have a length of 306 and, if you align them with Needelman-Wunsch, show a similarity 98.69 % and identity of 96.08 %. The alignment with MMLigner results in a RMSD of 1.244 Å, a coverage of 303 and an ivalue of 29.559 bits."
   ]
  },
  {
   "cell_type": "markdown",
   "metadata": {},
   "source": [
    "# Theory\n",
    "\n",
    "## About the RCSB\n",
    "\n",
    "The [RCSB PDB](http://www.rcsb.org/) (Research Collaboratory for Structural Bioinformatics Protein Data Bank) provide a global PDB archive, and makes PDB data available at no charge to all data consumers without limiations on usage.\n",
    "\n",
    "## RMSD\n",
    "\n",
    "The RMSD is the average distance between the atoms of tuperposed structures in Angstrom.\n",
    "\n",
    "## coverage\n",
    "\n",
    "The coverage of the aligned structures\n",
    "\n",
    "## ivalue\n",
    "\n",
    "The minimum message length of the compressed alignment in bites."
   ]
  },
  {
   "cell_type": "markdown",
   "metadata": {},
   "source": [
    "# Preperation\n",
    "\n",
    "## How to get the structure from the CLI\n",
    "\n",
    "To get the structures directly from the RCSB, the syntax looks like this:"
   ]
  },
  {
   "cell_type": "code",
   "execution_count": null,
   "metadata": {},
   "outputs": [],
   "source": [
    "structuralalignment --method=mmligner 2GZ9 5R8T"
   ]
  },
  {
   "cell_type": "markdown",
   "metadata": {},
   "source": [
    "When you want to use structures which are locally saved, do this:"
   ]
  },
  {
   "cell_type": "code",
   "execution_count": null,
   "metadata": {},
   "outputs": [],
   "source": [
    "structuralalignment --method=mmligner PATH_OF_2GZ9 PATH_OF_5R8T"
   ]
  },
  {
   "cell_type": "markdown",
   "metadata": {},
   "source": [
    "## Getting the structure in python\n",
    "\n",
    "The method will use atomium.models as input.\n",
    "\n",
    "If you want to get the structures from the RCSB, you can do the following:"
   ]
  },
  {
   "cell_type": "code",
   "execution_count": null,
   "metadata": {},
   "outputs": [],
   "source": [
    "import atomium\n",
    "\n",
    "structure1 = atomium.fetch(\"2GZ9\").model\n",
    "structure2 = atomium.fetch(\"5R8T\").model"
   ]
  },
  {
   "cell_type": "markdown",
   "metadata": {},
   "source": [
    "If you want to use local structures, use this:"
   ]
  },
  {
   "cell_type": "code",
   "execution_count": null,
   "metadata": {},
   "outputs": [],
   "source": [
    "import atomium\n",
    "\n",
    "structure1 = atomium.open(\"PATH_TO_2GZ9.FILETYPE\").model\n",
    "structure2 = atomium.open(\"PATH_TO_5R8T.FILETYPE\").model"
   ]
  },
  {
   "cell_type": "markdown",
   "metadata": {},
   "source": [
    "# Alignment \n",
    "\n",
    "Using MMligner in Python looks like this:"
   ]
  },
  {
   "cell_type": "code",
   "execution_count": null,
   "metadata": {},
   "outputs": [],
   "source": [
    "from structuralalignment.superposition.mmligner import MMlignerAligner\n",
    "mmligner = MMlignerAligner()\n",
    "\n",
    "results = mmligner.calculate([structure1, structure2])"
   ]
  },
  {
   "cell_type": "markdown",
   "metadata": {},
   "source": [
    "In addition you can compute the ivalue of a already computed alignment. This looks like: "
   ]
  },
  {
   "cell_type": "code",
   "execution_count": 5,
   "metadata": {},
   "outputs": [
    {
     "ename": "NameError",
     "evalue": "name 'MMlignerAligner' is not defined",
     "output_type": "error",
     "traceback": [
      "\u001b[1;31m---------------------------------------------------------------------------\u001b[0m",
      "\u001b[1;31mNameError\u001b[0m                                 Traceback (most recent call last)",
      "\u001b[1;32m<ipython-input-5-56a726c688e6>\u001b[0m in \u001b[0;36m<module>\u001b[1;34m\u001b[0m\n\u001b[1;32m----> 1\u001b[1;33m \u001b[0mmmligner\u001b[0m \u001b[1;33m=\u001b[0m \u001b[0mMMlignerAligner\u001b[0m\u001b[1;33m(\u001b[0m\u001b[1;33m)\u001b[0m\u001b[1;33m\u001b[0m\u001b[1;33m\u001b[0m\u001b[0m\n\u001b[0m\u001b[0;32m      2\u001b[0m \u001b[1;33m\u001b[0m\u001b[0m\n\u001b[0;32m      3\u001b[0m \u001b[0mresults\u001b[0m \u001b[1;33m=\u001b[0m \u001b[0mmmligner\u001b[0m\u001b[1;33m.\u001b[0m\u001b[0mivalue\u001b[0m\u001b[1;33m(\u001b[0m\u001b[1;33m[\u001b[0m\u001b[0mstructure1\u001b[0m\u001b[1;33m,\u001b[0m \u001b[0mstructure2\u001b[0m\u001b[1;33m]\u001b[0m\u001b[1;33m,\u001b[0m \u001b[0malignment\u001b[0m\u001b[1;33m)\u001b[0m\u001b[1;33m\u001b[0m\u001b[1;33m\u001b[0m\u001b[0m\n",
      "\u001b[1;31mNameError\u001b[0m: name 'MMlignerAligner' is not defined"
     ]
    }
   ],
   "source": [
    "mmligner = MMlignerAligner()\n",
    "\n",
    "results = mmligner.ivalue([structure1, structure2], alignment)"
   ]
  },
  {
   "cell_type": "markdown",
   "metadata": {},
   "source": [
    "The results are returned as a dictionary containing the superposed structure, the RMSD, ivalue and coverage, as well as the alignment. The dictionary looks like:"
   ]
  },
  {
   "cell_type": "raw",
   "metadata": {},
   "source": [
    "{\n",
    "    \"superposed\": superposed_model,\n",
    "    \"scores\": {\"rmsd\": rmsd, \"score\": ivalue, \"coverage\": coverage},\n",
    "    \"metadata\": { \"alignment\": alignment},\n",
    "}"
   ]
  },
  {
   "cell_type": "markdown",
   "metadata": {},
   "source": [
    "# Analysis"
   ]
  },
  {
   "cell_type": "markdown",
   "metadata": {},
   "source": [
    "### NGLview\n",
    "\n",
    "If you have trouble with NGLview, follow this [troubleshooting guide](https://github.com/SBRG/ssbio/wiki/Troubleshooting#tips-for-nglview)."
   ]
  },
  {
   "cell_type": "code",
   "execution_count": null,
   "metadata": {},
   "outputs": [],
   "source": [
    "import nglview as nv\n",
    "print(\"nglview version = {}\".format(nv.__version__))\n",
    "# your nglview version should be 1.1.7 or later\n",
    "\n",
    "view = nv.show_structure_file('PATH_OF_YOUR_STRUCTURE')\n",
    "view"
   ]
  },
  {
   "cell_type": "markdown",
   "metadata": {},
   "source": [
    "## Report\n",
    "\n",
    "* RMSD before and after\n",
    "* coverage\n",
    "* what residues are mapped"
   ]
  }
 ],
 "metadata": {
  "gist": {
   "data": {
    "description": "CADDSeminar_2018/CADD_course_talktorial_template.ipynb",
    "public": false
   },
   "id": ""
  },
  "kernelspec": {
   "display_name": "Python 3",
   "language": "python",
   "name": "python3"
  },
  "language_info": {
   "codemirror_mode": {
    "name": "ipython",
    "version": 3
   },
   "file_extension": ".py",
   "mimetype": "text/x-python",
   "name": "python",
   "nbconvert_exporter": "python",
   "pygments_lexer": "ipython3",
   "version": "3.7.6"
  }
 },
 "nbformat": 4,
 "nbformat_minor": 4
}
