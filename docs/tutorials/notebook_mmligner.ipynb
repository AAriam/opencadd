{
 "cells": [
  {
   "cell_type": "markdown",
   "metadata": {},
   "source": [
    "# MMLigner User Tutorial\n",
    "\n",
    "\n",
    "#### Developed at Volkamerlab, Charité/FU Berlin \n",
    "\n",
    "by Dennis Köser"
   ]
  },
  {
   "cell_type": "markdown",
   "metadata": {},
   "source": [
    "# Reference\n",
    "\n",
    "MMLigner (Collier et al., 2017) works by minimizing the ivalue of the alignment. The ivalue is based on\n",
    "the Minimum Message Length framework (Wallace and Boulton, 1968; Wallace, 2005), a Bayesian framework for\n",
    "statistical inductive inference. The ivalue represents the hypothetical minimum message length needed to transmit\n",
    "the computed alignment losslessly (Shannon, 1948).\n",
    "Using the ivalue measure, the algorithm creates crude-but-effective strucural alignments rapidly to act as seeds.\n",
    "These seeds are iteratively refined over an Expectation-Maximization approach using the I-value criterion.\n",
    "By substracting the ivalue from the null model, the statistical significance of the alignment can be computed. If the\n",
    "difference is positive, the alignment is significant.\n",
    "\n",
    "Collier, J.H., Allison, L., Lesk A.M., Stuckey, P.J., Garcia de la Banda , M., Konagurthu, A.S. (2017)\n",
    "Statistical inference of protein structural alignments using information and compression.\n",
    "Bioinformatics, 33(7), 1005-1013\n",
    "\n",
    "Wallace,C.S. and Boulton,D.M. (1968) An information measure for classification.\n",
    "Comput. J., 11, 185–194.\n",
    "\n",
    "Wallace,C.S. (2005) Statistical and Inductive Inference Using MinimumMessage Length.\n",
    "Information Science and Statistics. SpringerVerlag, New York, NY.\n",
    "\n",
    "Shannon,C.E. (1948) A mathematical theory of communication.\n",
    "Bell Syst.Tech. J., 27, 379–423."
   ]
  },
  {
   "cell_type": "markdown",
   "metadata": {},
   "source": [
    "# Introduction\n",
    "\n",
    "\n",
    "## What are the  chosen structures\n",
    "\n",
    "Since this project was developed during the SARS-CoV-2 pandemic of 2020, we chose the main protease of SARS-Cov from 2006 (2GZ9) and the main protease of SARS-Cov 2 from 2020 (5R8T) as example structures for this tutorial. SARS-Cov and SARS-Cov 2 are strains of viruses that cause severe acute respiratory syndrome (SARS). The chosen proteases are required for the maturation of SARS-Cov and SARS-Cov 2 respectively, so they make a good target for structure-based drug design of anti-SARS drugs.\n",
    "\n",
    "## Why they have been chosen\n",
    "\n",
    "In addition to the relevance for the pandemic of 2020, these sructures work well as an example for this tutorial because of their relation to each other resulting in quite similar but not completly similar structures. They both have a length of 306 and, if you align them with Needelman-Wunsch, show a similarity 98.69 % and identity of 96.08 %. The alignment with MMLigner results in a RMSD of 1.244 Å, a coverage of 303 and an ivalue of 29.559 bits."
   ]
  },
  {
   "cell_type": "markdown",
   "metadata": {},
   "source": [
    "# Theory\n",
    "\n",
    "## About the RCSB\n",
    "\n",
    "The [RCSB PDB](http://www.rcsb.org/) (Research Collaboratory for Structural Bioinformatics Protein Data Bank) provide a global PDB archive, and makes PDB data available at no charge to all data consumers without limiations on usage.\n",
    "\n",
    "## RMSD\n",
    "\n",
    "The RMSD is the average distance between the atoms of tuperposed structures in Angstrom.\n",
    "\n",
    "## coverage\n",
    "\n",
    "The coverage of the aligned structures\n",
    "\n",
    "## ivalue\n",
    "\n",
    "The minimum message length of the compressed alignment in bites."
   ]
  },
  {
   "cell_type": "markdown",
   "metadata": {},
   "source": [
    "# Preperation\n",
    "\n",
    "## How to get the structure from the CLI\n",
    "\n",
    "To get the structures directly from the RCSB, the syntax looks like this:"
   ]
  },
  {
   "cell_type": "code",
   "execution_count": null,
   "metadata": {
    "scrolled": false
   },
   "outputs": [],
   "source": [
    "!structuralalignment --method=mmligner 2GZ9 5R8T"
   ]
  },
  {
   "cell_type": "markdown",
   "metadata": {},
   "source": [
    "When you want to use structures which are locally saved, do this:"
   ]
  },
  {
   "cell_type": "code",
   "execution_count": null,
   "metadata": {
    "scrolled": true
   },
   "outputs": [],
   "source": [
    "!structuralalignment --method=mmligner PATH_OF_2GZ9 PATH_OF_5R8T"
   ]
  },
  {
   "cell_type": "markdown",
   "metadata": {},
   "source": [
    "## Getting the structure in python\n",
    "\n",
    "The method will use atomium.models as input.\n",
    "\n",
    "If you want to get the structures from the RCSB, you can do the following:"
   ]
  },
  {
   "cell_type": "code",
   "execution_count": 3,
   "metadata": {},
   "outputs": [],
   "source": [
    "%load_ext autoreload"
   ]
  },
  {
   "cell_type": "code",
   "execution_count": 4,
   "metadata": {},
   "outputs": [],
   "source": [
    "%autoreload 2"
   ]
  },
  {
   "cell_type": "code",
   "execution_count": 5,
   "metadata": {},
   "outputs": [],
   "source": [
    "import atomium\n",
    "\n",
    "structure1 = atomium.fetch(\"2GZ9\").model\n",
    "structure2 = atomium.fetch(\"5R8T\").model"
   ]
  },
  {
   "cell_type": "markdown",
   "metadata": {},
   "source": [
    "# Alignment \n",
    "\n",
    "Using MMligner in Python looks like this:"
   ]
  },
  {
   "cell_type": "code",
   "execution_count": 106,
   "metadata": {},
   "outputs": [
    {
     "name": "stdout",
     "output_type": "stream",
     "text": [
      "/tmp/tmp8zrlttud\n",
      "\u001b[0;37;1;44mMMLigner (v1.0.2): Minimum Message Length (MML) alignment of protein structures \u001b[0;0m\n",
      "\u001b[0;1;37;1;46m   Authors:\u001b[0;1;37;1;46m    Collier, Allison, Lesk, Stuckey, Garcia de la Banda, Konagurthu. \u001b[0m\n",
      "\u001b[1;37;1;46m   Reference:\u001b[0;1;37;1;46m  Bioinformatics. 33(7):1005-1013, 2017.                           \u001b[0m\n",
      "\n",
      "Parsing Brookhaven PDB      .../structure1.pdb     nResi = 306   [ \u001b[32;4mOK\u001b[0m ]\n",
      "Parsing Brookhaven PDB      .../structure2.pdb     nResi = 304   [ \u001b[32;4mOK\u001b[0m ]\n",
      "Computing MMLigner alignment...\n",
      "...building MFP Library                                          [ \u001b[32;4mOK\u001b[0m ]\n",
      "...filtering MFP library                                      0.179 4.228 4.393 4.426 4.457 4.460 4.817 10.42310.65212.98613.08213.59014.97914.98014.99115.20015.81816.30416.33417.14018.20121.81921.91423.40324.47832.22838.56338.56738.56838.60339.31139.31739.32239.34739.34942.86042.95842.98843.99643.99844.45144.46944.48844.49344.49645.88445.90945.91045.91945.96845.97747.01347.04851.20851.24951.31452.35452.37852.38554.09658.31258.56364.41564.43466.32168.71770.17670.40570.46074.26874.65576.82077.23479.85679.85679.91282.35382.47485.23085.23286.28587.57488.34288.92792.19892.20195.953100.000 %[ \u001b[32;4mOK\u001b[0m ]\n",
      "...clustering filtered MFP library                               [ \u001b[32;4mOK\u001b[0m ]\n",
      "...generating seed alignments                                 23.81033.33352.38161.90580.95290.47695.238100.00100.000 %[ \u001b[32;4mOK\u001b[0m ] 1 seed\n",
      "...expectation maximization on seed alignments using I-value...\n",
      "   ...perturbing seed alignment 1 of 1            0.000 2.000 100.000 %      [ \u001b[32;4mOK\u001b[0m ]\n",
      "   [only 1 resultant alignment is significant]\n",
      "Writing aligment output to  \u001b[33;4mtemp__1.afasta\u001b[0m [ \u001b[32;4mOK\u001b[0m ]\n",
      "Writing alignment stats to  \u001b[33;4mtemp__1.stats\u001b[0m  [ \u001b[32;4mOK\u001b[0m ]\n",
      "Writing superposed pdb to   \u001b[33;4mp_superposed__1.pdb\u001b[0m printRotationalCenters\n",
      "Print Centers of Mass of moving set:\n",
      "11.634  0.551   4.903   \n",
      "Print Centers of Mass of fixed set:\n",
      "7.614   -40.532 -10.498 \n",
      "---------------------\n",
      "printEigens\n",
      "Print Eigen values\n",
      "514076.468109   460760.254224   155507.875036   468.665254      \n",
      "-----\n",
      "Print Eigen vectors\n",
      "-0.155923       -0.384867       -0.446401       0.792648        \n",
      "-0.576501       0.706092        -0.411188       -0.002136       \n",
      "0.214575        0.508441        0.569087        0.609578        \n",
      "0.772847        0.307894        -0.554788       -0.010919       \n",
      "Quaternion norms: (should be ~1)\n",
      "1.000000        1.000000        1.000000        1.000000        \n",
      "---------------------\n",
      "printQuaternionMatrix\n",
      "Print Quaternion matrix\n",
      "112030.543 -0.000     -0.023     0.000      \n",
      "-50458.678 426867.261 0.001      -0.000     \n",
      "-146641.173 65433.555  193318.423 0.000      \n",
      "-78039.315 -93400.508 108280.497 398597.035 \n",
      "printRotationMatrix\n",
      "Print Rotation matrix\n",
      "0.257 0.015 0.966 \n",
      "-0.020 1.000 -0.010 \n",
      "-0.966 -0.017 0.257 \n",
      "      [ \u001b[32;4mOK\u001b[0m ]\n",
      "Summary:\n",
      "Alignment 1 stats\n",
      "Structure Sizes =   306, 304\n",
      "Coverage        =   303      \n",
      "RMSD            =     1.244 A\n",
      "I(A)            =    29.559 bits\n",
      "NULL(S & T)     = 21517.527 bits\n",
      "I(A & <S,T>)    = 20323.678 bits\n",
      "Compression     =  1193.848 bits (+ve better; -ve worse)\n",
      "-------\n",
      "[ \u001b[32;4m ALL DONE!!!\u001b[0m ]\n",
      "\u001b[36;4m.                                    -=o0o=-                                   .\u001b[0m\n",
      "\u001b[36;3m|                                   REFERENCE                                  |\u001b[0m\n",
      "\u001b[33;3m| J.Collier, L.Allison, A.Lesk, P.Stuckey, M.Garcia de la Banda, A.Konagurthu  |\n",
      "| Statistical inference of protein structural alignments using information and |\n",
      "| compression, Bioinformatics. 33(7):1005-1013, 2017.                          |\u001b[0m\n",
      "\u001b[35;3m| DOI: https://doi.org/10.1093/bioinformatics/btw757                           |\u001b[0m\n",
      "\u001b[36;4m|                                    -=o0o=-                                   |\u001b[0m\n",
      "\u001b[37;2m| See other LCB structural bioinformatics tools:                               |\u001b[0m\n",
      "\u001b[37;2m|  * MUSTANG: http://lcb.infotech.monash.edu.au/mustang                        |\u001b[0m\n",
      "\u001b[37;2m|  * SST    : http://lcb.infotech.monash.edu.au/sstweb                         |\u001b[0m\n",
      "\u001b[37;2m|  * SUPER  : http://lcb.infotech.monash.edu.au/super                          |\u001b[0m\n",
      "\u001b[37;2m|-------------------------------------0o.o0------------------------------------|\u001b[0m\n",
      "\n"
     ]
    }
   ],
   "source": [
    "from structuralalignment.superposition.mmligner import MMLignerAligner\n",
    "\n",
    "mmligner = MMLignerAligner()\n",
    "results = mmligner.calculate([structure1, structure2])"
   ]
  },
  {
   "cell_type": "code",
   "execution_count": 94,
   "metadata": {},
   "outputs": [
    {
     "data": {
      "text/plain": [
       "1.244"
      ]
     },
     "execution_count": 94,
     "metadata": {},
     "output_type": "execute_result"
    }
   ],
   "source": [
    "results[\"scores\"][\"rmsd\"]"
   ]
  },
  {
   "cell_type": "markdown",
   "metadata": {},
   "source": [
    "In addition you can compute the ivalue of a already computed alignment. This looks like: "
   ]
  },
  {
   "cell_type": "code",
   "execution_count": null,
   "metadata": {
    "scrolled": false
   },
   "outputs": [],
   "source": [
    "mmligner = MMLignerAligner()\n",
    "\n",
    "results = mmligner.ivalue([structure1, structure2], alignment)"
   ]
  },
  {
   "cell_type": "markdown",
   "metadata": {},
   "source": [
    "The results are returned as a dictionary containing the superposed structure, the RMSD, ivalue and coverage, as well as the alignment. The dictionary looks like:"
   ]
  },
  {
   "cell_type": "raw",
   "metadata": {},
   "source": [
    "{\n",
    "    \"superposed\": superposed_model,\n",
    "    \"scores\": {\"rmsd\": rmsd, \"score\": ivalue, \"coverage\": coverage},\n",
    "    \"metadata\": { \"alignment\": alignment},\n",
    "}"
   ]
  },
  {
   "cell_type": "markdown",
   "metadata": {},
   "source": [
    "# Analysis"
   ]
  },
  {
   "cell_type": "markdown",
   "metadata": {},
   "source": [
    "### NGLview\n",
    "\n",
    "If you have trouble with NGLview, follow this [troubleshooting guide](https://github.com/SBRG/ssbio/wiki/Troubleshooting#tips-for-nglview)."
   ]
  },
  {
   "cell_type": "code",
   "execution_count": 45,
   "metadata": {},
   "outputs": [],
   "source": [
    "def atomium_to_nglview(*models):\n",
    "    \"\"\"\n",
    "    Represent Atomium models in NGLView\n",
    "    Parameters\n",
    "    ----------\n",
    "    models : atomium.Model\n",
    "    Returns\n",
    "    -------\n",
    "    nglview.NGLWidget\n",
    "    \"\"\"\n",
    "    import nglview as nv\n",
    "    from structuralalignment.utils import enter_temp_directory\n",
    "\n",
    "    v = nv.NGLWidget()\n",
    "    with enter_temp_directory():\n",
    "        for i, model in enumerate(models):\n",
    "            fn = f\"tmp{i}.pdb\"\n",
    "            model.save(fn)\n",
    "            fs = nv.FileStructure(fn)\n",
    "            v.add_component(fs)\n",
    "    return v"
   ]
  },
  {
   "cell_type": "code",
   "execution_count": 107,
   "metadata": {},
   "outputs": [
    {
     "name": "stdout",
     "output_type": "stream",
     "text": [
      "nglview version = 2.7.5\n"
     ]
    },
    {
     "data": {
      "application/vnd.jupyter.widget-view+json": {
       "model_id": "890ab7a67cfc4133a247e9bf2ef391d7",
       "version_major": 2,
       "version_minor": 0
      },
      "text/plain": [
       "NGLWidget()"
      ]
     },
     "metadata": {},
     "output_type": "display_data"
    }
   ],
   "source": [
    "import nglview as nv\n",
    "print(\"nglview version = {}\".format(nv.__version__))\n",
    "# your nglview version should be 1.1.7 or later\n",
    "\n",
    "v = atomium_to_nglview(*results[\"superposed\"])\n",
    "v"
   ]
  },
  {
   "cell_type": "code",
   "execution_count": 108,
   "metadata": {},
   "outputs": [
    {
     "data": {
      "application/vnd.jupyter.widget-view+json": {
       "model_id": "9f85c86e7f364a768d5b3535a1396f58",
       "version_major": 2,
       "version_minor": 0
      },
      "text/plain": [
       "NGLWidget()"
      ]
     },
     "metadata": {},
     "output_type": "display_data"
    }
   ],
   "source": [
    "vv = nv.show_file(\"/tmp/tmp8zrlttud/structure1.pdb\")\n",
    "vv.add_component(\"/tmp/tmp8zrlttud/p_superposed__1.pdb\")\n",
    "vv"
   ]
  },
  {
   "cell_type": "markdown",
   "metadata": {},
   "source": [
    "## Report\n",
    "\n",
    "* RMSD before and after\n",
    "* coverage\n",
    "* what residues are mapped"
   ]
  }
 ],
 "metadata": {
  "gist": {
   "data": {
    "description": "CADDSeminar_2018/CADD_course_talktorial_template.ipynb",
    "public": false
   },
   "id": ""
  },
  "kernelspec": {
   "display_name": "Python 3",
   "language": "python",
   "name": "python3"
  },
  "language_info": {
   "codemirror_mode": {
    "name": "ipython",
    "version": 3
   },
   "file_extension": ".py",
   "mimetype": "text/x-python",
   "name": "python",
   "nbconvert_exporter": "python",
   "pygments_lexer": "ipython3",
   "version": "3.8.2"
  }
 },
 "nbformat": 4,
 "nbformat_minor": 4
}
