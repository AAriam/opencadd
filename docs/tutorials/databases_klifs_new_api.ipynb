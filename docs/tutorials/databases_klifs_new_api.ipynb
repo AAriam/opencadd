{
 "cells": [
  {
   "cell_type": "markdown",
   "metadata": {},
   "source": [
    "# `opencadd.databases.klifs` API\n",
    "\n",
    "This notebook proposes an updated object-oriented API (skeleton only!) for the `opencadd.databases.klifs` module."
   ]
  },
  {
   "cell_type": "code",
   "execution_count": null,
   "metadata": {},
   "outputs": [],
   "source": [
    "import opencadd.databases.klifs as klifs"
   ]
  },
  {
   "cell_type": "markdown",
   "metadata": {},
   "source": [
    "## Module structure"
   ]
  },
  {
   "cell_type": "raw",
   "metadata": {},
   "source": [
    "opencadd/\n",
    "    databases/\n",
    "        klifs/\n",
    "            core.py\n",
    "            remote.py\n",
    "            local.py\n",
    "            utils.py"
   ]
  },
  {
   "cell_type": "markdown",
   "metadata": {},
   "source": [
    "## Submodules"
   ]
  },
  {
   "cell_type": "markdown",
   "metadata": {},
   "source": [
    "### `core`\n",
    "\n",
    "Add here superclasses, which define what kind of class methods should be available (do not add much code here, since the code will be quite different for `remote` and `local` sessions."
   ]
  },
  {
   "cell_type": "code",
   "execution_count": null,
   "metadata": {},
   "outputs": [],
   "source": [
    "# opencadd.databases.klifs.core (core.py)\n",
    "\n",
    "class KinasesFactory:\n",
    "    \"\"\"Class for kinases requests.\"\"\"\n",
    "    \n",
    "    def __init__(self):\n",
    "        pass\n",
    "    \n",
    "    @property\n",
    "    def all:\n",
    "        \"\"\"Return all kinases available remotely or locally.\"\"\"\n",
    "        pass\n",
    "    \n",
    "    def from_kinase_ids(kinase_ids):\n",
    "        pass\n",
    "    \n",
    "    def from_kinase_names(kinase_names):\n",
    "        pass\n",
    "\n",
    "    \n",
    "class LigandsFactory:\n",
    "    \n",
    "    def __init__(self):\n",
    "        pass\n",
    "    \n",
    "    @property\n",
    "    def all:\n",
    "        \"\"\"Return all ligands available remotely or locally.\"\"\"\n",
    "        pass\n",
    "    \n",
    "    def from_kinase_ids(kinase_ids):\n",
    "        pass\n",
    "    \n",
    "    def from_ligand_ids(ligand_ids):\n",
    "        pass\n",
    "    \n",
    "    def from_kinase_names(kinase_names):\n",
    "        pass\n",
    "    \n",
    "    def from_ligand_pdbs(ligand_pdbs):\n",
    "        pass\n",
    "\n",
    "\n",
    "class StructuresFactory:\n",
    "    \n",
    "    def __init__(self):\n",
    "        pass\n",
    "    \n",
    "    @property\n",
    "    def all:\n",
    "        \"\"\"Return all structures available remotely or locally.\"\"\"\n",
    "        pass\n",
    "    \n",
    "    def from_structure_ids(structure_ids):\n",
    "        pass\n",
    "    \n",
    "    def from_ligand_ids(ligand_ids):\n",
    "        pass\n",
    "    \n",
    "    def from_kinase_ids(kinase_ids):\n",
    "        pass\n",
    "    \n",
    "    def from_structure_pdbs(structure_pdbs):\n",
    "        pass\n",
    "    \n",
    "    def from_ligand_pdbs(ligand_pdbs):\n",
    "        pass\n",
    "    \n",
    "    def from_kinase_names(kinase_names):\n",
    "        pass\n",
    "\n",
    "\n",
    "class BioactivitiesFactory:\n",
    "    \n",
    "    def __init__(self):\n",
    "        pass\n",
    "    \n",
    "    @property\n",
    "    def all:\n",
    "        \"\"\"Return all bioactivities available remotely or locally.\"\"\"\n",
    "        pass\n",
    "    \n",
    "    def from_kinase_ids(kinase_ids):\n",
    "        pass\n",
    "    \n",
    "    def from_ligand_ids(ligand_ids):\n",
    "        pass\n",
    "\n",
    "\n",
    "class InteractionsFactory:\n",
    "    \n",
    "    def __init__(self):\n",
    "        pass\n",
    "    \n",
    "    @property\n",
    "    def all:\n",
    "        \"\"\"Return all interactions available remotely or locally.\"\"\"\n",
    "        pass\n",
    "    \n",
    "    def from_structure_ids(structure_ids):\n",
    "        pass\n",
    "    \n",
    "    def from_ligand_ids(ligand_ids):\n",
    "        pass\n",
    "    \n",
    "    def from_kinase_ids(kinase_ids):\n",
    "        pass\n",
    "\n",
    "\n",
    "class CoordinatesFactory:\n",
    "    \n",
    "    def __init__(self):\n",
    "        pass\n",
    "    \n",
    "    def from_structure_id(structure_id, entity, input_format, output_format):\n",
    "        pass"
   ]
  },
  {
   "cell_type": "markdown",
   "metadata": {},
   "source": [
    "### `remote`"
   ]
  },
  {
   "cell_type": "code",
   "execution_count": null,
   "metadata": {},
   "outputs": [],
   "source": [
    "# opencadd.databases.klifs.remote (remote.py)\n",
    "\n",
    "from bravado.client import SwaggerClient\n",
    "\n",
    "from opencadd.databases.klifs.core import Kinases, Ligands, Structures, Bioactivities, Interactions, Coordinates\n",
    "\n",
    "KLIFS_API_DEFINITIONS = \"http://klifs.vu-compmedchem.nl/swagger/swagger.json\"\n",
    "KLIFS_CLIENT = SwaggerClient.from_url(KLIFS_API_DEFINITIONS, config={\"validate_responses\": False})\n",
    "\n",
    "class Session:\n",
    "    \n",
    "    def __init__(self):\n",
    "        self.session_type = \"remote\"\n",
    "    \n",
    "    @property\n",
    "    def kinase_groups:\n",
    "        \"\"\"Return all kinase groups available remotely.\"\"\"\n",
    "        pass\n",
    "    \n",
    "    @property\n",
    "    def interaction_types:\n",
    "        \"\"\"Return all interaction types available remotely.\"\"\"\n",
    "        pass\n",
    "    \n",
    "    def kinase_families(groups=None):\n",
    "        \"\"\"Return all kinase families available remotely.\"\"\"\n",
    "        pass\n",
    "    \n",
    "    def kinase_names(groups=None, families=None, species=None):\n",
    "        \"\"\"Return all kinase names available remotely.\"\"\"\n",
    "        pass\n",
    "    \n",
    "    class Kinases(KinasesFactory):\n",
    "        \n",
    "        def __init__(self):\n",
    "            super().__init__() \n",
    "    \n",
    "    class Ligands(LigandsFactory):\n",
    "        pass\n",
    "    \n",
    "    class Bioactivities(BioactivitiesFactory):\n",
    "        pass\n",
    "    \n",
    "    class Structures(StructuresFactory):\n",
    "        pass\n",
    "    \n",
    "    class Interactions(InteractionsFactory):\n",
    "        pass\n",
    "    \n",
    "    class Coordinates(CoordinatesFactory):\n",
    "        pass"
   ]
  },
  {
   "cell_type": "markdown",
   "metadata": {},
   "source": [
    "### `local`"
   ]
  },
  {
   "cell_type": "code",
   "execution_count": null,
   "metadata": {},
   "outputs": [],
   "source": [
    "# opencadd.databases.klifs.local (local.py)\n",
    "\n",
    "from opencadd.databases.klifs.core import Kinases, Ligands, Structures, Bioactivities, Interactions, Coordinates\n",
    "\n",
    "class Session:\n",
    "    \n",
    "    def __init__(self, path_to_klifs_download):\n",
    "        self.session_type = \"local\"\n",
    "        self.metadata = initialize_session()\n",
    "    \n",
    "    def initialize_session(self, path_to_klifs_download):\n",
    "        \"\"\"\n",
    "        Extract metadata from KLIFS download (overview.csv and KLIFS_export.csv files), which are also pointing to the respective coordinates files on disc.\n",
    "        \n",
    "        Parameters\n",
    "        ----------\n",
    "        path_to_klifs_download : str or pathlib.Path\n",
    "            Path to folder containing the KLIFS download (add here instructions on how the folder structure must look like.)\n",
    "        \n",
    "        Returns\n",
    "        -------\n",
    "        pandas.DataFrame\n",
    "            Table with metadata on KLIFS_download. This will be the anchor point for all local requests.\n",
    "        \"\"\"\n",
    "        \n",
    "        # initializing code here\n",
    "        \n",
    "        return metadata\n",
    "    \n",
    "    @property\n",
    "    def kinase_groups:\n",
    "        \"\"\"Return all kinase groups available locally.\"\"\"\n",
    "        pass\n",
    "    \n",
    "    @property\n",
    "    def interaction_types:\n",
    "        return \"Not available locally. Let's return this from remote?\"\n",
    "    \n",
    "    def kinase_families(self, groups=None):\n",
    "        \"\"\"Return all kinase families available locally.\"\"\"\n",
    "        pass\n",
    "    \n",
    "    def kinase_names(self, groups=None, families=None, species=None):\n",
    "        \"\"\"Return all kinase names available locally.\"\"\"\n",
    "        pass\n",
    "    \n",
    "    class Kinases(KinasesFactory):\n",
    "        pass\n",
    "    \n",
    "    class Ligands(LigandsFactory):\n",
    "        pass\n",
    "    \n",
    "    class Bioactivities(BioactivitiesFactory):\n",
    "        return \"Not available locally. Let's return this from remote?\"\n",
    "    \n",
    "    class Structures(StructuresFactory):\n",
    "        pass\n",
    "    \n",
    "    class Interactions(InteractionsFactory):\n",
    "        pass\n",
    "    \n",
    "    class Coordinates(CoordinatesFactory):\n",
    "        pass"
   ]
  },
  {
   "cell_type": "markdown",
   "metadata": {},
   "source": [
    "## Usage"
   ]
  },
  {
   "cell_type": "markdown",
   "metadata": {},
   "source": [
    "### Work with remote KLIFS data"
   ]
  },
  {
   "cell_type": "code",
   "execution_count": null,
   "metadata": {},
   "outputs": [],
   "source": [
    "from opencadd.databases.klifs.remote import Session"
   ]
  },
  {
   "cell_type": "code",
   "execution_count": null,
   "metadata": {},
   "outputs": [],
   "source": [
    "session = Session()\n",
    "\n",
    "kinases = session.Kinases()\n",
    "ligands = session.Ligands()\n",
    "bioactivities = session.Bioactivities()\n",
    "structures = session.Structures()\n",
    "interactions = session.Interactions()\n",
    "coordinates = session.Coordinates()"
   ]
  },
  {
   "cell_type": "markdown",
   "metadata": {},
   "source": [
    "### Work with local KLIFS data"
   ]
  },
  {
   "cell_type": "code",
   "execution_count": null,
   "metadata": {},
   "outputs": [],
   "source": [
    "from opencadd.databases.klifs.local import Session"
   ]
  },
  {
   "cell_type": "code",
   "execution_count": null,
   "metadata": {},
   "outputs": [],
   "source": [
    "# Initialize session for local dataset\n",
    "session = Session(\"/path/to/klifs_download\")\n",
    "\n",
    "kinases = session.Kinases()\n",
    "ligands = session.Ligands()\n",
    "structures = session.Structures()\n",
    "interactions = session.Interactions()\n",
    "coordinates = session.Coordinates()"
   ]
  }
 ],
 "metadata": {
  "kernelspec": {
   "display_name": "opencadd",
   "language": "python",
   "name": "opencadd"
  },
  "language_info": {
   "codemirror_mode": {
    "name": "ipython",
    "version": 3
   },
   "file_extension": ".py",
   "mimetype": "text/x-python",
   "name": "python",
   "nbconvert_exporter": "python",
   "pygments_lexer": "ipython3",
   "version": "3.8.5"
  }
 },
 "nbformat": 4,
 "nbformat_minor": 4
}
