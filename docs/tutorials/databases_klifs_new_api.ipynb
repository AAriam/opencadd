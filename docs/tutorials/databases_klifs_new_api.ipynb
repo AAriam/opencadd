{
 "cells": [
  {
   "cell_type": "markdown",
   "metadata": {},
   "source": [
    "# `opencadd.databases.klifs` API\n",
    "\n",
    "This notebook proposes an updated object-oriented API (skeleton only!) for the `opencadd.databases.klifs` module."
   ]
  },
  {
   "cell_type": "markdown",
   "metadata": {},
   "source": [
    "## Module structure"
   ]
  },
  {
   "cell_type": "raw",
   "metadata": {},
   "source": [
    "opencadd/\n",
    "    databases/\n",
    "        klifs/\n",
    "            api.py\n",
    "            remote.py\n",
    "            local.py\n",
    "            core.py\n",
    "            utils.py"
   ]
  },
  {
   "cell_type": "markdown",
   "metadata": {},
   "source": [
    "## Usage"
   ]
  },
  {
   "cell_type": "code",
   "execution_count": 1,
   "metadata": {},
   "outputs": [],
   "source": [
    "%load_ext autoreload\n",
    "%autoreload 2"
   ]
  },
  {
   "cell_type": "code",
   "execution_count": 2,
   "metadata": {},
   "outputs": [],
   "source": [
    "from opencadd.databases.klifs_new.api import Session"
   ]
  },
  {
   "cell_type": "markdown",
   "metadata": {},
   "source": [
    "### Work with remote KLIFS data"
   ]
  },
  {
   "cell_type": "code",
   "execution_count": 3,
   "metadata": {},
   "outputs": [],
   "source": [
    "session = Session()"
   ]
  },
  {
   "cell_type": "code",
   "execution_count": 4,
   "metadata": {},
   "outputs": [
    {
     "data": {
      "text/plain": [
       "'remote'"
      ]
     },
     "execution_count": 4,
     "metadata": {},
     "output_type": "execute_result"
    }
   ],
   "source": [
    "session.session_type"
   ]
  },
  {
   "cell_type": "code",
   "execution_count": 5,
   "metadata": {},
   "outputs": [
    {
     "data": {
      "text/plain": [
       "SwaggerClient(http://klifs.vu-compmedchem.nl/api)"
      ]
     },
     "execution_count": 5,
     "metadata": {},
     "output_type": "execute_result"
    }
   ],
   "source": [
    "session.client"
   ]
  },
  {
   "cell_type": "code",
   "execution_count": 6,
   "metadata": {},
   "outputs": [
    {
     "data": {
      "text/plain": [
       "<opencadd.databases.klifs_new.remote.Kinases at 0x7f76bb3a0e80>"
      ]
     },
     "execution_count": 6,
     "metadata": {},
     "output_type": "execute_result"
    }
   ],
   "source": [
    "session.kinases"
   ]
  },
  {
   "cell_type": "markdown",
   "metadata": {},
   "source": [
    "Example"
   ]
  },
  {
   "cell_type": "code",
   "execution_count": 7,
   "metadata": {},
   "outputs": [
    {
     "data": {
      "text/plain": [
       "['AGC', 'CAMK', 'CK1', 'CMGC', 'Other', 'STE', 'TK', 'TKL']"
      ]
     },
     "execution_count": 7,
     "metadata": {},
     "output_type": "execute_result"
    }
   ],
   "source": [
    "session.kinases.all_kinase_groups"
   ]
  },
  {
   "cell_type": "code",
   "execution_count": 8,
   "metadata": {},
   "outputs": [
    {
     "data": {
      "text/plain": [
       "<opencadd.databases.klifs_new.remote.Ligands at 0x7f76bb3a0ee0>"
      ]
     },
     "execution_count": 8,
     "metadata": {},
     "output_type": "execute_result"
    }
   ],
   "source": [
    "session.ligands"
   ]
  },
  {
   "cell_type": "code",
   "execution_count": 9,
   "metadata": {},
   "outputs": [
    {
     "data": {
      "text/plain": [
       "<opencadd.databases.klifs_new.remote.Structures at 0x7f76bb3a0c40>"
      ]
     },
     "execution_count": 9,
     "metadata": {},
     "output_type": "execute_result"
    }
   ],
   "source": [
    "session.structures"
   ]
  },
  {
   "cell_type": "code",
   "execution_count": 10,
   "metadata": {},
   "outputs": [
    {
     "data": {
      "text/plain": [
       "<opencadd.databases.klifs_new.remote.Bioactivities at 0x7f76f46cfd30>"
      ]
     },
     "execution_count": 10,
     "metadata": {},
     "output_type": "execute_result"
    }
   ],
   "source": [
    "session.bioactivities"
   ]
  },
  {
   "cell_type": "code",
   "execution_count": 11,
   "metadata": {},
   "outputs": [
    {
     "data": {
      "text/plain": [
       "<opencadd.databases.klifs_new.remote.Interactions at 0x7f76bb3a0dc0>"
      ]
     },
     "execution_count": 11,
     "metadata": {},
     "output_type": "execute_result"
    }
   ],
   "source": [
    "session.interactions"
   ]
  },
  {
   "cell_type": "code",
   "execution_count": 12,
   "metadata": {},
   "outputs": [
    {
     "data": {
      "text/plain": [
       "<opencadd.databases.klifs_new.remote.Coordinates at 0x7f76f46cffd0>"
      ]
     },
     "execution_count": 12,
     "metadata": {},
     "output_type": "execute_result"
    }
   ],
   "source": [
    "session.coordinates"
   ]
  },
  {
   "cell_type": "markdown",
   "metadata": {},
   "source": [
    "### Work with local KLIFS data"
   ]
  },
  {
   "cell_type": "code",
   "execution_count": 13,
   "metadata": {},
   "outputs": [],
   "source": [
    "session = Session(\"../../opencadd/tests/databases/data/KLIFS_download\")"
   ]
  },
  {
   "cell_type": "code",
   "execution_count": 14,
   "metadata": {},
   "outputs": [
    {
     "data": {
      "text/plain": [
       "'local'"
      ]
     },
     "execution_count": 14,
     "metadata": {},
     "output_type": "execute_result"
    }
   ],
   "source": [
    "session.session_type"
   ]
  },
  {
   "cell_type": "code",
   "execution_count": 15,
   "metadata": {},
   "outputs": [
    {
     "data": {
      "text/html": [
       "<div>\n",
       "<style scoped>\n",
       "    .dataframe tbody tr th:only-of-type {\n",
       "        vertical-align: middle;\n",
       "    }\n",
       "\n",
       "    .dataframe tbody tr th {\n",
       "        vertical-align: top;\n",
       "    }\n",
       "\n",
       "    .dataframe thead th {\n",
       "        text-align: right;\n",
       "    }\n",
       "</style>\n",
       "<table border=\"1\" class=\"dataframe\">\n",
       "  <thead>\n",
       "    <tr style=\"text-align: right;\">\n",
       "      <th></th>\n",
       "      <th>species</th>\n",
       "      <th>kinase</th>\n",
       "      <th>pdb_id</th>\n",
       "      <th>alternate_model</th>\n",
       "      <th>chain</th>\n",
       "      <th>ligand_orthosteric_pdb_id</th>\n",
       "      <th>ligand_allosteric_pdb_id</th>\n",
       "      <th>rmsd1</th>\n",
       "      <th>rmsd2</th>\n",
       "      <th>qualityscore</th>\n",
       "      <th>...</th>\n",
       "      <th>bp_iv</th>\n",
       "      <th>bp_v</th>\n",
       "      <th>kinase_all</th>\n",
       "      <th>family</th>\n",
       "      <th>group</th>\n",
       "      <th>ligand_orthosteric_name</th>\n",
       "      <th>ligand_allosteric_name</th>\n",
       "      <th>dfg</th>\n",
       "      <th>ac_helix</th>\n",
       "      <th>filepath</th>\n",
       "    </tr>\n",
       "  </thead>\n",
       "  <tbody>\n",
       "    <tr>\n",
       "      <th>0</th>\n",
       "      <td>Human</td>\n",
       "      <td>BMX</td>\n",
       "      <td>3sxr</td>\n",
       "      <td>-</td>\n",
       "      <td>A</td>\n",
       "      <td>1N1</td>\n",
       "      <td>-</td>\n",
       "      <td>0.839</td>\n",
       "      <td>1.967</td>\n",
       "      <td>6.4</td>\n",
       "      <td>...</td>\n",
       "      <td>0</td>\n",
       "      <td>0</td>\n",
       "      <td>[BMX]</td>\n",
       "      <td>Tec</td>\n",
       "      <td>TK</td>\n",
       "      <td>N-(2-CHLORO-6-METHYLPHENYL)-2-({6-[4-(2-HYDROX...</td>\n",
       "      <td>-</td>\n",
       "      <td>out-like</td>\n",
       "      <td>in</td>\n",
       "      <td>HUMAN/BMX/3sxr_chainA</td>\n",
       "    </tr>\n",
       "    <tr>\n",
       "      <th>1</th>\n",
       "      <td>Human</td>\n",
       "      <td>BRAF</td>\n",
       "      <td>6uuo</td>\n",
       "      <td>-</td>\n",
       "      <td>A</td>\n",
       "      <td>QH1</td>\n",
       "      <td>-</td>\n",
       "      <td>0.806</td>\n",
       "      <td>2.028</td>\n",
       "      <td>5.2</td>\n",
       "      <td>...</td>\n",
       "      <td>0</td>\n",
       "      <td>0</td>\n",
       "      <td>[BRAF]</td>\n",
       "      <td>RAF</td>\n",
       "      <td>TKL</td>\n",
       "      <td>1-[4-{[1-(3-{[dihydroxy(propyl)-lambda~4~-sulf...</td>\n",
       "      <td>-</td>\n",
       "      <td>in</td>\n",
       "      <td>out-like</td>\n",
       "      <td>HUMAN/BRAF/6uuo_chainA</td>\n",
       "    </tr>\n",
       "  </tbody>\n",
       "</table>\n",
       "<p>2 rows × 35 columns</p>\n",
       "</div>"
      ],
      "text/plain": [
       "  species kinase pdb_id alternate_model chain ligand_orthosteric_pdb_id  \\\n",
       "0   Human    BMX   3sxr               -     A                       1N1   \n",
       "1   Human   BRAF   6uuo               -     A                       QH1   \n",
       "\n",
       "  ligand_allosteric_pdb_id  rmsd1  rmsd2  qualityscore  ... bp_iv  bp_v  \\\n",
       "0                        -  0.839  1.967           6.4  ...     0     0   \n",
       "1                        -  0.806  2.028           5.2  ...     0     0   \n",
       "\n",
       "   kinase_all  family group  \\\n",
       "0       [BMX]     Tec    TK   \n",
       "1      [BRAF]     RAF   TKL   \n",
       "\n",
       "                             ligand_orthosteric_name  ligand_allosteric_name  \\\n",
       "0  N-(2-CHLORO-6-METHYLPHENYL)-2-({6-[4-(2-HYDROX...                       -   \n",
       "1  1-[4-{[1-(3-{[dihydroxy(propyl)-lambda~4~-sulf...                       -   \n",
       "\n",
       "        dfg  ac_helix                filepath  \n",
       "0  out-like        in   HUMAN/BMX/3sxr_chainA  \n",
       "1        in  out-like  HUMAN/BRAF/6uuo_chainA  \n",
       "\n",
       "[2 rows x 35 columns]"
      ]
     },
     "execution_count": 15,
     "metadata": {},
     "output_type": "execute_result"
    }
   ],
   "source": [
    "session.database"
   ]
  },
  {
   "cell_type": "code",
   "execution_count": 16,
   "metadata": {},
   "outputs": [
    {
     "data": {
      "text/plain": [
       "['TK', 'TKL']"
      ]
     },
     "execution_count": 16,
     "metadata": {},
     "output_type": "execute_result"
    }
   ],
   "source": [
    "session.kinases.all_kinase_groups"
   ]
  },
  {
   "cell_type": "code",
   "execution_count": 17,
   "metadata": {},
   "outputs": [
    {
     "data": {
      "text/plain": [
       "<opencadd.databases.klifs_new.local.Ligands at 0x7f76f46c8d60>"
      ]
     },
     "execution_count": 17,
     "metadata": {},
     "output_type": "execute_result"
    }
   ],
   "source": [
    "session.ligands"
   ]
  },
  {
   "cell_type": "code",
   "execution_count": 18,
   "metadata": {},
   "outputs": [
    {
     "data": {
      "text/plain": [
       "<opencadd.databases.klifs_new.local.Structures at 0x7f76f46cfe20>"
      ]
     },
     "execution_count": 18,
     "metadata": {},
     "output_type": "execute_result"
    }
   ],
   "source": [
    "session.structures"
   ]
  },
  {
   "cell_type": "code",
   "execution_count": 19,
   "metadata": {},
   "outputs": [
    {
     "data": {
      "text/plain": [
       "<opencadd.databases.klifs_new.local.Interactions at 0x7f76baa8de50>"
      ]
     },
     "execution_count": 19,
     "metadata": {},
     "output_type": "execute_result"
    }
   ],
   "source": [
    "session.interactions"
   ]
  },
  {
   "cell_type": "code",
   "execution_count": 20,
   "metadata": {},
   "outputs": [
    {
     "data": {
      "text/plain": [
       "<opencadd.databases.klifs_new.local.Coordinates at 0x7f76baab1b80>"
      ]
     },
     "execution_count": 20,
     "metadata": {},
     "output_type": "execute_result"
    }
   ],
   "source": [
    "session.coordinates"
   ]
  }
 ],
 "metadata": {
  "kernelspec": {
   "display_name": "opencadd",
   "language": "python",
   "name": "opencadd"
  },
  "language_info": {
   "codemirror_mode": {
    "name": "ipython",
    "version": 3
   },
   "file_extension": ".py",
   "mimetype": "text/x-python",
   "name": "python",
   "nbconvert_exporter": "python",
   "pygments_lexer": "ipython3",
   "version": "3.8.5"
  }
 },
 "nbformat": 4,
 "nbformat_minor": 4
}
