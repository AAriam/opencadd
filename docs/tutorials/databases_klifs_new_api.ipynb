{
 "cells": [
  {
   "cell_type": "markdown",
   "metadata": {},
   "source": [
    "# `opencadd.databases.klifs` API\n",
    "\n",
    "This notebook proposes an updated object-oriented API (skeleton only!) for the `opencadd.databases.klifs` module."
   ]
  },
  {
   "cell_type": "markdown",
   "metadata": {},
   "source": [
    "## Module structure"
   ]
  },
  {
   "cell_type": "raw",
   "metadata": {},
   "source": [
    "opencadd/\n",
    "    databases/\n",
    "        klifs/\n",
    "            api.py\n",
    "            remote.py\n",
    "            local.py\n",
    "            core.py\n",
    "            utils.py"
   ]
  },
  {
   "cell_type": "markdown",
   "metadata": {},
   "source": [
    "## Usage"
   ]
  },
  {
   "cell_type": "code",
   "execution_count": 1,
   "metadata": {},
   "outputs": [],
   "source": [
    "%load_ext autoreload\n",
    "%autoreload 2"
   ]
  },
  {
   "cell_type": "code",
   "execution_count": 2,
   "metadata": {},
   "outputs": [],
   "source": [
    "from opencadd.databases.klifs_new.api import Session"
   ]
  },
  {
   "cell_type": "markdown",
   "metadata": {},
   "source": [
    "### Set up session (remote and local)"
   ]
  },
  {
   "cell_type": "code",
   "execution_count": 3,
   "metadata": {},
   "outputs": [
    {
     "name": "stdout",
     "output_type": "stream",
     "text": [
      "Index(['species', 'kinase', 'pdb', 'alt', 'chain', 'orthosteric_PDB',\n",
      "       'allosteric_PDB', 'rmsd1', 'rmsd2', 'qualityscore', 'pocket',\n",
      "       'resolution', 'missing_residues', 'missing_atoms', 'full_ifp', 'fp_i',\n",
      "       'fp_ii', 'bp_i_a', 'bp_i_b', 'bp_ii_in', 'bp_ii_a_in', 'bp_ii_b_in',\n",
      "       'bp_ii_out', 'bp_ii_b', 'bp_iii', 'bp_iv', 'bp_v'],\n",
      "      dtype='object')\n",
      "Index(['NAME', 'FAMILY', 'GROUPS', 'PDB', 'CHAIN', 'ALTERNATE_MODEL',\n",
      "       'SPECIES', 'LIGAND', 'PDB_IDENTIFIER', 'ALLOSTERIC_NAME',\n",
      "       'ALLOSTERIC_PDB', 'DFG', 'AC_HELIX'],\n",
      "      dtype='object')\n",
      "KLIFS_download/HUMAN/BMX/3sxr_chainA\n",
      "KLIFS_download/HUMAN/BRAF/6uuo_chainA\n"
     ]
    }
   ],
   "source": [
    "# Work with remote KLIFS data\n",
    "remote = Session()\n",
    "remote.from_remote()\n",
    "\n",
    "# Work with local KLIFS data\n",
    "local = Session()\n",
    "local.from_local(\"../../opencadd/tests/databases/data/KLIFS_download\")"
   ]
  },
  {
   "cell_type": "code",
   "execution_count": 4,
   "metadata": {},
   "outputs": [
    {
     "name": "stdout",
     "output_type": "stream",
     "text": [
      "remote\n"
     ]
    },
    {
     "data": {
      "text/plain": [
       "SwaggerClient(http://klifs.vu-compmedchem.nl/api)"
      ]
     },
     "execution_count": 4,
     "metadata": {},
     "output_type": "execute_result"
    }
   ],
   "source": [
    "print(remote.session_type)\n",
    "remote.client"
   ]
  },
  {
   "cell_type": "code",
   "execution_count": 5,
   "metadata": {},
   "outputs": [
    {
     "name": "stdout",
     "output_type": "stream",
     "text": [
      "local\n"
     ]
    },
    {
     "data": {
      "text/html": [
       "<div>\n",
       "<style scoped>\n",
       "    .dataframe tbody tr th:only-of-type {\n",
       "        vertical-align: middle;\n",
       "    }\n",
       "\n",
       "    .dataframe tbody tr th {\n",
       "        vertical-align: top;\n",
       "    }\n",
       "\n",
       "    .dataframe thead th {\n",
       "        text-align: right;\n",
       "    }\n",
       "</style>\n",
       "<table border=\"1\" class=\"dataframe\">\n",
       "  <thead>\n",
       "    <tr style=\"text-align: right;\">\n",
       "      <th></th>\n",
       "      <th>species</th>\n",
       "      <th>kinase.name</th>\n",
       "      <th>structure.pdb</th>\n",
       "      <th>structure.alternate_model</th>\n",
       "      <th>structure.chain</th>\n",
       "      <th>ligand.orthosteric.pdb</th>\n",
       "      <th>ligand.allosteric.pdb</th>\n",
       "      <th>structure.rmsd1</th>\n",
       "      <th>structure.rmsd2</th>\n",
       "      <th>structure.qualityscore</th>\n",
       "      <th>...</th>\n",
       "      <th>structure.bp_iv</th>\n",
       "      <th>structure.bp_v</th>\n",
       "      <th>kinase_all</th>\n",
       "      <th>kinase.family</th>\n",
       "      <th>kinase.group</th>\n",
       "      <th>ligand.orthosteric.name</th>\n",
       "      <th>ligand.allosteric.name</th>\n",
       "      <th>structure.dfg</th>\n",
       "      <th>structure.ac_helix</th>\n",
       "      <th>filepath</th>\n",
       "    </tr>\n",
       "  </thead>\n",
       "  <tbody>\n",
       "    <tr>\n",
       "      <th>0</th>\n",
       "      <td>Human</td>\n",
       "      <td>BMX</td>\n",
       "      <td>3sxr</td>\n",
       "      <td>-</td>\n",
       "      <td>A</td>\n",
       "      <td>1N1</td>\n",
       "      <td>-</td>\n",
       "      <td>0.839</td>\n",
       "      <td>1.967</td>\n",
       "      <td>6.4</td>\n",
       "      <td>...</td>\n",
       "      <td>0</td>\n",
       "      <td>0</td>\n",
       "      <td>[BMX]</td>\n",
       "      <td>Tec</td>\n",
       "      <td>TK</td>\n",
       "      <td>N-(2-CHLORO-6-METHYLPHENYL)-2-({6-[4-(2-HYDROX...</td>\n",
       "      <td>-</td>\n",
       "      <td>out-like</td>\n",
       "      <td>in</td>\n",
       "      <td>KLIFS_download/HUMAN/BMX/3sxr_chainA</td>\n",
       "    </tr>\n",
       "    <tr>\n",
       "      <th>1</th>\n",
       "      <td>Human</td>\n",
       "      <td>BRAF</td>\n",
       "      <td>6uuo</td>\n",
       "      <td>-</td>\n",
       "      <td>A</td>\n",
       "      <td>QH1</td>\n",
       "      <td>-</td>\n",
       "      <td>0.806</td>\n",
       "      <td>2.028</td>\n",
       "      <td>5.2</td>\n",
       "      <td>...</td>\n",
       "      <td>0</td>\n",
       "      <td>0</td>\n",
       "      <td>[BRAF]</td>\n",
       "      <td>RAF</td>\n",
       "      <td>TKL</td>\n",
       "      <td>1-[4-{[1-(3-{[dihydroxy(propyl)-lambda~4~-sulf...</td>\n",
       "      <td>-</td>\n",
       "      <td>in</td>\n",
       "      <td>out-like</td>\n",
       "      <td>KLIFS_download/HUMAN/BRAF/6uuo_chainA</td>\n",
       "    </tr>\n",
       "  </tbody>\n",
       "</table>\n",
       "<p>2 rows × 35 columns</p>\n",
       "</div>"
      ],
      "text/plain": [
       "  species kinase.name structure.pdb structure.alternate_model structure.chain  \\\n",
       "0   Human         BMX          3sxr                         -               A   \n",
       "1   Human        BRAF          6uuo                         -               A   \n",
       "\n",
       "  ligand.orthosteric.pdb ligand.allosteric.pdb  structure.rmsd1  \\\n",
       "0                    1N1                     -            0.839   \n",
       "1                    QH1                     -            0.806   \n",
       "\n",
       "   structure.rmsd2  structure.qualityscore  ... structure.bp_iv  \\\n",
       "0            1.967                     6.4  ...               0   \n",
       "1            2.028                     5.2  ...               0   \n",
       "\n",
       "   structure.bp_v  kinase_all  kinase.family kinase.group  \\\n",
       "0               0       [BMX]            Tec           TK   \n",
       "1               0      [BRAF]            RAF          TKL   \n",
       "\n",
       "                             ligand.orthosteric.name  ligand.allosteric.name  \\\n",
       "0  N-(2-CHLORO-6-METHYLPHENYL)-2-({6-[4-(2-HYDROX...                       -   \n",
       "1  1-[4-{[1-(3-{[dihydroxy(propyl)-lambda~4~-sulf...                       -   \n",
       "\n",
       "   structure.dfg  structure.ac_helix                               filepath  \n",
       "0       out-like                  in   KLIFS_download/HUMAN/BMX/3sxr_chainA  \n",
       "1             in            out-like  KLIFS_download/HUMAN/BRAF/6uuo_chainA  \n",
       "\n",
       "[2 rows x 35 columns]"
      ]
     },
     "execution_count": 5,
     "metadata": {},
     "output_type": "execute_result"
    }
   ],
   "source": [
    "print(local.session_type)\n",
    "local.database"
   ]
  },
  {
   "cell_type": "code",
   "execution_count": 6,
   "metadata": {},
   "outputs": [
    {
     "data": {
      "text/plain": [
       "Index(['species', 'kinase.name', 'structure.pdb', 'structure.alternate_model',\n",
       "       'structure.chain', 'ligand.orthosteric.pdb', 'ligand.allosteric.pdb',\n",
       "       'structure.rmsd1', 'structure.rmsd2', 'structure.qualityscore',\n",
       "       'kinase.pocket', 'structure.resolution', 'structure.missing_residues',\n",
       "       'structure.missing_atoms', 'structure.ifp', 'structure.fp_i',\n",
       "       'structure.fp_ii', 'structure.bp_i_a', 'structure.bp_i_b',\n",
       "       'structure.bp_ii_in', 'structure.bp_ii_a_in', 'structure.bp_ii_b_in',\n",
       "       'structure.bp_ii_out', 'structure.bp_ii_b', 'structure.bp_iii',\n",
       "       'structure.bp_iv', 'structure.bp_v', 'kinase_all', 'kinase.family',\n",
       "       'kinase.group', 'ligand.orthosteric.name', 'ligand.allosteric.name',\n",
       "       'structure.dfg', 'structure.ac_helix', 'filepath'],\n",
       "      dtype='object')"
      ]
     },
     "execution_count": 6,
     "metadata": {},
     "output_type": "execute_result"
    }
   ],
   "source": [
    "local.database.columns"
   ]
  },
  {
   "cell_type": "markdown",
   "metadata": {},
   "source": [
    "### Kinases\n",
    "\n",
    "Try out functionalities to request kinase data. Show remote and local access in parallel."
   ]
  },
  {
   "cell_type": "markdown",
   "metadata": {},
   "source": [
    "#### All kinase groups"
   ]
  },
  {
   "cell_type": "code",
   "execution_count": 7,
   "metadata": {},
   "outputs": [
    {
     "data": {
      "text/html": [
       "<div>\n",
       "<style scoped>\n",
       "    .dataframe tbody tr th:only-of-type {\n",
       "        vertical-align: middle;\n",
       "    }\n",
       "\n",
       "    .dataframe tbody tr th {\n",
       "        vertical-align: top;\n",
       "    }\n",
       "\n",
       "    .dataframe thead th {\n",
       "        text-align: right;\n",
       "    }\n",
       "</style>\n",
       "<table border=\"1\" class=\"dataframe\">\n",
       "  <thead>\n",
       "    <tr style=\"text-align: right;\">\n",
       "      <th></th>\n",
       "      <th>kinase.group</th>\n",
       "    </tr>\n",
       "  </thead>\n",
       "  <tbody>\n",
       "    <tr>\n",
       "      <th>0</th>\n",
       "      <td>AGC</td>\n",
       "    </tr>\n",
       "    <tr>\n",
       "      <th>1</th>\n",
       "      <td>CAMK</td>\n",
       "    </tr>\n",
       "    <tr>\n",
       "      <th>2</th>\n",
       "      <td>CK1</td>\n",
       "    </tr>\n",
       "    <tr>\n",
       "      <th>3</th>\n",
       "      <td>CMGC</td>\n",
       "    </tr>\n",
       "    <tr>\n",
       "      <th>4</th>\n",
       "      <td>Other</td>\n",
       "    </tr>\n",
       "    <tr>\n",
       "      <th>5</th>\n",
       "      <td>STE</td>\n",
       "    </tr>\n",
       "    <tr>\n",
       "      <th>6</th>\n",
       "      <td>TK</td>\n",
       "    </tr>\n",
       "    <tr>\n",
       "      <th>7</th>\n",
       "      <td>TKL</td>\n",
       "    </tr>\n",
       "  </tbody>\n",
       "</table>\n",
       "</div>"
      ],
      "text/plain": [
       "  kinase.group\n",
       "0          AGC\n",
       "1         CAMK\n",
       "2          CK1\n",
       "3         CMGC\n",
       "4        Other\n",
       "5          STE\n",
       "6           TK\n",
       "7          TKL"
      ]
     },
     "execution_count": 7,
     "metadata": {},
     "output_type": "execute_result"
    }
   ],
   "source": [
    "remote.kinases.all_kinase_groups()"
   ]
  },
  {
   "cell_type": "code",
   "execution_count": 8,
   "metadata": {},
   "outputs": [
    {
     "data": {
      "text/html": [
       "<div>\n",
       "<style scoped>\n",
       "    .dataframe tbody tr th:only-of-type {\n",
       "        vertical-align: middle;\n",
       "    }\n",
       "\n",
       "    .dataframe tbody tr th {\n",
       "        vertical-align: top;\n",
       "    }\n",
       "\n",
       "    .dataframe thead th {\n",
       "        text-align: right;\n",
       "    }\n",
       "</style>\n",
       "<table border=\"1\" class=\"dataframe\">\n",
       "  <thead>\n",
       "    <tr style=\"text-align: right;\">\n",
       "      <th></th>\n",
       "      <th>kinase.group</th>\n",
       "    </tr>\n",
       "  </thead>\n",
       "  <tbody>\n",
       "    <tr>\n",
       "      <th>0</th>\n",
       "      <td>TK</td>\n",
       "    </tr>\n",
       "    <tr>\n",
       "      <th>1</th>\n",
       "      <td>TKL</td>\n",
       "    </tr>\n",
       "  </tbody>\n",
       "</table>\n",
       "</div>"
      ],
      "text/plain": [
       "  kinase.group\n",
       "0           TK\n",
       "1          TKL"
      ]
     },
     "execution_count": 8,
     "metadata": {},
     "output_type": "execute_result"
    }
   ],
   "source": [
    "local.kinases.all_kinase_groups()"
   ]
  },
  {
   "cell_type": "markdown",
   "metadata": {},
   "source": [
    "#### All kinase families"
   ]
  },
  {
   "cell_type": "code",
   "execution_count": 9,
   "metadata": {},
   "outputs": [
    {
     "name": "stdout",
     "output_type": "stream",
     "text": [
      "(144, 1)\n"
     ]
    },
    {
     "data": {
      "text/html": [
       "<div>\n",
       "<style scoped>\n",
       "    .dataframe tbody tr th:only-of-type {\n",
       "        vertical-align: middle;\n",
       "    }\n",
       "\n",
       "    .dataframe tbody tr th {\n",
       "        vertical-align: top;\n",
       "    }\n",
       "\n",
       "    .dataframe thead th {\n",
       "        text-align: right;\n",
       "    }\n",
       "</style>\n",
       "<table border=\"1\" class=\"dataframe\">\n",
       "  <thead>\n",
       "    <tr style=\"text-align: right;\">\n",
       "      <th></th>\n",
       "      <th>kinase.family</th>\n",
       "    </tr>\n",
       "  </thead>\n",
       "  <tbody>\n",
       "    <tr>\n",
       "      <th>0</th>\n",
       "      <td>A6</td>\n",
       "    </tr>\n",
       "    <tr>\n",
       "      <th>1</th>\n",
       "      <td>ABC1</td>\n",
       "    </tr>\n",
       "    <tr>\n",
       "      <th>2</th>\n",
       "      <td>AKT</td>\n",
       "    </tr>\n",
       "    <tr>\n",
       "      <th>3</th>\n",
       "      <td>ALK</td>\n",
       "    </tr>\n",
       "    <tr>\n",
       "      <th>4</th>\n",
       "      <td>AUR</td>\n",
       "    </tr>\n",
       "  </tbody>\n",
       "</table>\n",
       "</div>"
      ],
      "text/plain": [
       "  kinase.family\n",
       "0            A6\n",
       "1          ABC1\n",
       "2           AKT\n",
       "3           ALK\n",
       "4           AUR"
      ]
     },
     "execution_count": 9,
     "metadata": {},
     "output_type": "execute_result"
    }
   ],
   "source": [
    "print(remote.kinases.all_kinase_families().shape)\n",
    "remote.kinases.all_kinase_families().head()"
   ]
  },
  {
   "cell_type": "code",
   "execution_count": 10,
   "metadata": {},
   "outputs": [
    {
     "name": "stdout",
     "output_type": "stream",
     "text": [
      "(2, 1)\n"
     ]
    },
    {
     "data": {
      "text/html": [
       "<div>\n",
       "<style scoped>\n",
       "    .dataframe tbody tr th:only-of-type {\n",
       "        vertical-align: middle;\n",
       "    }\n",
       "\n",
       "    .dataframe tbody tr th {\n",
       "        vertical-align: top;\n",
       "    }\n",
       "\n",
       "    .dataframe thead th {\n",
       "        text-align: right;\n",
       "    }\n",
       "</style>\n",
       "<table border=\"1\" class=\"dataframe\">\n",
       "  <thead>\n",
       "    <tr style=\"text-align: right;\">\n",
       "      <th></th>\n",
       "      <th>kinase.family</th>\n",
       "    </tr>\n",
       "  </thead>\n",
       "  <tbody>\n",
       "    <tr>\n",
       "      <th>0</th>\n",
       "      <td>Tec</td>\n",
       "    </tr>\n",
       "    <tr>\n",
       "      <th>1</th>\n",
       "      <td>RAF</td>\n",
       "    </tr>\n",
       "  </tbody>\n",
       "</table>\n",
       "</div>"
      ],
      "text/plain": [
       "  kinase.family\n",
       "0           Tec\n",
       "1           RAF"
      ]
     },
     "execution_count": 10,
     "metadata": {},
     "output_type": "execute_result"
    }
   ],
   "source": [
    "print(local.kinases.all_kinase_families().shape)\n",
    "local.kinases.all_kinase_families().head()"
   ]
  },
  {
   "cell_type": "markdown",
   "metadata": {},
   "source": [
    "#### All kinase families in a kinase group"
   ]
  },
  {
   "cell_type": "code",
   "execution_count": 11,
   "metadata": {},
   "outputs": [
    {
     "name": "stdout",
     "output_type": "stream",
     "text": [
      "(31, 1)\n"
     ]
    },
    {
     "data": {
      "text/html": [
       "<div>\n",
       "<style scoped>\n",
       "    .dataframe tbody tr th:only-of-type {\n",
       "        vertical-align: middle;\n",
       "    }\n",
       "\n",
       "    .dataframe tbody tr th {\n",
       "        vertical-align: top;\n",
       "    }\n",
       "\n",
       "    .dataframe thead th {\n",
       "        text-align: right;\n",
       "    }\n",
       "</style>\n",
       "<table border=\"1\" class=\"dataframe\">\n",
       "  <thead>\n",
       "    <tr style=\"text-align: right;\">\n",
       "      <th></th>\n",
       "      <th>kinase.family</th>\n",
       "    </tr>\n",
       "  </thead>\n",
       "  <tbody>\n",
       "    <tr>\n",
       "      <th>0</th>\n",
       "      <td>ALK</td>\n",
       "    </tr>\n",
       "    <tr>\n",
       "      <th>1</th>\n",
       "      <td>Abl</td>\n",
       "    </tr>\n",
       "    <tr>\n",
       "      <th>2</th>\n",
       "      <td>Ack</td>\n",
       "    </tr>\n",
       "    <tr>\n",
       "      <th>3</th>\n",
       "      <td>Alk</td>\n",
       "    </tr>\n",
       "    <tr>\n",
       "      <th>4</th>\n",
       "      <td>Axl</td>\n",
       "    </tr>\n",
       "  </tbody>\n",
       "</table>\n",
       "</div>"
      ],
      "text/plain": [
       "  kinase.family\n",
       "0           ALK\n",
       "1           Abl\n",
       "2           Ack\n",
       "3           Alk\n",
       "4           Axl"
      ]
     },
     "execution_count": 11,
     "metadata": {},
     "output_type": "execute_result"
    }
   ],
   "source": [
    "print(remote.kinases.all_kinase_families(group='TK').shape)\n",
    "remote.kinases.all_kinase_families(group='TK').head()"
   ]
  },
  {
   "cell_type": "code",
   "execution_count": 12,
   "metadata": {},
   "outputs": [
    {
     "name": "stdout",
     "output_type": "stream",
     "text": [
      "(2, 1)\n"
     ]
    },
    {
     "data": {
      "text/html": [
       "<div>\n",
       "<style scoped>\n",
       "    .dataframe tbody tr th:only-of-type {\n",
       "        vertical-align: middle;\n",
       "    }\n",
       "\n",
       "    .dataframe tbody tr th {\n",
       "        vertical-align: top;\n",
       "    }\n",
       "\n",
       "    .dataframe thead th {\n",
       "        text-align: right;\n",
       "    }\n",
       "</style>\n",
       "<table border=\"1\" class=\"dataframe\">\n",
       "  <thead>\n",
       "    <tr style=\"text-align: right;\">\n",
       "      <th></th>\n",
       "      <th>kinase.family</th>\n",
       "    </tr>\n",
       "  </thead>\n",
       "  <tbody>\n",
       "    <tr>\n",
       "      <th>0</th>\n",
       "      <td>Tec</td>\n",
       "    </tr>\n",
       "    <tr>\n",
       "      <th>1</th>\n",
       "      <td>RAF</td>\n",
       "    </tr>\n",
       "  </tbody>\n",
       "</table>\n",
       "</div>"
      ],
      "text/plain": [
       "  kinase.family\n",
       "0           Tec\n",
       "1           RAF"
      ]
     },
     "execution_count": 12,
     "metadata": {},
     "output_type": "execute_result"
    }
   ],
   "source": [
    "print(local.kinases.all_kinase_families(group='TK').shape)\n",
    "local.kinases.all_kinase_families(group='TK').head()"
   ]
  },
  {
   "cell_type": "markdown",
   "metadata": {},
   "source": [
    "#### All kinase names"
   ]
  },
  {
   "cell_type": "code",
   "execution_count": 13,
   "metadata": {},
   "outputs": [
    {
     "name": "stdout",
     "output_type": "stream",
     "text": [
      "(1127, 4)\n"
     ]
    },
    {
     "data": {
      "text/html": [
       "<div>\n",
       "<style scoped>\n",
       "    .dataframe tbody tr th:only-of-type {\n",
       "        vertical-align: middle;\n",
       "    }\n",
       "\n",
       "    .dataframe tbody tr th {\n",
       "        vertical-align: top;\n",
       "    }\n",
       "\n",
       "    .dataframe thead th {\n",
       "        text-align: right;\n",
       "    }\n",
       "</style>\n",
       "<table border=\"1\" class=\"dataframe\">\n",
       "  <thead>\n",
       "    <tr style=\"text-align: right;\">\n",
       "      <th></th>\n",
       "      <th>kinase.id</th>\n",
       "      <th>kinase.name</th>\n",
       "      <th>kinase.name_full</th>\n",
       "      <th>species</th>\n",
       "    </tr>\n",
       "  </thead>\n",
       "  <tbody>\n",
       "    <tr>\n",
       "      <th>0</th>\n",
       "      <td>813</td>\n",
       "      <td>4921509C19Rik</td>\n",
       "      <td>RIKEN cDNA 4921509C19 gene</td>\n",
       "      <td>Mouse</td>\n",
       "    </tr>\n",
       "    <tr>\n",
       "      <th>1</th>\n",
       "      <td>815</td>\n",
       "      <td>4921509C19Rik</td>\n",
       "      <td>RIKEN cDNA 4921509C19 gene</td>\n",
       "      <td>Mouse</td>\n",
       "    </tr>\n",
       "    <tr>\n",
       "      <th>2</th>\n",
       "      <td>814</td>\n",
       "      <td>4921509C19Rik</td>\n",
       "      <td>RIKEN cDNA 4921509C19 gene</td>\n",
       "      <td>Mouse</td>\n",
       "    </tr>\n",
       "    <tr>\n",
       "      <th>3</th>\n",
       "      <td>531</td>\n",
       "      <td>Aak1</td>\n",
       "      <td>AP2 associated kinase 1</td>\n",
       "      <td>Mouse</td>\n",
       "    </tr>\n",
       "    <tr>\n",
       "      <th>4</th>\n",
       "      <td>277</td>\n",
       "      <td>AAK1</td>\n",
       "      <td>AP2 associated kinase 1</td>\n",
       "      <td>Human</td>\n",
       "    </tr>\n",
       "  </tbody>\n",
       "</table>\n",
       "</div>"
      ],
      "text/plain": [
       "   kinase.id    kinase.name            kinase.name_full species\n",
       "0        813  4921509C19Rik  RIKEN cDNA 4921509C19 gene   Mouse\n",
       "1        815  4921509C19Rik  RIKEN cDNA 4921509C19 gene   Mouse\n",
       "2        814  4921509C19Rik  RIKEN cDNA 4921509C19 gene   Mouse\n",
       "3        531           Aak1     AP2 associated kinase 1   Mouse\n",
       "4        277           AAK1     AP2 associated kinase 1   Human"
      ]
     },
     "execution_count": 13,
     "metadata": {},
     "output_type": "execute_result"
    }
   ],
   "source": [
    "print(remote.kinases.all_kinases().shape)\n",
    "remote.kinases.all_kinases().head()"
   ]
  },
  {
   "cell_type": "code",
   "execution_count": 14,
   "metadata": {},
   "outputs": [
    {
     "data": {
      "text/html": [
       "<div>\n",
       "<style scoped>\n",
       "    .dataframe tbody tr th:only-of-type {\n",
       "        vertical-align: middle;\n",
       "    }\n",
       "\n",
       "    .dataframe tbody tr th {\n",
       "        vertical-align: top;\n",
       "    }\n",
       "\n",
       "    .dataframe thead th {\n",
       "        text-align: right;\n",
       "    }\n",
       "</style>\n",
       "<table border=\"1\" class=\"dataframe\">\n",
       "  <thead>\n",
       "    <tr style=\"text-align: right;\">\n",
       "      <th></th>\n",
       "      <th>kinase.name</th>\n",
       "      <th>species</th>\n",
       "    </tr>\n",
       "  </thead>\n",
       "  <tbody>\n",
       "    <tr>\n",
       "      <th>0</th>\n",
       "      <td>BMX</td>\n",
       "      <td>Human</td>\n",
       "    </tr>\n",
       "    <tr>\n",
       "      <th>1</th>\n",
       "      <td>BRAF</td>\n",
       "      <td>Human</td>\n",
       "    </tr>\n",
       "  </tbody>\n",
       "</table>\n",
       "</div>"
      ],
      "text/plain": [
       "  kinase.name species\n",
       "0         BMX   Human\n",
       "1        BRAF   Human"
      ]
     },
     "execution_count": 14,
     "metadata": {},
     "output_type": "execute_result"
    }
   ],
   "source": [
    "local.kinases.all_kinases()"
   ]
  },
  {
   "cell_type": "markdown",
   "metadata": {},
   "source": [
    "#### All kinase families in a non-existing kinase group"
   ]
  },
  {
   "cell_type": "code",
   "execution_count": 15,
   "metadata": {},
   "outputs": [
    {
     "name": "stderr",
     "output_type": "stream",
     "text": [
      "Expected type to be dict for value [400, 'KLIFS error: A provided group does not exist.'] to unmarshal to a <class 'abc.Error'>.Was <class 'list'> instead.\n"
     ]
    }
   ],
   "source": [
    "remote.kinases.all_kinase_families(group='XXX')"
   ]
  },
  {
   "cell_type": "code",
   "execution_count": 16,
   "metadata": {},
   "outputs": [
    {
     "name": "stderr",
     "output_type": "stream",
     "text": [
      "Kinase group XXX not known in local dataset.\n"
     ]
    }
   ],
   "source": [
    "local.kinases.all_kinase_families('XXX')"
   ]
  },
  {
   "cell_type": "markdown",
   "metadata": {},
   "source": [
    "#### Kinase by kinase ID"
   ]
  },
  {
   "cell_type": "code",
   "execution_count": 17,
   "metadata": {},
   "outputs": [
    {
     "data": {
      "text/html": [
       "<div>\n",
       "<style scoped>\n",
       "    .dataframe tbody tr th:only-of-type {\n",
       "        vertical-align: middle;\n",
       "    }\n",
       "\n",
       "    .dataframe tbody tr th {\n",
       "        vertical-align: top;\n",
       "    }\n",
       "\n",
       "    .dataframe thead th {\n",
       "        text-align: right;\n",
       "    }\n",
       "</style>\n",
       "<table border=\"1\" class=\"dataframe\">\n",
       "  <thead>\n",
       "    <tr style=\"text-align: right;\">\n",
       "      <th></th>\n",
       "      <th>kinase.id</th>\n",
       "      <th>kinase.name</th>\n",
       "      <th>kinase.hgnc</th>\n",
       "      <th>kinase.family</th>\n",
       "      <th>kinase.group</th>\n",
       "      <th>kinase.class</th>\n",
       "      <th>species</th>\n",
       "      <th>kinase.name_full</th>\n",
       "      <th>kinase.uniprot</th>\n",
       "      <th>kinase.iuphar</th>\n",
       "      <th>kinase.pocket</th>\n",
       "    </tr>\n",
       "  </thead>\n",
       "  <tbody>\n",
       "    <tr>\n",
       "      <th>0</th>\n",
       "      <td>33</td>\n",
       "      <td>PKCa</td>\n",
       "      <td>PRKCA</td>\n",
       "      <td>PKC</td>\n",
       "      <td>AGC</td>\n",
       "      <td>Alpha</td>\n",
       "      <td>Human</td>\n",
       "      <td>protein kinase C alpha</td>\n",
       "      <td>P17252</td>\n",
       "      <td>1482</td>\n",
       "      <td>MVLGKGSFGKVMLYAIKILCTMVEKRVLALLDPFLTQLHSCYFVME...</td>\n",
       "    </tr>\n",
       "  </tbody>\n",
       "</table>\n",
       "</div>"
      ],
      "text/plain": [
       "   kinase.id kinase.name kinase.hgnc kinase.family kinase.group kinase.class  \\\n",
       "0         33        PKCa       PRKCA           PKC          AGC        Alpha   \n",
       "\n",
       "  species        kinase.name_full kinase.uniprot  kinase.iuphar  \\\n",
       "0   Human  protein kinase C alpha         P17252           1482   \n",
       "\n",
       "                                       kinase.pocket  \n",
       "0  MVLGKGSFGKVMLYAIKILCTMVEKRVLALLDPFLTQLHSCYFVME...  "
      ]
     },
     "execution_count": 17,
     "metadata": {},
     "output_type": "execute_result"
    }
   ],
   "source": [
    "remote.kinases.from_kinase_ids(33)"
   ]
  },
  {
   "cell_type": "code",
   "execution_count": 18,
   "metadata": {},
   "outputs": [
    {
     "name": "stderr",
     "output_type": "stream",
     "text": [
      "Expected type to be dict for value [400, 'KLIFS error: An unknown kinase ID was provided'] to unmarshal to a <class 'abc.Error'>.Was <class 'list'> instead.\n"
     ]
    }
   ],
   "source": [
    "remote.kinases.from_kinase_ids(10000)"
   ]
  },
  {
   "cell_type": "code",
   "execution_count": 19,
   "metadata": {},
   "outputs": [
    {
     "name": "stderr",
     "output_type": "stream",
     "text": [
      "Expected type to be dict for value [400, 'KLIFS error: An unknown kinase ID was provided'] to unmarshal to a <class 'abc.Error'>.Was <class 'list'> instead.\n"
     ]
    }
   ],
   "source": [
    "remote.kinases.from_kinase_ids([1,2,10000])"
   ]
  },
  {
   "cell_type": "markdown",
   "metadata": {},
   "source": [
    "#### Kinase by kinase name"
   ]
  },
  {
   "cell_type": "code",
   "execution_count": 20,
   "metadata": {},
   "outputs": [
    {
     "data": {
      "text/html": [
       "<div>\n",
       "<style scoped>\n",
       "    .dataframe tbody tr th:only-of-type {\n",
       "        vertical-align: middle;\n",
       "    }\n",
       "\n",
       "    .dataframe tbody tr th {\n",
       "        vertical-align: top;\n",
       "    }\n",
       "\n",
       "    .dataframe thead th {\n",
       "        text-align: right;\n",
       "    }\n",
       "</style>\n",
       "<table border=\"1\" class=\"dataframe\">\n",
       "  <thead>\n",
       "    <tr style=\"text-align: right;\">\n",
       "      <th></th>\n",
       "      <th>kinase.id</th>\n",
       "      <th>kinase.name</th>\n",
       "      <th>kinase.hgnc</th>\n",
       "      <th>kinase.family</th>\n",
       "      <th>kinase.group</th>\n",
       "      <th>kinase.class</th>\n",
       "      <th>species</th>\n",
       "      <th>kinase.name_full</th>\n",
       "      <th>kinase.uniprot</th>\n",
       "      <th>kinase.iuphar</th>\n",
       "      <th>kinase.pocket</th>\n",
       "    </tr>\n",
       "  </thead>\n",
       "  <tbody>\n",
       "    <tr>\n",
       "      <th>0</th>\n",
       "      <td>574</td>\n",
       "      <td>BMX</td>\n",
       "      <td>Bmx</td>\n",
       "      <td>Tec</td>\n",
       "      <td>TK</td>\n",
       "      <td></td>\n",
       "      <td>Mouse</td>\n",
       "      <td>BMX non-receptor tyrosine kinase</td>\n",
       "      <td>P97504</td>\n",
       "      <td>0</td>\n",
       "      <td>KELGNGQFGVVQLVAVKMIEFFQEAQTMMKLSPKLVKFYGVYIVTE...</td>\n",
       "    </tr>\n",
       "    <tr>\n",
       "      <th>1</th>\n",
       "      <td>472</td>\n",
       "      <td>BMX</td>\n",
       "      <td>BMX</td>\n",
       "      <td>Tec</td>\n",
       "      <td>TK</td>\n",
       "      <td></td>\n",
       "      <td>Human</td>\n",
       "      <td>BMX non-receptor tyrosine kinase</td>\n",
       "      <td>P51813</td>\n",
       "      <td>1942</td>\n",
       "      <td>KELGSGQFGVVQLVAVKMIEFFQEAQTMMKLSPKLVKFYGVYIVTE...</td>\n",
       "    </tr>\n",
       "  </tbody>\n",
       "</table>\n",
       "</div>"
      ],
      "text/plain": [
       "   kinase.id kinase.name kinase.hgnc kinase.family kinase.group kinase.class  \\\n",
       "0        574         BMX         Bmx           Tec           TK                \n",
       "1        472         BMX         BMX           Tec           TK                \n",
       "\n",
       "  species                  kinase.name_full kinase.uniprot  kinase.iuphar  \\\n",
       "0   Mouse  BMX non-receptor tyrosine kinase         P97504              0   \n",
       "1   Human  BMX non-receptor tyrosine kinase         P51813           1942   \n",
       "\n",
       "                                       kinase.pocket  \n",
       "0  KELGNGQFGVVQLVAVKMIEFFQEAQTMMKLSPKLVKFYGVYIVTE...  \n",
       "1  KELGSGQFGVVQLVAVKMIEFFQEAQTMMKLSPKLVKFYGVYIVTE...  "
      ]
     },
     "execution_count": 20,
     "metadata": {},
     "output_type": "execute_result"
    }
   ],
   "source": [
    "remote.kinases.from_kinase_names('BMX')"
   ]
  },
  {
   "cell_type": "code",
   "execution_count": 21,
   "metadata": {},
   "outputs": [
    {
     "data": {
      "text/html": [
       "<div>\n",
       "<style scoped>\n",
       "    .dataframe tbody tr th:only-of-type {\n",
       "        vertical-align: middle;\n",
       "    }\n",
       "\n",
       "    .dataframe tbody tr th {\n",
       "        vertical-align: top;\n",
       "    }\n",
       "\n",
       "    .dataframe thead th {\n",
       "        text-align: right;\n",
       "    }\n",
       "</style>\n",
       "<table border=\"1\" class=\"dataframe\">\n",
       "  <thead>\n",
       "    <tr style=\"text-align: right;\">\n",
       "      <th></th>\n",
       "      <th>kinase.id</th>\n",
       "      <th>kinase.name</th>\n",
       "      <th>kinase.hgnc</th>\n",
       "      <th>kinase.family</th>\n",
       "      <th>kinase.group</th>\n",
       "      <th>kinase.class</th>\n",
       "      <th>species</th>\n",
       "      <th>kinase.name_full</th>\n",
       "      <th>kinase.uniprot</th>\n",
       "      <th>kinase.iuphar</th>\n",
       "      <th>kinase.pocket</th>\n",
       "    </tr>\n",
       "  </thead>\n",
       "  <tbody>\n",
       "    <tr>\n",
       "      <th>0</th>\n",
       "      <td>574</td>\n",
       "      <td>BMX</td>\n",
       "      <td>Bmx</td>\n",
       "      <td>Tec</td>\n",
       "      <td>TK</td>\n",
       "      <td></td>\n",
       "      <td>Mouse</td>\n",
       "      <td>BMX non-receptor tyrosine kinase</td>\n",
       "      <td>P97504</td>\n",
       "      <td>0</td>\n",
       "      <td>KELGNGQFGVVQLVAVKMIEFFQEAQTMMKLSPKLVKFYGVYIVTE...</td>\n",
       "    </tr>\n",
       "    <tr>\n",
       "      <th>1</th>\n",
       "      <td>472</td>\n",
       "      <td>BMX</td>\n",
       "      <td>BMX</td>\n",
       "      <td>Tec</td>\n",
       "      <td>TK</td>\n",
       "      <td></td>\n",
       "      <td>Human</td>\n",
       "      <td>BMX non-receptor tyrosine kinase</td>\n",
       "      <td>P51813</td>\n",
       "      <td>1942</td>\n",
       "      <td>KELGSGQFGVVQLVAVKMIEFFQEAQTMMKLSPKLVKFYGVYIVTE...</td>\n",
       "    </tr>\n",
       "    <tr>\n",
       "      <th>2</th>\n",
       "      <td>509</td>\n",
       "      <td>BRAF</td>\n",
       "      <td>BRAF</td>\n",
       "      <td>RAF</td>\n",
       "      <td>TKL</td>\n",
       "      <td>RAF</td>\n",
       "      <td>Human</td>\n",
       "      <td>B-Raf proto-oncogene, serine/threonine kinase</td>\n",
       "      <td>P15056</td>\n",
       "      <td>1943</td>\n",
       "      <td>QRIGSGSFGTVYKVAVKMLAFKNEVGVLRKTRVNILLFMGYAIVTQ...</td>\n",
       "    </tr>\n",
       "    <tr>\n",
       "      <th>3</th>\n",
       "      <td>575</td>\n",
       "      <td>BRAF</td>\n",
       "      <td>Braf</td>\n",
       "      <td>RAF</td>\n",
       "      <td>TKL</td>\n",
       "      <td></td>\n",
       "      <td>Mouse</td>\n",
       "      <td>Braf transforming gene</td>\n",
       "      <td>P28028</td>\n",
       "      <td>0</td>\n",
       "      <td>QRIGSGSFGTVYKVAVKMLAFKNEVGVLRKTRVNILLFMGYAIVTQ...</td>\n",
       "    </tr>\n",
       "  </tbody>\n",
       "</table>\n",
       "</div>"
      ],
      "text/plain": [
       "   kinase.id kinase.name kinase.hgnc kinase.family kinase.group kinase.class  \\\n",
       "0        574         BMX         Bmx           Tec           TK                \n",
       "1        472         BMX         BMX           Tec           TK                \n",
       "2        509        BRAF        BRAF           RAF          TKL          RAF   \n",
       "3        575        BRAF        Braf           RAF          TKL                \n",
       "\n",
       "  species                               kinase.name_full kinase.uniprot  \\\n",
       "0   Mouse               BMX non-receptor tyrosine kinase         P97504   \n",
       "1   Human               BMX non-receptor tyrosine kinase         P51813   \n",
       "2   Human  B-Raf proto-oncogene, serine/threonine kinase         P15056   \n",
       "3   Mouse                         Braf transforming gene         P28028   \n",
       "\n",
       "   kinase.iuphar                                      kinase.pocket  \n",
       "0              0  KELGNGQFGVVQLVAVKMIEFFQEAQTMMKLSPKLVKFYGVYIVTE...  \n",
       "1           1942  KELGSGQFGVVQLVAVKMIEFFQEAQTMMKLSPKLVKFYGVYIVTE...  \n",
       "2           1943  QRIGSGSFGTVYKVAVKMLAFKNEVGVLRKTRVNILLFMGYAIVTQ...  \n",
       "3              0  QRIGSGSFGTVYKVAVKMLAFKNEVGVLRKTRVNILLFMGYAIVTQ...  "
      ]
     },
     "execution_count": 21,
     "metadata": {},
     "output_type": "execute_result"
    }
   ],
   "source": [
    "remote.kinases.from_kinase_names(['BMX', 'BRAF'])"
   ]
  },
  {
   "cell_type": "code",
   "execution_count": 22,
   "metadata": {},
   "outputs": [
    {
     "name": "stderr",
     "output_type": "stream",
     "text": [
      "Kinase YYY: Expected type to be dict for value [400, 'KLIFS error: An unknown kinase name was provided'] to unmarshal to a <class 'abc.Error'>.Was <class 'list'> instead.\n",
      "Kinase XXX: Expected type to be dict for value [400, 'KLIFS error: An unknown kinase name was provided'] to unmarshal to a <class 'abc.Error'>.Was <class 'list'> instead.\n"
     ]
    }
   ],
   "source": [
    "remote.kinases.from_kinase_names(['YYY', 'XXX'])"
   ]
  },
  {
   "cell_type": "code",
   "execution_count": 23,
   "metadata": {},
   "outputs": [
    {
     "ename": "NotImplementedError",
     "evalue": "Implement in your subclass!",
     "output_type": "error",
     "traceback": [
      "\u001b[0;31m---------------------------------------------------------------------------\u001b[0m",
      "\u001b[0;31mNotImplementedError\u001b[0m                       Traceback (most recent call last)",
      "\u001b[0;32m<ipython-input-23-68bf258f810d>\u001b[0m in \u001b[0;36m<module>\u001b[0;34m\u001b[0m\n\u001b[0;32m----> 1\u001b[0;31m \u001b[0mlocal\u001b[0m\u001b[0;34m.\u001b[0m\u001b[0mkinases\u001b[0m\u001b[0;34m.\u001b[0m\u001b[0mfrom_kinase_names\u001b[0m\u001b[0;34m(\u001b[0m\u001b[0;34m'BMX'\u001b[0m\u001b[0;34m)\u001b[0m\u001b[0;34m\u001b[0m\u001b[0;34m\u001b[0m\u001b[0m\n\u001b[0m",
      "\u001b[0;32m~/Documents/Work/GitHub/opencadd/opencadd/databases/klifs_new/core.py\u001b[0m in \u001b[0;36mfrom_kinase_names\u001b[0;34m(self, kinase_names)\u001b[0m\n\u001b[1;32m    113\u001b[0m             \u001b[0mKinases\u001b[0m \u001b[0;34m(\u001b[0m\u001b[0mrows\u001b[0m\u001b[0;34m)\u001b[0m \u001b[0;32mwith\u001b[0m \u001b[0mcolumns\u001b[0m \u001b[0;32mas\u001b[0m \u001b[0mdescribed\u001b[0m \u001b[0;32min\u001b[0m \u001b[0mthe\u001b[0m \u001b[0;32mclass\u001b[0m \u001b[0mdocstring\u001b[0m\u001b[0;34m.\u001b[0m\u001b[0;34m\u001b[0m\u001b[0;34m\u001b[0m\u001b[0m\n\u001b[1;32m    114\u001b[0m         \"\"\"\n\u001b[0;32m--> 115\u001b[0;31m         \u001b[0;32mraise\u001b[0m \u001b[0mNotImplementedError\u001b[0m\u001b[0;34m(\u001b[0m\u001b[0;34m\"Implement in your subclass!\"\u001b[0m\u001b[0;34m)\u001b[0m\u001b[0;34m\u001b[0m\u001b[0;34m\u001b[0m\u001b[0m\n\u001b[0m\u001b[1;32m    116\u001b[0m \u001b[0;34m\u001b[0m\u001b[0m\n\u001b[1;32m    117\u001b[0m     \u001b[0;32mdef\u001b[0m \u001b[0m_rename_remote_columns\u001b[0m\u001b[0;34m(\u001b[0m\u001b[0mkinases\u001b[0m\u001b[0;34m)\u001b[0m\u001b[0;34m:\u001b[0m\u001b[0;34m\u001b[0m\u001b[0;34m\u001b[0m\u001b[0m\n",
      "\u001b[0;31mNotImplementedError\u001b[0m: Implement in your subclass!"
     ]
    }
   ],
   "source": [
    "local.kinases.from_kinase_names('BMX')"
   ]
  },
  {
   "cell_type": "markdown",
   "metadata": {},
   "source": [
    "#### Kinases by kinase names and species"
   ]
  },
  {
   "cell_type": "code",
   "execution_count": null,
   "metadata": {},
   "outputs": [],
   "source": [
    "remote.kinases.from_kinase_names(['EGFR', 'NIK'], 'HUMAN')"
   ]
  },
  {
   "cell_type": "code",
   "execution_count": null,
   "metadata": {},
   "outputs": [],
   "source": [
    "local.kinases.from_kinase_names(['EGFR', 'NIK'], 'HUMAN')"
   ]
  },
  {
   "cell_type": "code",
   "execution_count": null,
   "metadata": {},
   "outputs": [],
   "source": []
  }
 ],
 "metadata": {
  "kernelspec": {
   "display_name": "opencadd",
   "language": "python",
   "name": "opencadd"
  },
  "language_info": {
   "codemirror_mode": {
    "name": "ipython",
    "version": 3
   },
   "file_extension": ".py",
   "mimetype": "text/x-python",
   "name": "python",
   "nbconvert_exporter": "python",
   "pygments_lexer": "ipython3",
   "version": "3.8.5"
  }
 },
 "nbformat": 4,
 "nbformat_minor": 4
}
