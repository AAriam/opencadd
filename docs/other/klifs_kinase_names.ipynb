{
 "cells": [
  {
   "cell_type": "markdown",
   "metadata": {},
   "source": [
    "# KLIFS kinase names\n",
    "\n",
    "Explore different kinase name columns."
   ]
  },
  {
   "cell_type": "code",
   "execution_count": 1,
   "metadata": {},
   "outputs": [],
   "source": [
    "%load_ext autoreload\n",
    "%autoreload 2"
   ]
  },
  {
   "cell_type": "code",
   "execution_count": 2,
   "metadata": {},
   "outputs": [
    {
     "name": "stderr",
     "output_type": "stream",
     "text": [
      "INFO:opencadd.databases.klifs.api:If you want to see an non-truncated version of the DataFrames in this module, use `pd.set_option('display.max_columns', 50)` in your notebook.\n"
     ]
    }
   ],
   "source": [
    "import pandas as pd\n",
    "\n",
    "from opencadd.databases.klifs import setup_remote, setup_local"
   ]
  },
  {
   "cell_type": "code",
   "execution_count": 3,
   "metadata": {},
   "outputs": [],
   "source": [
    "pd.set_option('display.max_columns', 50)"
   ]
  },
  {
   "cell_type": "code",
   "execution_count": 4,
   "metadata": {},
   "outputs": [
    {
     "name": "stderr",
     "output_type": "stream",
     "text": [
      "INFO:opencadd.databases.klifs.api:Set up remote session...\n",
      "INFO:opencadd.databases.klifs.api:Remote session is ready!\n"
     ]
    }
   ],
   "source": [
    "remote = setup_remote()"
   ]
  },
  {
   "cell_type": "markdown",
   "metadata": {},
   "source": [
    "## Kinase details 1 (short version)"
   ]
  },
  {
   "cell_type": "code",
   "execution_count": 5,
   "metadata": {},
   "outputs": [
    {
     "data": {
      "text/html": [
       "<div>\n",
       "<style scoped>\n",
       "    .dataframe tbody tr th:only-of-type {\n",
       "        vertical-align: middle;\n",
       "    }\n",
       "\n",
       "    .dataframe tbody tr th {\n",
       "        vertical-align: top;\n",
       "    }\n",
       "\n",
       "    .dataframe thead th {\n",
       "        text-align: right;\n",
       "    }\n",
       "</style>\n",
       "<table border=\"1\" class=\"dataframe\">\n",
       "  <thead>\n",
       "    <tr style=\"text-align: right;\">\n",
       "      <th></th>\n",
       "      <th>kinase.id</th>\n",
       "      <th>kinase.hgnc_name</th>\n",
       "      <th>kinase.full_name</th>\n",
       "      <th>species.klifs</th>\n",
       "    </tr>\n",
       "  </thead>\n",
       "  <tbody>\n",
       "    <tr>\n",
       "      <th>0</th>\n",
       "      <td>1</td>\n",
       "      <td>AKT1</td>\n",
       "      <td>None</td>\n",
       "      <td>Human</td>\n",
       "    </tr>\n",
       "    <tr>\n",
       "      <th>1</th>\n",
       "      <td>2</td>\n",
       "      <td>AKT2</td>\n",
       "      <td>None</td>\n",
       "      <td>Human</td>\n",
       "    </tr>\n",
       "    <tr>\n",
       "      <th>2</th>\n",
       "      <td>3</td>\n",
       "      <td>AKT3</td>\n",
       "      <td>None</td>\n",
       "      <td>Human</td>\n",
       "    </tr>\n",
       "    <tr>\n",
       "      <th>3</th>\n",
       "      <td>4</td>\n",
       "      <td>CIT</td>\n",
       "      <td>None</td>\n",
       "      <td>Human</td>\n",
       "    </tr>\n",
       "    <tr>\n",
       "      <th>4</th>\n",
       "      <td>5</td>\n",
       "      <td>DMPK</td>\n",
       "      <td>None</td>\n",
       "      <td>Human</td>\n",
       "    </tr>\n",
       "  </tbody>\n",
       "</table>\n",
       "</div>"
      ],
      "text/plain": [
       "   kinase.id kinase.hgnc_name kinase.full_name species.klifs\n",
       "0          1             AKT1             None         Human\n",
       "1          2             AKT2             None         Human\n",
       "2          3             AKT3             None         Human\n",
       "3          4              CIT             None         Human\n",
       "4          5             DMPK             None         Human"
      ]
     },
     "execution_count": 5,
     "metadata": {},
     "output_type": "execute_result"
    }
   ],
   "source": [
    "kinases1 = remote.kinases.all_kinases()\n",
    "kinases1.sort_values(\"kinase.id\", inplace=True)\n",
    "kinases1.reset_index(drop=True, inplace=True)\n",
    "kinases1.head()"
   ]
  },
  {
   "cell_type": "markdown",
   "metadata": {},
   "source": [
    "## Kinase details 2 (long details)"
   ]
  },
  {
   "cell_type": "code",
   "execution_count": 6,
   "metadata": {},
   "outputs": [
    {
     "name": "stdout",
     "output_type": "stream",
     "text": [
      "Number of IDs: 1127\n"
     ]
    }
   ],
   "source": [
    "kinase_ids = kinases1[\"kinase.id\"].to_list()\n",
    "print(f\"Number of IDs: {len(kinase_ids)}\")"
   ]
  },
  {
   "cell_type": "code",
   "execution_count": 7,
   "metadata": {},
   "outputs": [
    {
     "name": "stdout",
     "output_type": "stream",
     "text": [
      "Number of kinases: 1127\n"
     ]
    },
    {
     "data": {
      "text/html": [
       "<div>\n",
       "<style scoped>\n",
       "    .dataframe tbody tr th:only-of-type {\n",
       "        vertical-align: middle;\n",
       "    }\n",
       "\n",
       "    .dataframe tbody tr th {\n",
       "        vertical-align: top;\n",
       "    }\n",
       "\n",
       "    .dataframe thead th {\n",
       "        text-align: right;\n",
       "    }\n",
       "</style>\n",
       "<table border=\"1\" class=\"dataframe\">\n",
       "  <thead>\n",
       "    <tr style=\"text-align: right;\">\n",
       "      <th></th>\n",
       "      <th>kinase.id</th>\n",
       "      <th>kinase.klifs_name</th>\n",
       "      <th>kinase.hgnc_name</th>\n",
       "      <th>kinase.family</th>\n",
       "      <th>kinase.group</th>\n",
       "      <th>kinase.class</th>\n",
       "      <th>species.klifs</th>\n",
       "      <th>kinase.full_name</th>\n",
       "      <th>kinase.uniprot</th>\n",
       "      <th>kinase.iuphar</th>\n",
       "      <th>kinase.pocket</th>\n",
       "    </tr>\n",
       "  </thead>\n",
       "  <tbody>\n",
       "    <tr>\n",
       "      <th>0</th>\n",
       "      <td>1</td>\n",
       "      <td>AKT1</td>\n",
       "      <td>AKT1</td>\n",
       "      <td>Akt</td>\n",
       "      <td>AGC</td>\n",
       "      <td></td>\n",
       "      <td>Human</td>\n",
       "      <td>None</td>\n",
       "      <td>P31749</td>\n",
       "      <td>1479</td>\n",
       "      <td>KLLGKGTFGKVILYAMKILHTLTENRVLQNSRPFLTALKYSCFVME...</td>\n",
       "    </tr>\n",
       "    <tr>\n",
       "      <th>1</th>\n",
       "      <td>2</td>\n",
       "      <td>AKT2</td>\n",
       "      <td>AKT2</td>\n",
       "      <td>Akt</td>\n",
       "      <td>AGC</td>\n",
       "      <td></td>\n",
       "      <td>Human</td>\n",
       "      <td>None</td>\n",
       "      <td>P31751</td>\n",
       "      <td>1480</td>\n",
       "      <td>KLLGKGTFGKVILYAMKILHTVTESRVLQNTRPFLTALKYACFVME...</td>\n",
       "    </tr>\n",
       "    <tr>\n",
       "      <th>2</th>\n",
       "      <td>3</td>\n",
       "      <td>AKT3</td>\n",
       "      <td>AKT3</td>\n",
       "      <td>Akt</td>\n",
       "      <td>AGC</td>\n",
       "      <td></td>\n",
       "      <td>Human</td>\n",
       "      <td>None</td>\n",
       "      <td>Q9Y243</td>\n",
       "      <td>2286</td>\n",
       "      <td>KLLGKGTFGKVILYAMKILHTLTESRVLKNTRPFLTSLKYSCFVME...</td>\n",
       "    </tr>\n",
       "    <tr>\n",
       "      <th>3</th>\n",
       "      <td>4</td>\n",
       "      <td>CRIK</td>\n",
       "      <td>CIT</td>\n",
       "      <td>DMPK</td>\n",
       "      <td>AGC</td>\n",
       "      <td>CRIK</td>\n",
       "      <td>Human</td>\n",
       "      <td>None</td>\n",
       "      <td>O14578</td>\n",
       "      <td>1509</td>\n",
       "      <td>SLVGCGHFAEVQVYAMKVMFFEEERNILSRSTPWIPQLQYAYLVME...</td>\n",
       "    </tr>\n",
       "    <tr>\n",
       "      <th>4</th>\n",
       "      <td>5</td>\n",
       "      <td>DMPK1</td>\n",
       "      <td>DMPK</td>\n",
       "      <td>DMPK</td>\n",
       "      <td>AGC</td>\n",
       "      <td>GEK</td>\n",
       "      <td>Human</td>\n",
       "      <td>None</td>\n",
       "      <td>Q09013</td>\n",
       "      <td>1505</td>\n",
       "      <td>KVIGRGAFSEVAVYAMKIMCFREERDVLVNGDRWITQLHFAYLVME...</td>\n",
       "    </tr>\n",
       "  </tbody>\n",
       "</table>\n",
       "</div>"
      ],
      "text/plain": [
       "   kinase.id kinase.klifs_name kinase.hgnc_name kinase.family kinase.group  \\\n",
       "0          1              AKT1             AKT1           Akt          AGC   \n",
       "1          2              AKT2             AKT2           Akt          AGC   \n",
       "2          3              AKT3             AKT3           Akt          AGC   \n",
       "3          4              CRIK              CIT          DMPK          AGC   \n",
       "4          5             DMPK1             DMPK          DMPK          AGC   \n",
       "\n",
       "  kinase.class species.klifs kinase.full_name kinase.uniprot  kinase.iuphar  \\\n",
       "0                      Human             None         P31749           1479   \n",
       "1                      Human             None         P31751           1480   \n",
       "2                      Human             None         Q9Y243           2286   \n",
       "3         CRIK         Human             None         O14578           1509   \n",
       "4          GEK         Human             None         Q09013           1505   \n",
       "\n",
       "                                       kinase.pocket  \n",
       "0  KLLGKGTFGKVILYAMKILHTLTENRVLQNSRPFLTALKYSCFVME...  \n",
       "1  KLLGKGTFGKVILYAMKILHTVTESRVLQNTRPFLTALKYACFVME...  \n",
       "2  KLLGKGTFGKVILYAMKILHTLTESRVLKNTRPFLTSLKYSCFVME...  \n",
       "3  SLVGCGHFAEVQVYAMKVMFFEEERNILSRSTPWIPQLQYAYLVME...  \n",
       "4  KVIGRGAFSEVAVYAMKIMCFREERDVLVNGDRWITQLHFAYLVME...  "
      ]
     },
     "execution_count": 7,
     "metadata": {},
     "output_type": "execute_result"
    }
   ],
   "source": [
    "kinases2 = remote.kinases.by_kinase_ids(kinase_ids)\n",
    "print(f\"Number of kinases: {kinases2.shape[0]}\")\n",
    "kinases2.sort_values(\"kinase.id\", inplace=True)\n",
    "kinases2.reset_index(drop=True, inplace=True)\n",
    "kinases2.head()"
   ]
  },
  {
   "cell_type": "markdown",
   "metadata": {},
   "source": [
    "### How many kinases have unambiguous name?"
   ]
  },
  {
   "cell_type": "code",
   "execution_count": 9,
   "metadata": {},
   "outputs": [
    {
     "data": {
      "text/plain": [
       "(817, 11)"
      ]
     },
     "execution_count": 9,
     "metadata": {},
     "output_type": "execute_result"
    }
   ],
   "source": [
    "kinases2[kinases2.apply(lambda x: x[\"kinase.klifs_name\"] != x[\"kinase.hgnc_name\"], axis=1)].shape"
   ]
  },
  {
   "cell_type": "markdown",
   "metadata": {},
   "source": [
    "### Which columns are matched for kinase name?"
   ]
  },
  {
   "cell_type": "code",
   "execution_count": 10,
   "metadata": {},
   "outputs": [
    {
     "data": {
      "application/vnd.jupyter.widget-view+json": {
       "model_id": "fc50536f196b44d9a34b40c5eda54d51",
       "version_major": 2,
       "version_minor": 0
      },
      "text/plain": [
       "HBox(children=(HTML(value='Processing...'), FloatProgress(value=0.0, max=1.0), HTML(value='')))"
      ]
     },
     "metadata": {},
     "output_type": "display_data"
    },
    {
     "name": "stdout",
     "output_type": "stream",
     "text": [
      "\n"
     ]
    },
    {
     "data": {
      "text/html": [
       "<div>\n",
       "<style scoped>\n",
       "    .dataframe tbody tr th:only-of-type {\n",
       "        vertical-align: middle;\n",
       "    }\n",
       "\n",
       "    .dataframe tbody tr th {\n",
       "        vertical-align: top;\n",
       "    }\n",
       "\n",
       "    .dataframe thead th {\n",
       "        text-align: right;\n",
       "    }\n",
       "</style>\n",
       "<table border=\"1\" class=\"dataframe\">\n",
       "  <thead>\n",
       "    <tr style=\"text-align: right;\">\n",
       "      <th></th>\n",
       "      <th>kinase.id</th>\n",
       "      <th>kinase.klifs_name</th>\n",
       "      <th>kinase.hgnc_name</th>\n",
       "      <th>kinase.family</th>\n",
       "      <th>kinase.group</th>\n",
       "      <th>kinase.class</th>\n",
       "      <th>species.klifs</th>\n",
       "      <th>kinase.full_name</th>\n",
       "      <th>kinase.uniprot</th>\n",
       "      <th>kinase.iuphar</th>\n",
       "      <th>kinase.pocket</th>\n",
       "    </tr>\n",
       "  </thead>\n",
       "  <tbody>\n",
       "    <tr>\n",
       "      <th>0</th>\n",
       "      <td>4</td>\n",
       "      <td>CRIK</td>\n",
       "      <td>CIT</td>\n",
       "      <td>DMPK</td>\n",
       "      <td>AGC</td>\n",
       "      <td>CRIK</td>\n",
       "      <td>Human</td>\n",
       "      <td>None</td>\n",
       "      <td>O14578</td>\n",
       "      <td>1509</td>\n",
       "      <td>SLVGCGHFAEVQVYAMKVMFFEEERNILSRSTPWIPQLQYAYLVME...</td>\n",
       "    </tr>\n",
       "    <tr>\n",
       "      <th>1</th>\n",
       "      <td>637</td>\n",
       "      <td>CRIK</td>\n",
       "      <td>Cit</td>\n",
       "      <td>DMPK</td>\n",
       "      <td>AGC</td>\n",
       "      <td></td>\n",
       "      <td>Mouse</td>\n",
       "      <td>None</td>\n",
       "      <td>P49025</td>\n",
       "      <td>0</td>\n",
       "      <td>SLVGCGHFAEVQVYAMKIMFFEEERNILSRSTPWIPQLQYAYLVME...</td>\n",
       "    </tr>\n",
       "  </tbody>\n",
       "</table>\n",
       "</div>"
      ],
      "text/plain": [
       "   kinase.id kinase.klifs_name kinase.hgnc_name kinase.family kinase.group  \\\n",
       "0          4              CRIK              CIT          DMPK          AGC   \n",
       "1        637              CRIK              Cit          DMPK          AGC   \n",
       "\n",
       "  kinase.class species.klifs kinase.full_name kinase.uniprot  kinase.iuphar  \\\n",
       "0         CRIK         Human             None         O14578           1509   \n",
       "1                      Mouse             None         P49025              0   \n",
       "\n",
       "                                       kinase.pocket  \n",
       "0  SLVGCGHFAEVQVYAMKVMFFEEERNILSRSTPWIPQLQYAYLVME...  \n",
       "1  SLVGCGHFAEVQVYAMKIMFFEEERNILSRSTPWIPQLQYAYLVME...  "
      ]
     },
     "execution_count": 10,
     "metadata": {},
     "output_type": "execute_result"
    }
   ],
   "source": [
    "remote.kinases.by_kinase_names(kinase_names='CRIK')"
   ]
  },
  {
   "cell_type": "code",
   "execution_count": 11,
   "metadata": {},
   "outputs": [
    {
     "data": {
      "application/vnd.jupyter.widget-view+json": {
       "model_id": "0c212fdd7ad9455293e7bfee644d5c0e",
       "version_major": 2,
       "version_minor": 0
      },
      "text/plain": [
       "HBox(children=(HTML(value='Processing...'), FloatProgress(value=0.0, max=1.0), HTML(value='')))"
      ]
     },
     "metadata": {},
     "output_type": "display_data"
    },
    {
     "name": "stdout",
     "output_type": "stream",
     "text": [
      "\n"
     ]
    },
    {
     "data": {
      "text/html": [
       "<div>\n",
       "<style scoped>\n",
       "    .dataframe tbody tr th:only-of-type {\n",
       "        vertical-align: middle;\n",
       "    }\n",
       "\n",
       "    .dataframe tbody tr th {\n",
       "        vertical-align: top;\n",
       "    }\n",
       "\n",
       "    .dataframe thead th {\n",
       "        text-align: right;\n",
       "    }\n",
       "</style>\n",
       "<table border=\"1\" class=\"dataframe\">\n",
       "  <thead>\n",
       "    <tr style=\"text-align: right;\">\n",
       "      <th></th>\n",
       "      <th>kinase.id</th>\n",
       "      <th>kinase.klifs_name</th>\n",
       "      <th>kinase.hgnc_name</th>\n",
       "      <th>kinase.family</th>\n",
       "      <th>kinase.group</th>\n",
       "      <th>kinase.class</th>\n",
       "      <th>species.klifs</th>\n",
       "      <th>kinase.full_name</th>\n",
       "      <th>kinase.uniprot</th>\n",
       "      <th>kinase.iuphar</th>\n",
       "      <th>kinase.pocket</th>\n",
       "    </tr>\n",
       "  </thead>\n",
       "  <tbody>\n",
       "    <tr>\n",
       "      <th>0</th>\n",
       "      <td>4</td>\n",
       "      <td>CRIK</td>\n",
       "      <td>CIT</td>\n",
       "      <td>DMPK</td>\n",
       "      <td>AGC</td>\n",
       "      <td>CRIK</td>\n",
       "      <td>Human</td>\n",
       "      <td>None</td>\n",
       "      <td>O14578</td>\n",
       "      <td>1509</td>\n",
       "      <td>SLVGCGHFAEVQVYAMKVMFFEEERNILSRSTPWIPQLQYAYLVME...</td>\n",
       "    </tr>\n",
       "    <tr>\n",
       "      <th>1</th>\n",
       "      <td>637</td>\n",
       "      <td>CRIK</td>\n",
       "      <td>Cit</td>\n",
       "      <td>DMPK</td>\n",
       "      <td>AGC</td>\n",
       "      <td></td>\n",
       "      <td>Mouse</td>\n",
       "      <td>None</td>\n",
       "      <td>P49025</td>\n",
       "      <td>0</td>\n",
       "      <td>SLVGCGHFAEVQVYAMKIMFFEEERNILSRSTPWIPQLQYAYLVME...</td>\n",
       "    </tr>\n",
       "  </tbody>\n",
       "</table>\n",
       "</div>"
      ],
      "text/plain": [
       "   kinase.id kinase.klifs_name kinase.hgnc_name kinase.family kinase.group  \\\n",
       "0          4              CRIK              CIT          DMPK          AGC   \n",
       "1        637              CRIK              Cit          DMPK          AGC   \n",
       "\n",
       "  kinase.class species.klifs kinase.full_name kinase.uniprot  kinase.iuphar  \\\n",
       "0         CRIK         Human             None         O14578           1509   \n",
       "1                      Mouse             None         P49025              0   \n",
       "\n",
       "                                       kinase.pocket  \n",
       "0  SLVGCGHFAEVQVYAMKVMFFEEERNILSRSTPWIPQLQYAYLVME...  \n",
       "1  SLVGCGHFAEVQVYAMKIMFFEEERNILSRSTPWIPQLQYAYLVME...  "
      ]
     },
     "execution_count": 11,
     "metadata": {},
     "output_type": "execute_result"
    }
   ],
   "source": [
    "remote.kinases.by_kinase_names(kinase_names='CIT')"
   ]
  },
  {
   "cell_type": "markdown",
   "metadata": {},
   "source": [
    "__Note__: Apparently, the kinase name is matched for `kinase.name` and `kinase.hgnc`."
   ]
  },
  {
   "cell_type": "markdown",
   "metadata": {},
   "source": [
    "### Differing `kinases.name` and `kinases.hgnc`?"
   ]
  },
  {
   "cell_type": "code",
   "execution_count": 14,
   "metadata": {},
   "outputs": [
    {
     "name": "stdout",
     "output_type": "stream",
     "text": [
      "Number of differing names/HGNC: 817\n"
     ]
    },
    {
     "data": {
      "text/html": [
       "<div>\n",
       "<style scoped>\n",
       "    .dataframe tbody tr th:only-of-type {\n",
       "        vertical-align: middle;\n",
       "    }\n",
       "\n",
       "    .dataframe tbody tr th {\n",
       "        vertical-align: top;\n",
       "    }\n",
       "\n",
       "    .dataframe thead th {\n",
       "        text-align: right;\n",
       "    }\n",
       "</style>\n",
       "<table border=\"1\" class=\"dataframe\">\n",
       "  <thead>\n",
       "    <tr style=\"text-align: right;\">\n",
       "      <th></th>\n",
       "      <th>kinase.klifs_name</th>\n",
       "      <th>kinase.hgnc_name</th>\n",
       "    </tr>\n",
       "  </thead>\n",
       "  <tbody>\n",
       "    <tr>\n",
       "      <th>3</th>\n",
       "      <td>CRIK</td>\n",
       "      <td>CIT</td>\n",
       "    </tr>\n",
       "    <tr>\n",
       "      <th>4</th>\n",
       "      <td>DMPK1</td>\n",
       "      <td>DMPK</td>\n",
       "    </tr>\n",
       "    <tr>\n",
       "      <th>5</th>\n",
       "      <td>MRCKa</td>\n",
       "      <td>CDC42BPA</td>\n",
       "    </tr>\n",
       "    <tr>\n",
       "      <th>6</th>\n",
       "      <td>MRCKb</td>\n",
       "      <td>CDC42BPB</td>\n",
       "    </tr>\n",
       "    <tr>\n",
       "      <th>7</th>\n",
       "      <td>DMPK2</td>\n",
       "      <td>CDC42BPG</td>\n",
       "    </tr>\n",
       "  </tbody>\n",
       "</table>\n",
       "</div>"
      ],
      "text/plain": [
       "  kinase.klifs_name kinase.hgnc_name\n",
       "3              CRIK              CIT\n",
       "4             DMPK1             DMPK\n",
       "5             MRCKa         CDC42BPA\n",
       "6             MRCKb         CDC42BPB\n",
       "7             DMPK2         CDC42BPG"
      ]
     },
     "execution_count": 14,
     "metadata": {},
     "output_type": "execute_result"
    }
   ],
   "source": [
    "diff2 = kinases2[kinases2.apply(lambda x: x[\"kinase.klifs_name\"] != x[\"kinase.hgnc_name\"], axis=1)]\n",
    "print(f\"Number of differing names/HGNC: {diff2.shape[0]}\")\n",
    "diff2[[\"kinase.klifs_name\", \"kinase.hgnc_name\"]].head()"
   ]
  },
  {
   "cell_type": "markdown",
   "metadata": {},
   "source": [
    "## Merge details for kinases 1 and 2"
   ]
  },
  {
   "cell_type": "code",
   "execution_count": 16,
   "metadata": {},
   "outputs": [
    {
     "data": {
      "text/html": [
       "<div>\n",
       "<style scoped>\n",
       "    .dataframe tbody tr th:only-of-type {\n",
       "        vertical-align: middle;\n",
       "    }\n",
       "\n",
       "    .dataframe tbody tr th {\n",
       "        vertical-align: top;\n",
       "    }\n",
       "\n",
       "    .dataframe thead th {\n",
       "        text-align: right;\n",
       "    }\n",
       "</style>\n",
       "<table border=\"1\" class=\"dataframe\">\n",
       "  <thead>\n",
       "    <tr style=\"text-align: right;\">\n",
       "      <th></th>\n",
       "      <th>kinase.id</th>\n",
       "      <th>kinase.hgnc_name_x</th>\n",
       "      <th>kinase.full_name_x</th>\n",
       "      <th>kinase.klifs_name</th>\n",
       "      <th>kinase.hgnc_name_y</th>\n",
       "      <th>kinase.full_name_y</th>\n",
       "    </tr>\n",
       "  </thead>\n",
       "  <tbody>\n",
       "    <tr>\n",
       "      <th>0</th>\n",
       "      <td>1</td>\n",
       "      <td>AKT1</td>\n",
       "      <td>None</td>\n",
       "      <td>AKT1</td>\n",
       "      <td>AKT1</td>\n",
       "      <td>None</td>\n",
       "    </tr>\n",
       "    <tr>\n",
       "      <th>1</th>\n",
       "      <td>2</td>\n",
       "      <td>AKT2</td>\n",
       "      <td>None</td>\n",
       "      <td>AKT2</td>\n",
       "      <td>AKT2</td>\n",
       "      <td>None</td>\n",
       "    </tr>\n",
       "    <tr>\n",
       "      <th>2</th>\n",
       "      <td>3</td>\n",
       "      <td>AKT3</td>\n",
       "      <td>None</td>\n",
       "      <td>AKT3</td>\n",
       "      <td>AKT3</td>\n",
       "      <td>None</td>\n",
       "    </tr>\n",
       "    <tr>\n",
       "      <th>3</th>\n",
       "      <td>4</td>\n",
       "      <td>CIT</td>\n",
       "      <td>None</td>\n",
       "      <td>CRIK</td>\n",
       "      <td>CIT</td>\n",
       "      <td>None</td>\n",
       "    </tr>\n",
       "    <tr>\n",
       "      <th>4</th>\n",
       "      <td>5</td>\n",
       "      <td>DMPK</td>\n",
       "      <td>None</td>\n",
       "      <td>DMPK1</td>\n",
       "      <td>DMPK</td>\n",
       "      <td>None</td>\n",
       "    </tr>\n",
       "    <tr>\n",
       "      <th>...</th>\n",
       "      <td>...</td>\n",
       "      <td>...</td>\n",
       "      <td>...</td>\n",
       "      <td>...</td>\n",
       "      <td>...</td>\n",
       "      <td>...</td>\n",
       "    </tr>\n",
       "    <tr>\n",
       "      <th>1122</th>\n",
       "      <td>1123</td>\n",
       "      <td>Pip5k1a</td>\n",
       "      <td>None</td>\n",
       "      <td>Pip5k1a</td>\n",
       "      <td>Pip5k1a</td>\n",
       "      <td>None</td>\n",
       "    </tr>\n",
       "    <tr>\n",
       "      <th>1123</th>\n",
       "      <td>1124</td>\n",
       "      <td>Map4k2</td>\n",
       "      <td>None</td>\n",
       "      <td>Map4k2</td>\n",
       "      <td>Map4k2</td>\n",
       "      <td>None</td>\n",
       "    </tr>\n",
       "    <tr>\n",
       "      <th>1124</th>\n",
       "      <td>1125</td>\n",
       "      <td>Pan3</td>\n",
       "      <td>None</td>\n",
       "      <td>Pan3</td>\n",
       "      <td>Pan3</td>\n",
       "      <td>None</td>\n",
       "    </tr>\n",
       "    <tr>\n",
       "      <th>1125</th>\n",
       "      <td>1126</td>\n",
       "      <td>Plk5</td>\n",
       "      <td>None</td>\n",
       "      <td>Plk5</td>\n",
       "      <td>Plk5</td>\n",
       "      <td>None</td>\n",
       "    </tr>\n",
       "    <tr>\n",
       "      <th>1126</th>\n",
       "      <td>1127</td>\n",
       "      <td>Efna2</td>\n",
       "      <td>None</td>\n",
       "      <td>Efna2</td>\n",
       "      <td>Efna2</td>\n",
       "      <td>None</td>\n",
       "    </tr>\n",
       "  </tbody>\n",
       "</table>\n",
       "<p>1127 rows × 6 columns</p>\n",
       "</div>"
      ],
      "text/plain": [
       "      kinase.id kinase.hgnc_name_x kinase.full_name_x kinase.klifs_name  \\\n",
       "0             1               AKT1               None              AKT1   \n",
       "1             2               AKT2               None              AKT2   \n",
       "2             3               AKT3               None              AKT3   \n",
       "3             4                CIT               None              CRIK   \n",
       "4             5               DMPK               None             DMPK1   \n",
       "...         ...                ...                ...               ...   \n",
       "1122       1123            Pip5k1a               None           Pip5k1a   \n",
       "1123       1124             Map4k2               None            Map4k2   \n",
       "1124       1125               Pan3               None              Pan3   \n",
       "1125       1126               Plk5               None              Plk5   \n",
       "1126       1127              Efna2               None             Efna2   \n",
       "\n",
       "     kinase.hgnc_name_y kinase.full_name_y  \n",
       "0                  AKT1               None  \n",
       "1                  AKT2               None  \n",
       "2                  AKT3               None  \n",
       "3                   CIT               None  \n",
       "4                  DMPK               None  \n",
       "...                 ...                ...  \n",
       "1122            Pip5k1a               None  \n",
       "1123             Map4k2               None  \n",
       "1124               Pan3               None  \n",
       "1125               Plk5               None  \n",
       "1126              Efna2               None  \n",
       "\n",
       "[1127 rows x 6 columns]"
      ]
     },
     "execution_count": 16,
     "metadata": {},
     "output_type": "execute_result"
    }
   ],
   "source": [
    "kinases = kinases1.merge(kinases2, on=\"kinase.id\", how=\"left\")\n",
    "kinases = kinases.iloc[:, [0, 1, 2, 4, 5, 10]]\n",
    "kinases"
   ]
  },
  {
   "cell_type": "code",
   "execution_count": 17,
   "metadata": {},
   "outputs": [
    {
     "data": {
      "text/html": [
       "<div>\n",
       "<style scoped>\n",
       "    .dataframe tbody tr th:only-of-type {\n",
       "        vertical-align: middle;\n",
       "    }\n",
       "\n",
       "    .dataframe tbody tr th {\n",
       "        vertical-align: top;\n",
       "    }\n",
       "\n",
       "    .dataframe thead th {\n",
       "        text-align: right;\n",
       "    }\n",
       "</style>\n",
       "<table border=\"1\" class=\"dataframe\">\n",
       "  <thead>\n",
       "    <tr style=\"text-align: right;\">\n",
       "      <th></th>\n",
       "      <th>kinase.id</th>\n",
       "      <th>kinase.hgnc_name_x</th>\n",
       "      <th>kinase.full_name_x</th>\n",
       "      <th>kinase.klifs_name</th>\n",
       "      <th>kinase.hgnc_name_y</th>\n",
       "      <th>kinase.full_name_y</th>\n",
       "    </tr>\n",
       "  </thead>\n",
       "  <tbody>\n",
       "    <tr>\n",
       "      <th>248</th>\n",
       "      <td>249</td>\n",
       "      <td>MAPK14</td>\n",
       "      <td>None</td>\n",
       "      <td>p38a</td>\n",
       "      <td>MAPK14</td>\n",
       "      <td>None</td>\n",
       "    </tr>\n",
       "  </tbody>\n",
       "</table>\n",
       "</div>"
      ],
      "text/plain": [
       "     kinase.id kinase.hgnc_name_x kinase.full_name_x kinase.klifs_name  \\\n",
       "248        249             MAPK14               None              p38a   \n",
       "\n",
       "    kinase.hgnc_name_y kinase.full_name_y  \n",
       "248             MAPK14               None  "
      ]
     },
     "execution_count": 17,
     "metadata": {},
     "output_type": "execute_result"
    }
   ],
   "source": [
    "kinases[kinases[\"kinase.hgnc_name_x\"] == \"MAPK14\"]"
   ]
  },
  {
   "cell_type": "code",
   "execution_count": 18,
   "metadata": {},
   "outputs": [
    {
     "data": {
      "text/html": [
       "<div>\n",
       "<style scoped>\n",
       "    .dataframe tbody tr th:only-of-type {\n",
       "        vertical-align: middle;\n",
       "    }\n",
       "\n",
       "    .dataframe tbody tr th {\n",
       "        vertical-align: top;\n",
       "    }\n",
       "\n",
       "    .dataframe thead th {\n",
       "        text-align: right;\n",
       "    }\n",
       "</style>\n",
       "<table border=\"1\" class=\"dataframe\">\n",
       "  <thead>\n",
       "    <tr style=\"text-align: right;\">\n",
       "      <th></th>\n",
       "      <th>kinase.id</th>\n",
       "      <th>kinase.hgnc_name_x</th>\n",
       "      <th>kinase.full_name_x</th>\n",
       "      <th>kinase.klifs_name</th>\n",
       "      <th>kinase.hgnc_name_y</th>\n",
       "      <th>kinase.full_name_y</th>\n",
       "    </tr>\n",
       "  </thead>\n",
       "  <tbody>\n",
       "  </tbody>\n",
       "</table>\n",
       "</div>"
      ],
      "text/plain": [
       "Empty DataFrame\n",
       "Columns: [kinase.id, kinase.hgnc_name_x, kinase.full_name_x, kinase.klifs_name, kinase.hgnc_name_y, kinase.full_name_y]\n",
       "Index: []"
      ]
     },
     "execution_count": 18,
     "metadata": {},
     "output_type": "execute_result"
    }
   ],
   "source": [
    "kinases[kinases[\"kinase.klifs_name\"].isin([\"\", \" \", 0, \"0\", None])]"
   ]
  },
  {
   "cell_type": "code",
   "execution_count": 19,
   "metadata": {},
   "outputs": [
    {
     "data": {
      "text/html": [
       "<div>\n",
       "<style scoped>\n",
       "    .dataframe tbody tr th:only-of-type {\n",
       "        vertical-align: middle;\n",
       "    }\n",
       "\n",
       "    .dataframe tbody tr th {\n",
       "        vertical-align: top;\n",
       "    }\n",
       "\n",
       "    .dataframe thead th {\n",
       "        text-align: right;\n",
       "    }\n",
       "</style>\n",
       "<table border=\"1\" class=\"dataframe\">\n",
       "  <thead>\n",
       "    <tr style=\"text-align: right;\">\n",
       "      <th></th>\n",
       "      <th>kinase.id</th>\n",
       "      <th>kinase.hgnc_name_x</th>\n",
       "      <th>kinase.full_name_x</th>\n",
       "      <th>kinase.klifs_name</th>\n",
       "      <th>kinase.hgnc_name_y</th>\n",
       "      <th>kinase.full_name_y</th>\n",
       "    </tr>\n",
       "  </thead>\n",
       "  <tbody>\n",
       "  </tbody>\n",
       "</table>\n",
       "</div>"
      ],
      "text/plain": [
       "Empty DataFrame\n",
       "Columns: [kinase.id, kinase.hgnc_name_x, kinase.full_name_x, kinase.klifs_name, kinase.hgnc_name_y, kinase.full_name_y]\n",
       "Index: []"
      ]
     },
     "execution_count": 19,
     "metadata": {},
     "output_type": "execute_result"
    }
   ],
   "source": [
    "kinases[kinases[\"kinase.hgnc_name_x\"].isin([\"\", \" \", 0, \"0\", None])]"
   ]
  },
  {
   "cell_type": "code",
   "execution_count": 20,
   "metadata": {},
   "outputs": [
    {
     "data": {
      "text/html": [
       "<div>\n",
       "<style scoped>\n",
       "    .dataframe tbody tr th:only-of-type {\n",
       "        vertical-align: middle;\n",
       "    }\n",
       "\n",
       "    .dataframe tbody tr th {\n",
       "        vertical-align: top;\n",
       "    }\n",
       "\n",
       "    .dataframe thead th {\n",
       "        text-align: right;\n",
       "    }\n",
       "</style>\n",
       "<table border=\"1\" class=\"dataframe\">\n",
       "  <thead>\n",
       "    <tr style=\"text-align: right;\">\n",
       "      <th></th>\n",
       "      <th>kinase.id</th>\n",
       "      <th>kinase.hgnc_name_x</th>\n",
       "      <th>kinase.full_name_x</th>\n",
       "      <th>kinase.klifs_name</th>\n",
       "      <th>kinase.hgnc_name_y</th>\n",
       "      <th>kinase.full_name_y</th>\n",
       "    </tr>\n",
       "  </thead>\n",
       "  <tbody>\n",
       "    <tr>\n",
       "      <th>528</th>\n",
       "      <td>529</td>\n",
       "      <td>A6</td>\n",
       "      <td>None</td>\n",
       "      <td>A6</td>\n",
       "      <td></td>\n",
       "      <td>None</td>\n",
       "    </tr>\n",
       "    <tr>\n",
       "      <th>529</th>\n",
       "      <td>530</td>\n",
       "      <td>A6r</td>\n",
       "      <td>None</td>\n",
       "      <td>A6r</td>\n",
       "      <td></td>\n",
       "      <td>None</td>\n",
       "    </tr>\n",
       "  </tbody>\n",
       "</table>\n",
       "</div>"
      ],
      "text/plain": [
       "     kinase.id kinase.hgnc_name_x kinase.full_name_x kinase.klifs_name  \\\n",
       "528        529                 A6               None                A6   \n",
       "529        530                A6r               None               A6r   \n",
       "\n",
       "    kinase.hgnc_name_y kinase.full_name_y  \n",
       "528                                  None  \n",
       "529                                  None  "
      ]
     },
     "execution_count": 20,
     "metadata": {},
     "output_type": "execute_result"
    }
   ],
   "source": [
    "kinases[kinases[\"kinase.hgnc_name_y\"].isin([\"\", \" \", 0, \"0\", None])]"
   ]
  },
  {
   "cell_type": "markdown",
   "metadata": {},
   "source": [
    "### Differing `kinase.name_full`?"
   ]
  },
  {
   "cell_type": "code",
   "execution_count": 21,
   "metadata": {},
   "outputs": [
    {
     "name": "stdout",
     "output_type": "stream",
     "text": [
      "Number of differing full names: 0\n"
     ]
    }
   ],
   "source": [
    "diff1 = kinases[kinases.apply(lambda x: x[\"kinase.full_name_x\"] != x[\"kinase.full_name_y\"], axis=1)]\n",
    "print(f\"Number of differing full names: {diff1.shape[0]}\")"
   ]
  },
  {
   "cell_type": "markdown",
   "metadata": {},
   "source": [
    "### Differing `kinase.hgnc`?"
   ]
  },
  {
   "cell_type": "code",
   "execution_count": 22,
   "metadata": {},
   "outputs": [
    {
     "name": "stdout",
     "output_type": "stream",
     "text": [
      "Number of differing HGNC names: 2\n"
     ]
    },
    {
     "data": {
      "text/html": [
       "<div>\n",
       "<style scoped>\n",
       "    .dataframe tbody tr th:only-of-type {\n",
       "        vertical-align: middle;\n",
       "    }\n",
       "\n",
       "    .dataframe tbody tr th {\n",
       "        vertical-align: top;\n",
       "    }\n",
       "\n",
       "    .dataframe thead th {\n",
       "        text-align: right;\n",
       "    }\n",
       "</style>\n",
       "<table border=\"1\" class=\"dataframe\">\n",
       "  <thead>\n",
       "    <tr style=\"text-align: right;\">\n",
       "      <th></th>\n",
       "      <th>kinase.id</th>\n",
       "      <th>kinase.hgnc_name_x</th>\n",
       "      <th>kinase.full_name_x</th>\n",
       "      <th>kinase.klifs_name</th>\n",
       "      <th>kinase.hgnc_name_y</th>\n",
       "      <th>kinase.full_name_y</th>\n",
       "    </tr>\n",
       "  </thead>\n",
       "  <tbody>\n",
       "    <tr>\n",
       "      <th>528</th>\n",
       "      <td>529</td>\n",
       "      <td>A6</td>\n",
       "      <td>None</td>\n",
       "      <td>A6</td>\n",
       "      <td></td>\n",
       "      <td>None</td>\n",
       "    </tr>\n",
       "    <tr>\n",
       "      <th>529</th>\n",
       "      <td>530</td>\n",
       "      <td>A6r</td>\n",
       "      <td>None</td>\n",
       "      <td>A6r</td>\n",
       "      <td></td>\n",
       "      <td>None</td>\n",
       "    </tr>\n",
       "  </tbody>\n",
       "</table>\n",
       "</div>"
      ],
      "text/plain": [
       "     kinase.id kinase.hgnc_name_x kinase.full_name_x kinase.klifs_name  \\\n",
       "528        529                 A6               None                A6   \n",
       "529        530                A6r               None               A6r   \n",
       "\n",
       "    kinase.hgnc_name_y kinase.full_name_y  \n",
       "528                                  None  \n",
       "529                                  None  "
      ]
     },
     "execution_count": 22,
     "metadata": {},
     "output_type": "execute_result"
    }
   ],
   "source": [
    "diff3 = kinases[kinases.apply(lambda x: x[\"kinase.hgnc_name_x\"] != x[\"kinase.hgnc_name_y\"], axis=1)]\n",
    "print(f\"Number of differing HGNC names: {diff3.shape[0]}\")\n",
    "diff3.head()"
   ]
  },
  {
   "cell_type": "markdown",
   "metadata": {},
   "source": [
    "__Note__: In case of kinases A6 and A6r, the HGNC column from `all_kinases` got non-HGNC entries?"
   ]
  },
  {
   "cell_type": "markdown",
   "metadata": {},
   "source": [
    "## Local kinase details"
   ]
  },
  {
   "cell_type": "code",
   "execution_count": 23,
   "metadata": {},
   "outputs": [
    {
     "name": "stdout",
     "output_type": "stream",
     "text": [
      "(11592, 15) (11592, 27)\n"
     ]
    }
   ],
   "source": [
    "from opencadd.databases.klifs.local import _LocalDatabaseGenerator\n",
    "local = _LocalDatabaseGenerator()\n",
    "klifs_export_path = \"data/KLIFS_export.20201020.csv.zip\"\n",
    "klifs_export = local._from_klifs_export_file(klifs_export_path)\n",
    "klifs_overview_path = \"data/overview.20201020.csv.zip\"\n",
    "klifs_overview = local._from_klifs_overview_file(klifs_overview_path)\n",
    "print(klifs_export.shape, klifs_overview.shape)"
   ]
  },
  {
   "cell_type": "code",
   "execution_count": 24,
   "metadata": {},
   "outputs": [
    {
     "data": {
      "text/html": [
       "<div>\n",
       "<style scoped>\n",
       "    .dataframe tbody tr th:only-of-type {\n",
       "        vertical-align: middle;\n",
       "    }\n",
       "\n",
       "    .dataframe tbody tr th {\n",
       "        vertical-align: top;\n",
       "    }\n",
       "\n",
       "    .dataframe thead th {\n",
       "        text-align: right;\n",
       "    }\n",
       "</style>\n",
       "<table border=\"1\" class=\"dataframe\">\n",
       "  <thead>\n",
       "    <tr style=\"text-align: right;\">\n",
       "      <th></th>\n",
       "      <th>kinase.names</th>\n",
       "      <th>kinase.family</th>\n",
       "      <th>kinase.group</th>\n",
       "      <th>structure.pdb</th>\n",
       "      <th>structure.chain</th>\n",
       "      <th>structure.alternate_model</th>\n",
       "      <th>species.klifs</th>\n",
       "      <th>ligand.name</th>\n",
       "      <th>ligand.pdb</th>\n",
       "      <th>ligand_allosteric.name</th>\n",
       "      <th>ligand_allosteric.pdb</th>\n",
       "      <th>structure.dfg</th>\n",
       "      <th>structure.ac_helix</th>\n",
       "      <th>kinase.hgnc_name</th>\n",
       "      <th>kinase.klifs_name</th>\n",
       "    </tr>\n",
       "  </thead>\n",
       "  <tbody>\n",
       "    <tr>\n",
       "      <th>0</th>\n",
       "      <td>[MAPK14, p38a]</td>\n",
       "      <td>MAPK</td>\n",
       "      <td>CMGC</td>\n",
       "      <td>1a9u</td>\n",
       "      <td>A</td>\n",
       "      <td>-</td>\n",
       "      <td>Human</td>\n",
       "      <td>4-[5-(4-FLUORO-PHENYL)-2-(4-METHANESULFINYL-PH...</td>\n",
       "      <td>SB2</td>\n",
       "      <td>-</td>\n",
       "      <td>-</td>\n",
       "      <td>in</td>\n",
       "      <td>out-like</td>\n",
       "      <td>MAPK14</td>\n",
       "      <td>p38a</td>\n",
       "    </tr>\n",
       "    <tr>\n",
       "      <th>1</th>\n",
       "      <td>[HCK]</td>\n",
       "      <td>Src</td>\n",
       "      <td>TK</td>\n",
       "      <td>1ad5</td>\n",
       "      <td>A</td>\n",
       "      <td>-</td>\n",
       "      <td>Human</td>\n",
       "      <td>PHOSPHOAMINOPHOSPHONIC ACID-ADENYLATE ESTER</td>\n",
       "      <td>ANP</td>\n",
       "      <td>-</td>\n",
       "      <td>-</td>\n",
       "      <td>in</td>\n",
       "      <td>out</td>\n",
       "      <td>HCK</td>\n",
       "      <td>HCK</td>\n",
       "    </tr>\n",
       "    <tr>\n",
       "      <th>2</th>\n",
       "      <td>[HCK]</td>\n",
       "      <td>Src</td>\n",
       "      <td>TK</td>\n",
       "      <td>1ad5</td>\n",
       "      <td>B</td>\n",
       "      <td>-</td>\n",
       "      <td>Human</td>\n",
       "      <td>PHOSPHOAMINOPHOSPHONIC ACID-ADENYLATE ESTER</td>\n",
       "      <td>ANP</td>\n",
       "      <td>-</td>\n",
       "      <td>-</td>\n",
       "      <td>in</td>\n",
       "      <td>out-like</td>\n",
       "      <td>HCK</td>\n",
       "      <td>HCK</td>\n",
       "    </tr>\n",
       "    <tr>\n",
       "      <th>3</th>\n",
       "      <td>[FGFR1]</td>\n",
       "      <td>FGFR</td>\n",
       "      <td>TK</td>\n",
       "      <td>1agw</td>\n",
       "      <td>A</td>\n",
       "      <td>A</td>\n",
       "      <td>Human</td>\n",
       "      <td>3-[4-(1-FORMYLPIPERAZIN-4-YL)-BENZYLIDENYL]-2-...</td>\n",
       "      <td>SU2</td>\n",
       "      <td>-</td>\n",
       "      <td>-</td>\n",
       "      <td>in</td>\n",
       "      <td>out-like</td>\n",
       "      <td>FGFR1</td>\n",
       "      <td>FGFR1</td>\n",
       "    </tr>\n",
       "    <tr>\n",
       "      <th>4</th>\n",
       "      <td>[FGFR1]</td>\n",
       "      <td>FGFR</td>\n",
       "      <td>TK</td>\n",
       "      <td>1agw</td>\n",
       "      <td>A</td>\n",
       "      <td>B</td>\n",
       "      <td>Human</td>\n",
       "      <td>3-[4-(1-FORMYLPIPERAZIN-4-YL)-BENZYLIDENYL]-2-...</td>\n",
       "      <td>SU2</td>\n",
       "      <td>-</td>\n",
       "      <td>-</td>\n",
       "      <td>in</td>\n",
       "      <td>out-like</td>\n",
       "      <td>FGFR1</td>\n",
       "      <td>FGFR1</td>\n",
       "    </tr>\n",
       "  </tbody>\n",
       "</table>\n",
       "</div>"
      ],
      "text/plain": [
       "     kinase.names kinase.family kinase.group structure.pdb structure.chain  \\\n",
       "0  [MAPK14, p38a]          MAPK         CMGC          1a9u               A   \n",
       "1           [HCK]           Src           TK          1ad5               A   \n",
       "2           [HCK]           Src           TK          1ad5               B   \n",
       "3         [FGFR1]          FGFR           TK          1agw               A   \n",
       "4         [FGFR1]          FGFR           TK          1agw               A   \n",
       "\n",
       "  structure.alternate_model species.klifs  \\\n",
       "0                         -         Human   \n",
       "1                         -         Human   \n",
       "2                         -         Human   \n",
       "3                         A         Human   \n",
       "4                         B         Human   \n",
       "\n",
       "                                         ligand.name ligand.pdb  \\\n",
       "0  4-[5-(4-FLUORO-PHENYL)-2-(4-METHANESULFINYL-PH...        SB2   \n",
       "1        PHOSPHOAMINOPHOSPHONIC ACID-ADENYLATE ESTER        ANP   \n",
       "2        PHOSPHOAMINOPHOSPHONIC ACID-ADENYLATE ESTER        ANP   \n",
       "3  3-[4-(1-FORMYLPIPERAZIN-4-YL)-BENZYLIDENYL]-2-...        SU2   \n",
       "4  3-[4-(1-FORMYLPIPERAZIN-4-YL)-BENZYLIDENYL]-2-...        SU2   \n",
       "\n",
       "  ligand_allosteric.name ligand_allosteric.pdb structure.dfg  \\\n",
       "0                      -                     -            in   \n",
       "1                      -                     -            in   \n",
       "2                      -                     -            in   \n",
       "3                      -                     -            in   \n",
       "4                      -                     -            in   \n",
       "\n",
       "  structure.ac_helix kinase.hgnc_name kinase.klifs_name  \n",
       "0           out-like           MAPK14              p38a  \n",
       "1                out              HCK               HCK  \n",
       "2           out-like              HCK               HCK  \n",
       "3           out-like            FGFR1             FGFR1  \n",
       "4           out-like            FGFR1             FGFR1  "
      ]
     },
     "execution_count": 24,
     "metadata": {},
     "output_type": "execute_result"
    }
   ],
   "source": [
    "klifs_export.sort_values([\"structure.pdb\", \"structure.chain\", \"structure.alternate_model\"], inplace=True, ignore_index=True)\n",
    "klifs_export.head()"
   ]
  },
  {
   "cell_type": "code",
   "execution_count": 26,
   "metadata": {},
   "outputs": [
    {
     "data": {
      "text/plain": [
       "(4867, 15)"
      ]
     },
     "execution_count": 26,
     "metadata": {},
     "output_type": "execute_result"
    }
   ],
   "source": [
    "klifs_export[klifs_export[\"kinase.names\"].apply(len) == 2].shape"
   ]
  },
  {
   "cell_type": "code",
   "execution_count": 27,
   "metadata": {},
   "outputs": [
    {
     "data": {
      "text/html": [
       "<div>\n",
       "<style scoped>\n",
       "    .dataframe tbody tr th:only-of-type {\n",
       "        vertical-align: middle;\n",
       "    }\n",
       "\n",
       "    .dataframe tbody tr th {\n",
       "        vertical-align: top;\n",
       "    }\n",
       "\n",
       "    .dataframe thead th {\n",
       "        text-align: right;\n",
       "    }\n",
       "</style>\n",
       "<table border=\"1\" class=\"dataframe\">\n",
       "  <thead>\n",
       "    <tr style=\"text-align: right;\">\n",
       "      <th></th>\n",
       "      <th>species.klifs</th>\n",
       "      <th>kinase.klifs_name</th>\n",
       "      <th>structure.pdb</th>\n",
       "      <th>structure.alternate_model</th>\n",
       "      <th>structure.chain</th>\n",
       "      <th>ligand.pdb</th>\n",
       "      <th>ligand_allosteric.pdb</th>\n",
       "      <th>structure.rmsd1</th>\n",
       "      <th>structure.rmsd2</th>\n",
       "      <th>structure.qualityscore</th>\n",
       "      <th>structure.pocket</th>\n",
       "      <th>structure.resolution</th>\n",
       "      <th>structure.missing_residues</th>\n",
       "      <th>structure.missing_atoms</th>\n",
       "      <th>interaction.fingerprint</th>\n",
       "      <th>structure.fp_i</th>\n",
       "      <th>structure.fp_ii</th>\n",
       "      <th>structure.bp_i_a</th>\n",
       "      <th>structure.bp_i_b</th>\n",
       "      <th>structure.bp_ii_in</th>\n",
       "      <th>structure.bp_ii_a_in</th>\n",
       "      <th>structure.bp_ii_b_in</th>\n",
       "      <th>structure.bp_ii_out</th>\n",
       "      <th>structure.bp_ii_b</th>\n",
       "      <th>structure.bp_iii</th>\n",
       "      <th>structure.bp_iv</th>\n",
       "      <th>structure.bp_v</th>\n",
       "    </tr>\n",
       "  </thead>\n",
       "  <tbody>\n",
       "    <tr>\n",
       "      <th>0</th>\n",
       "      <td>Human</td>\n",
       "      <td>p38a</td>\n",
       "      <td>1a9u</td>\n",
       "      <td>-</td>\n",
       "      <td>A</td>\n",
       "      <td>SB2</td>\n",
       "      <td>-</td>\n",
       "      <td>0.828</td>\n",
       "      <td>2.186</td>\n",
       "      <td>8.0</td>\n",
       "      <td>SPVGSGAYGSVCAVAVKKLRTYRELRLLKHMKENVIGLLDVYLVTH...</td>\n",
       "      <td>2.5</td>\n",
       "      <td>0</td>\n",
       "      <td>0</td>\n",
       "      <td>0000000000000000000000000000000000000000000000...</td>\n",
       "      <td>0.0</td>\n",
       "      <td>1.0</td>\n",
       "      <td>1.0</td>\n",
       "      <td>1.0</td>\n",
       "      <td>0.0</td>\n",
       "      <td>0.0</td>\n",
       "      <td>0.0</td>\n",
       "      <td>0.0</td>\n",
       "      <td>0.0</td>\n",
       "      <td>0.0</td>\n",
       "      <td>0.0</td>\n",
       "      <td>0.0</td>\n",
       "    </tr>\n",
       "    <tr>\n",
       "      <th>1</th>\n",
       "      <td>Human</td>\n",
       "      <td>HCK</td>\n",
       "      <td>1ad5</td>\n",
       "      <td>-</td>\n",
       "      <td>A</td>\n",
       "      <td>ANP</td>\n",
       "      <td>-</td>\n",
       "      <td>0.816</td>\n",
       "      <td>2.141</td>\n",
       "      <td>9.6</td>\n",
       "      <td>KKLGAGQFGEVWMVAVKTMAFLAEANVMKTLQDKLVKLHAVYIITE...</td>\n",
       "      <td>2.6</td>\n",
       "      <td>0</td>\n",
       "      <td>4</td>\n",
       "      <td>0000000000000010000000000000000000000000000000...</td>\n",
       "      <td>0.0</td>\n",
       "      <td>0.0</td>\n",
       "      <td>0.0</td>\n",
       "      <td>0.0</td>\n",
       "      <td>0.0</td>\n",
       "      <td>0.0</td>\n",
       "      <td>0.0</td>\n",
       "      <td>0.0</td>\n",
       "      <td>0.0</td>\n",
       "      <td>0.0</td>\n",
       "      <td>0.0</td>\n",
       "      <td>0.0</td>\n",
       "    </tr>\n",
       "    <tr>\n",
       "      <th>2</th>\n",
       "      <td>Human</td>\n",
       "      <td>HCK</td>\n",
       "      <td>1ad5</td>\n",
       "      <td>-</td>\n",
       "      <td>B</td>\n",
       "      <td>ANP</td>\n",
       "      <td>-</td>\n",
       "      <td>0.817</td>\n",
       "      <td>2.141</td>\n",
       "      <td>9.6</td>\n",
       "      <td>KKLGAGQFGEVWMVAVKTMAFLAEANVMKTLQDKLVKLHAVYIITE...</td>\n",
       "      <td>2.6</td>\n",
       "      <td>0</td>\n",
       "      <td>4</td>\n",
       "      <td>0000000000000010000001000000000000000000000000...</td>\n",
       "      <td>0.0</td>\n",
       "      <td>0.0</td>\n",
       "      <td>0.0</td>\n",
       "      <td>0.0</td>\n",
       "      <td>0.0</td>\n",
       "      <td>0.0</td>\n",
       "      <td>0.0</td>\n",
       "      <td>0.0</td>\n",
       "      <td>0.0</td>\n",
       "      <td>0.0</td>\n",
       "      <td>0.0</td>\n",
       "      <td>0.0</td>\n",
       "    </tr>\n",
       "    <tr>\n",
       "      <th>3</th>\n",
       "      <td>Human</td>\n",
       "      <td>FGFR1</td>\n",
       "      <td>1agw</td>\n",
       "      <td>A</td>\n",
       "      <td>A</td>\n",
       "      <td>SU2</td>\n",
       "      <td>-</td>\n",
       "      <td>0.831</td>\n",
       "      <td>2.001</td>\n",
       "      <td>7.6</td>\n",
       "      <td>KPLG_____QVVLVAVKMLDLISEMEMMKMIGKNIINLLGAYVIVE...</td>\n",
       "      <td>2.4</td>\n",
       "      <td>5</td>\n",
       "      <td>4</td>\n",
       "      <td>0000000000000010000000000000000000000000000000...</td>\n",
       "      <td>0.0</td>\n",
       "      <td>0.0</td>\n",
       "      <td>0.0</td>\n",
       "      <td>0.0</td>\n",
       "      <td>0.0</td>\n",
       "      <td>0.0</td>\n",
       "      <td>0.0</td>\n",
       "      <td>0.0</td>\n",
       "      <td>0.0</td>\n",
       "      <td>0.0</td>\n",
       "      <td>0.0</td>\n",
       "      <td>0.0</td>\n",
       "    </tr>\n",
       "    <tr>\n",
       "      <th>4</th>\n",
       "      <td>Human</td>\n",
       "      <td>FGFR1</td>\n",
       "      <td>1agw</td>\n",
       "      <td>B</td>\n",
       "      <td>A</td>\n",
       "      <td>SU2</td>\n",
       "      <td>-</td>\n",
       "      <td>0.831</td>\n",
       "      <td>2.001</td>\n",
       "      <td>7.6</td>\n",
       "      <td>KPLG_____QVVLVAVKMLDLISEMEMMKMIGKNIINLLGAYVIVE...</td>\n",
       "      <td>2.4</td>\n",
       "      <td>5</td>\n",
       "      <td>4</td>\n",
       "      <td>0000000000000010000000000000000000000000000000...</td>\n",
       "      <td>0.0</td>\n",
       "      <td>0.0</td>\n",
       "      <td>0.0</td>\n",
       "      <td>0.0</td>\n",
       "      <td>0.0</td>\n",
       "      <td>0.0</td>\n",
       "      <td>0.0</td>\n",
       "      <td>0.0</td>\n",
       "      <td>0.0</td>\n",
       "      <td>0.0</td>\n",
       "      <td>0.0</td>\n",
       "      <td>0.0</td>\n",
       "    </tr>\n",
       "  </tbody>\n",
       "</table>\n",
       "</div>"
      ],
      "text/plain": [
       "  species.klifs kinase.klifs_name structure.pdb structure.alternate_model  \\\n",
       "0         Human              p38a          1a9u                         -   \n",
       "1         Human               HCK          1ad5                         -   \n",
       "2         Human               HCK          1ad5                         -   \n",
       "3         Human             FGFR1          1agw                         A   \n",
       "4         Human             FGFR1          1agw                         B   \n",
       "\n",
       "  structure.chain ligand.pdb ligand_allosteric.pdb  structure.rmsd1  \\\n",
       "0               A        SB2                     -            0.828   \n",
       "1               A        ANP                     -            0.816   \n",
       "2               B        ANP                     -            0.817   \n",
       "3               A        SU2                     -            0.831   \n",
       "4               A        SU2                     -            0.831   \n",
       "\n",
       "   structure.rmsd2  structure.qualityscore  \\\n",
       "0            2.186                     8.0   \n",
       "1            2.141                     9.6   \n",
       "2            2.141                     9.6   \n",
       "3            2.001                     7.6   \n",
       "4            2.001                     7.6   \n",
       "\n",
       "                                    structure.pocket  structure.resolution  \\\n",
       "0  SPVGSGAYGSVCAVAVKKLRTYRELRLLKHMKENVIGLLDVYLVTH...                   2.5   \n",
       "1  KKLGAGQFGEVWMVAVKTMAFLAEANVMKTLQDKLVKLHAVYIITE...                   2.6   \n",
       "2  KKLGAGQFGEVWMVAVKTMAFLAEANVMKTLQDKLVKLHAVYIITE...                   2.6   \n",
       "3  KPLG_____QVVLVAVKMLDLISEMEMMKMIGKNIINLLGAYVIVE...                   2.4   \n",
       "4  KPLG_____QVVLVAVKMLDLISEMEMMKMIGKNIINLLGAYVIVE...                   2.4   \n",
       "\n",
       "   structure.missing_residues  structure.missing_atoms  \\\n",
       "0                           0                        0   \n",
       "1                           0                        4   \n",
       "2                           0                        4   \n",
       "3                           5                        4   \n",
       "4                           5                        4   \n",
       "\n",
       "                             interaction.fingerprint  structure.fp_i  \\\n",
       "0  0000000000000000000000000000000000000000000000...             0.0   \n",
       "1  0000000000000010000000000000000000000000000000...             0.0   \n",
       "2  0000000000000010000001000000000000000000000000...             0.0   \n",
       "3  0000000000000010000000000000000000000000000000...             0.0   \n",
       "4  0000000000000010000000000000000000000000000000...             0.0   \n",
       "\n",
       "   structure.fp_ii  structure.bp_i_a  structure.bp_i_b  structure.bp_ii_in  \\\n",
       "0              1.0               1.0               1.0                 0.0   \n",
       "1              0.0               0.0               0.0                 0.0   \n",
       "2              0.0               0.0               0.0                 0.0   \n",
       "3              0.0               0.0               0.0                 0.0   \n",
       "4              0.0               0.0               0.0                 0.0   \n",
       "\n",
       "   structure.bp_ii_a_in  structure.bp_ii_b_in  structure.bp_ii_out  \\\n",
       "0                   0.0                   0.0                  0.0   \n",
       "1                   0.0                   0.0                  0.0   \n",
       "2                   0.0                   0.0                  0.0   \n",
       "3                   0.0                   0.0                  0.0   \n",
       "4                   0.0                   0.0                  0.0   \n",
       "\n",
       "   structure.bp_ii_b  structure.bp_iii  structure.bp_iv  structure.bp_v  \n",
       "0                0.0               0.0              0.0             0.0  \n",
       "1                0.0               0.0              0.0             0.0  \n",
       "2                0.0               0.0              0.0             0.0  \n",
       "3                0.0               0.0              0.0             0.0  \n",
       "4                0.0               0.0              0.0             0.0  "
      ]
     },
     "execution_count": 27,
     "metadata": {},
     "output_type": "execute_result"
    }
   ],
   "source": [
    "klifs_overview.sort_values([\"structure.pdb\", \"structure.chain\", \"structure.alternate_model\"], inplace=True, ignore_index=True)\n",
    "klifs_overview.head()"
   ]
  },
  {
   "cell_type": "markdown",
   "metadata": {},
   "source": [
    "### Kinase name mismatches in local overview and export files?"
   ]
  },
  {
   "cell_type": "code",
   "execution_count": 28,
   "metadata": {},
   "outputs": [
    {
     "data": {
      "text/html": [
       "<div>\n",
       "<style scoped>\n",
       "    .dataframe tbody tr th:only-of-type {\n",
       "        vertical-align: middle;\n",
       "    }\n",
       "\n",
       "    .dataframe tbody tr th {\n",
       "        vertical-align: top;\n",
       "    }\n",
       "\n",
       "    .dataframe thead th {\n",
       "        text-align: right;\n",
       "    }\n",
       "</style>\n",
       "<table border=\"1\" class=\"dataframe\">\n",
       "  <thead>\n",
       "    <tr style=\"text-align: right;\">\n",
       "      <th></th>\n",
       "      <th>kinase.names</th>\n",
       "      <th>kinase.family</th>\n",
       "      <th>kinase.group</th>\n",
       "      <th>structure.pdb</th>\n",
       "      <th>structure.chain</th>\n",
       "      <th>structure.alternate_model</th>\n",
       "      <th>species.klifs</th>\n",
       "      <th>ligand.name</th>\n",
       "      <th>ligand.pdb</th>\n",
       "      <th>ligand_allosteric.name</th>\n",
       "      <th>ligand_allosteric.pdb</th>\n",
       "      <th>structure.dfg</th>\n",
       "      <th>structure.ac_helix</th>\n",
       "      <th>kinase.hgnc_name</th>\n",
       "      <th>kinase.klifs_name</th>\n",
       "    </tr>\n",
       "  </thead>\n",
       "  <tbody>\n",
       "  </tbody>\n",
       "</table>\n",
       "</div>"
      ],
      "text/plain": [
       "Empty DataFrame\n",
       "Columns: [kinase.names, kinase.family, kinase.group, structure.pdb, structure.chain, structure.alternate_model, species.klifs, ligand.name, ligand.pdb, ligand_allosteric.name, ligand_allosteric.pdb, structure.dfg, structure.ac_helix, kinase.hgnc_name, kinase.klifs_name]\n",
       "Index: []"
      ]
     },
     "execution_count": 28,
     "metadata": {},
     "output_type": "execute_result"
    }
   ],
   "source": [
    "klifs_export[klifs_export[\"kinase.klifs_name\"] != klifs_overview[\"kinase.klifs_name\"]]"
   ]
  },
  {
   "cell_type": "markdown",
   "metadata": {},
   "source": [
    "### Kinase name mismatches locally and remotely?"
   ]
  },
  {
   "cell_type": "code",
   "execution_count": 29,
   "metadata": {},
   "outputs": [
    {
     "data": {
      "text/html": [
       "<div>\n",
       "<style scoped>\n",
       "    .dataframe tbody tr th:only-of-type {\n",
       "        vertical-align: middle;\n",
       "    }\n",
       "\n",
       "    .dataframe tbody tr th {\n",
       "        vertical-align: top;\n",
       "    }\n",
       "\n",
       "    .dataframe thead th {\n",
       "        text-align: right;\n",
       "    }\n",
       "</style>\n",
       "<table border=\"1\" class=\"dataframe\">\n",
       "  <thead>\n",
       "    <tr style=\"text-align: right;\">\n",
       "      <th></th>\n",
       "      <th>kinase.names</th>\n",
       "      <th>kinase.family</th>\n",
       "      <th>kinase.group</th>\n",
       "      <th>structure.pdb</th>\n",
       "      <th>structure.chain</th>\n",
       "      <th>structure.alternate_model</th>\n",
       "      <th>species.klifs</th>\n",
       "      <th>ligand.name</th>\n",
       "      <th>ligand.pdb</th>\n",
       "      <th>ligand_allosteric.name</th>\n",
       "      <th>ligand_allosteric.pdb</th>\n",
       "      <th>structure.dfg</th>\n",
       "      <th>structure.ac_helix</th>\n",
       "      <th>kinase.hgnc_name</th>\n",
       "      <th>kinase.klifs_name</th>\n",
       "    </tr>\n",
       "  </thead>\n",
       "  <tbody>\n",
       "  </tbody>\n",
       "</table>\n",
       "</div>"
      ],
      "text/plain": [
       "Empty DataFrame\n",
       "Columns: [kinase.names, kinase.family, kinase.group, structure.pdb, structure.chain, structure.alternate_model, species.klifs, ligand.name, ligand.pdb, ligand_allosteric.name, ligand_allosteric.pdb, structure.dfg, structure.ac_helix, kinase.hgnc_name, kinase.klifs_name]\n",
       "Index: []"
      ]
     },
     "execution_count": 29,
     "metadata": {},
     "output_type": "execute_result"
    }
   ],
   "source": [
    "klifs_export[~klifs_export[\"kinase.klifs_name\"].isin(kinases[\"kinase.klifs_name\"].to_list())]"
   ]
  },
  {
   "cell_type": "markdown",
   "metadata": {},
   "source": [
    "### Kinase HGNC name mismatches locally and remotely?"
   ]
  },
  {
   "cell_type": "code",
   "execution_count": 30,
   "metadata": {},
   "outputs": [
    {
     "data": {
      "text/html": [
       "<div>\n",
       "<style scoped>\n",
       "    .dataframe tbody tr th:only-of-type {\n",
       "        vertical-align: middle;\n",
       "    }\n",
       "\n",
       "    .dataframe tbody tr th {\n",
       "        vertical-align: top;\n",
       "    }\n",
       "\n",
       "    .dataframe thead th {\n",
       "        text-align: right;\n",
       "    }\n",
       "</style>\n",
       "<table border=\"1\" class=\"dataframe\">\n",
       "  <thead>\n",
       "    <tr style=\"text-align: right;\">\n",
       "      <th></th>\n",
       "      <th>kinase.names</th>\n",
       "      <th>kinase.family</th>\n",
       "      <th>kinase.group</th>\n",
       "      <th>structure.pdb</th>\n",
       "      <th>structure.chain</th>\n",
       "      <th>structure.alternate_model</th>\n",
       "      <th>species.klifs</th>\n",
       "      <th>ligand.name</th>\n",
       "      <th>ligand.pdb</th>\n",
       "      <th>ligand_allosteric.name</th>\n",
       "      <th>ligand_allosteric.pdb</th>\n",
       "      <th>structure.dfg</th>\n",
       "      <th>structure.ac_helix</th>\n",
       "      <th>kinase.hgnc_name</th>\n",
       "      <th>kinase.klifs_name</th>\n",
       "    </tr>\n",
       "  </thead>\n",
       "  <tbody>\n",
       "  </tbody>\n",
       "</table>\n",
       "</div>"
      ],
      "text/plain": [
       "Empty DataFrame\n",
       "Columns: [kinase.names, kinase.family, kinase.group, structure.pdb, structure.chain, structure.alternate_model, species.klifs, ligand.name, ligand.pdb, ligand_allosteric.name, ligand_allosteric.pdb, structure.dfg, structure.ac_helix, kinase.hgnc_name, kinase.klifs_name]\n",
       "Index: []"
      ]
     },
     "execution_count": 30,
     "metadata": {},
     "output_type": "execute_result"
    }
   ],
   "source": [
    "klifs_export[~klifs_export[\"kinase.hgnc_name\"].isin(kinases[\"kinase.hgnc_name_x\"].to_list())]"
   ]
  },
  {
   "cell_type": "code",
   "execution_count": null,
   "metadata": {},
   "outputs": [],
   "source": []
  }
 ],
 "metadata": {
  "kernelspec": {
   "display_name": "Python 3",
   "language": "python",
   "name": "python3"
  },
  "language_info": {
   "codemirror_mode": {
    "name": "ipython",
    "version": 3
   },
   "file_extension": ".py",
   "mimetype": "text/x-python",
   "name": "python",
   "nbconvert_exporter": "python",
   "pygments_lexer": "ipython3",
   "version": "3.8.6"
  }
 },
 "nbformat": 4,
 "nbformat_minor": 4
}
