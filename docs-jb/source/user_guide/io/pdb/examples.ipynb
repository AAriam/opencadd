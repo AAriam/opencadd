{
 "cells": [
  {
   "cell_type": "markdown",
   "id": "46591b47-434a-4f9c-bdad-1137c95109fb",
   "metadata": {},
   "source": [
    "# Examples: Processing PDB Files"
   ]
  },
  {
   "cell_type": "code",
   "execution_count": null,
   "id": "32f6c8d3-c140-4159-bdb9-f2368b7a034b",
   "metadata": {},
   "outputs": [],
   "source": [
    "%load_ext autoreload\n",
    "%autoreload 2\n",
    "\n",
    "from IPython.display import display\n",
    "from pathlib import Path\n",
    "\n",
    "import numpy as np\n",
    "import pandas as pd\n",
    "pd.set_option('display.max_columns', 100)\n",
    "pd.set_option('display.max_rows', 100)\n",
    "\n",
    "from opencadd.api.web import rcsb\n",
    "from opencadd.io import pdb\n",
    "from opencadd.io.pdb import _records\n"
   ]
  },
  {
   "cell_type": "code",
   "execution_count": null,
   "id": "b59fbd7e-a7ce-4717-ad9a-1c719b89c03c",
   "metadata": {},
   "outputs": [],
   "source": []
  },
  {
   "cell_type": "code",
   "execution_count": null,
   "id": "bbff2210-c007-4030-8a5b-3f073c146394",
   "metadata": {},
   "outputs": [],
   "source": [
    "pdb_paths = list(Path(\"./pdbs\").glob(\"*.pdb\"))"
   ]
  },
  {
   "cell_type": "code",
   "execution_count": null,
   "id": "f9a21b62-22e9-43fb-8f70-9c6ee0ab1d02",
   "metadata": {},
   "outputs": [],
   "source": [
    "parsers = [pdb.parser.from_filepath(pdb_path, parse=False) for pdb_path in pdb_paths[:100]]"
   ]
  },
  {
   "cell_type": "code",
   "execution_count": null,
   "id": "95025b6d-42a4-4ed2-bec5-eda8ddca686a",
   "metadata": {},
   "outputs": [],
   "source": [
    "def print_compare(record_name, begin=0, end=100):\n",
    "    for i, p in enumerate(parsers[begin:end]):\n",
    "        record = getattr(records, record_name.upper())\n",
    "        if p.has_record(record):\n",
    "            print(f\"\\nIndex: {i+begin}; PDB-ID: {p.record_header['pdb_id']}\\n\")\n",
    "            print(\"\",\"\".join([str(i) for i in range(0,10)]*8))\n",
    "            print(p.record_lines(record, False), \"\\n\")\n",
    "            data = getattr(p, f\"record_{record_name}\")\n",
    "            #if isinstance(data, pd.DataFrame):\n",
    "            display(data)  \n",
    "            print(\"\\n\",\"-\"*84)\n",
    "        "
   ]
  },
  {
   "cell_type": "markdown",
   "id": "bb1b5b3b-aba5-4a68-ac53-9194d7c8ede0",
   "metadata": {},
   "source": [
    "### HEADER"
   ]
  },
  {
   "cell_type": "code",
   "execution_count": null,
   "id": "dd6c2659-d7a2-4468-8eaf-ab8f6b3e89b9",
   "metadata": {
    "tags": []
   },
   "outputs": [],
   "source": [
    "print_compare(\"header\")"
   ]
  },
  {
   "cell_type": "markdown",
   "id": "11263871-feae-4703-9e78-c7a311b0b34f",
   "metadata": {},
   "source": [
    "### OBSLTE"
   ]
  },
  {
   "cell_type": "code",
   "execution_count": null,
   "id": "9506286f-53b8-46de-83d6-e89c0c124ebf",
   "metadata": {},
   "outputs": [],
   "source": [
    "obslte_pdb_ids = rcsb.data_holdings(status=\"removed\")\n",
    "\n",
    "for obslte_pdb_id in obslte_pdb_ids[:10]:\n",
    "    p = pdb.parser.from_pdb_id(obslte_pdb_id)\n",
    "    print(p.record_obslte)\n",
    "    print(p.record_lines(records.OBSLTE, False), \"\\n\\n\")"
   ]
  },
  {
   "cell_type": "markdown",
   "id": "222b288f-6aa9-4ea1-9e89-ad0af96c732b",
   "metadata": {},
   "source": [
    "### TITLE"
   ]
  },
  {
   "cell_type": "code",
   "execution_count": null,
   "id": "0af3a06b-3b77-4f5b-ae94-b850425d08b1",
   "metadata": {
    "tags": []
   },
   "outputs": [],
   "source": [
    "print_compare(\"title\")"
   ]
  },
  {
   "cell_type": "markdown",
   "id": "371cf3dc-a435-4bc7-a04e-8f1c6570c696",
   "metadata": {},
   "source": [
    "### CAVEAT"
   ]
  },
  {
   "cell_type": "code",
   "execution_count": null,
   "id": "c66cd863-4821-4341-b571-6fe6149c1a68",
   "metadata": {
    "tags": []
   },
   "outputs": [],
   "source": [
    "print_compare(\"caveat\")"
   ]
  },
  {
   "cell_type": "markdown",
   "id": "f1816c9b-8c38-4031-a9dd-afedfa56f5d9",
   "metadata": {},
   "source": [
    "### COMPND"
   ]
  },
  {
   "cell_type": "code",
   "execution_count": null,
   "id": "db02baec-ee33-401d-a9ef-76ed8bcc0118",
   "metadata": {
    "tags": []
   },
   "outputs": [],
   "source": [
    "print_compare(\"compnd\")"
   ]
  },
  {
   "cell_type": "code",
   "execution_count": null,
   "id": "42422a6c-ba62-408b-baf4-e002dfe5acd2",
   "metadata": {
    "tags": []
   },
   "outputs": [],
   "source": [
    "for i, p in enumerate(parsers):\n",
    "    try:\n",
    "        if not p.record_compnd.engineered.dropna().isin([\"YES\", \"NO\"]).all():\n",
    "            print(p.record_lines(records.COMPND, False))\n",
    "    except AttributeError as e:\n",
    "        pass\n",
    "    except Exception as e:\n",
    "        print(i)\n",
    "        print(p.record_header[\"pdb_id\"])\n",
    "        print(p.record_lines(records.COMPND, False))"
   ]
  },
  {
   "cell_type": "markdown",
   "id": "b9731a62-3cb8-4c3e-b5e4-b1052c7e6d6e",
   "metadata": {
    "tags": []
   },
   "source": [
    "### SOURCE "
   ]
  },
  {
   "cell_type": "code",
   "execution_count": null,
   "id": "e0600618-58a5-4509-8157-219bf87716f3",
   "metadata": {
    "tags": []
   },
   "outputs": [],
   "source": [
    "print_compare(\"source\")"
   ]
  },
  {
   "cell_type": "markdown",
   "id": "14625feb-7a35-423f-9147-726dd9a6001b",
   "metadata": {},
   "source": [
    "### KEYWDS"
   ]
  },
  {
   "cell_type": "code",
   "execution_count": null,
   "id": "53c0c655-7c27-4b39-b833-0d1688316d66",
   "metadata": {
    "tags": []
   },
   "outputs": [],
   "source": [
    "print_compare(\"keywds\")"
   ]
  },
  {
   "cell_type": "markdown",
   "id": "4095be4f-fc99-4e95-890b-84db331b5c8b",
   "metadata": {},
   "source": [
    "### EXPDTA"
   ]
  },
  {
   "cell_type": "code",
   "execution_count": null,
   "id": "10efb478-e2de-4e01-9ae3-8dddd9a484e5",
   "metadata": {},
   "outputs": [],
   "source": [
    "print_compare(\"expdta\")"
   ]
  },
  {
   "cell_type": "markdown",
   "id": "8e8d4b98-54de-4bdf-80f1-61b292c9361f",
   "metadata": {},
   "source": [
    "### NUMMDL"
   ]
  },
  {
   "cell_type": "code",
   "execution_count": null,
   "id": "d0285488-5e49-42c2-b0ea-a2bac39739e6",
   "metadata": {},
   "outputs": [],
   "source": [
    "print_compare(\"nummdl\")"
   ]
  },
  {
   "cell_type": "markdown",
   "id": "ef06dfe8-9f26-41d3-9a46-8c854f57951f",
   "metadata": {},
   "source": [
    "### MDLTYP"
   ]
  },
  {
   "cell_type": "code",
   "execution_count": null,
   "id": "f7ebccaa-bbf7-4bc3-b1f8-c22a6930d39e",
   "metadata": {},
   "outputs": [],
   "source": [
    "print_compare(\"mdltyp\")"
   ]
  },
  {
   "cell_type": "markdown",
   "id": "3823d248-f5a7-4cee-9029-00871c02922a",
   "metadata": {},
   "source": [
    "### AUTHOR"
   ]
  },
  {
   "cell_type": "code",
   "execution_count": null,
   "id": "b1f8b388-352d-4fb5-bd49-742abf3e8d35",
   "metadata": {},
   "outputs": [],
   "source": [
    "print_compare(\"author\")"
   ]
  },
  {
   "cell_type": "markdown",
   "id": "7c4ae9f8-28b0-4b73-b7df-66dc284aedde",
   "metadata": {},
   "source": [
    "### REVDAT"
   ]
  },
  {
   "cell_type": "code",
   "execution_count": null,
   "id": "309bc658-9617-4d28-8480-58357ad9e00c",
   "metadata": {},
   "outputs": [],
   "source": [
    "print_compare(\"revdat\")"
   ]
  },
  {
   "cell_type": "markdown",
   "id": "7a6c0f77-611a-4016-b953-12e0560802a5",
   "metadata": {},
   "source": [
    "### SPRSDE"
   ]
  },
  {
   "cell_type": "code",
   "execution_count": null,
   "id": "8bc40657-3986-4a6c-832e-501bcaa3fc0a",
   "metadata": {},
   "outputs": [],
   "source": [
    "print_compare(\"sprsde\")"
   ]
  },
  {
   "cell_type": "markdown",
   "id": "1a90fc20-0565-4602-bdf8-35e06325c04c",
   "metadata": {},
   "source": [
    "### JRNL"
   ]
  },
  {
   "cell_type": "code",
   "execution_count": null,
   "id": "92713338-c4f3-4f5a-af04-8b32c32cdb1c",
   "metadata": {},
   "outputs": [],
   "source": [
    "parsers[0].record_jrnl"
   ]
  },
  {
   "cell_type": "code",
   "execution_count": null,
   "id": "3bd40187-7887-43c3-9dcb-122803de579e",
   "metadata": {},
   "outputs": [],
   "source": [
    "parsers[0].record_lines(pdb.records.JRNL, False)"
   ]
  },
  {
   "cell_type": "markdown",
   "id": "107ad61c-2070-4c6a-8154-1ca50f705520",
   "metadata": {},
   "source": [
    "### DBREF"
   ]
  },
  {
   "cell_type": "code",
   "execution_count": null,
   "id": "37612371-9035-4be7-b958-31b01c109d51",
   "metadata": {},
   "outputs": [],
   "source": [
    "print_compare(\"dbref\")"
   ]
  },
  {
   "cell_type": "markdown",
   "id": "94e22067-7dfb-4d01-abaa-72ef02e60d7d",
   "metadata": {},
   "source": [
    "### SEQADV"
   ]
  },
  {
   "cell_type": "code",
   "execution_count": null,
   "id": "99ded87e-030b-4f60-b846-cfda8eec02a6",
   "metadata": {
    "tags": []
   },
   "outputs": [],
   "source": [
    "print_compare(\"seqadv\")"
   ]
  },
  {
   "cell_type": "markdown",
   "id": "0c4128e8-a6a0-44ed-bb8a-a987d4903abd",
   "metadata": {},
   "source": [
    "### SEQRES"
   ]
  },
  {
   "cell_type": "code",
   "execution_count": null,
   "id": "7b68a2ac-a710-434f-aee9-114e4c966b05",
   "metadata": {
    "tags": []
   },
   "outputs": [],
   "source": [
    "print_compare(\"seqres\")"
   ]
  },
  {
   "cell_type": "markdown",
   "id": "c69406bf-0c44-4e64-b5a4-9d92e7154ba5",
   "metadata": {},
   "source": [
    "### MODRES"
   ]
  },
  {
   "cell_type": "code",
   "execution_count": null,
   "id": "e6f079eb-9eb8-4f23-b11f-a169adbaaf54",
   "metadata": {
    "tags": []
   },
   "outputs": [],
   "source": [
    "print_compare(\"modres\")"
   ]
  },
  {
   "cell_type": "markdown",
   "id": "9464c99b-6438-4678-af65-35de88e953f7",
   "metadata": {},
   "source": [
    "### HET"
   ]
  },
  {
   "cell_type": "code",
   "execution_count": null,
   "id": "6efcf3df-5d9a-4a41-b7b9-d2e9dd0c5642",
   "metadata": {
    "tags": []
   },
   "outputs": [],
   "source": [
    "print_compare(\"het\")"
   ]
  },
  {
   "cell_type": "markdown",
   "id": "ccd5d652-6ad1-44ee-a59a-7e8538af169b",
   "metadata": {},
   "source": [
    "### HETNAM"
   ]
  },
  {
   "cell_type": "code",
   "execution_count": null,
   "id": "f160be7d-2ef9-4737-9e08-377c156d2f18",
   "metadata": {
    "tags": []
   },
   "outputs": [],
   "source": [
    "print_compare(\"hetnam\")"
   ]
  },
  {
   "cell_type": "markdown",
   "id": "3aa9943f-1b0d-4aa2-977f-35e98100f4b6",
   "metadata": {},
   "source": [
    "### HETSYN"
   ]
  },
  {
   "cell_type": "code",
   "execution_count": null,
   "id": "42252dbd-1e38-44d0-aabf-ccf0f54d8b91",
   "metadata": {
    "tags": []
   },
   "outputs": [],
   "source": [
    "print_compare(\"hetsyn\")"
   ]
  },
  {
   "cell_type": "markdown",
   "id": "e983d4a8-f6f2-4810-823e-dc06cfb08400",
   "metadata": {},
   "source": [
    "### FORMUL"
   ]
  },
  {
   "cell_type": "code",
   "execution_count": null,
   "id": "aedcf0b2-042d-45e7-9530-33110bfabdb3",
   "metadata": {
    "tags": []
   },
   "outputs": [],
   "source": [
    "print_compare(\"formul\")"
   ]
  },
  {
   "cell_type": "code",
   "execution_count": null,
   "id": "01649439-abaa-4885-87b8-70033c29da7e",
   "metadata": {},
   "outputs": [],
   "source": [
    "for i, p in enumerate(parsers):\n",
    "    try:\n",
    "        if p.has_record(records.FORMUL) and np.any(p.record_formul.count_rest != 0):\n",
    "            display(p.record_formul)\n",
    "    except:\n",
    "        print(i)\n",
    "        print(p.record_lines(records.FORMUL, False))"
   ]
  },
  {
   "cell_type": "code",
   "execution_count": null,
   "id": "a59fa7d6-9ff0-403e-ab26-c72f12629ba6",
   "metadata": {},
   "outputs": [],
   "source": [
    "parsers[5233].record_formul"
   ]
  },
  {
   "cell_type": "code",
   "execution_count": null,
   "id": "c6c9aaf5-3a14-4d23-bdea-758627bc7570",
   "metadata": {},
   "outputs": [],
   "source": [
    "import re\n",
    "re.split(r'[()]+', \"2()\")"
   ]
  },
  {
   "cell_type": "markdown",
   "id": "7b54af31-197a-47ac-af52-80cf962ea5ed",
   "metadata": {},
   "source": [
    "### HELIX"
   ]
  },
  {
   "cell_type": "code",
   "execution_count": null,
   "id": "5759a403-3495-4961-ad7d-70c215d37302",
   "metadata": {
    "tags": []
   },
   "outputs": [],
   "source": [
    "print_compare(\"helix\")"
   ]
  },
  {
   "cell_type": "markdown",
   "id": "51023801-5258-437c-9cb9-a396a96cc003",
   "metadata": {},
   "source": [
    "### SHEET"
   ]
  },
  {
   "cell_type": "code",
   "execution_count": null,
   "id": "7eb62056-7284-466a-a346-21c4078adf15",
   "metadata": {
    "tags": []
   },
   "outputs": [],
   "source": [
    "print_compare(\"sheet\")"
   ]
  },
  {
   "cell_type": "markdown",
   "id": "a8b2467f-b1af-4bd4-a30e-d4a748fedebb",
   "metadata": {},
   "source": [
    "### SSBOND"
   ]
  },
  {
   "cell_type": "code",
   "execution_count": null,
   "id": "5393cb57-17eb-4003-9539-cb0f37574dc1",
   "metadata": {},
   "outputs": [],
   "source": [
    "print_compare(\"ssbond\")"
   ]
  },
  {
   "cell_type": "markdown",
   "id": "23f786ab-632b-43df-8f0e-81f98df0ca1f",
   "metadata": {},
   "source": [
    "### LINK"
   ]
  },
  {
   "cell_type": "code",
   "execution_count": null,
   "id": "e7c39fdf-fe04-4bae-bb0c-f172bc99e465",
   "metadata": {
    "tags": []
   },
   "outputs": [],
   "source": [
    "print_compare(\"link\")"
   ]
  },
  {
   "cell_type": "markdown",
   "id": "d1d5d53f-6425-4ea3-9455-77dde2bf219e",
   "metadata": {},
   "source": [
    "### CISPEP"
   ]
  },
  {
   "cell_type": "code",
   "execution_count": null,
   "id": "43a1f947-93b4-4916-87fb-74bd9f5b124d",
   "metadata": {
    "tags": []
   },
   "outputs": [],
   "source": [
    "print_compare(\"cispep\")"
   ]
  },
  {
   "cell_type": "markdown",
   "id": "1a99700e-a0f5-4d7d-a416-b1b249311151",
   "metadata": {},
   "source": [
    "### SITE"
   ]
  },
  {
   "cell_type": "code",
   "execution_count": null,
   "id": "d1914595-07b5-49b2-a01f-ccf0a1e035f1",
   "metadata": {},
   "outputs": [],
   "source": [
    "print_compare(\"site\")"
   ]
  },
  {
   "cell_type": "markdown",
   "id": "90eaaf2f-6dfa-42be-9624-a493b765e4bb",
   "metadata": {},
   "source": [
    "### CRYST1"
   ]
  },
  {
   "cell_type": "code",
   "execution_count": null,
   "id": "8744fe71-6be5-4aa0-9172-a04b8fad41ae",
   "metadata": {},
   "outputs": [],
   "source": [
    "print_compare(\"cryst1\")"
   ]
  },
  {
   "cell_type": "markdown",
   "id": "83cdad18-48e2-4560-a972-cefe6d8b2303",
   "metadata": {},
   "source": [
    "### ORIGX1"
   ]
  },
  {
   "cell_type": "code",
   "execution_count": null,
   "id": "35a79902-20f6-4397-a154-c8bf8da0a899",
   "metadata": {
    "tags": []
   },
   "outputs": [],
   "source": [
    "print_compare(\"origx2\")"
   ]
  },
  {
   "cell_type": "code",
   "execution_count": null,
   "id": "d1b9aef6-e614-4e41-a563-82e81a37d0a7",
   "metadata": {},
   "outputs": [],
   "source": [
    "for p in parsers:\n",
    "    print(p.records_origx)"
   ]
  },
  {
   "cell_type": "markdown",
   "id": "ae23231f-0eff-4eb9-9513-e7f71c38486f",
   "metadata": {},
   "source": [
    "### SCALE"
   ]
  },
  {
   "cell_type": "code",
   "execution_count": null,
   "id": "6f52132a-27f6-4d86-8910-12bce22d3895",
   "metadata": {},
   "outputs": [],
   "source": [
    "for p in parsers:\n",
    "    print(p.records_scale)"
   ]
  },
  {
   "cell_type": "code",
   "execution_count": null,
   "id": "7b960a5e-9bba-47d5-876c-65193406a976",
   "metadata": {},
   "outputs": [],
   "source": [
    "print_compare(\"scale1\")"
   ]
  },
  {
   "cell_type": "code",
   "execution_count": null,
   "id": "65d0bda5-8856-498c-9ce4-f53d0d12db74",
   "metadata": {},
   "outputs": [],
   "source": [
    "for p in parsers:\n",
    "    display(p.records_mtrix)"
   ]
  },
  {
   "cell_type": "code",
   "execution_count": null,
   "id": "2ab32447-ce22-4707-a638-b440f520454b",
   "metadata": {},
   "outputs": [],
   "source": [
    "parsers[-5].records_mtrix.loc[1,\"transformation_matrix\"]"
   ]
  },
  {
   "cell_type": "code",
   "execution_count": null,
   "id": "e53e2c04-edf3-4598-b613-283128c1267b",
   "metadata": {},
   "outputs": [],
   "source": [
    "print_compare(\"mtrix1\")"
   ]
  },
  {
   "cell_type": "markdown",
   "id": "a45f2ef7-1212-4025-b44e-ffe587822695",
   "metadata": {},
   "source": [
    "### ATOM/HETATM"
   ]
  },
  {
   "cell_type": "code",
   "execution_count": null,
   "id": "6357b7d5-0035-4a86-a591-673f3576ac3a",
   "metadata": {
    "tags": []
   },
   "outputs": [],
   "source": [
    "for p in parsers:\n",
    "    print(p.record_header[\"pdb_id\"])\n",
    "    display(p.records_atom_hetatm)\n",
    "    "
   ]
  },
  {
   "cell_type": "code",
   "execution_count": null,
   "id": "cb37e1f5-5385-4634-bf73-a64cda6d7574",
   "metadata": {
    "tags": []
   },
   "outputs": [],
   "source": [
    "print_compare(\"anisou\")"
   ]
  },
  {
   "cell_type": "code",
   "execution_count": null,
   "id": "f7090c4c-9d19-484b-8824-f369cc55b99a",
   "metadata": {},
   "outputs": [],
   "source": [
    "c = parsers[59].record_lines(records.ANISOU)[:, 78:80].view(dtype=(str, 2))\n",
    "c[(c!=\"  \")&(c!=\"1-\")]"
   ]
  },
  {
   "cell_type": "markdown",
   "id": "d3df2833-e1af-4e26-a723-780aa7c31f78",
   "metadata": {},
   "source": [
    "### TER"
   ]
  },
  {
   "cell_type": "code",
   "execution_count": null,
   "id": "5e45c4a9-dbb0-4d84-9241-4b5e41416877",
   "metadata": {
    "tags": []
   },
   "outputs": [],
   "source": [
    "print_compare(\"ter\")"
   ]
  },
  {
   "cell_type": "markdown",
   "id": "b475e5a4-0dc5-4a40-82c6-7bb186e7f22a",
   "metadata": {},
   "source": [
    "### CONECT"
   ]
  },
  {
   "cell_type": "code",
   "execution_count": null,
   "id": "f535bb6b-f5c0-4328-b58f-1acfc0b552f3",
   "metadata": {},
   "outputs": [],
   "source": [
    "print_compare(\"conect\")"
   ]
  },
  {
   "cell_type": "markdown",
   "id": "5424f2c8-5b6c-4661-8e47-f74958c65d27",
   "metadata": {},
   "source": [
    "### MASTER"
   ]
  },
  {
   "cell_type": "code",
   "execution_count": null,
   "id": "f9c9a99a-a7a9-49bb-8418-bc998ace6f8d",
   "metadata": {
    "tags": []
   },
   "outputs": [],
   "source": [
    "print_compare(\"master\")"
   ]
  },
  {
   "cell_type": "code",
   "execution_count": null,
   "id": "71189ee6-377e-4efa-a7bf-3478077a384b",
   "metadata": {},
   "outputs": [],
   "source": [
    "r = parsers[0].record_remark\n",
    "print(\"\\n\".join(r.loc[800, \"content\"]))"
   ]
  },
  {
   "cell_type": "code",
   "execution_count": null,
   "id": "9559c647-4032-4d8f-a3ac-2da1d76e03c5",
   "metadata": {},
   "outputs": [],
   "source": [
    "r.index.unique()"
   ]
  },
  {
   "cell_type": "code",
   "execution_count": null,
   "id": "107e91cd-7339-4d2f-8c1f-6a3e58da9552",
   "metadata": {},
   "outputs": [],
   "source": []
  },
  {
   "cell_type": "code",
   "execution_count": null,
   "id": "0f3149cc-dda7-46f2-9469-9aed897865a6",
   "metadata": {},
   "outputs": [],
   "source": [
    "\"REMARK 2 RESOLUTION. NOT APPLICABLE. \"[23:30]"
   ]
  },
  {
   "cell_type": "code",
   "execution_count": null,
   "id": "5e0f5b53-fcf0-41d8-84ab-b675cda73a7a",
   "metadata": {},
   "outputs": [],
   "source": [
    "parsers[0].record_remark4"
   ]
  },
  {
   "cell_type": "code",
   "execution_count": null,
   "id": "e8d34487-2520-452a-8d5f-331d2e99af53",
   "metadata": {},
   "outputs": [],
   "source": [
    "from opencadd import api"
   ]
  },
  {
   "cell_type": "code",
   "execution_count": null,
   "id": "db9c0018-af8c-4b72-94d5-01f8cd542aa0",
   "metadata": {},
   "outputs": [],
   "source": [
    "from opencadd.api.web.http_request import response_http_request"
   ]
  },
  {
   "cell_type": "code",
   "execution_count": null,
   "id": "d2d4be23-38a7-4697-8b67-3648d45399c7",
   "metadata": {},
   "outputs": [],
   "source": [
    "a=response_http_request(\"https://files.wwpdb.org/pub/pdb/compatible/pdb_bundle/pdb_bundle_index.txt\", response_type=\"str\")"
   ]
  },
  {
   "cell_type": "code",
   "execution_count": null,
   "id": "1613e238-ad3e-41c1-8d5d-3fa370a01b3f",
   "metadata": {},
   "outputs": [],
   "source": [
    "q = \"\"\"{entry(entry_id:\"4HHB\"){exptl{method}}}\"\"\"\n",
    "response_http_request(f\"https://data.rcsb.org/graphql?query={q}\", response_type=\"json\")"
   ]
  },
  {
   "cell_type": "code",
   "execution_count": null,
   "id": "75358e6e-03d3-4e72-a09d-83d21a6e590a",
   "metadata": {},
   "outputs": [],
   "source": [
    "q = \"\"\"query exptl_method($id: String!) {\n",
    "   entry(entry_id:$id) {\n",
    "      exptl {\n",
    "        method\n",
    "      }\n",
    "   }\n",
    "}\n",
    "\"\"\"\n",
    "response_http_request(f\"https://data.rcsb.org/graphql?query={q}\", response_type=\"json\", params={\"id\":\"4HHB\"})"
   ]
  },
  {
   "cell_type": "code",
   "execution_count": null,
   "id": "55f64dc7-9034-4208-ad40-93c06388e5c7",
   "metadata": {},
   "outputs": [],
   "source": [
    "type(a)"
   ]
  },
  {
   "cell_type": "code",
   "execution_count": null,
   "id": "37c23112-fa1e-49e0-81bc-9e878a822f02",
   "metadata": {},
   "outputs": [],
   "source": [
    "import numpy as np"
   ]
  },
  {
   "cell_type": "code",
   "execution_count": null,
   "id": "47f5b224-ef13-4597-85eb-b7e5d3a43772",
   "metadata": {},
   "outputs": [],
   "source": [
    "a.upper().splitlines()"
   ]
  },
  {
   "cell_type": "code",
   "execution_count": null,
   "id": "925b4e75-1d21-400d-81fe-eb3b2b001ddd",
   "metadata": {},
   "outputs": [],
   "source": [
    "from opencadd import api"
   ]
  },
  {
   "cell_type": "code",
   "execution_count": null,
   "id": "ba0d8bf4-876f-44af-a98a-25a69e66e490",
   "metadata": {},
   "outputs": [],
   "source": [
    "api.web.rcsb.data_holdings_without_pdb_file()"
   ]
  },
  {
   "cell_type": "code",
   "execution_count": null,
   "id": "57f200d4-6dbb-4a4a-ace2-53eed449a38c",
   "metadata": {},
   "outputs": [],
   "source": [
    "x=api.web.rcsb.data_assembly(\"3w32\",1)"
   ]
  },
  {
   "cell_type": "code",
   "execution_count": null,
   "id": "27610830-3b2b-4cf4-bd3b-4c71880f3f5f",
   "metadata": {},
   "outputs": [],
   "source": [
    "[print(key) for key in x.keys()]"
   ]
  },
  {
   "cell_type": "code",
   "execution_count": null,
   "id": "d13808ae-0be5-4418-b82c-9d77f69a7a1a",
   "metadata": {},
   "outputs": [],
   "source": [
    "x[\"rcsb_assembly_container_identifiers\"]"
   ]
  },
  {
   "cell_type": "code",
   "execution_count": null,
   "id": "6d91afca-b120-473a-be0a-8e410f3498a1",
   "metadata": {},
   "outputs": [],
   "source": [
    "x[\"rcsb_id\"]"
   ]
  },
  {
   "cell_type": "code",
   "execution_count": null,
   "id": "e56e5251-3dfd-465e-aca4-be9dc124d18d",
   "metadata": {},
   "outputs": [],
   "source": [
    "x[\"rcsb_assembly_info\"]"
   ]
  },
  {
   "cell_type": "code",
   "execution_count": 2,
   "id": "764f44d9-9717-4e18-a3af-1313d49af881",
   "metadata": {},
   "outputs": [],
   "source": [
    "from pdbx.reader import PdbxReader#, PdbxContainers"
   ]
  },
  {
   "cell_type": "code",
   "execution_count": 3,
   "id": "f094b524-0d1b-4547-9707-bbd24adc7457",
   "metadata": {},
   "outputs": [],
   "source": [
    "import opencadd as oc"
   ]
  },
  {
   "cell_type": "code",
   "execution_count": 4,
   "id": "6368bca7-a943-4ea4-95ea-bd3ebdf5fc67",
   "metadata": {},
   "outputs": [
    {
     "ename": "AttributeError",
     "evalue": "module 'opencadd' has no attribute 'api'",
     "output_type": "error",
     "traceback": [
      "\u001B[0;31m---------------------------------------------------------------------------\u001B[0m",
      "\u001B[0;31mAttributeError\u001B[0m                            Traceback (most recent call last)",
      "Cell \u001B[0;32mIn [4], line 1\u001B[0m\n\u001B[0;32m----> 1\u001B[0m \u001B[43moc\u001B[49m\u001B[38;5;241;43m.\u001B[39;49m\u001B[43mapi\u001B[49m\n",
      "\u001B[0;31mAttributeError\u001B[0m: module 'opencadd' has no attribute 'api'"
     ]
    }
   ],
   "source": [
    "oc.api"
   ]
  },
  {
   "cell_type": "code",
   "execution_count": 6,
   "id": "45d814aa-07b0-4bb0-a2e6-d22ae50ca14a",
   "metadata": {},
   "outputs": [],
   "source": [
    "import opencadd as oc"
   ]
  },
  {
   "cell_type": "code",
   "execution_count": 8,
   "id": "ad60667a-bf33-4591-92e6-fad242d180bd",
   "metadata": {},
   "outputs": [],
   "source": [
    "import opencadd.api"
   ]
  },
  {
   "cell_type": "code",
   "execution_count": 9,
   "id": "560b5546-f785-43e5-8ecb-4cad64eb59f1",
   "metadata": {},
   "outputs": [],
   "source": [
    "oc.api = opencadd.api"
   ]
  },
  {
   "cell_type": "code",
   "execution_count": 10,
   "id": "90bf21eb-9e5e-4414-99ce-06b163b80031",
   "metadata": {},
   "outputs": [
    {
     "ename": "AttributeError",
     "evalue": "module 'opencadd' has no attribute '_http_request'",
     "output_type": "error",
     "traceback": [
      "\u001B[0;31m---------------------------------------------------------------------------\u001B[0m",
      "\u001B[0;31mAttributeError\u001B[0m                            Traceback (most recent call last)",
      "Cell \u001B[0;32mIn [10], line 1\u001B[0m\n\u001B[0;32m----> 1\u001B[0m \u001B[43moc\u001B[49m\u001B[38;5;241;43m.\u001B[39;49m\u001B[43m_http_request\u001B[49m\n",
      "\u001B[0;31mAttributeError\u001B[0m: module 'opencadd' has no attribute '_http_request'"
     ]
    }
   ],
   "source": [
    "oc._http_request"
   ]
  },
  {
   "cell_type": "code",
   "execution_count": 11,
   "id": "ea75f21c-ee71-4881-8f95-46c542597fe7",
   "metadata": {},
   "outputs": [],
   "source": [
    "import opencadd"
   ]
  },
  {
   "cell_type": "code",
   "execution_count": 12,
   "id": "674c213a-4827-4a88-b067-d60be38a1db5",
   "metadata": {},
   "outputs": [
    {
     "ename": "AttributeError",
     "evalue": "module 'opencadd' has no attribute '_typing'",
     "output_type": "error",
     "traceback": [
      "\u001B[0;31m---------------------------------------------------------------------------\u001B[0m",
      "\u001B[0;31mAttributeError\u001B[0m                            Traceback (most recent call last)",
      "Cell \u001B[0;32mIn [12], line 1\u001B[0m\n\u001B[0;32m----> 1\u001B[0m \u001B[43mopencadd\u001B[49m\u001B[38;5;241;43m.\u001B[39;49m\u001B[43m_typing\u001B[49m\n",
      "\u001B[0;31mAttributeError\u001B[0m: module 'opencadd' has no attribute '_typing'"
     ]
    }
   ],
   "source": [
    "opencadd._typing"
   ]
  },
  {
   "cell_type": "code",
   "execution_count": 13,
   "id": "5d9b5d15-e84f-4934-a0aa-88e586214be4",
   "metadata": {},
   "outputs": [],
   "source": [
    "from opencadd.data import pdb"
   ]
  },
  {
   "cell_type": "code",
   "execution_count": 14,
   "id": "a92c693e-23ff-4cf7-a976-6f03b52f6ca6",
   "metadata": {},
   "outputs": [],
   "source": [
    "a=pdb.data.schema(\"chem_comp\")"
   ]
  },
  {
   "cell_type": "code",
   "execution_count": 16,
   "id": "fbafa561-4c91-44e2-af2a-61333fe3b4da",
   "metadata": {},
   "outputs": [
    {
     "data": {
      "text/plain": [
       "dict_keys(['type', 'properties', 'additionalProperties', 'required', '$schema', 'title', 'description', '$comment'])"
      ]
     },
     "execution_count": 16,
     "metadata": {},
     "output_type": "execute_result"
    }
   ],
   "source": [
    "a.keys()"
   ]
  },
  {
   "cell_type": "code",
   "execution_count": 17,
   "id": "8fea3bec-0326-475e-a609-0d3e4067f40a",
   "metadata": {},
   "outputs": [
    {
     "data": {
      "text/plain": [
       "'object'"
      ]
     },
     "execution_count": 17,
     "metadata": {},
     "output_type": "execute_result"
    }
   ],
   "source": [
    "a[\"type\"]"
   ]
  },
  {
   "cell_type": "code",
   "execution_count": 18,
   "id": "30182daa-612f-4d1d-a9f1-52fe4e4c5a9c",
   "metadata": {},
   "outputs": [
    {
     "data": {
      "text/plain": [
       "'schema: bird_chem_comp_core collection: bird_chem_comp_core version: 7.1.2'"
      ]
     },
     "execution_count": 18,
     "metadata": {},
     "output_type": "execute_result"
    }
   ],
   "source": [
    "a[\"title\"]"
   ]
  },
  {
   "cell_type": "code",
   "execution_count": 20,
   "id": "57c0007b-9a9f-49f8-a5f2-e6f831570c2c",
   "metadata": {},
   "outputs": [
    {
     "data": {
      "text/plain": [
       "dict_keys(['chem_comp', 'pdbx_chem_comp_audit', 'pdbx_chem_comp_descriptor', 'pdbx_chem_comp_feature', 'pdbx_chem_comp_identifier', 'pdbx_family_prd_audit', 'pdbx_prd_audit', 'pdbx_reference_entity_list', 'pdbx_reference_entity_poly', 'pdbx_reference_entity_poly_link', 'pdbx_reference_entity_poly_seq', 'pdbx_reference_entity_sequence', 'pdbx_reference_entity_src_nat', 'pdbx_reference_molecule', 'pdbx_reference_molecule_annotation', 'pdbx_reference_molecule_details', 'pdbx_reference_molecule_family', 'pdbx_reference_molecule_features', 'pdbx_reference_molecule_list', 'pdbx_reference_molecule_related_structures', 'pdbx_reference_molecule_synonyms', 'rcsb_bird_citation', 'rcsb_chem_comp_annotation', 'rcsb_chem_comp_container_identifiers', 'rcsb_chem_comp_descriptor', 'rcsb_chem_comp_info', 'rcsb_chem_comp_related', 'rcsb_chem_comp_synonyms', 'rcsb_chem_comp_target', 'rcsb_schema_container_identifiers', 'rcsb_id'])"
      ]
     },
     "execution_count": 20,
     "metadata": {},
     "output_type": "execute_result"
    }
   ],
   "source": [
    "a[\"properties\"].keys()"
   ]
  },
  {
   "cell_type": "code",
   "execution_count": 24,
   "id": "07fffd5c-a696-403b-bd78-ac215631a193",
   "metadata": {},
   "outputs": [
    {
     "data": {
      "text/plain": [
       "dict_keys(['formula', 'formula_weight', 'id', 'mon_nstd_parent_comp_id', 'name', 'one_letter_code', 'pdbx_ambiguous_flag', 'pdbx_formal_charge', 'pdbx_initial_date', 'pdbx_modified_date', 'pdbx_processing_site', 'pdbx_release_status', 'pdbx_replaced_by', 'pdbx_replaces', 'pdbx_subcomponent_list', 'three_letter_code', 'type'])"
      ]
     },
     "execution_count": 24,
     "metadata": {},
     "output_type": "execute_result"
    }
   ],
   "source": [
    "a[\"properties\"][\"chem_comp\"][\"properties\"].keys()"
   ]
  },
  {
   "cell_type": "code",
   "execution_count": 25,
   "id": "9280042d-cd75-46a1-a4fa-bbad2f2f9357",
   "metadata": {},
   "outputs": [],
   "source": [
    "def recursive_items(dictionary):\n",
    "    for key, value in dictionary.items():\n",
    "        if type(value) is dict:\n",
    "            yield from recursive_items(value)\n",
    "        else:\n",
    "            yield (key, value)\n"
   ]
  },
  {
   "cell_type": "code",
   "execution_count": 26,
   "id": "1cfc7f38-5676-449b-9d4b-9d47116661f9",
   "metadata": {},
   "outputs": [
    {
     "name": "stdout",
     "output_type": "stream",
     "text": [
      "type\n",
      "type\n",
      "type\n",
      "examples\n",
      "description\n",
      "rcsb_description\n",
      "type\n",
      "examples\n",
      "description\n",
      "rcsb_search_context\n",
      "rcsb_units\n",
      "rcsb_description\n",
      "rcsb_search_group\n",
      "type\n",
      "examples\n",
      "description\n",
      "rcsb_description\n",
      "type\n",
      "type\n",
      "description\n",
      "rcsb_description\n",
      "uniqueItems\n",
      "type\n",
      "examples\n",
      "description\n",
      "rcsb_search_context\n",
      "rcsb_full_text_priority\n",
      "rcsb_description\n",
      "rcsb_search_group\n",
      "type\n",
      "examples\n",
      "description\n",
      "rcsb_description\n",
      "type\n",
      "description\n",
      "rcsb_description\n",
      "type\n",
      "description\n",
      "rcsb_description\n",
      "type\n",
      "format\n",
      "description\n",
      "rcsb_description\n",
      "type\n",
      "format\n",
      "description\n",
      "rcsb_description\n",
      "type\n",
      "enum\n",
      "description\n",
      "rcsb_description\n",
      "type\n",
      "enum\n",
      "description\n",
      "rcsb_enum_annotated\n",
      "rcsb_description\n",
      "type\n",
      "examples\n",
      "description\n",
      "rcsb_description\n",
      "type\n",
      "examples\n",
      "description\n",
      "rcsb_description\n",
      "type\n",
      "examples\n",
      "description\n",
      "rcsb_description\n",
      "type\n",
      "examples\n",
      "description\n",
      "rcsb_description\n",
      "type\n",
      "enum\n",
      "description\n",
      "rcsb_search_context\n",
      "rcsb_full_text_priority\n",
      "rcsb_enum_annotated\n",
      "rcsb_description\n",
      "rcsb_search_group\n",
      "additionalProperties\n",
      "required\n",
      "type\n",
      "type\n",
      "type\n",
      "enum\n",
      "description\n",
      "rcsb_description\n",
      "type\n",
      "description\n",
      "rcsb_description\n",
      "type\n",
      "format\n",
      "description\n",
      "rcsb_description\n",
      "type\n",
      "examples\n",
      "description\n",
      "rcsb_description\n",
      "type\n",
      "description\n",
      "rcsb_description\n",
      "additionalProperties\n",
      "required\n",
      "minItems\n",
      "uniqueItems\n",
      "type\n",
      "type\n",
      "type\n",
      "description\n",
      "rcsb_description\n",
      "type\n",
      "description\n",
      "rcsb_description\n",
      "type\n",
      "examples\n",
      "description\n",
      "rcsb_description\n",
      "type\n",
      "description\n",
      "rcsb_description\n",
      "type\n",
      "enum\n",
      "description\n",
      "rcsb_enum_annotated\n",
      "rcsb_description\n",
      "additionalProperties\n",
      "required\n",
      "minItems\n",
      "uniqueItems\n",
      "type\n",
      "type\n",
      "type\n",
      "examples\n",
      "description\n",
      "rcsb_description\n",
      "type\n",
      "examples\n",
      "description\n",
      "rcsb_description\n",
      "type\n",
      "enum\n",
      "examples\n",
      "description\n",
      "rcsb_description\n",
      "type\n",
      "description\n",
      "rcsb_description\n",
      "additionalProperties\n",
      "required\n",
      "minItems\n",
      "uniqueItems\n",
      "type\n",
      "type\n",
      "type\n",
      "description\n",
      "rcsb_description\n",
      "type\n",
      "description\n",
      "rcsb_description\n",
      "type\n",
      "examples\n",
      "description\n",
      "rcsb_description\n",
      "type\n",
      "description\n",
      "rcsb_description\n",
      "type\n",
      "enum\n",
      "description\n",
      "rcsb_enum_annotated\n",
      "rcsb_description\n",
      "additionalProperties\n",
      "required\n",
      "minItems\n",
      "uniqueItems\n",
      "type\n",
      "type\n",
      "type\n",
      "enum\n",
      "description\n",
      "rcsb_description\n",
      "type\n",
      "examples\n",
      "description\n",
      "rcsb_description\n",
      "type\n",
      "format\n",
      "description\n",
      "rcsb_description\n",
      "type\n",
      "examples\n",
      "description\n",
      "rcsb_description\n",
      "type\n",
      "description\n",
      "rcsb_description\n",
      "type\n",
      "examples\n",
      "description\n",
      "rcsb_description\n",
      "additionalProperties\n",
      "required\n",
      "minItems\n",
      "uniqueItems\n",
      "type\n",
      "type\n",
      "type\n",
      "enum\n",
      "description\n",
      "rcsb_description\n",
      "type\n",
      "examples\n",
      "description\n",
      "rcsb_description\n",
      "type\n",
      "format\n",
      "description\n",
      "rcsb_description\n",
      "type\n",
      "examples\n",
      "description\n",
      "rcsb_description\n",
      "type\n",
      "description\n",
      "rcsb_description\n",
      "type\n",
      "enum\n",
      "examples\n",
      "description\n",
      "rcsb_description\n",
      "additionalProperties\n",
      "required\n",
      "minItems\n",
      "uniqueItems\n",
      "type\n",
      "type\n",
      "type\n",
      "description\n",
      "rcsb_description\n",
      "type\n",
      "description\n",
      "rcsb_description\n",
      "type\n",
      "description\n",
      "rcsb_description\n",
      "type\n",
      "description\n",
      "rcsb_description\n",
      "type\n",
      "enum\n",
      "examples\n",
      "description\n",
      "rcsb_description\n",
      "additionalProperties\n",
      "required\n",
      "minItems\n",
      "uniqueItems\n",
      "type\n",
      "type\n",
      "type\n",
      "description\n",
      "rcsb_description\n",
      "type\n",
      "description\n",
      "rcsb_description\n",
      "type\n",
      "description\n",
      "rcsb_description\n",
      "type\n",
      "description\n",
      "rcsb_description\n",
      "type\n",
      "enum\n",
      "examples\n",
      "description\n",
      "rcsb_enum_annotated\n",
      "rcsb_description\n",
      "additionalProperties\n",
      "required\n",
      "minItems\n",
      "uniqueItems\n",
      "type\n",
      "type\n",
      "type\n",
      "description\n",
      "rcsb_description\n",
      "type\n",
      "description\n",
      "rcsb_description\n",
      "type\n",
      "description\n",
      "rcsb_description\n",
      "type\n",
      "description\n",
      "rcsb_description\n",
      "type\n",
      "description\n",
      "rcsb_description\n",
      "type\n",
      "description\n",
      "rcsb_description\n",
      "type\n",
      "description\n",
      "rcsb_description\n",
      "type\n",
      "description\n",
      "rcsb_description\n",
      "type\n",
      "description\n",
      "rcsb_description\n",
      "type\n",
      "description\n",
      "rcsb_description\n",
      "type\n",
      "enum\n",
      "description\n",
      "rcsb_enum_annotated\n",
      "rcsb_description\n",
      "additionalProperties\n",
      "required\n",
      "minItems\n",
      "uniqueItems\n",
      "type\n",
      "type\n",
      "type\n",
      "enum\n",
      "examples\n",
      "description\n",
      "rcsb_enum_annotated\n",
      "rcsb_description\n",
      "type\n",
      "description\n",
      "rcsb_description\n",
      "type\n",
      "description\n",
      "rcsb_description\n",
      "type\n",
      "enum\n",
      "examples\n",
      "description\n",
      "rcsb_enum_annotated\n",
      "rcsb_description\n",
      "type\n",
      "description\n",
      "rcsb_description\n",
      "type\n",
      "description\n",
      "rcsb_description\n",
      "type\n",
      "description\n",
      "rcsb_description\n",
      "additionalProperties\n",
      "required\n",
      "minItems\n",
      "uniqueItems\n",
      "type\n",
      "type\n",
      "type\n",
      "enum\n",
      "examples\n",
      "description\n",
      "rcsb_enum_annotated\n",
      "rcsb_description\n",
      "type\n",
      "description\n",
      "rcsb_description\n",
      "type\n",
      "description\n",
      "rcsb_description\n",
      "type\n",
      "description\n",
      "rcsb_description\n",
      "type\n",
      "enum\n",
      "examples\n",
      "description\n",
      "rcsb_description\n",
      "additionalProperties\n",
      "required\n",
      "minItems\n",
      "uniqueItems\n",
      "type\n",
      "type\n",
      "type\n",
      "description\n",
      "rcsb_description\n",
      "type\n",
      "description\n",
      "rcsb_description\n",
      "type\n",
      "description\n",
      "rcsb_description\n",
      "type\n",
      "description\n",
      "rcsb_description\n",
      "type\n",
      "examples\n",
      "description\n",
      "rcsb_description\n",
      "type\n",
      "description\n",
      "rcsb_description\n",
      "type\n",
      "description\n",
      "rcsb_description\n",
      "type\n",
      "description\n",
      "rcsb_description\n",
      "type\n",
      "description\n",
      "rcsb_description\n",
      "type\n",
      "description\n",
      "rcsb_description\n",
      "additionalProperties\n",
      "required\n",
      "minItems\n",
      "uniqueItems\n",
      "type\n",
      "type\n",
      "examples\n",
      "description\n",
      "rcsb_description\n",
      "type\n",
      "enum\n",
      "description\n",
      "rcsb_search_context\n",
      "rcsb_full_text_priority\n",
      "rcsb_description\n",
      "rcsb_search_group\n",
      "type\n",
      "description\n",
      "rcsb_description\n",
      "type\n",
      "description\n",
      "rcsb_description\n",
      "type\n",
      "description\n",
      "rcsb_search_context\n",
      "rcsb_full_text_priority\n",
      "rcsb_description\n",
      "type\n",
      "examples\n",
      "description\n",
      "rcsb_description\n",
      "type\n",
      "description\n",
      "rcsb_description\n",
      "type\n",
      "examples\n",
      "description\n",
      "rcsb_search_context\n",
      "rcsb_full_text_priority\n",
      "rcsb_description\n",
      "rcsb_search_group\n",
      "type\n",
      "examples\n",
      "description\n",
      "rcsb_search_context\n",
      "rcsb_full_text_priority\n",
      "rcsb_description\n",
      "rcsb_search_group\n",
      "type\n",
      "enum\n",
      "description\n",
      "rcsb_description\n",
      "type\n",
      "description\n",
      "rcsb_description\n",
      "type\n",
      "description\n",
      "rcsb_description\n",
      "type\n",
      "enum\n",
      "description\n",
      "rcsb_description\n",
      "type\n",
      "description\n",
      "rcsb_description\n",
      "type\n",
      "enum\n",
      "examples\n",
      "description\n",
      "rcsb_search_context\n",
      "rcsb_full_text_priority\n",
      "rcsb_description\n",
      "rcsb_search_group\n",
      "type\n",
      "description\n",
      "rcsb_description\n",
      "additionalProperties\n",
      "required\n",
      "type\n",
      "type\n",
      "type\n",
      "description\n",
      "rcsb_description\n",
      "type\n",
      "description\n",
      "rcsb_description\n",
      "type\n",
      "description\n",
      "rcsb_description\n",
      "type\n",
      "examples\n",
      "description\n",
      "rcsb_description\n",
      "type\n",
      "examples\n",
      "description\n",
      "rcsb_description\n",
      "type\n",
      "examples\n",
      "description\n",
      "rcsb_description\n",
      "additionalProperties\n",
      "required\n",
      "minItems\n",
      "uniqueItems\n",
      "type\n",
      "type\n",
      "type\n",
      "description\n",
      "rcsb_description\n",
      "type\n",
      "description\n",
      "rcsb_description\n",
      "type\n",
      "description\n",
      "rcsb_description\n",
      "type\n",
      "description\n",
      "rcsb_description\n",
      "type\n",
      "description\n",
      "rcsb_description\n",
      "additionalProperties\n",
      "required\n",
      "minItems\n",
      "uniqueItems\n",
      "type\n",
      "type\n",
      "description\n",
      "rcsb_description\n",
      "type\n",
      "examples\n",
      "description\n",
      "rcsb_search_context\n",
      "rcsb_full_text_priority\n",
      "rcsb_description\n",
      "type\n",
      "enum\n",
      "description\n",
      "rcsb_description\n",
      "type\n",
      "description\n",
      "rcsb_description\n",
      "type\n",
      "description\n",
      "rcsb_description\n",
      "additionalProperties\n",
      "required\n",
      "type\n",
      "type\n",
      "type\n",
      "description\n",
      "rcsb_description\n",
      "type\n",
      "description\n",
      "rcsb_description\n",
      "type\n",
      "description\n",
      "rcsb_description\n",
      "type\n",
      "examples\n",
      "description\n",
      "rcsb_description\n",
      "type\n",
      "description\n",
      "rcsb_description\n",
      "type\n",
      "examples\n",
      "description\n",
      "rcsb_description\n",
      "type\n",
      "description\n",
      "rcsb_description\n",
      "additionalProperties\n",
      "required\n",
      "minItems\n",
      "uniqueItems\n",
      "type\n",
      "type\n",
      "type\n",
      "description\n",
      "rcsb_description\n",
      "type\n",
      "description\n",
      "rcsb_description\n",
      "additionalProperties\n",
      "required\n",
      "minItems\n",
      "uniqueItems\n",
      "type\n",
      "type\n",
      "type\n",
      "description\n",
      "rcsb_description\n",
      "type\n",
      "examples\n",
      "description\n",
      "rcsb_description\n",
      "type\n",
      "examples\n",
      "description\n",
      "rcsb_search_context\n",
      "rcsb_full_text_priority\n",
      "rcsb_description\n",
      "type\n",
      "examples\n",
      "description\n",
      "rcsb_description\n",
      "type\n",
      "description\n",
      "rcsb_description\n",
      "type\n",
      "examples\n",
      "description\n",
      "rcsb_description\n",
      "type\n",
      "examples\n",
      "description\n",
      "rcsb_description\n",
      "type\n",
      "description\n",
      "rcsb_description\n",
      "additionalProperties\n",
      "required\n",
      "minItems\n",
      "uniqueItems\n",
      "type\n",
      "type\n",
      "type\n",
      "description\n",
      "rcsb_description\n",
      "type\n",
      "examples\n",
      "description\n",
      "rcsb_search_context\n",
      "rcsb_full_text_priority\n",
      "rcsb_description\n",
      "type\n",
      "description\n",
      "rcsb_description\n",
      "type\n",
      "description\n",
      "rcsb_description\n",
      "type\n",
      "examples\n",
      "description\n",
      "rcsb_description\n",
      "additionalProperties\n",
      "required\n",
      "minItems\n",
      "uniqueItems\n",
      "type\n",
      "type\n",
      "type\n",
      "examples\n",
      "description\n",
      "rcsb_description\n",
      "type\n",
      "examples\n",
      "description\n",
      "rcsb_description\n",
      "type\n",
      "examples\n",
      "description\n",
      "rcsb_description\n",
      "type\n",
      "description\n",
      "rcsb_description\n",
      "type\n",
      "description\n",
      "rcsb_description\n",
      "type\n",
      "examples\n",
      "description\n",
      "rcsb_description\n",
      "type\n",
      "description\n",
      "rcsb_description\n",
      "type\n",
      "type\n",
      "examples\n",
      "description\n",
      "rcsb_description\n",
      "uniqueItems\n",
      "type\n",
      "examples\n",
      "description\n",
      "rcsb_description\n",
      "type\n",
      "description\n",
      "rcsb_description\n",
      "additionalProperties\n",
      "required\n",
      "minItems\n",
      "uniqueItems\n",
      "type\n",
      "type\n",
      "type\n",
      "description\n",
      "rcsb_search_context\n",
      "rcsb_full_text_priority\n",
      "rcsb_description\n",
      "type\n",
      "examples\n",
      "description\n",
      "rcsb_description\n",
      "type\n",
      "description\n",
      "rcsb_search_context\n",
      "rcsb_full_text_priority\n",
      "rcsb_description\n",
      "type\n",
      "description\n",
      "rcsb_search_context\n",
      "rcsb_full_text_priority\n",
      "rcsb_description\n",
      "rcsb_search_group\n",
      "type\n",
      "examples\n",
      "description\n",
      "rcsb_description\n",
      "type\n",
      "enum\n",
      "examples\n",
      "description\n",
      "rcsb_search_context\n",
      "rcsb_full_text_priority\n",
      "rcsb_enum_annotated\n",
      "rcsb_description\n",
      "type\n",
      "type\n",
      "type\n",
      "description\n",
      "rcsb_search_context\n",
      "rcsb_description\n",
      "type\n",
      "description\n",
      "rcsb_search_context\n",
      "rcsb_full_text_priority\n",
      "rcsb_description\n",
      "rcsb_search_group\n",
      "type\n",
      "description\n",
      "rcsb_search_context\n",
      "rcsb_full_text_priority\n",
      "rcsb_description\n",
      "rcsb_search_group\n",
      "additionalProperties\n",
      "uniqueItems\n",
      "additionalProperties\n",
      "minItems\n",
      "uniqueItems\n",
      "rcsb_nested_indexing\n",
      "rcsb_nested_indexing_context\n",
      "type\n",
      "type\n",
      "type\n",
      "examples\n",
      "description\n",
      "rcsb_description\n",
      "uniqueItems\n",
      "type\n",
      "examples\n",
      "description\n",
      "rcsb_search_context\n",
      "rcsb_full_text_priority\n",
      "rcsb_description\n",
      "rcsb_search_group\n",
      "type\n",
      "examples\n",
      "description\n",
      "rcsb_search_context\n",
      "rcsb_full_text_priority\n",
      "rcsb_description\n",
      "type\n",
      "examples\n",
      "description\n",
      "rcsb_search_context\n",
      "rcsb_full_text_priority\n",
      "rcsb_description\n",
      "type\n",
      "examples\n",
      "description\n",
      "rcsb_search_context\n",
      "rcsb_full_text_priority\n",
      "rcsb_description\n",
      "type\n",
      "type\n",
      "description\n",
      "rcsb_description\n",
      "uniqueItems\n",
      "additionalProperties\n",
      "required\n",
      "type\n",
      "type\n",
      "examples\n",
      "description\n",
      "rcsb_description\n",
      "type\n",
      "examples\n",
      "description\n",
      "rcsb_search_context\n",
      "rcsb_full_text_priority\n",
      "rcsb_description\n",
      "rcsb_search_group\n",
      "type\n",
      "examples\n",
      "description\n",
      "rcsb_description\n",
      "type\n",
      "examples\n",
      "description\n",
      "rcsb_description\n",
      "type\n",
      "description\n",
      "rcsb_description\n",
      "additionalProperties\n",
      "required\n",
      "type\n",
      "type\n",
      "description\n",
      "rcsb_description\n",
      "type\n",
      "description\n",
      "rcsb_search_context\n",
      "rcsb_description\n",
      "rcsb_search_group\n",
      "type\n",
      "description\n",
      "rcsb_search_context\n",
      "rcsb_description\n",
      "rcsb_search_group\n",
      "type\n",
      "description\n",
      "rcsb_search_context\n",
      "rcsb_description\n",
      "rcsb_search_group\n",
      "type\n",
      "description\n",
      "rcsb_search_context\n",
      "rcsb_description\n",
      "rcsb_search_group\n",
      "type\n",
      "description\n",
      "rcsb_description\n",
      "type\n",
      "format\n",
      "examples\n",
      "description\n",
      "rcsb_search_context\n",
      "rcsb_description\n",
      "type\n",
      "format\n",
      "examples\n",
      "description\n",
      "rcsb_search_context\n",
      "rcsb_description\n",
      "rcsb_search_group\n",
      "type\n",
      "enum\n",
      "examples\n",
      "description\n",
      "rcsb_enum_annotated\n",
      "rcsb_description\n",
      "type\n",
      "format\n",
      "examples\n",
      "description\n",
      "rcsb_description\n",
      "additionalProperties\n",
      "required\n",
      "type\n",
      "type\n",
      "type\n",
      "description\n",
      "rcsb_description\n",
      "type\n",
      "description\n",
      "rcsb_description\n",
      "type\n",
      "enum\n",
      "examples\n",
      "description\n",
      "rcsb_enum_annotated\n",
      "rcsb_description\n",
      "type\n",
      "examples\n",
      "description\n",
      "rcsb_search_context\n",
      "rcsb_full_text_priority\n",
      "rcsb_description\n",
      "rcsb_search_group\n",
      "type\n",
      "enum\n",
      "examples\n",
      "description\n",
      "rcsb_search_context\n",
      "rcsb_full_text_priority\n",
      "rcsb_enum_annotated\n",
      "rcsb_description\n",
      "additionalProperties\n",
      "required\n",
      "minItems\n",
      "uniqueItems\n",
      "rcsb_nested_indexing\n",
      "rcsb_nested_indexing_context\n",
      "type\n",
      "type\n",
      "type\n",
      "description\n",
      "rcsb_description\n",
      "type\n",
      "examples\n",
      "description\n",
      "rcsb_search_context\n",
      "rcsb_full_text_priority\n",
      "rcsb_description\n",
      "rcsb_search_group\n",
      "type\n",
      "description\n",
      "rcsb_description\n",
      "type\n",
      "enum\n",
      "description\n",
      "rcsb_search_context\n",
      "rcsb_full_text_priority\n",
      "rcsb_description\n",
      "type\n",
      "enum\n",
      "description\n",
      "rcsb_search_context\n",
      "rcsb_full_text_priority\n",
      "rcsb_enum_annotated\n",
      "rcsb_description\n",
      "additionalProperties\n",
      "required\n",
      "minItems\n",
      "uniqueItems\n",
      "type\n",
      "type\n",
      "type\n",
      "description\n",
      "rcsb_description\n",
      "type\n",
      "description\n",
      "rcsb_description\n",
      "type\n",
      "description\n",
      "rcsb_search_context\n",
      "rcsb_full_text_priority\n",
      "rcsb_description\n",
      "rcsb_search_group\n",
      "type\n",
      "description\n",
      "rcsb_description\n",
      "type\n",
      "enum\n",
      "description\n",
      "rcsb_description\n",
      "type\n",
      "examples\n",
      "description\n",
      "rcsb_description\n",
      "type\n",
      "enum\n",
      "examples\n",
      "description\n",
      "rcsb_description\n",
      "type\n",
      "type\n",
      "description\n",
      "rcsb_description\n",
      "uniqueItems\n",
      "additionalProperties\n",
      "required\n",
      "minItems\n",
      "uniqueItems\n",
      "type\n",
      "type\n",
      "type\n",
      "description\n",
      "rcsb_description\n",
      "type\n",
      "description\n",
      "rcsb_description\n",
      "type\n",
      "description\n",
      "rcsb_description\n",
      "additionalProperties\n",
      "required\n",
      "minItems\n",
      "uniqueItems\n",
      "type\n",
      "examples\n",
      "description\n",
      "rcsb_search_context\n",
      "rcsb_full_text_priority\n",
      "rcsb_description\n",
      "additionalProperties\n",
      "required\n",
      "$schema\n",
      "title\n",
      "description\n",
      "$comment\n"
     ]
    }
   ],
   "source": [
    "for key, _ in recursive_items(a):\n",
    "    print(key)"
   ]
  },
  {
   "cell_type": "code",
   "execution_count": null,
   "id": "b59a40f3-a771-4776-b854-c822e72eb051",
   "metadata": {},
   "outputs": [],
   "source": []
  }
 ],
 "metadata": {
  "kernelspec": {
   "display_name": "Python 3 (ipykernel)",
   "language": "python",
   "name": "python3"
  },
  "language_info": {
   "codemirror_mode": {
    "name": "ipython",
    "version": 3
   },
   "file_extension": ".py",
   "mimetype": "text/x-python",
   "name": "python",
   "nbconvert_exporter": "python",
   "pygments_lexer": "ipython3",
   "version": "3.10.8"
  }
 },
 "nbformat": 4,
 "nbformat_minor": 5
}
