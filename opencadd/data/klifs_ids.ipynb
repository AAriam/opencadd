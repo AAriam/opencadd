{
 "cells": [
  {
   "cell_type": "markdown",
   "metadata": {},
   "source": [
    "# Local copy of KLIFS IDs\n",
    "\n",
    "In the `local` module of `opencadd.databases.klifs`, we load KLIFS metadata from two KLIFS download files, i.e. `overview.csv` and `KLIFS_export.csv`, to create one KLIFS metadata table (which is standardized across the `local` and `remote` module).\n",
    "\n",
    "These KLIFS download files do not contain KLIFS kinase, ligand and structure IDs. In order to make results from the `local` and `remote` module easily comparable, we add these KLIFS IDs to the local KLIFS metadata table upon local session initialization (`local.SessionInitialization`). \n",
    "\n",
    "Therefore, we need to find for each locally available structure (max. about 11,000 structures) its associated kinase, ligand and structure ID. \n",
    "Since we do not want to query the KLIFS webserver with each of theses structures every time we initialize a local session, we fetch here a local copy of KLIFS IDs."
   ]
  },
  {
   "cell_type": "code",
   "execution_count": 1,
   "metadata": {},
   "outputs": [],
   "source": [
    "from opencadd.databases.klifs.api import setup_remote"
   ]
  },
  {
   "cell_type": "code",
   "execution_count": 2,
   "metadata": {},
   "outputs": [
    {
     "name": "stderr",
     "output_type": "stream",
     "text": [
      "INFO:opencadd.databases.klifs.api:Set up remote session...\n",
      "INFO:opencadd.databases.klifs.api:Remote session is ready!\n"
     ]
    }
   ],
   "source": [
    "# Work with remote KLIFS data\n",
    "remote = setup_remote()"
   ]
  },
  {
   "cell_type": "markdown",
   "metadata": {},
   "source": [
    "## Get kinase and structure IDs"
   ]
  },
  {
   "cell_type": "code",
   "execution_count": 3,
   "metadata": {},
   "outputs": [
    {
     "name": "stdout",
     "output_type": "stream",
     "text": [
      "(11377, 7)\n"
     ]
    },
    {
     "data": {
      "text/html": [
       "<div>\n",
       "<style scoped>\n",
       "    .dataframe tbody tr th:only-of-type {\n",
       "        vertical-align: middle;\n",
       "    }\n",
       "\n",
       "    .dataframe tbody tr th {\n",
       "        vertical-align: top;\n",
       "    }\n",
       "\n",
       "    .dataframe thead th {\n",
       "        text-align: right;\n",
       "    }\n",
       "</style>\n",
       "<table border=\"1\" class=\"dataframe\">\n",
       "  <thead>\n",
       "    <tr style=\"text-align: right;\">\n",
       "      <th></th>\n",
       "      <th>structure.id</th>\n",
       "      <th>structure.pdb</th>\n",
       "      <th>structure.alternate_model</th>\n",
       "      <th>structure.chain</th>\n",
       "      <th>kinase.name</th>\n",
       "      <th>kinase.id</th>\n",
       "      <th>ligand.pdb</th>\n",
       "    </tr>\n",
       "  </thead>\n",
       "  <tbody>\n",
       "    <tr>\n",
       "      <th>7513</th>\n",
       "      <td>1</td>\n",
       "      <td>3dko</td>\n",
       "      <td>A</td>\n",
       "      <td>A</td>\n",
       "      <td>EphA7</td>\n",
       "      <td>415</td>\n",
       "      <td>IHZ</td>\n",
       "    </tr>\n",
       "    <tr>\n",
       "      <th>7512</th>\n",
       "      <td>2</td>\n",
       "      <td>2rei</td>\n",
       "      <td>B</td>\n",
       "      <td>A</td>\n",
       "      <td>EphA7</td>\n",
       "      <td>415</td>\n",
       "      <td>-</td>\n",
       "    </tr>\n",
       "    <tr>\n",
       "      <th>7514</th>\n",
       "      <td>3</td>\n",
       "      <td>3dko</td>\n",
       "      <td>B</td>\n",
       "      <td>A</td>\n",
       "      <td>EphA7</td>\n",
       "      <td>415</td>\n",
       "      <td>IHZ</td>\n",
       "    </tr>\n",
       "    <tr>\n",
       "      <th>7515</th>\n",
       "      <td>4</td>\n",
       "      <td>2rei</td>\n",
       "      <td>A</td>\n",
       "      <td>A</td>\n",
       "      <td>EphA7</td>\n",
       "      <td>415</td>\n",
       "      <td>-</td>\n",
       "    </tr>\n",
       "    <tr>\n",
       "      <th>9343</th>\n",
       "      <td>5</td>\n",
       "      <td>3v8t</td>\n",
       "      <td>B</td>\n",
       "      <td>A</td>\n",
       "      <td>ITK</td>\n",
       "      <td>474</td>\n",
       "      <td>477</td>\n",
       "    </tr>\n",
       "  </tbody>\n",
       "</table>\n",
       "</div>"
      ],
      "text/plain": [
       "      structure.id structure.pdb structure.alternate_model structure.chain  \\\n",
       "7513             1          3dko                         A               A   \n",
       "7512             2          2rei                         B               A   \n",
       "7514             3          3dko                         B               A   \n",
       "7515             4          2rei                         A               A   \n",
       "9343             5          3v8t                         B               A   \n",
       "\n",
       "     kinase.name  kinase.id ligand.pdb  \n",
       "7513       EphA7        415        IHZ  \n",
       "7512       EphA7        415          -  \n",
       "7514       EphA7        415        IHZ  \n",
       "7515       EphA7        415          -  \n",
       "9343         ITK        474        477  "
      ]
     },
     "execution_count": 3,
     "metadata": {},
     "output_type": "execute_result"
    }
   ],
   "source": [
    "# Fetch all structures (keep only ID related columns)\n",
    "structures_all = remote.structures.all_structures()\n",
    "structures_all = structures_all[[\"structure.id\", \"structure.pdb\", \"structure.alternate_model\", \"structure.chain\", \"kinase.name\", \"kinase.id\", \"ligand.pdb\"]]\n",
    "# Sort by structures ID\n",
    "structures_all.sort_values(\"structure.id\", inplace=True)\n",
    "# Show data\n",
    "print(structures_all.shape)\n",
    "structures_all.head()"
   ]
  },
  {
   "cell_type": "code",
   "execution_count": 4,
   "metadata": {},
   "outputs": [
    {
     "name": "stdout",
     "output_type": "stream",
     "text": [
      "Sanity check: Are there multiple KLIFS structure IDs for one KLIFS structure?\n",
      "All good!\n"
     ]
    }
   ],
   "source": [
    "print(\"Sanity check: Are there multiple KLIFS structure IDs for one KLIFS structure?\")\n",
    "sizes = structures_all.groupby([\"structure.pdb\", \"structure.alternate_model\", \"structure.chain\"]).size()\n",
    "if len(sizes[sizes > 1]) > 0:\n",
    "    print(sizes[sizes > 1])\n",
    "else:\n",
    "    print(\"All good!\")"
   ]
  },
  {
   "cell_type": "code",
   "execution_count": 5,
   "metadata": {},
   "outputs": [],
   "source": [
    "# Save local copy of KLIFS IDs\n",
    "structures_all.to_csv(\"klifs_ids.csv\", index=None)"
   ]
  },
  {
   "cell_type": "markdown",
   "metadata": {},
   "source": [
    "## Get ligand IDs?"
   ]
  },
  {
   "cell_type": "code",
   "execution_count": 6,
   "metadata": {},
   "outputs": [],
   "source": [
    "ligands_all = remote.ligands.all_ligands()"
   ]
  },
  {
   "cell_type": "code",
   "execution_count": 7,
   "metadata": {},
   "outputs": [
    {
     "name": "stdout",
     "output_type": "stream",
     "text": [
      "Sanity check: Are there multiple KLIFS ligands IDs for one ligand PDB?\n",
      "      ligand.id ligand.pdb\n",
      "2713       3015        6VL\n",
      "2759       3065        6VL\n",
      "64           65        7KC\n",
      "2881       2967        7KC\n",
      "These PDB IDs need to be check manually!\n"
     ]
    }
   ],
   "source": [
    "print(\"Sanity check: Are there multiple KLIFS ligands IDs for one ligand PDB?\")\n",
    "sizes = ligands_all.groupby([\"ligand.pdb\"]).size()\n",
    "if len(sizes[sizes > 1]) > 0:\n",
    "    print(ligands_all[ligands_all[\"ligand.pdb\"].isin(sizes[sizes > 1].index)][[\"ligand.id\", \"ligand.pdb\"]].sort_values(\"ligand.pdb\"))\n",
    "    print(\"These PDB IDs need to be check manually!\")\n",
    "else: \n",
    "    print(\"All good!\")"
   ]
  },
  {
   "cell_type": "code",
   "execution_count": 8,
   "metadata": {},
   "outputs": [
    {
     "data": {
      "text/html": [
       "<div>\n",
       "<style scoped>\n",
       "    .dataframe tbody tr th:only-of-type {\n",
       "        vertical-align: middle;\n",
       "    }\n",
       "\n",
       "    .dataframe tbody tr th {\n",
       "        vertical-align: top;\n",
       "    }\n",
       "\n",
       "    .dataframe thead th {\n",
       "        text-align: right;\n",
       "    }\n",
       "</style>\n",
       "<table border=\"1\" class=\"dataframe\">\n",
       "  <thead>\n",
       "    <tr style=\"text-align: right;\">\n",
       "      <th></th>\n",
       "      <th>structure.id</th>\n",
       "      <th>structure.pdb</th>\n",
       "      <th>structure.alternate_model</th>\n",
       "      <th>structure.chain</th>\n",
       "      <th>kinase.name</th>\n",
       "      <th>kinase.id</th>\n",
       "      <th>ligand.pdb</th>\n",
       "    </tr>\n",
       "  </thead>\n",
       "  <tbody>\n",
       "    <tr>\n",
       "      <th>4280</th>\n",
       "      <td>9564</td>\n",
       "      <td>5t31</td>\n",
       "      <td>-</td>\n",
       "      <td>B</td>\n",
       "      <td>GSK3B</td>\n",
       "      <td>238</td>\n",
       "      <td>6VL</td>\n",
       "    </tr>\n",
       "    <tr>\n",
       "      <th>4282</th>\n",
       "      <td>9565</td>\n",
       "      <td>5t31</td>\n",
       "      <td>-</td>\n",
       "      <td>A</td>\n",
       "      <td>GSK3B</td>\n",
       "      <td>238</td>\n",
       "      <td>6VL</td>\n",
       "    </tr>\n",
       "    <tr>\n",
       "      <th>4167</th>\n",
       "      <td>9728</td>\n",
       "      <td>5kpl</td>\n",
       "      <td>A</td>\n",
       "      <td>B</td>\n",
       "      <td>GSK3B</td>\n",
       "      <td>238</td>\n",
       "      <td>6VL</td>\n",
       "    </tr>\n",
       "    <tr>\n",
       "      <th>4168</th>\n",
       "      <td>9729</td>\n",
       "      <td>5kpl</td>\n",
       "      <td>A</td>\n",
       "      <td>A</td>\n",
       "      <td>GSK3B</td>\n",
       "      <td>238</td>\n",
       "      <td>6VL</td>\n",
       "    </tr>\n",
       "    <tr>\n",
       "      <th>4171</th>\n",
       "      <td>9730</td>\n",
       "      <td>5kpl</td>\n",
       "      <td>B</td>\n",
       "      <td>A</td>\n",
       "      <td>GSK3B</td>\n",
       "      <td>238</td>\n",
       "      <td>6VL</td>\n",
       "    </tr>\n",
       "    <tr>\n",
       "      <th>4209</th>\n",
       "      <td>9733</td>\n",
       "      <td>5kpl</td>\n",
       "      <td>B</td>\n",
       "      <td>B</td>\n",
       "      <td>GSK3B</td>\n",
       "      <td>238</td>\n",
       "      <td>6VL</td>\n",
       "    </tr>\n",
       "  </tbody>\n",
       "</table>\n",
       "</div>"
      ],
      "text/plain": [
       "      structure.id structure.pdb structure.alternate_model structure.chain  \\\n",
       "4280          9564          5t31                         -               B   \n",
       "4282          9565          5t31                         -               A   \n",
       "4167          9728          5kpl                         A               B   \n",
       "4168          9729          5kpl                         A               A   \n",
       "4171          9730          5kpl                         B               A   \n",
       "4209          9733          5kpl                         B               B   \n",
       "\n",
       "     kinase.name  kinase.id ligand.pdb  \n",
       "4280       GSK3B        238        6VL  \n",
       "4282       GSK3B        238        6VL  \n",
       "4167       GSK3B        238        6VL  \n",
       "4168       GSK3B        238        6VL  \n",
       "4171       GSK3B        238        6VL  \n",
       "4209       GSK3B        238        6VL  "
      ]
     },
     "execution_count": 8,
     "metadata": {},
     "output_type": "execute_result"
    }
   ],
   "source": [
    "structures_all[structures_all[\"ligand.pdb\"] == \"6VL\"]"
   ]
  },
  {
   "cell_type": "markdown",
   "metadata": {},
   "source": [
    "Different protonation states:\n",
    "- https://klifs.vu-compmedchem.nl/details.php?structure_id=9564\n",
    "- https://klifs.vu-compmedchem.nl/details.php?structure_id=9729"
   ]
  },
  {
   "cell_type": "code",
   "execution_count": 9,
   "metadata": {},
   "outputs": [
    {
     "data": {
      "text/html": [
       "<div>\n",
       "<style scoped>\n",
       "    .dataframe tbody tr th:only-of-type {\n",
       "        vertical-align: middle;\n",
       "    }\n",
       "\n",
       "    .dataframe tbody tr th {\n",
       "        vertical-align: top;\n",
       "    }\n",
       "\n",
       "    .dataframe thead th {\n",
       "        text-align: right;\n",
       "    }\n",
       "</style>\n",
       "<table border=\"1\" class=\"dataframe\">\n",
       "  <thead>\n",
       "    <tr style=\"text-align: right;\">\n",
       "      <th></th>\n",
       "      <th>structure.id</th>\n",
       "      <th>structure.pdb</th>\n",
       "      <th>structure.alternate_model</th>\n",
       "      <th>structure.chain</th>\n",
       "      <th>kinase.name</th>\n",
       "      <th>kinase.id</th>\n",
       "      <th>ligand.pdb</th>\n",
       "    </tr>\n",
       "  </thead>\n",
       "  <tbody>\n",
       "    <tr>\n",
       "      <th>6206</th>\n",
       "      <td>171</td>\n",
       "      <td>4o0r</td>\n",
       "      <td>-</td>\n",
       "      <td>A</td>\n",
       "      <td>PAK1</td>\n",
       "      <td>367</td>\n",
       "      <td>7KC</td>\n",
       "    </tr>\n",
       "    <tr>\n",
       "      <th>6262</th>\n",
       "      <td>1387</td>\n",
       "      <td>2x4z</td>\n",
       "      <td>-</td>\n",
       "      <td>A</td>\n",
       "      <td>PAK4</td>\n",
       "      <td>370</td>\n",
       "      <td>7KC</td>\n",
       "    </tr>\n",
       "    <tr>\n",
       "      <th>6305</th>\n",
       "      <td>4681</td>\n",
       "      <td>4ks7</td>\n",
       "      <td>B</td>\n",
       "      <td>A</td>\n",
       "      <td>PAK6</td>\n",
       "      <td>371</td>\n",
       "      <td>7KC</td>\n",
       "    </tr>\n",
       "    <tr>\n",
       "      <th>6302</th>\n",
       "      <td>4682</td>\n",
       "      <td>4ks7</td>\n",
       "      <td>A</td>\n",
       "      <td>A</td>\n",
       "      <td>PAK6</td>\n",
       "      <td>371</td>\n",
       "      <td>7KC</td>\n",
       "    </tr>\n",
       "    <tr>\n",
       "      <th>969</th>\n",
       "      <td>8731</td>\n",
       "      <td>5mag</td>\n",
       "      <td>B</td>\n",
       "      <td>A</td>\n",
       "      <td>MELK</td>\n",
       "      <td>128</td>\n",
       "      <td>7KC</td>\n",
       "    </tr>\n",
       "    <tr>\n",
       "      <th>1030</th>\n",
       "      <td>8736</td>\n",
       "      <td>5mag</td>\n",
       "      <td>A</td>\n",
       "      <td>A</td>\n",
       "      <td>MELK</td>\n",
       "      <td>128</td>\n",
       "      <td>7KC</td>\n",
       "    </tr>\n",
       "  </tbody>\n",
       "</table>\n",
       "</div>"
      ],
      "text/plain": [
       "      structure.id structure.pdb structure.alternate_model structure.chain  \\\n",
       "6206           171          4o0r                         -               A   \n",
       "6262          1387          2x4z                         -               A   \n",
       "6305          4681          4ks7                         B               A   \n",
       "6302          4682          4ks7                         A               A   \n",
       "969           8731          5mag                         B               A   \n",
       "1030          8736          5mag                         A               A   \n",
       "\n",
       "     kinase.name  kinase.id ligand.pdb  \n",
       "6206        PAK1        367        7KC  \n",
       "6262        PAK4        370        7KC  \n",
       "6305        PAK6        371        7KC  \n",
       "6302        PAK6        371        7KC  \n",
       "969         MELK        128        7KC  \n",
       "1030        MELK        128        7KC  "
      ]
     },
     "execution_count": 9,
     "metadata": {},
     "output_type": "execute_result"
    }
   ],
   "source": [
    "structures_all[structures_all[\"ligand.pdb\"] == \"7KC\"]"
   ]
  },
  {
   "cell_type": "markdown",
   "metadata": {},
   "source": [
    "Different protonation states:\n",
    "\n",
    "- https://klifs.vu-compmedchem.nl/details.php?structure_id=4682\n",
    "- https://klifs.vu-compmedchem.nl/details.php?structure_id=8736"
   ]
  }
 ],
 "metadata": {
  "kernelspec": {
   "display_name": "opencadd",
   "language": "python",
   "name": "opencadd"
  },
  "language_info": {
   "codemirror_mode": {
    "name": "ipython",
    "version": 3
   },
   "file_extension": ".py",
   "mimetype": "text/x-python",
   "name": "python",
   "nbconvert_exporter": "python",
   "pygments_lexer": "ipython3",
   "version": "3.8.5"
  }
 },
 "nbformat": 4,
 "nbformat_minor": 4
}
