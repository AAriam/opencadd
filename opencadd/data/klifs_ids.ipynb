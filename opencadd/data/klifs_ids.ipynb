{
 "cells": [
  {
   "cell_type": "markdown",
   "metadata": {},
   "source": [
    "# Local copy of KLIFS IDs\n",
    "\n",
    "In the `local` module of `opencadd.databases.klifs`, we load KLIFS metadata from two KLIFS download files, i.e. `overview.csv` and `KLIFS_export.csv`, to create one KLIFS metadata table (which is standardized across the `local` and `remote` module).\n",
    "\n",
    "These KLIFS download files do not contain KLIFS kinase, ligand and structure IDs. In order to make results from the `local` and `remote` module easily comparable, we add these KLIFS IDs to the local KLIFS metadata table upon local session initialization (`local.SessionInitialization`). \n",
    "\n",
    "Therefore, we need to find for each locally available structure (max. about 11,000 structures) its associated kinase, ligand and structure ID. \n",
    "Since we do not want to query the KLIFS webserver with each of theses structures every time we initialize a local session, we fetch here a local copy of KLIFS IDs."
   ]
  },
  {
   "cell_type": "code",
   "execution_count": 1,
   "metadata": {},
   "outputs": [
    {
     "name": "stderr",
     "output_type": "stream",
     "text": [
      "INFO:opencadd.databases.klifs.api:If you want to see an non-truncated version of the DataFrames in this module, use `pd.set_option('display.max_columns', 50)` in your notebook.\n"
     ]
    }
   ],
   "source": [
    "from datetime import date\n",
    "\n",
    "import pandas as pd\n",
    "\n",
    "from opencadd.databases.klifs.api import setup_remote"
   ]
  },
  {
   "cell_type": "code",
   "execution_count": 2,
   "metadata": {},
   "outputs": [
    {
     "name": "stderr",
     "output_type": "stream",
     "text": [
      "INFO:opencadd.databases.klifs.api:Set up remote session...\n",
      "INFO:opencadd.databases.klifs.api:Remote session is ready!\n"
     ]
    }
   ],
   "source": [
    "# Work with remote KLIFS data\n",
    "remote = setup_remote()"
   ]
  },
  {
   "cell_type": "markdown",
   "metadata": {},
   "source": [
    "## Get kinase and structure IDs"
   ]
  },
  {
   "cell_type": "code",
   "execution_count": 3,
   "metadata": {},
   "outputs": [
    {
     "name": "stdout",
     "output_type": "stream",
     "text": [
      "(11600, 7)\n"
     ]
    },
    {
     "data": {
      "text/html": [
       "<div>\n",
       "<style scoped>\n",
       "    .dataframe tbody tr th:only-of-type {\n",
       "        vertical-align: middle;\n",
       "    }\n",
       "\n",
       "    .dataframe tbody tr th {\n",
       "        vertical-align: top;\n",
       "    }\n",
       "\n",
       "    .dataframe thead th {\n",
       "        text-align: right;\n",
       "    }\n",
       "</style>\n",
       "<table border=\"1\" class=\"dataframe\">\n",
       "  <thead>\n",
       "    <tr style=\"text-align: right;\">\n",
       "      <th></th>\n",
       "      <th>structure.id</th>\n",
       "      <th>structure.pdb</th>\n",
       "      <th>structure.alternate_model</th>\n",
       "      <th>structure.chain</th>\n",
       "      <th>kinase.klifs_name</th>\n",
       "      <th>kinase.id</th>\n",
       "      <th>ligand.pdb</th>\n",
       "    </tr>\n",
       "  </thead>\n",
       "  <tbody>\n",
       "    <tr>\n",
       "      <th>7670</th>\n",
       "      <td>1</td>\n",
       "      <td>3dko</td>\n",
       "      <td>A</td>\n",
       "      <td>A</td>\n",
       "      <td>EphA7</td>\n",
       "      <td>415</td>\n",
       "      <td>IHZ</td>\n",
       "    </tr>\n",
       "    <tr>\n",
       "      <th>7673</th>\n",
       "      <td>2</td>\n",
       "      <td>2rei</td>\n",
       "      <td>B</td>\n",
       "      <td>A</td>\n",
       "      <td>EphA7</td>\n",
       "      <td>415</td>\n",
       "      <td>-</td>\n",
       "    </tr>\n",
       "    <tr>\n",
       "      <th>7672</th>\n",
       "      <td>3</td>\n",
       "      <td>3dko</td>\n",
       "      <td>B</td>\n",
       "      <td>A</td>\n",
       "      <td>EphA7</td>\n",
       "      <td>415</td>\n",
       "      <td>IHZ</td>\n",
       "    </tr>\n",
       "    <tr>\n",
       "      <th>7671</th>\n",
       "      <td>4</td>\n",
       "      <td>2rei</td>\n",
       "      <td>A</td>\n",
       "      <td>A</td>\n",
       "      <td>EphA7</td>\n",
       "      <td>415</td>\n",
       "      <td>-</td>\n",
       "    </tr>\n",
       "    <tr>\n",
       "      <th>9567</th>\n",
       "      <td>5</td>\n",
       "      <td>3v8t</td>\n",
       "      <td>B</td>\n",
       "      <td>A</td>\n",
       "      <td>ITK</td>\n",
       "      <td>474</td>\n",
       "      <td>477</td>\n",
       "    </tr>\n",
       "  </tbody>\n",
       "</table>\n",
       "</div>"
      ],
      "text/plain": [
       "      structure.id structure.pdb structure.alternate_model structure.chain  \\\n",
       "7670             1          3dko                         A               A   \n",
       "7673             2          2rei                         B               A   \n",
       "7672             3          3dko                         B               A   \n",
       "7671             4          2rei                         A               A   \n",
       "9567             5          3v8t                         B               A   \n",
       "\n",
       "     kinase.klifs_name  kinase.id ligand.pdb  \n",
       "7670             EphA7        415        IHZ  \n",
       "7673             EphA7        415          -  \n",
       "7672             EphA7        415        IHZ  \n",
       "7671             EphA7        415          -  \n",
       "9567               ITK        474        477  "
      ]
     },
     "execution_count": 3,
     "metadata": {},
     "output_type": "execute_result"
    }
   ],
   "source": [
    "# Fetch all structures (keep only ID related columns)\n",
    "structures_all = remote.structures.all_structures()\n",
    "structures_all = structures_all[[\"structure.id\", \"structure.pdb\", \"structure.alternate_model\", \"structure.chain\", \"kinase.klifs_name\", \"kinase.id\", \"ligand.pdb\"]]\n",
    "# Sort by structures ID\n",
    "structures_all.sort_values(\"structure.id\", inplace=True)\n",
    "# Show data\n",
    "print(structures_all.shape)\n",
    "structures_all.head()"
   ]
  },
  {
   "cell_type": "code",
   "execution_count": 4,
   "metadata": {},
   "outputs": [
    {
     "name": "stdout",
     "output_type": "stream",
     "text": [
      "Sanity check: Are there multiple KLIFS structure IDs for one KLIFS structure?\n",
      "All good!\n"
     ]
    }
   ],
   "source": [
    "print(\"Sanity check: Are there multiple KLIFS structure IDs for one KLIFS structure?\")\n",
    "sizes = structures_all.groupby([\"structure.pdb\", \"structure.alternate_model\", \"structure.chain\"]).size()\n",
    "if len(sizes[sizes > 1]) > 0:\n",
    "    print(sizes[sizes > 1])\n",
    "else:\n",
    "    print(\"All good!\")"
   ]
  },
  {
   "cell_type": "code",
   "execution_count": 5,
   "metadata": {},
   "outputs": [],
   "source": [
    "# Save local copy of KLIFS IDs\n",
    "filename = f\"klifs_ids.{date.today().strftime('%Y%m%d')}.csv.zip\"\n",
    "structures_all.to_csv(filename, index=None, compression=\"zip\")"
   ]
  },
  {
   "cell_type": "markdown",
   "metadata": {},
   "source": [
    "## Test: Load data"
   ]
  },
  {
   "cell_type": "code",
   "execution_count": 6,
   "metadata": {},
   "outputs": [
    {
     "data": {
      "text/html": [
       "<div>\n",
       "<style scoped>\n",
       "    .dataframe tbody tr th:only-of-type {\n",
       "        vertical-align: middle;\n",
       "    }\n",
       "\n",
       "    .dataframe tbody tr th {\n",
       "        vertical-align: top;\n",
       "    }\n",
       "\n",
       "    .dataframe thead th {\n",
       "        text-align: right;\n",
       "    }\n",
       "</style>\n",
       "<table border=\"1\" class=\"dataframe\">\n",
       "  <thead>\n",
       "    <tr style=\"text-align: right;\">\n",
       "      <th></th>\n",
       "      <th>structure.id</th>\n",
       "      <th>structure.pdb</th>\n",
       "      <th>structure.alternate_model</th>\n",
       "      <th>structure.chain</th>\n",
       "      <th>kinase.klifs_name</th>\n",
       "      <th>kinase.id</th>\n",
       "      <th>ligand.pdb</th>\n",
       "    </tr>\n",
       "  </thead>\n",
       "  <tbody>\n",
       "    <tr>\n",
       "      <th>0</th>\n",
       "      <td>1</td>\n",
       "      <td>3dko</td>\n",
       "      <td>A</td>\n",
       "      <td>A</td>\n",
       "      <td>EphA7</td>\n",
       "      <td>415</td>\n",
       "      <td>IHZ</td>\n",
       "    </tr>\n",
       "    <tr>\n",
       "      <th>1</th>\n",
       "      <td>2</td>\n",
       "      <td>2rei</td>\n",
       "      <td>B</td>\n",
       "      <td>A</td>\n",
       "      <td>EphA7</td>\n",
       "      <td>415</td>\n",
       "      <td>-</td>\n",
       "    </tr>\n",
       "    <tr>\n",
       "      <th>2</th>\n",
       "      <td>3</td>\n",
       "      <td>3dko</td>\n",
       "      <td>B</td>\n",
       "      <td>A</td>\n",
       "      <td>EphA7</td>\n",
       "      <td>415</td>\n",
       "      <td>IHZ</td>\n",
       "    </tr>\n",
       "    <tr>\n",
       "      <th>3</th>\n",
       "      <td>4</td>\n",
       "      <td>2rei</td>\n",
       "      <td>A</td>\n",
       "      <td>A</td>\n",
       "      <td>EphA7</td>\n",
       "      <td>415</td>\n",
       "      <td>-</td>\n",
       "    </tr>\n",
       "    <tr>\n",
       "      <th>4</th>\n",
       "      <td>5</td>\n",
       "      <td>3v8t</td>\n",
       "      <td>B</td>\n",
       "      <td>A</td>\n",
       "      <td>ITK</td>\n",
       "      <td>474</td>\n",
       "      <td>477</td>\n",
       "    </tr>\n",
       "  </tbody>\n",
       "</table>\n",
       "</div>"
      ],
      "text/plain": [
       "   structure.id structure.pdb structure.alternate_model structure.chain  \\\n",
       "0             1          3dko                         A               A   \n",
       "1             2          2rei                         B               A   \n",
       "2             3          3dko                         B               A   \n",
       "3             4          2rei                         A               A   \n",
       "4             5          3v8t                         B               A   \n",
       "\n",
       "  kinase.klifs_name  kinase.id ligand.pdb  \n",
       "0             EphA7        415        IHZ  \n",
       "1             EphA7        415          -  \n",
       "2             EphA7        415        IHZ  \n",
       "3             EphA7        415          -  \n",
       "4               ITK        474        477  "
      ]
     },
     "execution_count": 6,
     "metadata": {},
     "output_type": "execute_result"
    }
   ],
   "source": [
    "pd.read_csv(filename).head()"
   ]
  },
  {
   "cell_type": "markdown",
   "metadata": {},
   "source": [
    "## Get ligand IDs?"
   ]
  },
  {
   "cell_type": "code",
   "execution_count": 7,
   "metadata": {},
   "outputs": [],
   "source": [
    "ligands_all = remote.ligands.all_ligands()"
   ]
  },
  {
   "cell_type": "code",
   "execution_count": 8,
   "metadata": {},
   "outputs": [
    {
     "name": "stdout",
     "output_type": "stream",
     "text": [
      "Sanity check: Are there multiple KLIFS ligands IDs for one ligand PDB?\n",
      "      ligand.id ligand.pdb\n",
      "2713       3015        6VL\n",
      "2759       3065        6VL\n",
      "64           65        7KC\n",
      "2881       2967        7KC\n",
      "These PDB IDs need to be check manually!\n"
     ]
    }
   ],
   "source": [
    "print(\"Sanity check: Are there multiple KLIFS ligands IDs for one ligand PDB?\")\n",
    "sizes = ligands_all.groupby([\"ligand.pdb\"]).size()\n",
    "if len(sizes[sizes > 1]) > 0:\n",
    "    print(ligands_all[ligands_all[\"ligand.pdb\"].isin(sizes[sizes > 1].index)][[\"ligand.id\", \"ligand.pdb\"]].sort_values(\"ligand.pdb\"))\n",
    "    print(\"These PDB IDs need to be check manually!\")\n",
    "else: \n",
    "    print(\"All good!\")"
   ]
  },
  {
   "cell_type": "code",
   "execution_count": 9,
   "metadata": {},
   "outputs": [
    {
     "data": {
      "text/html": [
       "<div>\n",
       "<style scoped>\n",
       "    .dataframe tbody tr th:only-of-type {\n",
       "        vertical-align: middle;\n",
       "    }\n",
       "\n",
       "    .dataframe tbody tr th {\n",
       "        vertical-align: top;\n",
       "    }\n",
       "\n",
       "    .dataframe thead th {\n",
       "        text-align: right;\n",
       "    }\n",
       "</style>\n",
       "<table border=\"1\" class=\"dataframe\">\n",
       "  <thead>\n",
       "    <tr style=\"text-align: right;\">\n",
       "      <th></th>\n",
       "      <th>structure.id</th>\n",
       "      <th>structure.pdb</th>\n",
       "      <th>structure.alternate_model</th>\n",
       "      <th>structure.chain</th>\n",
       "      <th>kinase.klifs_name</th>\n",
       "      <th>kinase.id</th>\n",
       "      <th>ligand.pdb</th>\n",
       "    </tr>\n",
       "  </thead>\n",
       "  <tbody>\n",
       "    <tr>\n",
       "      <th>4236</th>\n",
       "      <td>9564</td>\n",
       "      <td>5t31</td>\n",
       "      <td>-</td>\n",
       "      <td>B</td>\n",
       "      <td>GSK3B</td>\n",
       "      <td>238</td>\n",
       "      <td>6VL</td>\n",
       "    </tr>\n",
       "    <tr>\n",
       "      <th>4237</th>\n",
       "      <td>9565</td>\n",
       "      <td>5t31</td>\n",
       "      <td>-</td>\n",
       "      <td>A</td>\n",
       "      <td>GSK3B</td>\n",
       "      <td>238</td>\n",
       "      <td>6VL</td>\n",
       "    </tr>\n",
       "    <tr>\n",
       "      <th>4221</th>\n",
       "      <td>9728</td>\n",
       "      <td>5kpl</td>\n",
       "      <td>A</td>\n",
       "      <td>B</td>\n",
       "      <td>GSK3B</td>\n",
       "      <td>238</td>\n",
       "      <td>6VL</td>\n",
       "    </tr>\n",
       "    <tr>\n",
       "      <th>4222</th>\n",
       "      <td>9729</td>\n",
       "      <td>5kpl</td>\n",
       "      <td>A</td>\n",
       "      <td>A</td>\n",
       "      <td>GSK3B</td>\n",
       "      <td>238</td>\n",
       "      <td>6VL</td>\n",
       "    </tr>\n",
       "    <tr>\n",
       "      <th>4214</th>\n",
       "      <td>9730</td>\n",
       "      <td>5kpl</td>\n",
       "      <td>B</td>\n",
       "      <td>A</td>\n",
       "      <td>GSK3B</td>\n",
       "      <td>238</td>\n",
       "      <td>6VL</td>\n",
       "    </tr>\n",
       "    <tr>\n",
       "      <th>4245</th>\n",
       "      <td>9733</td>\n",
       "      <td>5kpl</td>\n",
       "      <td>B</td>\n",
       "      <td>B</td>\n",
       "      <td>GSK3B</td>\n",
       "      <td>238</td>\n",
       "      <td>6VL</td>\n",
       "    </tr>\n",
       "  </tbody>\n",
       "</table>\n",
       "</div>"
      ],
      "text/plain": [
       "      structure.id structure.pdb structure.alternate_model structure.chain  \\\n",
       "4236          9564          5t31                         -               B   \n",
       "4237          9565          5t31                         -               A   \n",
       "4221          9728          5kpl                         A               B   \n",
       "4222          9729          5kpl                         A               A   \n",
       "4214          9730          5kpl                         B               A   \n",
       "4245          9733          5kpl                         B               B   \n",
       "\n",
       "     kinase.klifs_name  kinase.id ligand.pdb  \n",
       "4236             GSK3B        238        6VL  \n",
       "4237             GSK3B        238        6VL  \n",
       "4221             GSK3B        238        6VL  \n",
       "4222             GSK3B        238        6VL  \n",
       "4214             GSK3B        238        6VL  \n",
       "4245             GSK3B        238        6VL  "
      ]
     },
     "execution_count": 9,
     "metadata": {},
     "output_type": "execute_result"
    }
   ],
   "source": [
    "structures_all[structures_all[\"ligand.pdb\"] == \"6VL\"]"
   ]
  },
  {
   "cell_type": "markdown",
   "metadata": {},
   "source": [
    "Different protonation states:\n",
    "- https://klifs.vu-compmedchem.nl/details.php?structure_id=9564\n",
    "- https://klifs.vu-compmedchem.nl/details.php?structure_id=9729"
   ]
  },
  {
   "cell_type": "code",
   "execution_count": 10,
   "metadata": {},
   "outputs": [
    {
     "data": {
      "text/html": [
       "<div>\n",
       "<style scoped>\n",
       "    .dataframe tbody tr th:only-of-type {\n",
       "        vertical-align: middle;\n",
       "    }\n",
       "\n",
       "    .dataframe tbody tr th {\n",
       "        vertical-align: top;\n",
       "    }\n",
       "\n",
       "    .dataframe thead th {\n",
       "        text-align: right;\n",
       "    }\n",
       "</style>\n",
       "<table border=\"1\" class=\"dataframe\">\n",
       "  <thead>\n",
       "    <tr style=\"text-align: right;\">\n",
       "      <th></th>\n",
       "      <th>structure.id</th>\n",
       "      <th>structure.pdb</th>\n",
       "      <th>structure.alternate_model</th>\n",
       "      <th>structure.chain</th>\n",
       "      <th>kinase.klifs_name</th>\n",
       "      <th>kinase.id</th>\n",
       "      <th>ligand.pdb</th>\n",
       "    </tr>\n",
       "  </thead>\n",
       "  <tbody>\n",
       "    <tr>\n",
       "      <th>6264</th>\n",
       "      <td>171</td>\n",
       "      <td>4o0r</td>\n",
       "      <td>-</td>\n",
       "      <td>A</td>\n",
       "      <td>PAK1</td>\n",
       "      <td>367</td>\n",
       "      <td>7KC</td>\n",
       "    </tr>\n",
       "    <tr>\n",
       "      <th>6329</th>\n",
       "      <td>1387</td>\n",
       "      <td>2x4z</td>\n",
       "      <td>-</td>\n",
       "      <td>A</td>\n",
       "      <td>PAK4</td>\n",
       "      <td>370</td>\n",
       "      <td>7KC</td>\n",
       "    </tr>\n",
       "    <tr>\n",
       "      <th>6365</th>\n",
       "      <td>4681</td>\n",
       "      <td>4ks7</td>\n",
       "      <td>B</td>\n",
       "      <td>A</td>\n",
       "      <td>PAK6</td>\n",
       "      <td>371</td>\n",
       "      <td>7KC</td>\n",
       "    </tr>\n",
       "    <tr>\n",
       "      <th>6364</th>\n",
       "      <td>4682</td>\n",
       "      <td>4ks7</td>\n",
       "      <td>A</td>\n",
       "      <td>A</td>\n",
       "      <td>PAK6</td>\n",
       "      <td>371</td>\n",
       "      <td>7KC</td>\n",
       "    </tr>\n",
       "    <tr>\n",
       "      <th>1032</th>\n",
       "      <td>8731</td>\n",
       "      <td>5mag</td>\n",
       "      <td>B</td>\n",
       "      <td>A</td>\n",
       "      <td>MELK</td>\n",
       "      <td>128</td>\n",
       "      <td>7KC</td>\n",
       "    </tr>\n",
       "    <tr>\n",
       "      <th>1027</th>\n",
       "      <td>8736</td>\n",
       "      <td>5mag</td>\n",
       "      <td>A</td>\n",
       "      <td>A</td>\n",
       "      <td>MELK</td>\n",
       "      <td>128</td>\n",
       "      <td>7KC</td>\n",
       "    </tr>\n",
       "  </tbody>\n",
       "</table>\n",
       "</div>"
      ],
      "text/plain": [
       "      structure.id structure.pdb structure.alternate_model structure.chain  \\\n",
       "6264           171          4o0r                         -               A   \n",
       "6329          1387          2x4z                         -               A   \n",
       "6365          4681          4ks7                         B               A   \n",
       "6364          4682          4ks7                         A               A   \n",
       "1032          8731          5mag                         B               A   \n",
       "1027          8736          5mag                         A               A   \n",
       "\n",
       "     kinase.klifs_name  kinase.id ligand.pdb  \n",
       "6264              PAK1        367        7KC  \n",
       "6329              PAK4        370        7KC  \n",
       "6365              PAK6        371        7KC  \n",
       "6364              PAK6        371        7KC  \n",
       "1032              MELK        128        7KC  \n",
       "1027              MELK        128        7KC  "
      ]
     },
     "execution_count": 10,
     "metadata": {},
     "output_type": "execute_result"
    }
   ],
   "source": [
    "structures_all[structures_all[\"ligand.pdb\"] == \"7KC\"]"
   ]
  },
  {
   "cell_type": "markdown",
   "metadata": {},
   "source": [
    "Different protonation states:\n",
    "\n",
    "- https://klifs.vu-compmedchem.nl/details.php?structure_id=4682\n",
    "- https://klifs.vu-compmedchem.nl/details.php?structure_id=8736"
   ]
  }
 ],
 "metadata": {
  "kernelspec": {
   "display_name": "Python 3",
   "language": "python",
   "name": "python3"
  },
  "language_info": {
   "codemirror_mode": {
    "name": "ipython",
    "version": 3
   },
   "file_extension": ".py",
   "mimetype": "text/x-python",
   "name": "python",
   "nbconvert_exporter": "python",
   "pygments_lexer": "ipython3",
   "version": "3.8.6"
  }
 },
 "nbformat": 4,
 "nbformat_minor": 4
}
