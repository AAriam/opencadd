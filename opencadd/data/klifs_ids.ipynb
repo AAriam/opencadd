{
 "cells": [
  {
   "cell_type": "markdown",
   "metadata": {},
   "source": [
    "# Local copy of KLIFS IDs\n",
    "\n",
    "In the `local` module of `opencadd.databases.klifs`, we load KLIFS metadata from two KLIFS download files, i.e. `overview.csv` and `KLIFS_export.csv`, to create one KLIFS metadata table (which is standardized across the `local` and `remote` module).\n",
    "\n",
    "These KLIFS download files do not contain KLIFS kinase, ligand and structure IDs. In order to make results from the `local` and `remote` module easily comparable, we add these KLIFS IDs to the local KLIFS metadata table upon local session initialization (`local.SessionInitialization`). \n",
    "\n",
    "Therefore, we need to find for each locally available structure (max. about 11,000 structures) its associated kinase, ligand and structure ID. \n",
    "Since we do not want to query the KLIFS webserver with each of theses structures every time we initialize a local session, we fetch here a local copy of KLIFS IDs."
   ]
  },
  {
   "cell_type": "code",
   "execution_count": 1,
   "metadata": {},
   "outputs": [],
   "source": [
    "from opencadd.databases.klifs_new.api import setup_remote"
   ]
  },
  {
   "cell_type": "code",
   "execution_count": 2,
   "metadata": {},
   "outputs": [
    {
     "name": "stderr",
     "output_type": "stream",
     "text": [
      "INFO:opencadd.databases.klifs_new.api:Set up remote session...\n",
      "INFO:opencadd.databases.klifs_new.api:Remote session is ready!\n"
     ]
    }
   ],
   "source": [
    "# Work with remote KLIFS data\n",
    "remote = setup_remote()"
   ]
  },
  {
   "cell_type": "code",
   "execution_count": 3,
   "metadata": {},
   "outputs": [
    {
     "name": "stdout",
     "output_type": "stream",
     "text": [
      "(11377, 7)\n"
     ]
    },
    {
     "data": {
      "text/html": [
       "<div>\n",
       "<style scoped>\n",
       "    .dataframe tbody tr th:only-of-type {\n",
       "        vertical-align: middle;\n",
       "    }\n",
       "\n",
       "    .dataframe tbody tr th {\n",
       "        vertical-align: top;\n",
       "    }\n",
       "\n",
       "    .dataframe thead th {\n",
       "        text-align: right;\n",
       "    }\n",
       "</style>\n",
       "<table border=\"1\" class=\"dataframe\">\n",
       "  <thead>\n",
       "    <tr style=\"text-align: right;\">\n",
       "      <th></th>\n",
       "      <th>structure.id</th>\n",
       "      <th>structure.pdb</th>\n",
       "      <th>structure.alternate_model</th>\n",
       "      <th>structure.chain</th>\n",
       "      <th>kinase.name</th>\n",
       "      <th>kinase.id</th>\n",
       "      <th>ligand.pdb</th>\n",
       "    </tr>\n",
       "  </thead>\n",
       "  <tbody>\n",
       "    <tr>\n",
       "      <th>7513</th>\n",
       "      <td>1</td>\n",
       "      <td>3dko</td>\n",
       "      <td>A</td>\n",
       "      <td>A</td>\n",
       "      <td>EphA7</td>\n",
       "      <td>415</td>\n",
       "      <td>IHZ</td>\n",
       "    </tr>\n",
       "    <tr>\n",
       "      <th>7512</th>\n",
       "      <td>2</td>\n",
       "      <td>2rei</td>\n",
       "      <td>B</td>\n",
       "      <td>A</td>\n",
       "      <td>EphA7</td>\n",
       "      <td>415</td>\n",
       "      <td>-</td>\n",
       "    </tr>\n",
       "    <tr>\n",
       "      <th>7514</th>\n",
       "      <td>3</td>\n",
       "      <td>3dko</td>\n",
       "      <td>B</td>\n",
       "      <td>A</td>\n",
       "      <td>EphA7</td>\n",
       "      <td>415</td>\n",
       "      <td>IHZ</td>\n",
       "    </tr>\n",
       "    <tr>\n",
       "      <th>7515</th>\n",
       "      <td>4</td>\n",
       "      <td>2rei</td>\n",
       "      <td>A</td>\n",
       "      <td>A</td>\n",
       "      <td>EphA7</td>\n",
       "      <td>415</td>\n",
       "      <td>-</td>\n",
       "    </tr>\n",
       "    <tr>\n",
       "      <th>9343</th>\n",
       "      <td>5</td>\n",
       "      <td>3v8t</td>\n",
       "      <td>B</td>\n",
       "      <td>A</td>\n",
       "      <td>ITK</td>\n",
       "      <td>474</td>\n",
       "      <td>477</td>\n",
       "    </tr>\n",
       "  </tbody>\n",
       "</table>\n",
       "</div>"
      ],
      "text/plain": [
       "      structure.id structure.pdb structure.alternate_model structure.chain  \\\n",
       "7513             1          3dko                         A               A   \n",
       "7512             2          2rei                         B               A   \n",
       "7514             3          3dko                         B               A   \n",
       "7515             4          2rei                         A               A   \n",
       "9343             5          3v8t                         B               A   \n",
       "\n",
       "     kinase.name  kinase.id ligand.pdb  \n",
       "7513       EphA7        415        IHZ  \n",
       "7512       EphA7        415          -  \n",
       "7514       EphA7        415        IHZ  \n",
       "7515       EphA7        415          -  \n",
       "9343         ITK        474        477  "
      ]
     },
     "execution_count": 3,
     "metadata": {},
     "output_type": "execute_result"
    }
   ],
   "source": [
    "# Fetch all structures (keep only ID related columns)\n",
    "structures_all = remote.structures.all_structures()\n",
    "structures_all = structures_all[[\"structure.id\", \"structure.pdb\", \"structure.alternate_model\", \"structure.chain\", \"kinase.name\", \"kinase.id\", \"ligand.pdb\"]]\n",
    "# Sort by structures ID\n",
    "structures_all.sort_values(\"structure.id\", inplace=True)\n",
    "# Show data\n",
    "print(structures_all.shape)\n",
    "structures_all.head()"
   ]
  },
  {
   "cell_type": "code",
   "execution_count": 4,
   "metadata": {},
   "outputs": [
    {
     "data": {
      "text/plain": [
       "Series([], dtype: int64)"
      ]
     },
     "execution_count": 4,
     "metadata": {},
     "output_type": "execute_result"
    }
   ],
   "source": [
    "# Sanity check: Are there multiple KLIFS structure IDs for one KLIFS structure?\n",
    "sizes = structures_all.groupby([\"structure.pdb\", \"structure.alternate_model\", \"structure.chain\"]).size()\n",
    "sizes[sizes > 1]"
   ]
  },
  {
   "cell_type": "code",
   "execution_count": 5,
   "metadata": {},
   "outputs": [],
   "source": [
    "# Save local copy of KLIFS IDs\n",
    "structures_all.to_csv(\"klifs_ids.csv\", index=None)"
   ]
  }
 ],
 "metadata": {
  "kernelspec": {
   "display_name": "opencadd",
   "language": "python",
   "name": "opencadd"
  },
  "language_info": {
   "codemirror_mode": {
    "name": "ipython",
    "version": 3
   },
   "file_extension": ".py",
   "mimetype": "text/x-python",
   "name": "python",
   "nbconvert_exporter": "python",
   "pygments_lexer": "ipython3",
   "version": "3.8.5"
  }
 },
 "nbformat": 4,
 "nbformat_minor": 4
}
