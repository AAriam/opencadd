{
 "cells": [
  {
   "cell_type": "markdown",
   "metadata": {},
   "source": [
    "# Local copy of KLIFS IDs\n",
    "\n",
    "In the `local` module of `opencadd.databases.klifs`, we load KLIFS metadata from two KLIFS download files, i.e. `overview.csv` and `KLIFS_export.csv`, to create one KLIFS metadata table (which is standardized across the `local` and `remote` module).\n",
    "\n",
    "These KLIFS download files do not contain the kinase, ligand and structure KLIFS IDs. In order to make results from the `local` and `remote` module easily comparable, we add these KLIFS IDs to the local KLIFS metadata table upon local session initialization (`local.SessionInitialization`). \n",
    "\n",
    "Therefore, we need to find for each locally available structure (max. about 11,000 structures) its associated kinase, ligand and structure ID. \n",
    "Since we do not want to query the KLIFS webserver with each of theses structures every time we initialize a local session, we fetch here a local copy of KLIFS IDs."
   ]
  },
  {
   "cell_type": "code",
   "execution_count": 1,
   "metadata": {},
   "outputs": [
    {
     "name": "stderr",
     "output_type": "stream",
     "text": [
      "INFO:opencadd.databases.klifs.api:If you want to see an non-truncated version of the DataFrames in this module, use `pd.set_option('display.max_columns', 50)` in your notebook.\n"
     ]
    }
   ],
   "source": [
    "from datetime import date\n",
    "\n",
    "import pandas as pd\n",
    "\n",
    "from opencadd.databases.klifs.api import setup_remote"
   ]
  },
  {
   "cell_type": "code",
   "execution_count": 2,
   "metadata": {},
   "outputs": [
    {
     "name": "stderr",
     "output_type": "stream",
     "text": [
      "INFO:opencadd.databases.klifs.api:Set up remote session...\n",
      "INFO:opencadd.databases.klifs.api:Remote session is ready!\n"
     ]
    }
   ],
   "source": [
    "# Work with remote KLIFS data\n",
    "remote = setup_remote()"
   ]
  },
  {
   "cell_type": "markdown",
   "metadata": {},
   "source": [
    "## Get kinase and structure IDs"
   ]
  },
  {
   "cell_type": "code",
   "execution_count": 3,
   "metadata": {},
   "outputs": [
    {
     "name": "stdout",
     "output_type": "stream",
     "text": [
      "(11899, 7)\n"
     ]
    },
    {
     "data": {
      "text/html": [
       "<div>\n",
       "<style scoped>\n",
       "    .dataframe tbody tr th:only-of-type {\n",
       "        vertical-align: middle;\n",
       "    }\n",
       "\n",
       "    .dataframe tbody tr th {\n",
       "        vertical-align: top;\n",
       "    }\n",
       "\n",
       "    .dataframe thead th {\n",
       "        text-align: right;\n",
       "    }\n",
       "</style>\n",
       "<table border=\"1\" class=\"dataframe\">\n",
       "  <thead>\n",
       "    <tr style=\"text-align: right;\">\n",
       "      <th></th>\n",
       "      <th>structure.klifs_id</th>\n",
       "      <th>structure.pdb_id</th>\n",
       "      <th>structure.alternate_model</th>\n",
       "      <th>structure.chain</th>\n",
       "      <th>kinase.klifs_name</th>\n",
       "      <th>kinase.klifs_id</th>\n",
       "      <th>ligand.expo_id</th>\n",
       "    </tr>\n",
       "  </thead>\n",
       "  <tbody>\n",
       "    <tr>\n",
       "      <th>7847</th>\n",
       "      <td>1</td>\n",
       "      <td>3dko</td>\n",
       "      <td>A</td>\n",
       "      <td>A</td>\n",
       "      <td>EphA7</td>\n",
       "      <td>415</td>\n",
       "      <td>IHZ</td>\n",
       "    </tr>\n",
       "    <tr>\n",
       "      <th>7849</th>\n",
       "      <td>2</td>\n",
       "      <td>2rei</td>\n",
       "      <td>B</td>\n",
       "      <td>A</td>\n",
       "      <td>EphA7</td>\n",
       "      <td>415</td>\n",
       "      <td>-</td>\n",
       "    </tr>\n",
       "    <tr>\n",
       "      <th>7848</th>\n",
       "      <td>3</td>\n",
       "      <td>3dko</td>\n",
       "      <td>B</td>\n",
       "      <td>A</td>\n",
       "      <td>EphA7</td>\n",
       "      <td>415</td>\n",
       "      <td>IHZ</td>\n",
       "    </tr>\n",
       "    <tr>\n",
       "      <th>7850</th>\n",
       "      <td>4</td>\n",
       "      <td>2rei</td>\n",
       "      <td>A</td>\n",
       "      <td>A</td>\n",
       "      <td>EphA7</td>\n",
       "      <td>415</td>\n",
       "      <td>-</td>\n",
       "    </tr>\n",
       "    <tr>\n",
       "      <th>9776</th>\n",
       "      <td>5</td>\n",
       "      <td>3v8t</td>\n",
       "      <td>B</td>\n",
       "      <td>A</td>\n",
       "      <td>ITK</td>\n",
       "      <td>474</td>\n",
       "      <td>477</td>\n",
       "    </tr>\n",
       "  </tbody>\n",
       "</table>\n",
       "</div>"
      ],
      "text/plain": [
       "      structure.klifs_id structure.pdb_id structure.alternate_model  \\\n",
       "7847                   1             3dko                         A   \n",
       "7849                   2             2rei                         B   \n",
       "7848                   3             3dko                         B   \n",
       "7850                   4             2rei                         A   \n",
       "9776                   5             3v8t                         B   \n",
       "\n",
       "     structure.chain kinase.klifs_name  kinase.klifs_id ligand.expo_id  \n",
       "7847               A             EphA7              415            IHZ  \n",
       "7849               A             EphA7              415              -  \n",
       "7848               A             EphA7              415            IHZ  \n",
       "7850               A             EphA7              415              -  \n",
       "9776               A               ITK              474            477  "
      ]
     },
     "execution_count": 3,
     "metadata": {},
     "output_type": "execute_result"
    }
   ],
   "source": [
    "# Fetch all structures (keep only ID related columns)\n",
    "structures_all = remote.structures.all_structures()\n",
    "structures_all = structures_all[\n",
    "    [\"structure.klifs_id\", \"structure.pdb_id\", \"structure.alternate_model\", \"structure.chain\", \"kinase.klifs_name\", \"kinase.klifs_id\", \"ligand.expo_id\"]\n",
    "]\n",
    "# Sort by structures ID\n",
    "structures_all.sort_values(\"structure.klifs_id\", inplace=True)\n",
    "# Show data\n",
    "print(structures_all.shape)\n",
    "structures_all.head()"
   ]
  },
  {
   "cell_type": "code",
   "execution_count": 4,
   "metadata": {},
   "outputs": [
    {
     "name": "stdout",
     "output_type": "stream",
     "text": [
      "Sanity check: Are there multiple structure KLIFS IDs for one KLIFS structure?\n",
      "All good!\n"
     ]
    }
   ],
   "source": [
    "print(\"Sanity check: Are there multiple structure KLIFS IDs for one KLIFS structure?\")\n",
    "sizes = structures_all.groupby([\"structure.pdb_id\", \"structure.alternate_model\", \"structure.chain\"]).size()\n",
    "if len(sizes[sizes > 1]) > 0:\n",
    "    print(sizes[sizes > 1])\n",
    "else:\n",
    "    print(\"All good!\")"
   ]
  },
  {
   "cell_type": "code",
   "execution_count": 5,
   "metadata": {},
   "outputs": [],
   "source": [
    "# Save local copy of KLIFS IDs\n",
    "filename = f\"klifs_ids.{date.today().strftime('%Y%m%d')}.csv.gz\"\n",
    "structures_all.to_csv(filename, index=None, compression=\"gzip\")"
   ]
  },
  {
   "cell_type": "markdown",
   "metadata": {},
   "source": [
    "## Test: Load data"
   ]
  },
  {
   "cell_type": "code",
   "execution_count": 6,
   "metadata": {},
   "outputs": [
    {
     "data": {
      "text/html": [
       "<div>\n",
       "<style scoped>\n",
       "    .dataframe tbody tr th:only-of-type {\n",
       "        vertical-align: middle;\n",
       "    }\n",
       "\n",
       "    .dataframe tbody tr th {\n",
       "        vertical-align: top;\n",
       "    }\n",
       "\n",
       "    .dataframe thead th {\n",
       "        text-align: right;\n",
       "    }\n",
       "</style>\n",
       "<table border=\"1\" class=\"dataframe\">\n",
       "  <thead>\n",
       "    <tr style=\"text-align: right;\">\n",
       "      <th></th>\n",
       "      <th>structure.klifs_id</th>\n",
       "      <th>structure.pdb_id</th>\n",
       "      <th>structure.alternate_model</th>\n",
       "      <th>structure.chain</th>\n",
       "      <th>kinase.klifs_name</th>\n",
       "      <th>kinase.klifs_id</th>\n",
       "      <th>ligand.expo_id</th>\n",
       "    </tr>\n",
       "  </thead>\n",
       "  <tbody>\n",
       "    <tr>\n",
       "      <th>0</th>\n",
       "      <td>1</td>\n",
       "      <td>3dko</td>\n",
       "      <td>A</td>\n",
       "      <td>A</td>\n",
       "      <td>EphA7</td>\n",
       "      <td>415</td>\n",
       "      <td>IHZ</td>\n",
       "    </tr>\n",
       "    <tr>\n",
       "      <th>1</th>\n",
       "      <td>2</td>\n",
       "      <td>2rei</td>\n",
       "      <td>B</td>\n",
       "      <td>A</td>\n",
       "      <td>EphA7</td>\n",
       "      <td>415</td>\n",
       "      <td>-</td>\n",
       "    </tr>\n",
       "    <tr>\n",
       "      <th>2</th>\n",
       "      <td>3</td>\n",
       "      <td>3dko</td>\n",
       "      <td>B</td>\n",
       "      <td>A</td>\n",
       "      <td>EphA7</td>\n",
       "      <td>415</td>\n",
       "      <td>IHZ</td>\n",
       "    </tr>\n",
       "    <tr>\n",
       "      <th>3</th>\n",
       "      <td>4</td>\n",
       "      <td>2rei</td>\n",
       "      <td>A</td>\n",
       "      <td>A</td>\n",
       "      <td>EphA7</td>\n",
       "      <td>415</td>\n",
       "      <td>-</td>\n",
       "    </tr>\n",
       "    <tr>\n",
       "      <th>4</th>\n",
       "      <td>5</td>\n",
       "      <td>3v8t</td>\n",
       "      <td>B</td>\n",
       "      <td>A</td>\n",
       "      <td>ITK</td>\n",
       "      <td>474</td>\n",
       "      <td>477</td>\n",
       "    </tr>\n",
       "  </tbody>\n",
       "</table>\n",
       "</div>"
      ],
      "text/plain": [
       "   structure.klifs_id structure.pdb_id structure.alternate_model  \\\n",
       "0                   1             3dko                         A   \n",
       "1                   2             2rei                         B   \n",
       "2                   3             3dko                         B   \n",
       "3                   4             2rei                         A   \n",
       "4                   5             3v8t                         B   \n",
       "\n",
       "  structure.chain kinase.klifs_name  kinase.klifs_id ligand.expo_id  \n",
       "0               A             EphA7              415            IHZ  \n",
       "1               A             EphA7              415              -  \n",
       "2               A             EphA7              415            IHZ  \n",
       "3               A             EphA7              415              -  \n",
       "4               A               ITK              474            477  "
      ]
     },
     "execution_count": 6,
     "metadata": {},
     "output_type": "execute_result"
    }
   ],
   "source": [
    "pd.read_csv(filename).head()"
   ]
  },
  {
   "cell_type": "markdown",
   "metadata": {},
   "source": [
    "## Get ligand IDs?"
   ]
  },
  {
   "cell_type": "code",
   "execution_count": 7,
   "metadata": {},
   "outputs": [],
   "source": [
    "ligands_all = remote.ligands.all_ligands()"
   ]
  },
  {
   "cell_type": "code",
   "execution_count": 8,
   "metadata": {},
   "outputs": [
    {
     "name": "stdout",
     "output_type": "stream",
     "text": [
      "Sanity check: Are there multiple ligand KLIFS IDs for one ligand PDB?\n",
      "All good!\n"
     ]
    }
   ],
   "source": [
    "print(\"Sanity check: Are there multiple ligand KLIFS IDs for one ligand PDB?\")\n",
    "sizes = ligands_all.groupby([\"ligand.expo_id\"]).size()\n",
    "if len(sizes[sizes > 1]) > 0:\n",
    "    print(ligands_all[ligands_all[\"ligand.expo_id\"].isin(sizes[sizes > 1].index)][[\"ligand.klifs_id\", \"ligand.expo_id\"]].sort_values(\"ligand.expo_id\"))\n",
    "    print(\"These PDB IDs need to be check manually!\")\n",
    "else: \n",
    "    print(\"All good!\")"
   ]
  },
  {
   "cell_type": "code",
   "execution_count": 9,
   "metadata": {},
   "outputs": [
    {
     "data": {
      "text/html": [
       "<div>\n",
       "<style scoped>\n",
       "    .dataframe tbody tr th:only-of-type {\n",
       "        vertical-align: middle;\n",
       "    }\n",
       "\n",
       "    .dataframe tbody tr th {\n",
       "        vertical-align: top;\n",
       "    }\n",
       "\n",
       "    .dataframe thead th {\n",
       "        text-align: right;\n",
       "    }\n",
       "</style>\n",
       "<table border=\"1\" class=\"dataframe\">\n",
       "  <thead>\n",
       "    <tr style=\"text-align: right;\">\n",
       "      <th></th>\n",
       "      <th>structure.klifs_id</th>\n",
       "      <th>structure.pdb_id</th>\n",
       "      <th>structure.alternate_model</th>\n",
       "      <th>structure.chain</th>\n",
       "      <th>kinase.klifs_name</th>\n",
       "      <th>kinase.klifs_id</th>\n",
       "      <th>ligand.expo_id</th>\n",
       "    </tr>\n",
       "  </thead>\n",
       "  <tbody>\n",
       "    <tr>\n",
       "      <th>4457</th>\n",
       "      <td>9564</td>\n",
       "      <td>5t31</td>\n",
       "      <td>-</td>\n",
       "      <td>B</td>\n",
       "      <td>GSK3B</td>\n",
       "      <td>238</td>\n",
       "      <td>6VL</td>\n",
       "    </tr>\n",
       "    <tr>\n",
       "      <th>4459</th>\n",
       "      <td>9565</td>\n",
       "      <td>5t31</td>\n",
       "      <td>-</td>\n",
       "      <td>A</td>\n",
       "      <td>GSK3B</td>\n",
       "      <td>238</td>\n",
       "      <td>6VL</td>\n",
       "    </tr>\n",
       "    <tr>\n",
       "      <th>4420</th>\n",
       "      <td>9728</td>\n",
       "      <td>5kpl</td>\n",
       "      <td>A</td>\n",
       "      <td>B</td>\n",
       "      <td>GSK3B</td>\n",
       "      <td>238</td>\n",
       "      <td>6VL</td>\n",
       "    </tr>\n",
       "    <tr>\n",
       "      <th>4303</th>\n",
       "      <td>9729</td>\n",
       "      <td>5kpl</td>\n",
       "      <td>A</td>\n",
       "      <td>A</td>\n",
       "      <td>GSK3B</td>\n",
       "      <td>238</td>\n",
       "      <td>6VL</td>\n",
       "    </tr>\n",
       "    <tr>\n",
       "      <th>4449</th>\n",
       "      <td>9730</td>\n",
       "      <td>5kpl</td>\n",
       "      <td>B</td>\n",
       "      <td>A</td>\n",
       "      <td>GSK3B</td>\n",
       "      <td>238</td>\n",
       "      <td>6VL</td>\n",
       "    </tr>\n",
       "    <tr>\n",
       "      <th>4415</th>\n",
       "      <td>9733</td>\n",
       "      <td>5kpl</td>\n",
       "      <td>B</td>\n",
       "      <td>B</td>\n",
       "      <td>GSK3B</td>\n",
       "      <td>238</td>\n",
       "      <td>6VL</td>\n",
       "    </tr>\n",
       "  </tbody>\n",
       "</table>\n",
       "</div>"
      ],
      "text/plain": [
       "      structure.klifs_id structure.pdb_id structure.alternate_model  \\\n",
       "4457                9564             5t31                         -   \n",
       "4459                9565             5t31                         -   \n",
       "4420                9728             5kpl                         A   \n",
       "4303                9729             5kpl                         A   \n",
       "4449                9730             5kpl                         B   \n",
       "4415                9733             5kpl                         B   \n",
       "\n",
       "     structure.chain kinase.klifs_name  kinase.klifs_id ligand.expo_id  \n",
       "4457               B             GSK3B              238            6VL  \n",
       "4459               A             GSK3B              238            6VL  \n",
       "4420               B             GSK3B              238            6VL  \n",
       "4303               A             GSK3B              238            6VL  \n",
       "4449               A             GSK3B              238            6VL  \n",
       "4415               B             GSK3B              238            6VL  "
      ]
     },
     "execution_count": 9,
     "metadata": {},
     "output_type": "execute_result"
    }
   ],
   "source": [
    "structures_all[structures_all[\"ligand.expo_id\"] == \"6VL\"]"
   ]
  },
  {
   "cell_type": "markdown",
   "metadata": {},
   "source": [
    "Different protonation states:\n",
    "- https://klifs.vu-compmedchem.nl/details.php?structure_id=9564\n",
    "- https://klifs.vu-compmedchem.nl/details.php?structure_id=9729"
   ]
  },
  {
   "cell_type": "code",
   "execution_count": 10,
   "metadata": {},
   "outputs": [
    {
     "data": {
      "text/html": [
       "<div>\n",
       "<style scoped>\n",
       "    .dataframe tbody tr th:only-of-type {\n",
       "        vertical-align: middle;\n",
       "    }\n",
       "\n",
       "    .dataframe tbody tr th {\n",
       "        vertical-align: top;\n",
       "    }\n",
       "\n",
       "    .dataframe thead th {\n",
       "        text-align: right;\n",
       "    }\n",
       "</style>\n",
       "<table border=\"1\" class=\"dataframe\">\n",
       "  <thead>\n",
       "    <tr style=\"text-align: right;\">\n",
       "      <th></th>\n",
       "      <th>structure.klifs_id</th>\n",
       "      <th>structure.pdb_id</th>\n",
       "      <th>structure.alternate_model</th>\n",
       "      <th>structure.chain</th>\n",
       "      <th>kinase.klifs_name</th>\n",
       "      <th>kinase.klifs_id</th>\n",
       "      <th>ligand.expo_id</th>\n",
       "    </tr>\n",
       "  </thead>\n",
       "  <tbody>\n",
       "    <tr>\n",
       "      <th>6409</th>\n",
       "      <td>171</td>\n",
       "      <td>4o0r</td>\n",
       "      <td>-</td>\n",
       "      <td>A</td>\n",
       "      <td>PAK1</td>\n",
       "      <td>367</td>\n",
       "      <td>7KC</td>\n",
       "    </tr>\n",
       "    <tr>\n",
       "      <th>6462</th>\n",
       "      <td>1387</td>\n",
       "      <td>2x4z</td>\n",
       "      <td>-</td>\n",
       "      <td>A</td>\n",
       "      <td>PAK4</td>\n",
       "      <td>370</td>\n",
       "      <td>7KC</td>\n",
       "    </tr>\n",
       "    <tr>\n",
       "      <th>6496</th>\n",
       "      <td>4681</td>\n",
       "      <td>4ks7</td>\n",
       "      <td>B</td>\n",
       "      <td>A</td>\n",
       "      <td>PAK6</td>\n",
       "      <td>371</td>\n",
       "      <td>7KC</td>\n",
       "    </tr>\n",
       "    <tr>\n",
       "      <th>6497</th>\n",
       "      <td>4682</td>\n",
       "      <td>4ks7</td>\n",
       "      <td>A</td>\n",
       "      <td>A</td>\n",
       "      <td>PAK6</td>\n",
       "      <td>371</td>\n",
       "      <td>7KC</td>\n",
       "    </tr>\n",
       "    <tr>\n",
       "      <th>1112</th>\n",
       "      <td>8731</td>\n",
       "      <td>5mag</td>\n",
       "      <td>B</td>\n",
       "      <td>A</td>\n",
       "      <td>MELK</td>\n",
       "      <td>128</td>\n",
       "      <td>7KC</td>\n",
       "    </tr>\n",
       "    <tr>\n",
       "      <th>1116</th>\n",
       "      <td>8736</td>\n",
       "      <td>5mag</td>\n",
       "      <td>A</td>\n",
       "      <td>A</td>\n",
       "      <td>MELK</td>\n",
       "      <td>128</td>\n",
       "      <td>7KC</td>\n",
       "    </tr>\n",
       "  </tbody>\n",
       "</table>\n",
       "</div>"
      ],
      "text/plain": [
       "      structure.klifs_id structure.pdb_id structure.alternate_model  \\\n",
       "6409                 171             4o0r                         -   \n",
       "6462                1387             2x4z                         -   \n",
       "6496                4681             4ks7                         B   \n",
       "6497                4682             4ks7                         A   \n",
       "1112                8731             5mag                         B   \n",
       "1116                8736             5mag                         A   \n",
       "\n",
       "     structure.chain kinase.klifs_name  kinase.klifs_id ligand.expo_id  \n",
       "6409               A              PAK1              367            7KC  \n",
       "6462               A              PAK4              370            7KC  \n",
       "6496               A              PAK6              371            7KC  \n",
       "6497               A              PAK6              371            7KC  \n",
       "1112               A              MELK              128            7KC  \n",
       "1116               A              MELK              128            7KC  "
      ]
     },
     "execution_count": 10,
     "metadata": {},
     "output_type": "execute_result"
    }
   ],
   "source": [
    "structures_all[structures_all[\"ligand.expo_id\"] == \"7KC\"]"
   ]
  },
  {
   "cell_type": "markdown",
   "metadata": {},
   "source": [
    "Different protonation states:\n",
    "\n",
    "- https://klifs.vu-compmedchem.nl/details.php?structure_id=4682\n",
    "- https://klifs.vu-compmedchem.nl/details.php?structure_id=8736"
   ]
  },
  {
   "cell_type": "code",
   "execution_count": null,
   "metadata": {},
   "outputs": [],
   "source": []
  }
 ],
 "metadata": {
  "kernelspec": {
   "display_name": "Python 3",
   "language": "python",
   "name": "python3"
  },
  "language_info": {
   "codemirror_mode": {
    "name": "ipython",
    "version": 3
   },
   "file_extension": ".py",
   "mimetype": "text/x-python",
   "name": "python",
   "nbconvert_exporter": "python",
   "pygments_lexer": "ipython3",
   "version": "3.8.6"
  }
 },
 "nbformat": 4,
 "nbformat_minor": 4
}
